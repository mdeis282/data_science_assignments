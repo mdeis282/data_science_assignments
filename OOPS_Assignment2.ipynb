{
  "cells": [
    {
      "cell_type": "markdown",
      "metadata": {
        "id": "HV3jVEMjJerO"
      },
      "source": [
        "Constructor:"
      ]
    },
    {
      "cell_type": "markdown",
      "metadata": {
        "id": "IaNi5nJoJggb"
      },
      "source": [
        "1. What is a constructor in Python? Explain its purpose and usage."
      ]
    },
    {
      "cell_type": "markdown",
      "metadata": {
        "id": "rBUAR0YPiqg-"
      },
      "source": [
        "A constructor in Python is a special method that is automatically called when a new instance of a class is created. It is used to initialize the attributes of the object. The constructor method is named __init__() and it is defined within a class. The purpose of a constructor is to ensure that every object created from the class starts with a consistent state."
      ]
    },
    {
      "cell_type": "markdown",
      "metadata": {
        "id": "EA0CAyrbJkeT"
      },
      "source": [
        "2. Differentiate between a parameterless constructor and a parameterized constructor in Python."
      ]
    },
    {
      "cell_type": "markdown",
      "metadata": {
        "id": "pyFhpVCwi41_"
      },
      "source": [
        "A parameterless constructor is a constructor that doesn't take any arguments, while a parameterized constructor is a constructor that takes one or more arguments to initialize the object's attributes."
      ]
    },
    {
      "cell_type": "markdown",
      "metadata": {
        "id": "UPKOnPY0JntS"
      },
      "source": [
        "3. How do you define a constructor in a Python class? Provide an example."
      ]
    },
    {
      "cell_type": "markdown",
      "metadata": {
        "id": "I6l7RmLVRYNN"
      },
      "source": [
        "In Python, a constructor is a special method within a class that is automatically called when an instance of the class is created. It is typically used to initialize instance variables or perform any setup that is necessary for the object.\n",
        "\n",
        "In Python, the constructor method is called __init__().\n",
        "\n",
        "Here's an example of defining a constructor in a Python class:"
      ]
    },
    {
      "cell_type": "code",
      "execution_count": null,
      "metadata": {
        "colab": {
          "base_uri": "https://localhost:8080/"
        },
        "id": "lPY_9QU5Jraq",
        "outputId": "a93779bb-09f0-4c15-f567-c333c3cc2eab"
      },
      "outputs": [
        {
          "name": "stdout",
          "output_type": "stream",
          "text": [
            "Alice\n",
            "30\n"
          ]
        }
      ],
      "source": [
        "class Person:\n",
        "    def __init__(self, name, age):\n",
        "        self.name = name\n",
        "        self.age = age\n",
        "\n",
        "# Creating an instance of the Person class\n",
        "person1 = Person(\"Alice\", 30)\n",
        "\n",
        "# Accessing instance variables\n",
        "print(person1.name)  # Output: Alice\n",
        "print(person1.age)   # Output: 30\n"
      ]
    },
    {
      "cell_type": "markdown",
      "metadata": {
        "id": "2USOV20mJrqS"
      },
      "source": [
        "4. Explain the `__init__` method in Python and its role in constructors."
      ]
    },
    {
      "cell_type": "markdown",
      "source": [
        "In Python, the __init__ method serves as the constructor for a class. It's a special method that gets called automatically when you create a new instance of the class. The name __init__ stands for \"initialize\". Its primary role is to initialize the attributes of the newly created object.\n",
        "\n",
        "Here's a basic example to illustrate its usage:"
      ],
      "metadata": {
        "id": "FIWNfjkw2i9R"
      }
    },
    {
      "cell_type": "code",
      "execution_count": null,
      "metadata": {
        "id": "3Z3KuaU8Juu6"
      },
      "outputs": [],
      "source": [
        "class Person:\n",
        "    def __init__(self, name, age):\n",
        "        self.name = name\n",
        "        self.age = age\n",
        "\n",
        "# Creating an instance of the Person class\n",
        "person1 = Person(\"Alice\", 30)\n"
      ]
    },
    {
      "cell_type": "markdown",
      "metadata": {
        "id": "HunYz8ZHJvAa"
      },
      "source": [
        "5. In a class named `Person`, create a constructor that initializes the `name` and `age` attributes. Provide an\n",
        "example of creating an object of this class."
      ]
    },
    {
      "cell_type": "code",
      "execution_count": null,
      "metadata": {
        "id": "FHWQz4wmJx5q",
        "colab": {
          "base_uri": "https://localhost:8080/"
        },
        "outputId": "23846435-d213-49ba-a67c-cc3ee4be92dd"
      },
      "outputs": [
        {
          "output_type": "stream",
          "name": "stdout",
          "text": [
            "Name: John\n",
            "Age: 25\n"
          ]
        }
      ],
      "source": [
        "class Person:\n",
        "    def __init__(self, name, age):\n",
        "        self.name = name\n",
        "        self.age = age\n",
        "\n",
        "# Creating an object of the Person class\n",
        "person1 = Person(\"John\", 25)\n",
        "\n",
        "# Accessing attributes of the object\n",
        "print(\"Name:\", person1.name)\n",
        "print(\"Age:\", person1.age)\n"
      ]
    },
    {
      "cell_type": "markdown",
      "metadata": {
        "id": "V2mnzeZqJyYE"
      },
      "source": [
        "6. How can you call a constructor explicitly in Python? Give an example."
      ]
    },
    {
      "cell_type": "markdown",
      "source": [
        "In Python, we typically don't call the constructor explicitly. It's automatically called when we create a new instance of a class using the class name followed by parentheses. However, we can indirectly call the constructor of a parent class explicitly using the super() function within the constructor of a subclass. This is often done to initialize attributes inherited from the parent class along with additional attributes specific to the subclass.\n",
        "\n",
        "Here's an example:"
      ],
      "metadata": {
        "id": "hO3VVJqP3O7T"
      }
    },
    {
      "cell_type": "code",
      "execution_count": null,
      "metadata": {
        "id": "tXBbSGiHJ1Sy",
        "colab": {
          "base_uri": "https://localhost:8080/"
        },
        "outputId": "0635a771-5052-4e4a-856b-a0ff14b70549"
      },
      "outputs": [
        {
          "output_type": "stream",
          "name": "stdout",
          "text": [
            "Parent Attribute: parent_value\n",
            "Child Attribute: child_value\n"
          ]
        }
      ],
      "source": [
        "class Parent:\n",
        "    def __init__(self, parent_attribute):\n",
        "        self.parent_attribute = parent_attribute\n",
        "\n",
        "class Child(Parent):\n",
        "    def __init__(self, parent_attribute, child_attribute):\n",
        "        # Explicitly calling the constructor of the Parent class\n",
        "        super().__init__(parent_attribute)\n",
        "        self.child_attribute = child_attribute\n",
        "\n",
        "# Creating an object of the Child class\n",
        "child_obj = Child(\"parent_value\", \"child_value\")\n",
        "\n",
        "# Accessing attributes of the object\n",
        "print(\"Parent Attribute:\", child_obj.parent_attribute)\n",
        "print(\"Child Attribute:\", child_obj.child_attribute)\n"
      ]
    },
    {
      "cell_type": "markdown",
      "metadata": {
        "id": "NAGNn4eSJ11q"
      },
      "source": [
        "7. What is the significance of the `self` parameter in Python constructors? Explain with an example."
      ]
    },
    {
      "cell_type": "markdown",
      "source": [
        "In Python constructors, the self parameter refers to the instance of the class itself. It allows us to access the attributes and methods of the current object within the constructor and throughout the class definition. When we call a method or access an attribute within a class, Python automatically passes the instance (i.e., the object) as the first argument to the method, which is conventionally named self.\n",
        "\n",
        "Here's an example to illustrate the significance of the self parameter in Python constructors:"
      ],
      "metadata": {
        "id": "ML2Yl3ZQ3iro"
      }
    },
    {
      "cell_type": "code",
      "execution_count": null,
      "metadata": {
        "id": "CbKFVE9yJ-wp",
        "colab": {
          "base_uri": "https://localhost:8080/"
        },
        "outputId": "fe778c83-d089-4878-a380-f86e38379a2a"
      },
      "outputs": [
        {
          "output_type": "stream",
          "name": "stdout",
          "text": [
            "Name: Alice\n",
            "Age: 30\n"
          ]
        }
      ],
      "source": [
        "class Person:\n",
        "    def __init__(self, name, age):\n",
        "        self.name = name\n",
        "        self.age = age\n",
        "\n",
        "    def display_info(self):\n",
        "        print(\"Name:\", self.name)\n",
        "        print(\"Age:\", self.age)\n",
        "\n",
        "# Creating an object of the Person class\n",
        "person1 = Person(\"Alice\", 30)\n",
        "\n",
        "# Accessing attributes and calling methods using the object\n",
        "person1.display_info()\n"
      ]
    },
    {
      "cell_type": "markdown",
      "metadata": {
        "id": "RQy7m1C3J_Hh"
      },
      "source": [
        "8. Discuss the concept of default constructors in Python. When are they used?"
      ]
    },
    {
      "cell_type": "markdown",
      "source": [
        "In Python, unlike some other programming languages like C++ or Java, there isn't a concept of default constructors in the same way. In those languages, a default constructor is a constructor that is automatically created by the compiler if we don't explicitly define any constructors in our class. This default constructor initializes the object with default values (e.g., numeric types are initialized to 0, objects are initialized to null).\n",
        "\n",
        "However, in Python, if we don't define any constructors in our class, Python automatically provides a default constructor for us. This default constructor doesn't initialize any attributes explicitly because Python is dynamically typed, so we're not required to specify the types of attributes beforehand. Therefore, the default constructor in Python is essentially the same as not defining any constructor at all."
      ],
      "metadata": {
        "id": "0rdyrqui32-h"
      }
    },
    {
      "cell_type": "code",
      "execution_count": null,
      "metadata": {
        "id": "1tnVkM63KBzx",
        "colab": {
          "base_uri": "https://localhost:8080/"
        },
        "outputId": "a6fe5e2b-1637-4a2a-9c74-9243b5532513"
      },
      "outputs": [
        {
          "output_type": "stream",
          "name": "stdout",
          "text": [
            "<__main__.Person object at 0x7d37ba339e10>\n"
          ]
        }
      ],
      "source": [
        "class Person:\n",
        "    pass\n",
        "\n",
        "# Creating an object of the Person class\n",
        "person1 = Person()\n",
        "\n",
        "# Trying to access an attribute\n",
        "# This will raise an AttributeError because no attributes are defined\n",
        "print(person1)\n"
      ]
    },
    {
      "cell_type": "markdown",
      "metadata": {
        "id": "KskUVXzOKCEB"
      },
      "source": [
        "9. Create a Python class called `Rectangle` with a constructor that initializes the `width` and `height`\n",
        "attributes. Provide a method to calculate the area of the rectangle."
      ]
    },
    {
      "cell_type": "code",
      "execution_count": null,
      "metadata": {
        "id": "b9jgIOHyKGQY",
        "colab": {
          "base_uri": "https://localhost:8080/"
        },
        "outputId": "e8ea193f-8488-4edb-a6a4-65e2a2d401f3"
      },
      "outputs": [
        {
          "output_type": "stream",
          "name": "stdout",
          "text": [
            "Area of the rectangle: 20\n"
          ]
        }
      ],
      "source": [
        "class Rectangle:\n",
        "    def __init__(self, width, height):\n",
        "        self.width = width\n",
        "        self.height = height\n",
        "\n",
        "    def calculate_area(self):\n",
        "        return self.width * self.height\n",
        "\n",
        "# Creating an object of the Rectangle class\n",
        "rectangle1 = Rectangle(5, 4)\n",
        "\n",
        "# Calculating and printing the area of the rectangle\n",
        "print(\"Area of the rectangle:\", rectangle1.calculate_area())\n"
      ]
    },
    {
      "cell_type": "markdown",
      "metadata": {
        "id": "H-PSthJrKHGA"
      },
      "source": [
        "10. How can you have multiple constructors in a Python class? Explain with an example."
      ]
    },
    {
      "cell_type": "markdown",
      "source": [
        "In Python, we can't have multiple constructors in the same way we might in languages like Java or C++. However, we can achieve similar functionality using class methods, which act as alternative constructors. Class methods are created using the @classmethod decorator and take cls (conventionally named) as the first parameter, which refers to the class itself rather than an instance of the class (like self).\n",
        "\n",
        "Here's an example demonstrating how to implement multiple constructors using class methods:"
      ],
      "metadata": {
        "id": "MJLw8vGG4n8B"
      }
    },
    {
      "cell_type": "code",
      "execution_count": null,
      "metadata": {
        "id": "Jp-L-VaTKJy4",
        "colab": {
          "base_uri": "https://localhost:8080/"
        },
        "outputId": "be7b9f2f-6564-4485-830c-d34f3103da94"
      },
      "outputs": [
        {
          "output_type": "stream",
          "name": "stdout",
          "text": [
            "Rectangle 1 - Width: 5 Height: 4\n",
            "Rectangle 2 - Width: 3 Height: 3\n"
          ]
        }
      ],
      "source": [
        "class Rectangle:\n",
        "    def __init__(self, width, height):\n",
        "        self.width = width\n",
        "        self.height = height\n",
        "\n",
        "    @classmethod\n",
        "    def from_square(cls, side_length):\n",
        "        # This class method creates a rectangle with equal width and height,\n",
        "        # effectively creating a square\n",
        "        return cls(side_length, side_length)\n",
        "\n",
        "# Creating a rectangle using the regular constructor\n",
        "rectangle1 = Rectangle(5, 4)\n",
        "print(\"Rectangle 1 - Width:\", rectangle1.width, \"Height:\", rectangle1.height)\n",
        "\n",
        "# Creating a rectangle using the alternate constructor (class method)\n",
        "rectangle2 = Rectangle.from_square(3)\n",
        "print(\"Rectangle 2 - Width:\", rectangle2.width, \"Height:\", rectangle2.height)\n"
      ]
    },
    {
      "cell_type": "markdown",
      "metadata": {
        "id": "YIWEoVLQKKII"
      },
      "source": [
        "11. What is method overloading, and how is it related to constructors in Python?"
      ]
    },
    {
      "cell_type": "markdown",
      "source": [
        "Method overloading refers to the ability to define multiple methods in a class with the same name but with different parameters or different numbers of parameters. In languages like Java or C++, method overloading allows us to create multiple methods with the same name but different signatures (i.e., different parameter lists).\n",
        "\n",
        "However, in Python, method overloading isn't directly supported in the same way due to its dynamic nature. In Python, the latest defined method with a particular name and parameters will overwrite any previously defined methods with the same name, effectively shadowing them. Therefore, only the latest defined method with a specific name will be accessible.\n",
        "\n",
        "However, we can achieve similar functionality using default parameter values or variable-length argument lists. This allows a single method to handle different parameter configurations effectively acting as method overloading.\n",
        "\n",
        "In the context of constructors in Python, we can use default parameter values or class methods as alternative constructors to achieve similar behavior to method overloading. By defining multiple __init__ methods with different parameters or using class methods to create objects with different initialization patterns, we can provide flexibility in how objects of our class are instantiated.\n",
        "\n",
        "Here's an example illustrating this:"
      ],
      "metadata": {
        "id": "7CXp4k0g6nt-"
      }
    },
    {
      "cell_type": "code",
      "execution_count": null,
      "metadata": {
        "id": "ABzAlVbIKNWJ"
      },
      "outputs": [],
      "source": []
    },
    {
      "cell_type": "markdown",
      "metadata": {
        "id": "sKAVg2pzKNpt"
      },
      "source": [
        "12. Explain the use of the `super()` function in Python constructors. Provide an example."
      ]
    },
    {
      "cell_type": "code",
      "execution_count": null,
      "metadata": {
        "id": "Q48FT98bKQgI",
        "colab": {
          "base_uri": "https://localhost:8080/"
        },
        "outputId": "96b1b650-400e-4a07-958e-5d7a8dcfd2d5"
      },
      "outputs": [
        {
          "output_type": "stream",
          "name": "stdout",
          "text": [
            "Person 1 - Name: Alice Age: 30\n",
            "Person 2 - Name: Bob Age: 34\n"
          ]
        }
      ],
      "source": [
        "class Person:\n",
        "    def __init__(self, name, age):\n",
        "        self.name = name\n",
        "        self.age = age\n",
        "\n",
        "    @classmethod\n",
        "    def from_birth_year(cls, name, birth_year):\n",
        "        # Calculate age based on birth year\n",
        "        current_year = 2024  # Assume current year\n",
        "        age = current_year - birth_year\n",
        "        return cls(name, age)\n",
        "\n",
        "# Using the regular constructor\n",
        "person1 = Person(\"Alice\", 30)\n",
        "\n",
        "# Using the alternative constructor (class method)\n",
        "person2 = Person.from_birth_year(\"Bob\", 1990)\n",
        "\n",
        "print(\"Person 1 - Name:\", person1.name, \"Age:\", person1.age)\n",
        "print(\"Person 2 - Name:\", person2.name, \"Age:\", person2.age)\n"
      ]
    },
    {
      "cell_type": "markdown",
      "metadata": {
        "id": "aphNM9IZKQ-a"
      },
      "source": [
        "13. Create a class called `Book` with a constructor that initializes the `title`, `author`, and `published_year`\n",
        "attributes. Provide a method to display book details."
      ]
    },
    {
      "cell_type": "code",
      "execution_count": null,
      "metadata": {
        "id": "BG-VxbKfKTU4",
        "colab": {
          "base_uri": "https://localhost:8080/"
        },
        "outputId": "fd45bf77-f613-4241-a996-f67bf30cf3b4"
      },
      "outputs": [
        {
          "output_type": "stream",
          "name": "stdout",
          "text": [
            "Title: 1984\n",
            "Author: George Orwell\n",
            "Published Year: 1949\n"
          ]
        }
      ],
      "source": [
        "class Book:\n",
        "    def __init__(self, title, author, published_year):\n",
        "        self.title = title\n",
        "        self.author = author\n",
        "        self.published_year = published_year\n",
        "\n",
        "    def display_details(self):\n",
        "        print(\"Title:\", self.title)\n",
        "        print(\"Author:\", self.author)\n",
        "        print(\"Published Year:\", self.published_year)\n",
        "\n",
        "# Example usage:\n",
        "book1 = Book(\"1984\", \"George Orwell\", 1949)\n",
        "book1.display_details()\n"
      ]
    },
    {
      "cell_type": "markdown",
      "metadata": {
        "id": "n17izmx2KTrS"
      },
      "source": [
        "14. Discuss the differences between constructors and regular methods in Python classes."
      ]
    },
    {
      "cell_type": "markdown",
      "source": [
        "Constructor (__init__ method):\n",
        "\n",
        "Purpose: The constructor initializes the object of a class. It is automatically called when a new instance of the class is created.\n",
        "Name: The constructor method is named __init__.\n",
        "Parameters: It typically takes parameters that are used to initialize instance variables (attributes) of the class.\n",
        "Execution: The constructor is executed automatically when a new object of the class is created using the class name followed by parentheses ClassName().\n",
        "Return value: The constructor doesn't return any value explicitly. It initializes the object's state.\n",
        "\n",
        "Regular methods:\n",
        "\n",
        "Purpose: Regular methods perform specific actions or operations on objects of the class. They can modify the object's state, compute values based on the object's attributes, or perform any other tasks related to the object.\n",
        "Name: Regular methods have any valid method name, and they can be defined within the class.\n",
        "Parameters: Regular methods can take parameters just like functions. They can accept both positional and keyword arguments.\n",
        "Execution: Regular methods are called explicitly on an object using the dot notation object.method_name().\n",
        "Return value: Regular methods can return values, which can be of any data type."
      ],
      "metadata": {
        "id": "glARuvxCefAY"
      }
    },
    {
      "cell_type": "markdown",
      "metadata": {
        "id": "i9JZzTAyKWoZ"
      },
      "source": [
        "15. Explain the role of the `self` parameter in instance variable initialization within a constructor."
      ]
    },
    {
      "cell_type": "markdown",
      "source": [
        "In Python, the self parameter in a constructor (__init__ method) plays a crucial role in instance variable initialization. Here's how it works:\n",
        "\n",
        "\n",
        "Referencing the current instance:\n",
        "\n",
        "\n",
        "When a new instance of a class is created, Python automatically passes a reference to that instance as the first parameter to the constructor (and to all other instance methods). This parameter is conventionally named self.\n",
        "The self parameter allows the constructor to access and modify instance variables and other instance-specific properties within the class.\n",
        "Instance variable initialization:\n",
        "\n",
        "Within the constructor, instance variables are initialized using the self parameter.\n",
        "\n",
        "By using self, you can differentiate between instance variables and local variables within the constructor. Instance variables created with self are accessible throughout the class, while local variables are only accessible within the constructor.\n",
        "\n",
        "For example, self.title = title assigns the value of the title parameter passed to the constructor to the title instance variable of the current instance.\n",
        "Accessing instance variables:\n",
        "\n",
        "After initialization, instance variables can be accessed and modified using self within other methods of the class. This allows for consistent and clear referencing of instance variables throughout the class.\n",
        "\n",
        "Here's a basic example to illustrate the role of self in instance variable initialization within a constructor:"
      ],
      "metadata": {
        "id": "EjProSWZeyet"
      }
    },
    {
      "cell_type": "code",
      "execution_count": null,
      "metadata": {
        "id": "eJxJElD9KZgQ",
        "colab": {
          "base_uri": "https://localhost:8080/"
        },
        "outputId": "58b253ab-59d8-4d18-9329-027858abf4d5"
      },
      "outputs": [
        {
          "output_type": "stream",
          "name": "stdout",
          "text": [
            "Title: 1984\n",
            "Author: George Orwell\n"
          ]
        }
      ],
      "source": [
        "class Book:\n",
        "    def __init__(self, title, author):\n",
        "        self.title = title  # Initialize title instance variable\n",
        "        self.author = author  # Initialize author instance variable\n",
        "\n",
        "    def display_details(self):\n",
        "        print(\"Title:\", self.title)\n",
        "        print(\"Author:\", self.author)\n",
        "\n",
        "# Create a Book instance and initialize instance variables\n",
        "book1 = Book(\"1984\", \"George Orwell\")\n",
        "\n",
        "# Access instance variables using the self parameter\n",
        "book1.display_details()  # Outputs: Title: 1984, Author: George Orwell\n"
      ]
    },
    {
      "cell_type": "markdown",
      "metadata": {
        "id": "RZYM8hFUKaG4"
      },
      "source": [
        "16. How do you prevent a class from having multiple instances by using constructors in Python? Provide an\n",
        "example."
      ]
    },
    {
      "cell_type": "markdown",
      "source": [
        "To prevent a class from having multiple instances in Python, you can create a class attribute that keeps track of whether an instance has already been created or not. Then, in the constructor, you can check if an instance already exists before allowing the creation of a new one. Here's an example:"
      ],
      "metadata": {
        "id": "DiUADBIgfYhz"
      }
    },
    {
      "cell_type": "code",
      "execution_count": null,
      "metadata": {
        "id": "nEAiZBgkKcNY",
        "colab": {
          "base_uri": "https://localhost:8080/"
        },
        "outputId": "130c6d19-d05c-4b02-9da2-1c2ad308dafa"
      },
      "outputs": [
        {
          "output_type": "stream",
          "name": "stdout",
          "text": [
            "Singleton 1 data: Instance 1 data\n",
            "Singleton 2 data: Instance 1 data\n"
          ]
        }
      ],
      "source": [
        "class Singleton:\n",
        "    _instance = None  # Class attribute to store the single instance\n",
        "\n",
        "    def __new__(cls, *args, **kwargs):\n",
        "        if cls._instance is None:  # Check if instance already exists\n",
        "            cls._instance = super().__new__(cls)\n",
        "        return cls._instance\n",
        "\n",
        "    def __init__(self, data):\n",
        "        if not hasattr(self, 'initialized'):  # Check if initialized attribute exists\n",
        "            self.data = data\n",
        "            self.initialized = True  # Set initialized attribute to True\n",
        "\n",
        "\n",
        "# Example usage:\n",
        "singleton1 = Singleton(\"Instance 1 data\")\n",
        "print(\"Singleton 1 data:\", singleton1.data)  # Output: Singleton 1 data: Instance 1 data\n",
        "\n",
        "singleton2 = Singleton(\"Instance 2 data\")\n",
        "print(\"Singleton 2 data:\", singleton2.data)  # Output: Singleton 2 data: Instance 1 data\n"
      ]
    },
    {
      "cell_type": "markdown",
      "metadata": {
        "id": "8BM4gvjuKcxw"
      },
      "source": [
        "17. Create a Python class called `Student` with a constructor that takes a list of subjects as a parameter and\n",
        "initializes the `subjects` attribute."
      ]
    },
    {
      "cell_type": "code",
      "execution_count": null,
      "metadata": {
        "id": "Hmc1zOYTKetZ",
        "colab": {
          "base_uri": "https://localhost:8080/"
        },
        "outputId": "14a31d6a-8d45-446b-bfaa-d3a6be084f4b"
      },
      "outputs": [
        {
          "output_type": "stream",
          "name": "stdout",
          "text": [
            "Subjects of student1: ['Math', 'Science', 'History']\n"
          ]
        }
      ],
      "source": [
        "class Student:\n",
        "    def __init__(self, subjects):\n",
        "        self.subjects = subjects\n",
        "\n",
        "# Example usage:\n",
        "subjects_list = [\"Math\", \"Science\", \"History\"]\n",
        "student1 = Student(subjects_list)\n",
        "\n",
        "print(\"Subjects of student1:\", student1.subjects)\n"
      ]
    },
    {
      "cell_type": "markdown",
      "metadata": {
        "id": "-Ii0LpocKfJY"
      },
      "source": [
        "18. What is the purpose of the `__del__` method in Python classes, and how does it relate to constructors?"
      ]
    },
    {
      "cell_type": "markdown",
      "source": [
        "The __del__ method in Python classes serves as a destructor, providing a way to perform cleanup actions when an object is about to be destroyed or garbage collected. It is the counterpart to the constructor (__init__ method), which initializes the object when it is created. Here's how they relate:\n",
        "\n",
        "Purpose of __del__ method:\n",
        "\n",
        "The __del__ method is called when an object is no longer referenced or is about to be garbage collected.\n",
        "Its primary purpose is to perform cleanup actions, such as releasing resources, closing files, or deallocating memory associated with the object.\n",
        "Relation to constructors:\n",
        "\n",
        "While the constructor (__init__ method) initializes the object's state when it is created, the __del__ method cleans up the object's state when it is destroyed.\n",
        "Constructors set up the initial state of an object, while destructors handle the finalization of the object's state before it is removed from memory.\n",
        "Automatic invocation:\n",
        "\n",
        "The __del__ method is automatically invoked by Python's garbage collector when the object's reference count drops to zero, meaning there are no more references to the object.\n",
        "It's important to note that the timing of when __del__ is called is not guaranteed. It depends on Python's garbage collection mechanism, which is implementation-specific and may vary.\n",
        "Usage considerations:\n",
        "\n",
        "While constructors (__init__ method) are commonly used to initialize instance variables and set up the object's state, the use of __del__ should be approached with caution.\n",
        "Explicit cleanup actions (e.g., closing files, releasing resources) are often better handled using context managers (with statement) or explicitly calling cleanup methods, rather than relying on __del__.\n",
        "\n",
        "Here's a simple example to illustrate the use of the __del__ method:"
      ],
      "metadata": {
        "id": "IVRFBtn3gBtd"
      }
    },
    {
      "cell_type": "code",
      "execution_count": null,
      "metadata": {
        "id": "9DhEadyJKhbP",
        "colab": {
          "base_uri": "https://localhost:8080/"
        },
        "outputId": "4234d2bb-f62f-4f35-9ca6-078ce938b612"
      },
      "outputs": [
        {
          "output_type": "stream",
          "name": "stdout",
          "text": [
            "Object A created\n",
            "Object B created\n",
            "Object A deleted\n"
          ]
        }
      ],
      "source": [
        "class MyClass:\n",
        "    def __init__(self, name):\n",
        "        self.name = name\n",
        "        print(f\"Object {self.name} created\")\n",
        "\n",
        "    def __del__(self):\n",
        "        print(f\"Object {self.name} deleted\")\n",
        "\n",
        "\n",
        "# Create objects\n",
        "obj1 = MyClass(\"A\")\n",
        "obj2 = MyClass(\"B\")\n",
        "\n",
        "# Let's delete one of the objects\n",
        "del obj1\n"
      ]
    },
    {
      "cell_type": "markdown",
      "metadata": {
        "id": "VgsUsdviKhyY"
      },
      "source": [
        "19. Explain the use of constructor chaining in Python. Provide a practical example."
      ]
    },
    {
      "cell_type": "markdown",
      "source": [
        "Constructor chaining in Python refers to the ability of one constructor to call another constructor within the same class or within its superclass. This is useful when you have multiple constructors with different sets of parameters or when you want to avoid code duplication by reusing initialization logic.\n",
        "\n",
        "Here's how constructor chaining works:\n",
        "\n",
        "Calling a constructor within the same class: In this case, one constructor (let's call it constructor A) can call another constructor (constructor B) defined within the same class using the self keyword.\n",
        "\n",
        "Calling a constructor in the superclass: If a class has a superclass, its constructor can call the constructor of the superclass using the super() function.\n",
        "\n",
        "Here's a practical example to illustrate constructor chaining:"
      ],
      "metadata": {
        "id": "NsMifqrPgUc4"
      }
    },
    {
      "cell_type": "code",
      "execution_count": null,
      "metadata": {
        "id": "ineTqTA_KjhZ",
        "colab": {
          "base_uri": "https://localhost:8080/"
        },
        "outputId": "5b0436d8-a37c-4a0e-e4c4-99b88584db1b"
      },
      "outputs": [
        {
          "output_type": "stream",
          "name": "stdout",
          "text": [
            "Person constructor called\n",
            "Student constructor called\n",
            "Name: John\n",
            "Student ID: S1234\n"
          ]
        }
      ],
      "source": [
        "class Person:\n",
        "    def __init__(self, name):\n",
        "        self.name = name\n",
        "        print(\"Person constructor called\")\n",
        "\n",
        "    def display(self):\n",
        "        print(\"Name:\", self.name)\n",
        "\n",
        "\n",
        "class Student(Person):\n",
        "    def __init__(self, name, student_id):\n",
        "        super().__init__(name)  # Call superclass constructor\n",
        "        self.student_id = student_id\n",
        "        print(\"Student constructor called\")\n",
        "\n",
        "    def display(self):\n",
        "        super().display()  # Call superclass method\n",
        "        print(\"Student ID:\", self.student_id)\n",
        "\n",
        "\n",
        "# Example usage:\n",
        "student = Student(\"John\", \"S1234\")\n",
        "student.display()\n"
      ]
    },
    {
      "cell_type": "markdown",
      "metadata": {
        "id": "1v9Gpw1zKj0Q"
      },
      "source": [
        "20. Create a Python class called `Car` with a default constructor that initializes the `make` and `model`\n",
        "attributes. Provide a method to display car information."
      ]
    },
    {
      "cell_type": "code",
      "execution_count": null,
      "metadata": {
        "id": "trascxQdKm1f",
        "colab": {
          "base_uri": "https://localhost:8080/"
        },
        "outputId": "80b0e0e3-c3f0-4c7f-e9aa-3f731d9f3b3d"
      },
      "outputs": [
        {
          "output_type": "stream",
          "name": "stdout",
          "text": [
            "Make: Toyota\n",
            "Model: Camry\n"
          ]
        }
      ],
      "source": [
        "class Car:\n",
        "    def __init__(self, make, model):\n",
        "        self.make = make\n",
        "        self.model = model\n",
        "\n",
        "    def display_info(self):\n",
        "        print(\"Make:\", self.make)\n",
        "        print(\"Model:\", self.model)\n",
        "\n",
        "# Example usage:\n",
        "car1 = Car(\"Toyota\", \"Camry\")\n",
        "car1.display_info()\n"
      ]
    },
    {
      "cell_type": "markdown",
      "metadata": {
        "id": "Y-PuB_5SKnOD"
      },
      "source": [
        "Inheritance:"
      ]
    },
    {
      "cell_type": "markdown",
      "metadata": {
        "id": "Po4nG4TLKqUI"
      },
      "source": [
        "1. What is inheritance in Python? Explain its significance in object-oriented programming."
      ]
    },
    {
      "cell_type": "markdown",
      "source": [
        "Inheritance in Python is a mechanism where a new class (subclass) can inherit attributes and methods from an existing class (superclass). The subclass inherits the properties and behaviors of the superclass, allowing code reuse and promoting a hierarchical structure in object-oriented programming (OOP).\n",
        "\n",
        "Here's an explanation of inheritance and its significance:\n",
        "\n",
        "Extending existing functionality:\n",
        "\n",
        "Inheritance allows you to create a new class that is based on an existing class, inheriting all the attributes and methods of the parent class. This enables you to extend or modify the behavior of the existing class without modifying its code directly.\n",
        "\n",
        "Promoting code reuse:\n",
        "\n",
        "Inheritance promotes code reuse by allowing common attributes and methods to be defined in a superclass and reused by multiple subclasses. This helps in reducing code duplication and maintaining a clean, modular codebase.\n",
        "\n",
        "Creating class hierarchies:\n",
        "\n",
        "Inheritance facilitates the creation of class hierarchies, where subclasses can be organized in a hierarchical structure based on their relationships with one another. This helps in modeling real-world relationships and concepts more accurately in code.\n",
        "\n",
        "Encouraging modular design:\n",
        "\n",
        "Inheritance encourages modular design by allowing you to separate concerns and encapsulate functionality within individual classes. Superclasses can define generic behavior, while subclasses can specialize or customize that behavior as needed.\n",
        "\n",
        "Facilitating polymorphism:\n",
        "\n",
        "Inheritance is closely related to polymorphism, another fundamental concept in OOP. Polymorphism allows objects of different classes to be treated uniformly if they exhibit a common interface. Inheritance enables polymorphism by allowing subclasses to override methods inherited from the superclass, providing specialized implementations.\n",
        "\n",
        "Improving code maintainability:\n",
        "\n",
        "Inheritance promotes better code maintainability by organizing classes into a logical hierarchy and promoting code reuse. Changes made to the superclass are automatically propagated to all subclasses, reducing the need for redundant modifications and minimizing the risk of introducing bugs.\n",
        "\n",
        "Here's a simple example to illustrate inheritance in Python:"
      ],
      "metadata": {
        "id": "-xiUpm0jhfQO"
      }
    },
    {
      "cell_type": "code",
      "execution_count": null,
      "metadata": {
        "id": "wUvYA_JKKspg",
        "colab": {
          "base_uri": "https://localhost:8080/"
        },
        "outputId": "604b804a-2c18-46c0-f2f0-d5991a4bff79"
      },
      "outputs": [
        {
          "output_type": "stream",
          "name": "stdout",
          "text": [
            "Buddy says: Woof!\n",
            "Whiskers says: Meow!\n"
          ]
        }
      ],
      "source": [
        "class Animal:\n",
        "    def __init__(self, name):\n",
        "        self.name = name\n",
        "\n",
        "    def make_sound(self):\n",
        "        pass  # Placeholder method\n",
        "\n",
        "class Dog(Animal):\n",
        "    def make_sound(self):\n",
        "        return \"Woof!\"\n",
        "\n",
        "class Cat(Animal):\n",
        "    def make_sound(self):\n",
        "        return \"Meow!\"\n",
        "\n",
        "# Example usage:\n",
        "dog = Dog(\"Buddy\")\n",
        "print(dog.name, \"says:\", dog.make_sound())  # Output: Buddy says: Woof!\n",
        "\n",
        "cat = Cat(\"Whiskers\")\n",
        "print(cat.name, \"says:\", cat.make_sound())  # Output: Whiskers says: Meow!\n"
      ]
    },
    {
      "cell_type": "markdown",
      "metadata": {
        "id": "MVd0yOkKKs8I"
      },
      "source": [
        "2. Differentiate between single inheritance and multiple inheritance in Python. Provide examples for each."
      ]
    },
    {
      "cell_type": "markdown",
      "source": [
        "Single inheritance and multiple inheritance are two types of inheritance mechanisms in Python, differing in how classes inherit attributes and methods from other classes.\n",
        "\n",
        "Single Inheritance:\n",
        "\n",
        "In single inheritance, a class can inherit from only one superclass. This means that a subclass extends the functionality of a single parent class.\n",
        "Single inheritance promotes a simple and linear hierarchy of classes.\n",
        "\n",
        "Example:"
      ],
      "metadata": {
        "id": "gFaVvlIdh86M"
      }
    },
    {
      "cell_type": "code",
      "execution_count": null,
      "metadata": {
        "id": "JwCLSNjUKvMp",
        "colab": {
          "base_uri": "https://localhost:8080/"
        },
        "outputId": "876d8c0a-ffe8-4c59-c928-08d5a1678cb9"
      },
      "outputs": [
        {
          "output_type": "stream",
          "name": "stdout",
          "text": [
            "Driving a vehicle\n",
            "Beeping the horn\n"
          ]
        }
      ],
      "source": [
        "class Vehicle:\n",
        "    def drive(self):\n",
        "        return \"Driving a vehicle\"\n",
        "\n",
        "\n",
        "class Car(Vehicle):\n",
        "    def beep(self):\n",
        "        return \"Beeping the horn\"\n",
        "\n",
        "\n",
        "# Example usage:\n",
        "car = Car()\n",
        "print(car.drive())  # Output: Driving a vehicle\n",
        "print(car.beep())   # Output: Beeping the horn\n"
      ]
    },
    {
      "cell_type": "markdown",
      "source": [
        "Multiple Inheritance:\n",
        "In multiple inheritance, a class can inherit from multiple superclasses. This allows a subclass to inherit attributes and methods from multiple parent classes.\n",
        "\n",
        "Multiple inheritance enables the subclass to combine and inherit functionality from multiple sources.\n",
        "\n",
        "Example:"
      ],
      "metadata": {
        "id": "QxCeMiXUiE2c"
      }
    },
    {
      "cell_type": "code",
      "source": [
        "class Bird:\n",
        "    def fly(self):\n",
        "        return \"Flying\"\n",
        "\n",
        "\n",
        "class Mammal:\n",
        "    def walk(self):\n",
        "        return \"Walking\"\n",
        "\n",
        "\n",
        "class Bat(Bird, Mammal):\n",
        "    def echo_location(self):\n",
        "        return \"Using echolocation\"\n",
        "\n",
        "\n",
        "# Example usage:\n",
        "bat = Bat()\n",
        "print(bat.fly())          # Output: Flying\n",
        "print(bat.walk())         # Output: Walking\n",
        "print(bat.echo_location())# Output: Using echolocation\n"
      ],
      "metadata": {
        "colab": {
          "base_uri": "https://localhost:8080/"
        },
        "id": "8q-9DpLjiKao",
        "outputId": "a2e5fae3-e77a-43c4-f022-f36016573e9a"
      },
      "execution_count": null,
      "outputs": [
        {
          "output_type": "stream",
          "name": "stdout",
          "text": [
            "Flying\n",
            "Walking\n",
            "Using echolocation\n"
          ]
        }
      ]
    },
    {
      "cell_type": "markdown",
      "metadata": {
        "id": "7tlOv6E_Kvfn"
      },
      "source": [
        "3. Create a Python class called `Vehicle` with attributes `color` and `speed`. Then, create a child class called\n",
        "`Car` that inherits from `Vehicle` and adds a `brand` attribute. Provide an example of creating a `Car` object."
      ]
    },
    {
      "cell_type": "code",
      "execution_count": null,
      "metadata": {
        "id": "hDFnMtPDKyA_",
        "colab": {
          "base_uri": "https://localhost:8080/"
        },
        "outputId": "d5fae7a3-40c1-48a2-b304-18172efa56e4"
      },
      "outputs": [
        {
          "output_type": "stream",
          "name": "stdout",
          "text": [
            "Car color: Red\n",
            "Car speed: 100\n",
            "Car brand: Toyota\n"
          ]
        }
      ],
      "source": [
        "class Vehicle:\n",
        "    def __init__(self, color, speed):\n",
        "        self.color = color\n",
        "        self.speed = speed\n",
        "\n",
        "class Car(Vehicle):\n",
        "    def __init__(self, color, speed, brand):\n",
        "        super().__init__(color, speed)\n",
        "        self.brand = brand\n",
        "\n",
        "# Example usage:\n",
        "car = Car(\"Red\", 100, \"Toyota\")\n",
        "print(\"Car color:\", car.color)   # Output: Car color: Red\n",
        "print(\"Car speed:\", car.speed)   # Output: Car speed: 100\n",
        "print(\"Car brand:\", car.brand)   # Output: Car brand: Toyota\n"
      ]
    },
    {
      "cell_type": "markdown",
      "metadata": {
        "id": "iEyVLPKVKyV_"
      },
      "source": [
        "4. Explain the concept of method overriding in inheritance. Provide a practical example."
      ]
    },
    {
      "cell_type": "markdown",
      "source": [
        "Method overriding in inheritance refers to the ability of a subclass to provide a specific implementation for a method that is already defined in its superclass. When a method is overridden in a subclass, the subclass's implementation of the method is used instead of the superclass's implementation when the method is called on an instance of the subclass.\n",
        "\n",
        "Here's an explanation of method overriding and its significance:\n",
        "\n",
        "Redefined behavior:\n",
        "\n",
        "Method overriding allows a subclass to redefine the behavior of a method inherited from its superclass. This enables subclasses to customize or extend the functionality provided by the superclass.\n",
        "\n",
        "Polymorphism:\n",
        "\n",
        "Method overriding is closely related to polymorphism, another key concept in object-oriented programming. Polymorphism allows objects of different classes to be treated uniformly if they exhibit a common interface. Method overriding enables polymorphism by allowing subclasses to provide specialized implementations of methods defined in the superclass.\n",
        "\n",
        "Dynamic dispatch:\n",
        "\n",
        "Method overriding enables dynamic dispatch, where the appropriate implementation of a method is determined at runtime based on the actual type of the object. This allows for flexibility and extensibility in object-oriented designs.\n",
        "\n",
        "Significance in inheritance:\n",
        "\n",
        "Method overriding is significant in inheritance as it allows subclasses to customize or specialize the behavior inherited from their superclass. This promotes code reuse and facilitates the creation of modular and flexible class hierarchies.\n",
        "\n",
        "Here's a practical example to illustrate method overriding in Python:"
      ],
      "metadata": {
        "id": "2xBEIKhEiiGD"
      }
    },
    {
      "cell_type": "code",
      "execution_count": null,
      "metadata": {
        "id": "2_5izCrWK0nf",
        "colab": {
          "base_uri": "https://localhost:8080/"
        },
        "outputId": "e9bb4f6d-8d8e-4be4-fbda-4e1c5f2a9415"
      },
      "outputs": [
        {
          "output_type": "stream",
          "name": "stdout",
          "text": [
            "Animal speaks\n",
            "Dog barks\n",
            "Cat meows\n"
          ]
        }
      ],
      "source": [
        "class Animal:\n",
        "    def speak(self):\n",
        "        return \"Animal speaks\"\n",
        "\n",
        "\n",
        "class Dog(Animal):\n",
        "    def speak(self):\n",
        "        return \"Dog barks\"\n",
        "\n",
        "\n",
        "class Cat(Animal):\n",
        "    def speak(self):\n",
        "        return \"Cat meows\"\n",
        "\n",
        "\n",
        "# Example usage:\n",
        "animal = Animal()\n",
        "print(animal.speak())  # Output: Animal speaks\n",
        "\n",
        "dog = Dog()\n",
        "print(dog.speak())     # Output: Dog barks\n",
        "\n",
        "cat = Cat()\n",
        "print(cat.speak())     # Output: Cat meows\n"
      ]
    },
    {
      "cell_type": "markdown",
      "metadata": {
        "id": "xf3BVHY8K1PJ"
      },
      "source": [
        "5. How can you access the methods and attributes of a parent class from a child class in Python? Give an\n",
        "example."
      ]
    },
    {
      "cell_type": "markdown",
      "source": [
        "In Python, you can access the methods and attributes of a parent class from a child class using the super() function. The super() function returns a proxy object that allows you to call methods and access attributes of the superclass within the subclass.\n",
        "\n",
        "Here's how you can access the methods and attributes of a parent class from a child class:\n",
        "\n",
        "Accessing methods: You can call methods of the parent class using super().method_name().\n",
        "\n",
        "Accessing attributes: You can access attributes of the parent class using super().attribute_name.\n",
        "\n",
        "Here's an example to illustrate accessing methods and attributes of a parent class from a child class:"
      ],
      "metadata": {
        "id": "GCUfPNV1jERp"
      }
    },
    {
      "cell_type": "code",
      "execution_count": null,
      "metadata": {
        "id": "tA6tAemSK3p_",
        "colab": {
          "base_uri": "https://localhost:8080/"
        },
        "outputId": "4171c2dd-05f5-4ea6-c983-f51ed223e30b"
      },
      "outputs": [
        {
          "output_type": "stream",
          "name": "stdout",
          "text": [
            "My name is Alice and I am 10 years old\n",
            "Hello, I'm Alice\n",
            "Alice\n"
          ]
        }
      ],
      "source": [
        "class Parent:\n",
        "    def __init__(self, name):\n",
        "        self.name = name\n",
        "\n",
        "    def greet(self):\n",
        "        return f\"Hello, I'm {self.name}\"\n",
        "\n",
        "\n",
        "class Child(Parent):\n",
        "    def __init__(self, name, age):\n",
        "        super().__init__(name)\n",
        "        self.age = age\n",
        "\n",
        "    def introduce(self):\n",
        "        return f\"My name is {self.name} and I am {self.age} years old\"\n",
        "\n",
        "    def greet_parent(self):\n",
        "        return super().greet()  # Call parent class method\n",
        "\n",
        "\n",
        "# Example usage:\n",
        "child = Child(\"Alice\", 10)\n",
        "print(child.introduce())        # Output: My name is Alice and I am 10 years old\n",
        "print(child.greet_parent())     # Output: Hello, I'm Alice\n",
        "print(child.name)               # Output: Alice (Accessing parent class attribute)\n"
      ]
    },
    {
      "cell_type": "markdown",
      "metadata": {
        "id": "h3H91YZWK3-_"
      },
      "source": [
        "6. Discuss the use of the `super()` function in Python inheritance. When and why is it used? Provide an\n",
        "example."
      ]
    },
    {
      "cell_type": "markdown",
      "source": [
        "The super() function in Python is used in the context of inheritance to call methods from a parent class. This is particularly useful in scenarios involving multiple inheritance and method overriding, as it ensures that the correct method resolution order (MRO) is followed. Here’s a detailed discussion on its use, along with an example.\n",
        "\n",
        "When and Why super() is Used\n",
        "\n",
        "Calling Parent Class Methods:\n",
        "\n",
        "When you override a method in a subclass but still need to call the method from the parent class, super() allows you to do this. It helps to avoid directly referencing the parent class by name, which can make your code more maintainable and easier to manage, especially when dealing with multiple inheritance.\n",
        "\n",
        "Ensuring Proper Method Resolution Order (MRO):\n",
        "\n",
        "In cases of multiple inheritance, Python uses the C3 linearization algorithm to determine the method resolution order. Using super() ensures that the method calls follow this order correctly, which helps in correctly calling methods from various parent classes in a predictable manner.\n",
        "\n",
        "Avoiding Hard-Coding Parent Class Names:\n",
        "\n",
        "By using super(), you avoid hard-coding the parent class name, making the code more flexible. This is beneficial if the superclass hierarchy changes, as the subclass code that uses super() doesn’t need to be modified.\n",
        "\n",
        "Example\n",
        "\n",
        "Here’s a simple example demonstrating the use of super() in a single inheritance scenario:"
      ],
      "metadata": {
        "id": "xZXij7Ku79Ko"
      }
    },
    {
      "cell_type": "code",
      "execution_count": null,
      "metadata": {
        "id": "sVReNNwfK6KW",
        "colab": {
          "base_uri": "https://localhost:8080/"
        },
        "outputId": "c5c13988-9358-4ac1-84c3-42bad0b78a1a"
      },
      "outputs": [
        {
          "output_type": "stream",
          "name": "stdout",
          "text": [
            "Rex makes a sound and barks\n"
          ]
        }
      ],
      "source": [
        "class Animal:\n",
        "    def __init__(self, name):\n",
        "        self.name = name\n",
        "\n",
        "    def speak(self):\n",
        "        return f\"{self.name} makes a sound\"\n",
        "\n",
        "class Dog(Animal):\n",
        "    def __init__(self, name, breed):\n",
        "        # Call the __init__ method of the parent class\n",
        "        super().__init__(name)\n",
        "        self.breed = breed\n",
        "\n",
        "    def speak(self):\n",
        "        # Extend the speak method from the parent class\n",
        "        base_speak = super().speak()\n",
        "        return f\"{base_speak} and barks\"\n",
        "\n",
        "# Example usage\n",
        "my_dog = Dog(\"Rex\", \"German Shepherd\")\n",
        "print(my_dog.speak())\n"
      ]
    },
    {
      "cell_type": "markdown",
      "metadata": {
        "id": "uTaB2t3CK6cv"
      },
      "source": [
        "7. Create a Python class called `Animal` with a method `speak()`. Then, create child classes `Dog` and `Cat` that inherit from `Animal` and override the `speak()` method. Provide an example of using these classes."
      ]
    },
    {
      "cell_type": "code",
      "execution_count": null,
      "metadata": {
        "id": "LeXWYRSCK8v2",
        "colab": {
          "base_uri": "https://localhost:8080/"
        },
        "outputId": "9deb7f3c-ea19-4951-ef2e-315a0ab33bcd"
      },
      "outputs": [
        {
          "output_type": "stream",
          "name": "stdout",
          "text": [
            "Dog barks\n",
            "Cat meows\n"
          ]
        }
      ],
      "source": [
        "class Animal:\n",
        "    def speak(self):\n",
        "        return \"Animal makes a sound\"\n",
        "\n",
        "class Dog(Animal):\n",
        "    def speak(self):\n",
        "        return \"Dog barks\"\n",
        "\n",
        "class Cat(Animal):\n",
        "    def speak(self):\n",
        "        return \"Cat meows\"\n",
        "\n",
        "# Example usage\n",
        "dog = Dog()\n",
        "cat = Cat()\n",
        "\n",
        "print(dog.speak())  # Output: Dog barks\n",
        "print(cat.speak())  # Output: Cat meows\n"
      ]
    },
    {
      "cell_type": "markdown",
      "metadata": {
        "id": "zHNeDmcbK9JO"
      },
      "source": [
        "8. Explain the role of the `isinstance()` function in Python and how it relates to inheritance."
      ]
    },
    {
      "cell_type": "markdown",
      "source": [
        "The isinstance() function in Python is used to check if an object is an instance of a particular class or a tuple of classes. It plays a crucial role in determining the type of an object, especially in the context of inheritance.\n",
        "\n",
        "Role of isinstance()\n",
        "\n",
        "Type Checking:\n",
        "\n",
        "isinstance() helps to verify the type of an object, ensuring that it is an instance of a specific class or any subclass thereof. This is particularly useful in situations where the code needs to behave differently based on the type of objects it is dealing with.\n",
        "Inheritance Context:\n",
        "\n",
        "When dealing with inheritance, isinstance() can check if an object is an instance of a base class or any derived class. This allows for more flexible and generic code, as it can handle objects of various subclasses seamlessly.\n",
        "Multiple Class Checking:\n",
        "\n",
        "isinstance() can accept a tuple of classes, allowing a single call to check if an object is an instance of any of the provided classes. This is useful for handling multiple types in a single check.\n",
        "\n"
      ],
      "metadata": {
        "id": "-1Sv_Ktr88wj"
      }
    },
    {
      "cell_type": "code",
      "source": [
        "isinstance(object, classinfo)\n"
      ],
      "metadata": {
        "id": "LxMCxd5T9SE3"
      },
      "execution_count": null,
      "outputs": []
    },
    {
      "cell_type": "code",
      "source": [
        "class Animal:\n",
        "    pass\n",
        "\n",
        "class Dog(Animal):\n",
        "    pass\n",
        "\n",
        "class Cat(Animal):\n",
        "    pass\n",
        "\n",
        "dog = Dog()\n",
        "cat = Cat()\n",
        "animal = Animal()\n",
        "\n",
        "\n",
        "print(isinstance(dog, Dog))          # Output: True\n",
        "print(isinstance(cat, Cat))          # Output: True\n",
        "print(isinstance(dog, Animal))       # Output: True\n",
        "print(isinstance(cat, Animal))       # Output: True\n",
        "print(isinstance(animal, Dog))       # Output: False\n",
        "print(isinstance(animal, (Dog, Cat))) # Output: False\n",
        "print(isinstance(dog, (Dog, Cat)))    # Output: True\n"
      ],
      "metadata": {
        "colab": {
          "base_uri": "https://localhost:8080/"
        },
        "id": "sCKvLfYh9WYm",
        "outputId": "e5f83e0f-9ff2-4b42-873a-267595dc681e"
      },
      "execution_count": null,
      "outputs": [
        {
          "output_type": "stream",
          "name": "stdout",
          "text": [
            "True\n",
            "True\n",
            "True\n",
            "True\n",
            "False\n",
            "False\n",
            "True\n"
          ]
        }
      ]
    },
    {
      "cell_type": "markdown",
      "metadata": {
        "id": "NciDy7xvLAem"
      },
      "source": [
        "9. What is the purpose of the `issubclass()` function in Python? Provide an example."
      ]
    },
    {
      "cell_type": "markdown",
      "source": [
        "The issubclass() function in Python is used to determine if a particular class is a subclass of another class or a tuple of classes. This function helps in understanding the inheritance relationships between classes.\n",
        "\n",
        "Purpose of issubclass()\n",
        "\n",
        "Inheritance Checking:\n",
        "\n",
        "It verifies if one class is derived from another class, either directly or indirectly. This is useful for validating class hierarchies and ensuring that certain constraints on class relationships are met.\n",
        "\n",
        "Type Validation:\n",
        "\n",
        "In type-based logic, issubclass() can be used to ensure that a class conforms to expected parent classes, enabling polymorphic behavior in a controlled manner.\n",
        "\n",
        "Multiple Class Checking:\n",
        "\n",
        "issubclass() can also accept a tuple of classes, allowing the check to be performed against multiple potential base classes at once."
      ],
      "metadata": {
        "id": "3fIDoQdO-Peg"
      }
    },
    {
      "cell_type": "code",
      "execution_count": null,
      "metadata": {
        "id": "Z4SNr0EmLCSX"
      },
      "outputs": [],
      "source": [
        "issubclass(class, classinfo)\n"
      ]
    },
    {
      "cell_type": "code",
      "source": [
        "class Animal:\n",
        "    pass\n",
        "\n",
        "class Mammal(Animal):\n",
        "    pass\n",
        "\n",
        "class Bird(Animal):\n",
        "    pass\n",
        "\n",
        "class Dog(Mammal):\n",
        "    pass\n",
        "\n",
        "class Cat(Mammal):\n",
        "    pass\n",
        "\n",
        "print(issubclass(Dog, Mammal))        # Output: True\n",
        "print(issubclass(Dog, Animal))        # Output: True\n",
        "print(issubclass(Dog, Bird))          # Output: False\n",
        "print(issubclass(Cat, Animal))        # Output: True\n",
        "print(issubclass(Cat, (Bird, Mammal)))# Output: True\n",
        "print(issubclass(Animal, Animal))     # Output: True\n",
        "print(issubclass(Animal, (Mammal, Bird))) # Output: False\n"
      ],
      "metadata": {
        "colab": {
          "base_uri": "https://localhost:8080/"
        },
        "id": "v3OxZrOX-XdR",
        "outputId": "0778f0b9-7c1e-4eca-d667-1dbc06a112cb"
      },
      "execution_count": null,
      "outputs": [
        {
          "output_type": "stream",
          "name": "stdout",
          "text": [
            "True\n",
            "True\n",
            "False\n",
            "True\n",
            "True\n",
            "True\n",
            "False\n"
          ]
        }
      ]
    },
    {
      "cell_type": "markdown",
      "metadata": {
        "id": "DYejD121LEsB"
      },
      "source": [
        "10. Discuss the concept of constructor inheritance in Python. How are constructors inherited in child classes?"
      ]
    },
    {
      "cell_type": "markdown",
      "source": [
        "Constructor inheritance in Python refers to how the __init__ method (the constructor) of a parent class is handled by its child classes. In Python, constructors are not inherited automatically, but they can be explicitly invoked within the child class to initialize the parent class's attributes.\n",
        "\n",
        "Key Points on Constructor Inheritance\n",
        "Automatic Inheritance:\n",
        "\n",
        "Unlike other methods, the constructor (__init__ method) of the parent class is not automatically called when a child class is instantiated. If the child class defines its own __init__ method, it overrides the parent class's __init__ method.\n",
        "Explicit Invocation:\n",
        "\n",
        "To initialize attributes of the parent class, the child class must explicitly call the parent class's constructor using super() or by directly referencing the parent class.\n",
        "\n",
        "Using super():\n",
        "\n",
        "The super() function is used to call the parent class's constructor from within the child class's constructor. This is the preferred way as it respects the method resolution order (MRO) and supports multiple inheritance.\n",
        "\n",
        "\n",
        "Example of Constructor Inheritance"
      ],
      "metadata": {
        "id": "Hm8aiRiH-0CH"
      }
    },
    {
      "cell_type": "code",
      "execution_count": null,
      "metadata": {
        "id": "YEoj3z1BLEBH",
        "colab": {
          "base_uri": "https://localhost:8080/"
        },
        "outputId": "2cd9cc06-fa29-4eb6-f5b5-51459ec32f54"
      },
      "outputs": [
        {
          "output_type": "stream",
          "name": "stdout",
          "text": [
            "Animal named Rex is created\n",
            "Dog of breed German Shepherd is created\n"
          ]
        }
      ],
      "source": [
        "class Animal:\n",
        "    def __init__(self, name):\n",
        "        self.name = name\n",
        "        print(f\"Animal named {self.name} is created\")\n",
        "\n",
        "class Dog(Animal):\n",
        "    def __init__(self, name, breed):\n",
        "        # Call the parent class constructor\n",
        "        super().__init__(name)\n",
        "        self.breed = breed\n",
        "        print(f\"Dog of breed {self.breed} is created\")\n",
        "\n",
        "# Creating an instance of Dog\n",
        "dog = Dog(\"Rex\", \"German Shepherd\")\n",
        "\n",
        "# Output:\n",
        "# Animal named Rex is created\n",
        "# Dog of breed German Shepherd is created\n"
      ]
    },
    {
      "cell_type": "markdown",
      "source": [
        "Multiple Inheritance Example\n",
        "\n",
        "In cases of multiple inheritance, super() becomes even more important:"
      ],
      "metadata": {
        "id": "XGKSZtZO_JX7"
      }
    },
    {
      "cell_type": "code",
      "source": [
        "class Animal:\n",
        "    def __init__(self, name):\n",
        "        self.name = name\n",
        "        print(f\"Animal named {self.name} is created\")\n",
        "\n",
        "class Mammal(Animal):\n",
        "    def __init__(self, name):\n",
        "        super().__init__(name)\n",
        "        print(f\"Mammal named {self.name} is created\")\n",
        "\n",
        "class Bird(Animal):\n",
        "    def __init__(self, name):\n",
        "        super().__init__(name)\n",
        "        print(f\"Bird named {self.name} is created\")\n",
        "\n",
        "class Bat(Mammal, Bird):\n",
        "    def __init__(self, name):\n",
        "        super().__init__(name)\n",
        "        print(f\"Bat named {self.name} is created\")\n",
        "\n",
        "# Creating an instance of Bat\n",
        "bat = Bat(\"Bruce\")\n",
        "\n",
        "# Output:\n",
        "# Animal named Bruce is created\n",
        "# Bird named Bruce is created\n",
        "# Mammal named Bruce is created\n",
        "# Bat named Bruce is created\n"
      ],
      "metadata": {
        "colab": {
          "base_uri": "https://localhost:8080/"
        },
        "id": "JGmYmPuj_Lr7",
        "outputId": "c5abc5d1-a6d4-4a13-f5ce-eb16b9ba2f52"
      },
      "execution_count": null,
      "outputs": [
        {
          "output_type": "stream",
          "name": "stdout",
          "text": [
            "Animal named Bruce is created\n",
            "Bird named Bruce is created\n",
            "Mammal named Bruce is created\n",
            "Bat named Bruce is created\n"
          ]
        }
      ]
    },
    {
      "cell_type": "markdown",
      "metadata": {
        "id": "Icj62xyDLHTV"
      },
      "source": [
        "11. Create a Python class called `Shape` with a method `area()` that calculates the area of a shape. Then, create child classes `Circle` and `Rectangle` that inherit from `Shape` and implement the `area()` method\n",
        "accordingly. Provide an example."
      ]
    },
    {
      "cell_type": "code",
      "execution_count": null,
      "metadata": {
        "id": "jifLHtLSLJpF",
        "colab": {
          "base_uri": "https://localhost:8080/"
        },
        "outputId": "01bed0c2-ae32-48f0-c6c8-4e6ac40c0f62"
      },
      "outputs": [
        {
          "output_type": "stream",
          "name": "stdout",
          "text": [
            "Area of the circle: 78.53981633974483\n",
            "Area of the rectangle: 24\n"
          ]
        }
      ],
      "source": [
        "import math\n",
        "\n",
        "class Shape:\n",
        "    def area(self):\n",
        "        pass\n",
        "\n",
        "class Circle(Shape):\n",
        "    def __init__(self, radius):\n",
        "        self.radius = radius\n",
        "\n",
        "    def area(self):\n",
        "        return math.pi * self.radius ** 2\n",
        "\n",
        "class Rectangle(Shape):\n",
        "    def __init__(self, width, height):\n",
        "        self.width = width\n",
        "        self.height = height\n",
        "\n",
        "    def area(self):\n",
        "        return self.width * self.height\n",
        "\n",
        "# Example usage\n",
        "circle = Circle(5)\n",
        "rectangle = Rectangle(4, 6)\n",
        "\n",
        "print(f\"Area of the circle: {circle.area()}\")  # Output: Area of the circle: 78.53981633974483\n",
        "print(f\"Area of the rectangle: {rectangle.area()}\")  # Output: Area of the rectangle: 24\n"
      ]
    },
    {
      "cell_type": "markdown",
      "metadata": {
        "id": "-uILA5KNLKAu"
      },
      "source": [
        "12. Explain the use of abstract base classes (ABCs) in Python and how they relate to inheritance. Provide an\n",
        "example using the `abc` module."
      ]
    },
    {
      "cell_type": "markdown",
      "source": [
        "Abstract base classes (ABCs) in Python provide a way to define abstract classes and methods, which serve as templates for other classes. An abstract class cannot be instantiated and typically includes one or more abstract methods that must be implemented by subclasses. ABCs are useful for enforcing a certain interface or ensuring that certain methods are implemented in derived classes."
      ],
      "metadata": {
        "id": "9-wpVrSNACsA"
      }
    },
    {
      "cell_type": "code",
      "execution_count": null,
      "metadata": {
        "id": "JWRH_7j3LMFt",
        "colab": {
          "base_uri": "https://localhost:8080/"
        },
        "outputId": "b3cbf2eb-5b2c-430e-c7b6-32ff09e254f3"
      },
      "outputs": [
        {
          "output_type": "stream",
          "name": "stdout",
          "text": [
            "Area of the circle: 78.53981633974483\n",
            "Perimeter of the circle: 31.41592653589793\n",
            "Area of the rectangle: 24\n",
            "Perimeter of the rectangle: 20\n"
          ]
        }
      ],
      "source": [
        "from abc import ABC, abstractmethod\n",
        "\n",
        "class Shape(ABC):\n",
        "    @abstractmethod\n",
        "    def area(self):\n",
        "        pass\n",
        "\n",
        "    @abstractmethod\n",
        "    def perimeter(self):\n",
        "        pass\n",
        "\n",
        "import math\n",
        "\n",
        "class Circle(Shape):\n",
        "    def __init__(self, radius):\n",
        "        self.radius = radius\n",
        "\n",
        "    def area(self):\n",
        "        return math.pi * self.radius ** 2\n",
        "\n",
        "    def perimeter(self):\n",
        "        return 2 * math.pi * self.radius\n",
        "\n",
        "class Rectangle(Shape):\n",
        "    def __init__(self, width, height):\n",
        "        self.width = width\n",
        "        self.height = height\n",
        "\n",
        "    def area(self):\n",
        "        return self.width * self.height\n",
        "\n",
        "    def perimeter(self):\n",
        "        return 2 * (self.width + self.height)\n",
        "\n",
        "\n",
        "# Create instances of Circle and Rectangle\n",
        "circle = Circle(5)\n",
        "rectangle = Rectangle(4, 6)\n",
        "\n",
        "# Call the area and perimeter methods on both instances\n",
        "print(f\"Area of the circle: {circle.area()}\")          # Output: Area of the circle: 78.53981633974483\n",
        "print(f\"Perimeter of the circle: {circle.perimeter()}\") # Output: Perimeter of the circle: 31.41592653589793\n",
        "print(f\"Area of the rectangle: {rectangle.area()}\")      # Output: Area of the rectangle: 24\n",
        "print(f\"Perimeter of the rectangle: {rectangle.perimeter()}\") # Output: Perimeter of the rectangle: 20\n"
      ]
    },
    {
      "cell_type": "markdown",
      "metadata": {
        "id": "jBAxXpeWLMfl"
      },
      "source": [
        "13. How can you prevent a child class from modifying certain attributes or methods inherited from a parent\n",
        "class in Python?"
      ]
    },
    {
      "cell_type": "markdown",
      "source": [
        "To prevent a child class from modifying certain attributes or methods inherited from a parent class in Python, you can use several strategies, including naming conventions, using properties with getter methods but no setter methods, and leveraging encapsulation. Here's a detailed explanation of each approach:"
      ],
      "metadata": {
        "id": "EY7Up5GMAmts"
      }
    },
    {
      "cell_type": "markdown",
      "source": [
        "1. Naming Conventions\n",
        "\n",
        "In Python, a single underscore prefix (_) is used to indicate that a variable or method is intended for internal use only (i.e., it is a protected member). A double underscore prefix (__) triggers name mangling, which makes it harder (but not impossible) for subclasses to override these members.\n",
        "\n",
        "Example:"
      ],
      "metadata": {
        "id": "GMXR9NNvAoWk"
      }
    },
    {
      "cell_type": "code",
      "execution_count": null,
      "metadata": {
        "id": "H3hMFjG4LOml"
      },
      "outputs": [],
      "source": [
        "class Parent:\n",
        "    def __init__(self):\n",
        "        self._protected_attr = \"This is protected\"\n",
        "        self.__private_attr = \"This is private\"\n",
        "\n",
        "    def _protected_method(self):\n",
        "        return \"This is a protected method\"\n",
        "\n",
        "    def __private_method(self):\n",
        "        return \"This is a private method\"\n",
        "\n",
        "class Child(Parent):\n",
        "    def __init__(self):\n",
        "        super().__init__()\n",
        "        # The following line will not work as expected due to name mangling\n",
        "        # self.__private_attr = \"Trying to override private attribute\"\n",
        "\n",
        "    def try_to_override_methods(self):\n",
        "        # This will work because it's just a naming convention\n",
        "        return self._protected_method()\n",
        "        # This will raise an AttributeError due to name mangling\n",
        "        # return self.__private_method()\n"
      ]
    },
    {
      "cell_type": "markdown",
      "source": [
        "2. Using Properties with Getter Methods\n",
        "\n",
        "You can use properties to create read-only attributes by defining only a getter method and omitting the setter method. This way, the attribute can be accessed but not modified.\n",
        "\n",
        "Example:"
      ],
      "metadata": {
        "id": "vD3NoUQPA24U"
      }
    },
    {
      "cell_type": "code",
      "source": [
        "class Parent:\n",
        "    def __init__(self, value):\n",
        "        self._value = value\n",
        "\n",
        "    @property\n",
        "    def value(self):\n",
        "        return self._value\n",
        "\n",
        "class Child(Parent):\n",
        "    def __init__(self, value):\n",
        "        super().__init__(value)\n",
        "\n",
        "    def try_to_modify_value(self):\n",
        "        # This will raise an AttributeError because there's no setter method\n",
        "        pass\n",
        "        # Uncommenting the following line will raise an AttributeError\n",
        "        # self.value = 10\n",
        "\n",
        "# Create an instance of Child\n",
        "child = Child(5)\n",
        "print(child.value)  # Output: 5\n",
        "\n",
        "# Uncommenting the following line will raise an AttributeError\n",
        "# child.value = 10\n"
      ],
      "metadata": {
        "colab": {
          "base_uri": "https://localhost:8080/"
        },
        "id": "YRXowFsWA6FY",
        "outputId": "59cee3e8-c383-4a42-bf1f-df6714900f56"
      },
      "execution_count": null,
      "outputs": [
        {
          "output_type": "stream",
          "name": "stdout",
          "text": [
            "5\n"
          ]
        }
      ]
    },
    {
      "cell_type": "markdown",
      "source": [
        "3. Encapsulation with Name Mangling\n",
        "\n",
        "Using double underscores to prefix an attribute or method name will trigger name mangling, which changes the name of the attribute in a way that makes it harder for subclasses to override or access it.\n",
        "\n",
        "Example:"
      ],
      "metadata": {
        "id": "q4-s18LfBWLh"
      }
    },
    {
      "cell_type": "code",
      "source": [
        "class Parent:\n",
        "    def __init__(self):\n",
        "        self.__private_attr = \"This is private\"\n",
        "\n",
        "    def __private_method(self):\n",
        "        return \"This is a private method\"\n",
        "\n",
        "    def get_private_attr(self):\n",
        "        return self.__private_attr\n",
        "\n",
        "class Child(Parent):\n",
        "    def __init__(self):\n",
        "        super().__init__()\n",
        "        # This will not actually modify __private_attr in the Parent class\n",
        "        self.__private_attr = \"Trying to override private attribute\"\n",
        "\n",
        "    def try_to_override_private_method(self):\n",
        "        # This will not actually call __private_method in the Parent class\n",
        "        return \"Child's attempt to override\"\n",
        "\n",
        "child = Child()\n",
        "print(child.get_private_attr())  # Output: This is private\n"
      ],
      "metadata": {
        "colab": {
          "base_uri": "https://localhost:8080/"
        },
        "id": "Eq7a4dhEBdZ8",
        "outputId": "c327692b-2e81-449b-ff99-4ae864fb290a"
      },
      "execution_count": null,
      "outputs": [
        {
          "output_type": "stream",
          "name": "stdout",
          "text": [
            "This is private\n"
          ]
        }
      ]
    },
    {
      "cell_type": "markdown",
      "metadata": {
        "id": "qTe1ci9hLO9u"
      },
      "source": [
        "14. Create a Python class called `Employee` with attributes `name` and `salary`. Then, create a child class\n",
        "`Manager` that inherits from `Employee` and adds an attribute `department`. Provide an example."
      ]
    },
    {
      "cell_type": "code",
      "execution_count": null,
      "metadata": {
        "id": "PK8aIbQGLRht",
        "colab": {
          "base_uri": "https://localhost:8080/"
        },
        "outputId": "c810393f-437b-4acb-c785-b1d13eb18cca"
      },
      "outputs": [
        {
          "output_type": "stream",
          "name": "stdout",
          "text": [
            "Employee(Name: John Doe, Salary: 50000)\n",
            "Manager(Name: Jane Smith, Salary: 75000, Department: Sales)\n"
          ]
        }
      ],
      "source": [
        "class Employee:\n",
        "    def __init__(self, name, salary):\n",
        "        self.name = name\n",
        "        self.salary = salary\n",
        "\n",
        "    def __str__(self):\n",
        "        return f\"Employee(Name: {self.name}, Salary: {self.salary})\"\n",
        "\n",
        "class Manager(Employee):\n",
        "    def __init__(self, name, salary, department):\n",
        "        super().__init__(name, salary)\n",
        "        self.department = department\n",
        "\n",
        "    def __str__(self):\n",
        "        return f\"Manager(Name: {self.name}, Salary: {self.salary}, Department: {self.department})\"\n",
        "\n",
        "# Example usage\n",
        "employee = Employee(\"John Doe\", 50000)\n",
        "manager = Manager(\"Jane Smith\", 75000, \"Sales\")\n",
        "\n",
        "print(employee)  # Output: Employee(Name: John Doe, Salary: 50000)\n",
        "print(manager)   # Output: Manager(Name: Jane Smith, Salary: 75000, Department: Sales)\n"
      ]
    },
    {
      "cell_type": "markdown",
      "metadata": {
        "id": "_bODCVG7LR8B"
      },
      "source": [
        "15. Discuss the concept of method overloading in Python inheritance. How does it differ from method\n",
        "overriding?"
      ]
    },
    {
      "cell_type": "markdown",
      "source": [
        "Method Overloading\n",
        "\n",
        "Method overloading refers to the ability to define multiple methods in the same class with the same name but with different parameters or different types of parameters. In other words, method overloading allows a single method name to behave differently based on the number or types of parameters it receives.\n",
        "\n",
        "In Python, method overloading is not directly supported in the same way as in languages like Java or C++. However, you can achieve similar behavior by using default parameter values or variable-length argument lists (*args and **kwargs). Python methods can have multiple definitions with different numbers or types of parameters, but only the most recent definition will be used.\n",
        "\n",
        "Example of Method Overloading in Python"
      ],
      "metadata": {
        "id": "K1B3ygJdCzmV"
      }
    },
    {
      "cell_type": "markdown",
      "source": [
        "Example using Default Parameter Values:"
      ],
      "metadata": {
        "id": "BwbPMeL5DMuZ"
      }
    },
    {
      "cell_type": "code",
      "execution_count": null,
      "metadata": {
        "id": "GwfGEydfLT3m",
        "colab": {
          "base_uri": "https://localhost:8080/"
        },
        "outputId": "ef74723e-2d5d-4092-e815-b33b06f58eae"
      },
      "outputs": [
        {
          "output_type": "stream",
          "name": "stdout",
          "text": [
            "5\n",
            "9\n"
          ]
        }
      ],
      "source": [
        "class MathOperations:\n",
        "    def add(self, x, y, z=None):\n",
        "        if z is None:\n",
        "            return x + y\n",
        "        else:\n",
        "            return x + y + z\n",
        "\n",
        "# Usage\n",
        "math_ops = MathOperations()\n",
        "print(math_ops.add(2, 3))          # Output: 5\n",
        "print(math_ops.add(2, 3, 4))       # Output: 9\n"
      ]
    },
    {
      "cell_type": "markdown",
      "source": [
        "Example using Variable-Length Argument Lists:"
      ],
      "metadata": {
        "id": "2E3ByxVEDV_f"
      }
    },
    {
      "cell_type": "code",
      "source": [
        "class MathOperations:\n",
        "    def add(self, *args):\n",
        "        return sum(args)\n",
        "\n",
        "# Usage\n",
        "math_ops = MathOperations()\n",
        "print(math_ops.add(2, 3))          # Output: 5\n",
        "print(math_ops.add(2, 3, 4))       # Output: 9\n"
      ],
      "metadata": {
        "colab": {
          "base_uri": "https://localhost:8080/"
        },
        "id": "55vtWU1_DaOH",
        "outputId": "5c703031-bdb6-4c6b-eb2b-0554df050df0"
      },
      "execution_count": null,
      "outputs": [
        {
          "output_type": "stream",
          "name": "stdout",
          "text": [
            "5\n",
            "9\n"
          ]
        }
      ]
    },
    {
      "cell_type": "markdown",
      "source": [
        "Method Overriding\n",
        "\n",
        "Method overriding, on the other hand, occurs when a subclass provides a specific implementation of a method that is already defined in its superclass. The overridden method in the subclass has the same name and signature as the method in the superclass. When an object of the subclass calls the method, the overridden version in the subclass is executed instead of the one in the superclass.\n",
        "\n",
        "Example of Method Overriding in Python"
      ],
      "metadata": {
        "id": "O-af3TOdDlQR"
      }
    },
    {
      "cell_type": "code",
      "source": [
        "class Animal:\n",
        "    def sound(self):\n",
        "        return \"Generic animal sound\"\n",
        "\n",
        "class Dog(Animal):\n",
        "    def sound(self):\n",
        "        return \"Woof!\"\n",
        "\n",
        "class Cat(Animal):\n",
        "    def sound(self):\n",
        "        return \"Meow!\"\n",
        "\n",
        "# Usage\n",
        "dog = Dog()\n",
        "print(dog.sound())  # Output: Woof!\n",
        "\n",
        "cat = Cat()\n",
        "print(cat.sound())  # Output: Meow!\n"
      ],
      "metadata": {
        "colab": {
          "base_uri": "https://localhost:8080/"
        },
        "id": "M1fRXaq2DoNY",
        "outputId": "a526b2cc-617f-4b32-f4ef-fad9f73e463c"
      },
      "execution_count": null,
      "outputs": [
        {
          "output_type": "stream",
          "name": "stdout",
          "text": [
            "Woof!\n",
            "Meow!\n"
          ]
        }
      ]
    },
    {
      "cell_type": "markdown",
      "metadata": {
        "id": "ifHsFVvyLUQ0"
      },
      "source": [
        "16. Explain the purpose of the `__init__()` method in Python inheritance and how it is utilized in child classes."
      ]
    },
    {
      "cell_type": "markdown",
      "source": [
        "In Python, the __init__() method serves as a constructor for a class. It is automatically called when an instance of the class is created. The primary purpose of the __init__() method is to initialize the object's state, setting up any initial attributes or performing any necessary setup tasks.\n",
        "\n",
        "Purpose of the __init__() Method:\n",
        "\n",
        "Initialization:\n",
        "\n",
        "The __init__() method initializes the object's attributes with values passed during object creation or with default values.\n",
        "\n",
        "Setup Tasks:\n",
        "\n",
        "It can perform any necessary setup tasks, such as opening files, establishing connections, or initializing data structures.\n",
        "\n",
        "Enforcing Constraints:\n",
        "\n",
        "It can enforce constraints on attribute values or perform validation checks before setting attribute values.\n",
        "\n",
        "Utilization in Child Classes:\n",
        "\n",
        "When a child class inherits from a parent class, it may have its own additional attributes and initialization requirements. In such cases, the __init__() method in the child class can call the __init__() method of the parent class using the super() function to initialize the inherited attributes. The child class can then perform any additional initialization tasks specific to itself.\n",
        "\n",
        "Example:\n",
        "\n",
        "Consider a parent class Person and a child class Employee. The Person class has attributes name and age, while the Employee class adds an attribute employee_id. Here's how the __init__() method is utilized in both classes:"
      ],
      "metadata": {
        "id": "OnGdC3_6EHEo"
      }
    },
    {
      "cell_type": "code",
      "execution_count": null,
      "metadata": {
        "id": "AIxrQs2FLWz1",
        "colab": {
          "base_uri": "https://localhost:8080/"
        },
        "outputId": "92ccb12e-53a7-4656-d667-848674ab11cc"
      },
      "outputs": [
        {
          "output_type": "stream",
          "name": "stdout",
          "text": [
            "John 30\n",
            "Alice 25 1001\n"
          ]
        }
      ],
      "source": [
        "class Person:\n",
        "    def __init__(self, name, age):\n",
        "        self.name = name\n",
        "        self.age = age\n",
        "\n",
        "class Employee(Person):\n",
        "    def __init__(self, name, age, employee_id):\n",
        "        super().__init__(name, age)  # Call the __init__() method of the parent class\n",
        "        self.employee_id = employee_id\n",
        "\n",
        "# Usage\n",
        "person = Person(\"John\", 30)            # Creating an instance of Person\n",
        "employee = Employee(\"Alice\", 25, 1001)  # Creating an instance of Employee\n",
        "\n",
        "print(person.name, person.age)         # Output: John 30\n",
        "print(employee.name, employee.age, employee.employee_id)  # Output: Alice 25 1001\n"
      ]
    },
    {
      "cell_type": "markdown",
      "metadata": {
        "id": "rtKJHymhLXGd"
      },
      "source": [
        "17. Create a Python class called `Bird` with a method `fly()`. Then, create child classes `Eagle` and `Sparrow` that inherit from `Bird` and implement the `fly()` method differently. Provide an example of using these\n",
        "classes."
      ]
    },
    {
      "cell_type": "code",
      "execution_count": null,
      "metadata": {
        "id": "XqGSqqYhLYum",
        "colab": {
          "base_uri": "https://localhost:8080/"
        },
        "outputId": "f706f593-67d3-4de0-cb45-1453424b522c"
      },
      "outputs": [
        {
          "output_type": "stream",
          "name": "stdout",
          "text": [
            "Flying high in the sky\n",
            "Soaring like an eagle\n",
            "Flitting through the air\n"
          ]
        }
      ],
      "source": [
        "class Bird:\n",
        "    def fly(self):\n",
        "        return \"Flying high in the sky\"\n",
        "\n",
        "\n",
        "class Eagle(Bird):\n",
        "    def fly(self):\n",
        "        return \"Soaring like an eagle\"\n",
        "\n",
        "\n",
        "class Sparrow(Bird):\n",
        "    def fly(self):\n",
        "        return \"Flitting through the air\"\n",
        "\n",
        "\n",
        "# Example usage\n",
        "bird = Bird()\n",
        "print(bird.fly())  # Output: Flying high in the sky\n",
        "\n",
        "eagle = Eagle()\n",
        "print(eagle.fly())  # Output: Soaring like an eagle\n",
        "\n",
        "sparrow = Sparrow()\n",
        "print(sparrow.fly())  # Output: Flitting through the air\n"
      ]
    },
    {
      "cell_type": "markdown",
      "metadata": {
        "id": "YdLtMKX5LZEH"
      },
      "source": [
        "18. What is the \"diamond problem\" in multiple inheritance, and how does Python address it?"
      ]
    },
    {
      "cell_type": "markdown",
      "source": [
        "The \"diamond problem\" is a common issue that arises in languages that support multiple inheritance, where a particular class inherits from two or more classes that have a common ancestor. This situation forms a diamond-shaped inheritance hierarchy, leading to ambiguity in method resolution and potential conflicts in attribute access."
      ],
      "metadata": {
        "id": "WxxWfcZVE52z"
      }
    },
    {
      "cell_type": "code",
      "execution_count": null,
      "metadata": {
        "id": "AVkUzogTLbJd",
        "colab": {
          "base_uri": "https://localhost:8080/"
        },
        "outputId": "4ccf6df8-8183-4595-90dc-57d61ac35c89"
      },
      "outputs": [
        {
          "output_type": "stream",
          "name": "stdout",
          "text": [
            "[<class '__main__.D'>, <class '__main__.B'>, <class '__main__.C'>, <class '__main__.A'>, <class 'object'>]\n",
            "Hello from C\n"
          ]
        }
      ],
      "source": [
        "class A:\n",
        "    def hello(self):\n",
        "        return \"Hello from A\"\n",
        "\n",
        "class B(A):\n",
        "    pass\n",
        "\n",
        "class C(A):\n",
        "    def hello(self):\n",
        "        return \"Hello from C\"\n",
        "\n",
        "class D(B, C):\n",
        "    pass\n",
        "\n",
        "# Output the method resolution order\n",
        "print(D.mro())  # Output: [<class '__main__.D'>, <class '__main__.B'>, <class '__main__.C'>, <class '__main__.A'>, <class 'object'>]\n",
        "\n",
        "# Create an instance of D and call the hello method\n",
        "d = D()\n",
        "print(d.hello())  # Output: Hello from C\n"
      ]
    },
    {
      "cell_type": "markdown",
      "metadata": {
        "id": "1l9VIATCLbbY"
      },
      "source": [
        "19. Discuss the concept of \"is-a\" and \"has-a\" relationships in inheritance, and provide examples of each."
      ]
    },
    {
      "cell_type": "markdown",
      "source": [
        "\"Is-a\" Relationship:\n",
        "\n",
        "In an \"is-a\" relationship, one class is a specialized version of another class, implying inheritance. This relationship is typically represented by subclassing or inheritance, where a subclass inherits properties and behaviors from its superclass.\n",
        "\n",
        "Example:\n",
        "\n",
        "Consider a class hierarchy of Animal, where Dog and Cat are subclasses of Animal. Here, Dog and Cat are specialized versions of Animal, so they can be considered \"is-a\" relationships:"
      ],
      "metadata": {
        "id": "qPTYpp7fFTtr"
      }
    },
    {
      "cell_type": "code",
      "execution_count": null,
      "metadata": {
        "id": "30nKt_mNLdld"
      },
      "outputs": [],
      "source": [
        "class Animal:\n",
        "    def sound(self):\n",
        "        pass\n",
        "\n",
        "class Dog(Animal):\n",
        "    def sound(self):\n",
        "        return \"Woof!\"\n",
        "\n",
        "class Cat(Animal):\n",
        "    def sound(self):\n",
        "        return \"Meow!\"\n"
      ]
    },
    {
      "cell_type": "markdown",
      "source": [
        "\"Has-a\" Relationship:\n",
        "\n",
        "In a \"has-a\" relationship, one class has another class as a component or part. This relationship is typically represented by composition, where an object of one class contains an instance of another class as one of its attributes.\n",
        "\n",
        "Example:\n",
        "\n",
        "Consider a class Car that has an Engine as a component. Here, Car \"has-a\" relationship with Engine:"
      ],
      "metadata": {
        "id": "TsK075niFc8i"
      }
    },
    {
      "cell_type": "code",
      "source": [
        "class Engine:\n",
        "    def start(self):\n",
        "        pass\n",
        "\n",
        "class Car:\n",
        "    def __init__(self):\n",
        "        self.engine = Engine()\n",
        "\n",
        "    def start_engine(self):\n",
        "        self.engine.start()\n"
      ],
      "metadata": {
        "id": "3-BDw5I1Fm3t"
      },
      "execution_count": null,
      "outputs": []
    },
    {
      "cell_type": "markdown",
      "metadata": {
        "id": "5675--YcLd9m"
      },
      "source": [
        "20. Create a Python class hierarchy for a university system. Start with a base class `Person` and create child\n",
        "classes `Student` and `Professor`, each with their own attributes and methods. Provide an example of using\n",
        "these classes in a university context."
      ]
    },
    {
      "cell_type": "code",
      "execution_count": null,
      "metadata": {
        "id": "xWG3_9PiLgXN",
        "colab": {
          "base_uri": "https://localhost:8080/"
        },
        "outputId": "827e361d-ae55-4f8e-f76e-e9621d020d1a"
      },
      "outputs": [
        {
          "output_type": "stream",
          "name": "stdout",
          "text": [
            "Student ID: S12345, Name: Alice, Age: 20\n",
            "Employee ID: P98765, Department: Computer Science, Name: Dr. Smith, Age: 45\n",
            "Alice is studying\n",
            "Dr. Smith is teaching\n"
          ]
        }
      ],
      "source": [
        "class Person:\n",
        "    def __init__(self, name, age):\n",
        "        self.name = name\n",
        "        self.age = age\n",
        "\n",
        "    def __str__(self):\n",
        "        return f\"Name: {self.name}, Age: {self.age}\"\n",
        "\n",
        "class Student(Person):\n",
        "    def __init__(self, name, age, student_id):\n",
        "        super().__init__(name, age)\n",
        "        self.student_id = student_id\n",
        "\n",
        "    def __str__(self):\n",
        "        return f\"Student ID: {self.student_id}, {super().__str__()}\"\n",
        "\n",
        "    def study(self):\n",
        "        return f\"{self.name} is studying\"\n",
        "\n",
        "class Professor(Person):\n",
        "    def __init__(self, name, age, employee_id, department):\n",
        "        super().__init__(name, age)\n",
        "        self.employee_id = employee_id\n",
        "        self.department = department\n",
        "\n",
        "    def __str__(self):\n",
        "        return f\"Employee ID: {self.employee_id}, Department: {self.department}, {super().__str__()}\"\n",
        "\n",
        "    def teach(self):\n",
        "        return f\"{self.name} is teaching\"\n",
        "\n",
        "# Example usage\n",
        "student = Student(\"Alice\", 20, \"S12345\")\n",
        "professor = Professor(\"Dr. Smith\", 45, \"P98765\", \"Computer Science\")\n",
        "\n",
        "print(student)     # Output: Student ID: S12345, Name: Alice, Age: 20\n",
        "print(professor)   # Output: Employee ID: P98765, Department: Computer Science, Name: Dr. Smith, Age: 45\n",
        "\n",
        "print(student.study())      # Output: Alice is studying\n",
        "print(professor.teach())    # Output: Dr. Smith is teaching\n"
      ]
    },
    {
      "cell_type": "markdown",
      "metadata": {
        "id": "AN9WTwv2Lgut"
      },
      "source": [
        "Encapsulation:"
      ]
    },
    {
      "cell_type": "markdown",
      "metadata": {
        "id": "Obqp-4vyLixg"
      },
      "source": [
        "1. Explain the concept of encapsulation in Python. What is its role in object-oriented programming?"
      ]
    },
    {
      "cell_type": "markdown",
      "source": [
        "Encapsulation is one of the fundamental concepts in object-oriented programming (OOP). It refers to the bundling of data and methods that operate on that data into a single unit, called a class. Encapsulation hides the internal state of an object from the outside world and only exposes a controlled interface to interact with the object."
      ],
      "metadata": {
        "id": "joEfR5kJGZ6Y"
      }
    },
    {
      "cell_type": "markdown",
      "source": [
        "Key Aspects of Encapsulation:\n",
        "\n",
        "Data Hiding: Encapsulation hides the internal state of an object, preventing direct access to its attributes from outside the class. This helps to maintain the integrity and consistency of the object's data.\n",
        "\n",
        "Access Control: Encapsulation allows the class to define access levels for its attributes and methods. By using access modifiers such as public, private, and protected, the class can control how its members are accessed and modified from outside the class.\n",
        "\n",
        "Information Hiding: Encapsulation encapsulates the implementation details of a class, providing a clear separation between the interface and the implementation. This allows for better code maintainability and reduces the impact of changes to the internal implementation.\n",
        "\n",
        "Role of Encapsulation in OOP:\n",
        "\n",
        "Abstraction: Encapsulation provides a way to abstract the internal details of an object and expose only the essential features through a well-defined interface. This allows users of the class to interact with the object without needing to understand its internal implementation.\n",
        "\n",
        "Modularity: Encapsulation promotes modularity by grouping related data and behavior into a single unit. This makes it easier to manage and maintain code, as changes to one part of the codebase are less likely to affect other parts.\n",
        "\n",
        "Security: Encapsulation enhances security by controlling access to the internal state of objects. By making certain attributes or methods private or protected, the class can prevent unauthorized access and ensure that data is accessed and modified only through controlled interfaces.\n",
        "\n",
        "Code Reusability: Encapsulation facilitates code reusability by encapsulating common behavior and data into reusable classes. These classes can then be easily reused in different parts of the program or in different programs altogether.\n",
        "\n",
        "Example:"
      ],
      "metadata": {
        "id": "iWxi9rFFGhi_"
      }
    },
    {
      "cell_type": "code",
      "execution_count": null,
      "metadata": {
        "id": "6nnBwdHjLmOd",
        "colab": {
          "base_uri": "https://localhost:8080/"
        },
        "outputId": "7aac1bd4-e771-40c8-c5a1-e914001c12bd"
      },
      "outputs": [
        {
          "output_type": "stream",
          "name": "stdout",
          "text": [
            "Toyota\n",
            "Camry\n",
            "100\n"
          ]
        }
      ],
      "source": [
        "class Car:\n",
        "    def __init__(self, make, model):\n",
        "        self._make = make    # Protected attribute\n",
        "        self._model = model  # Protected attribute\n",
        "        self.__mileage = 0   # Private attribute\n",
        "\n",
        "    def get_make(self):\n",
        "        return self._make\n",
        "\n",
        "    def get_model(self):\n",
        "        return self._model\n",
        "\n",
        "    def get_mileage(self):\n",
        "        return self.__mileage\n",
        "\n",
        "    def drive(self, distance):\n",
        "        self.__mileage += distance\n",
        "\n",
        "# Usage\n",
        "car = Car(\"Toyota\", \"Camry\")\n",
        "print(car.get_make())     # Output: Toyota\n",
        "print(car.get_model())    # Output: Camry\n",
        "car.drive(100)\n",
        "print(car.get_mileage())  # Output: 100\n"
      ]
    },
    {
      "cell_type": "markdown",
      "metadata": {
        "id": "EQC7d5PnLmvF"
      },
      "source": [
        "2. Describe the key principles of encapsulation, including access control and data hiding."
      ]
    },
    {
      "cell_type": "markdown",
      "source": [
        "The key principles of encapsulation in object-oriented programming include access control and data hiding. These principles ensure that the internal state of an object is protected and that interactions with the object occur only through a controlled interface.\n",
        "\n",
        "1. Data Hiding:\n",
        "\n",
        "Data hiding is the practice of hiding the internal state of an object from outside access. It prevents direct access to an object's attributes and ensures that the object's state is only modified through controlled methods. This helps maintain the integrity and consistency of the object's data and prevents unauthorized manipulation.\n",
        "\n",
        "Example:"
      ],
      "metadata": {
        "id": "vU1Oa0-UHHlC"
      }
    },
    {
      "cell_type": "code",
      "execution_count": null,
      "metadata": {
        "id": "sHxHZlAgLpTm"
      },
      "outputs": [],
      "source": [
        "class BankAccount:\n",
        "    def __init__(self, account_number, balance):\n",
        "        self.account_number = account_number   # Not hidden\n",
        "        self.__balance = balance               # Hidden attribute\n",
        "\n",
        "    def get_balance(self):\n",
        "        return self.__balance\n",
        "\n",
        "    def deposit(self, amount):\n",
        "        self.__balance += amount\n",
        "\n",
        "    def withdraw(self, amount):\n",
        "        if self.__balance >= amount:\n",
        "            self.__balance -= amount\n",
        "            return amount\n",
        "        else:\n",
        "            return \"Insufficient funds\"\n"
      ]
    },
    {
      "cell_type": "markdown",
      "source": [
        "2. Access Control:\n",
        "\n",
        "Access control defines the level of visibility and accessibility of class members (attributes and methods) from outside the class. It allows the class to specify which members are accessible and modifiable from outside the class and which members are private to the class and only accessible internally.\n",
        "\n",
        "Access Modifiers in Python:\n",
        "\n",
        "Public (+): Public members are accessible from outside the class without any restrictions. By default, all members are public in Python.\n",
        "\n",
        "Protected (#): Protected members are accessible within the class and its subclasses. In Python, protected members are prefixed with a single underscore (_), although this is more of a naming convention than strict enforcement.\n",
        "\n",
        "Private (-): Private members are accessible only within the class itself. In Python, private members are prefixed with two underscores (__), and name mangling is used to make them less accessible from outside the class.\n",
        "\n",
        "Example:"
      ],
      "metadata": {
        "id": "0P-EVUl6Hjza"
      }
    },
    {
      "cell_type": "code",
      "source": [
        "class Employee:\n",
        "    def __init__(self, name, salary):\n",
        "        self.name = name                 # Public attribute\n",
        "        self._salary = salary           # Protected attribute\n",
        "        self.__employee_id = employee_id  # Private attribute\n",
        "\n",
        "    def get_salary(self):\n",
        "        return self._salary\n",
        "\n",
        "    def set_salary(self, salary):\n",
        "        self._salary = salary\n",
        "\n",
        "    def get_employee_id(self):\n",
        "        return self.__employee_id\n"
      ],
      "metadata": {
        "id": "jATxpS4GHo-w"
      },
      "execution_count": null,
      "outputs": []
    },
    {
      "cell_type": "markdown",
      "metadata": {
        "id": "v5FH_B8hLqQu"
      },
      "source": [
        "3. How can you achieve encapsulation in Python classes? Provide an example."
      ]
    },
    {
      "cell_type": "markdown",
      "source": [
        "Encapsulation in Python classes can be achieved by following these key practices:\n",
        "\n",
        "Use Private Attributes: Use underscores (_) or double underscores (__) to prefix attribute names to indicate that they are intended to be private. This convention indicates to other programmers that the attributes are not meant to be accessed directly from outside the class.\n",
        "\n",
        "Provide Getter and Setter Methods: Instead of directly accessing or modifying private attributes, provide public methods (getter and setter methods) to access and modify the attributes. This allows controlled access to the attributes and enables validation or additional logic to be applied when accessing or modifying them.\n",
        "\n",
        "Use Property Decorators: Python's property decorators (@property, @attribute.setter, @attribute.deleter) can be used to define properties with getter, setter, and deleter methods. This provides a more Pythonic way of implementing getter and setter methods without explicitly calling them.\n",
        "\n",
        "Example:"
      ],
      "metadata": {
        "id": "IUVDdE_RIlSx"
      }
    },
    {
      "cell_type": "code",
      "execution_count": null,
      "metadata": {
        "id": "AZdhhn69LtZE",
        "colab": {
          "base_uri": "https://localhost:8080/"
        },
        "outputId": "f08a3d6b-5e6c-4886-bef6-a49a5a9b92dc"
      },
      "outputs": [
        {
          "output_type": "stream",
          "name": "stdout",
          "text": [
            "1000\n",
            "1500\n",
            "1500\n",
            "2000\n"
          ]
        }
      ],
      "source": [
        "class BankAccount:\n",
        "    def __init__(self, account_number, balance):\n",
        "        self._account_number = account_number  # Protected attribute\n",
        "        self.__balance = balance               # Private attribute\n",
        "\n",
        "    # Getter method for balance\n",
        "    def get_balance(self):\n",
        "        return self.__balance\n",
        "\n",
        "    # Setter method for balance\n",
        "    def set_balance(self, new_balance):\n",
        "        if new_balance >= 0:\n",
        "            self.__balance = new_balance\n",
        "        else:\n",
        "            print(\"Invalid balance\")\n",
        "\n",
        "    # Property decorator for balance\n",
        "    @property\n",
        "    def balance(self):\n",
        "        return self.__balance\n",
        "\n",
        "    # Setter method for balance using property decorator\n",
        "    @balance.setter\n",
        "    def balance(self, new_balance):\n",
        "        if new_balance >= 0:\n",
        "            self.__balance = new_balance\n",
        "        else:\n",
        "            print(\"Invalid balance\")\n",
        "\n",
        "# Usage\n",
        "account = BankAccount(\"123456789\", 1000)\n",
        "\n",
        "# Accessing balance using getter method\n",
        "print(account.get_balance())  # Output: 1000\n",
        "\n",
        "# Modifying balance using setter method\n",
        "account.set_balance(1500)\n",
        "print(account.get_balance())  # Output: 1500\n",
        "\n",
        "# Accessing balance using property decorator\n",
        "print(account.balance)  # Output: 1500\n",
        "\n",
        "# Modifying balance using property decorator\n",
        "account.balance = 2000\n",
        "print(account.balance)  # Output: 2000\n"
      ]
    },
    {
      "cell_type": "markdown",
      "metadata": {
        "id": "8SagegTVLtu9"
      },
      "source": [
        "4. Discuss the difference between public, private, and protected access modifiers in Python."
      ]
    },
    {
      "cell_type": "markdown",
      "source": [
        "In Python, access modifiers are used to control the visibility and accessibility of class members (attributes and methods) from outside the class. Python does not have strict access modifiers like some other languages (e.g., Java or C++), but it uses naming conventions and language features to achieve similar functionality. The three commonly used access modifiers in Python are public, private, and protected."
      ],
      "metadata": {
        "id": "oHnahulxJFDl"
      }
    },
    {
      "cell_type": "markdown",
      "source": [
        "1. Public Access Modifier:\n",
        "\n",
        "Symbol: No special symbol.\n",
        "\n",
        "Convention: Attributes and methods without any leading underscore are\n",
        "\n",
        "considered public by convention.\n",
        "\n",
        "Accessibility: Public members are accessible from outside the class without any\n",
        "\n",
        "restrictions.\n",
        "\n",
        "Example:"
      ],
      "metadata": {
        "id": "g5JncEsiJPdf"
      }
    },
    {
      "cell_type": "code",
      "execution_count": null,
      "metadata": {
        "id": "KT3UYyQSLvsV"
      },
      "outputs": [],
      "source": [
        "class MyClass:\n",
        "    def __init__(self):\n",
        "        self.public_attribute = 10\n",
        "\n",
        "    def public_method(self):\n",
        "        return \"This is a public method\"\n"
      ]
    },
    {
      "cell_type": "markdown",
      "source": [
        "2. Private Access Modifier:\n",
        "\n",
        "Symbol: Double underscore (__) prefix.\n",
        "\n",
        "Convention: Attributes and methods with a leading double underscore are\n",
        "\n",
        "considered private by convention.\n",
        "\n",
        "Name Mangling: Python uses name mangling to make private attributes and methods\n",
        "less accessible from outside the class. It changes the name of the attribute or method by prefixing the class name to it.\n",
        "\n",
        "Accessibility: Private members are accessible only within the class itself.\n",
        "\n",
        "Example:"
      ],
      "metadata": {
        "id": "ttdWVuvQJw1W"
      }
    },
    {
      "cell_type": "code",
      "source": [
        "class MyClass:\n",
        "    def __init__(self):\n",
        "        self.__private_attribute = 20\n",
        "\n",
        "    def __private_method(self):\n",
        "        return \"This is a private method\"\n"
      ],
      "metadata": {
        "id": "CFUwZTcKKUIf"
      },
      "execution_count": null,
      "outputs": []
    },
    {
      "cell_type": "markdown",
      "source": [
        "3. Protected Access Modifier:\n",
        "\n",
        "Symbol: Single underscore (_) prefix.\n",
        "\n",
        "Convention: Attributes and methods with a leading underscore are considered protected by convention.\n",
        "\n",
        "Accessibility: Protected members are accessible within the class and its subclasses.\n",
        "\n",
        "Not Enforced: Python does not enforce the protected access modifier, and it is mainly a naming convention to indicate that the attribute or method is intended for internal use or for use by subclasses.\n",
        "\n",
        "Example:"
      ],
      "metadata": {
        "id": "JZY_KOcyKdOV"
      }
    },
    {
      "cell_type": "code",
      "source": [
        "class MyClass:\n",
        "    def __init__(self):\n",
        "        self._protected_attribute = 30\n",
        "\n",
        "    def _protected_method(self):\n",
        "        return \"This is a protected method\"\n"
      ],
      "metadata": {
        "id": "oyC6Q0eeLzpm"
      },
      "execution_count": null,
      "outputs": []
    },
    {
      "cell_type": "markdown",
      "metadata": {
        "id": "8S_FrPuRLv98"
      },
      "source": [
        "5. Create a Python class called `Person` with a private attribute `__name`. Provide methods to get and set the\n",
        "name attribute."
      ]
    },
    {
      "cell_type": "markdown",
      "source": [
        "Here's a Python class called Person with a private attribute __name. It includes methods to get and set the name attribute:"
      ],
      "metadata": {
        "id": "bKvBvbnZ9gME"
      }
    },
    {
      "cell_type": "code",
      "execution_count": 1,
      "metadata": {
        "id": "gtrFz6ycLxws",
        "colab": {
          "base_uri": "https://localhost:8080/"
        },
        "outputId": "238de6b8-914e-4816-e438-2f4cbf2a9e75"
      },
      "outputs": [
        {
          "output_type": "stream",
          "name": "stdout",
          "text": [
            "Alice\n",
            "Bob\n"
          ]
        }
      ],
      "source": [
        "class Person:\n",
        "    def __init__(self, name=None):\n",
        "        self.__name = name\n",
        "\n",
        "    def get_name(self):\n",
        "        return self.__name\n",
        "\n",
        "    def set_name(self, name):\n",
        "        self.__name = name\n",
        "\n",
        "# Example usage\n",
        "person = Person(\"Alice\")\n",
        "print(person.get_name())  # Output: Alice\n",
        "\n",
        "person.set_name(\"Bob\")\n",
        "print(person.get_name())  # Output: Bob\n"
      ]
    },
    {
      "cell_type": "markdown",
      "metadata": {
        "id": "KQHB5cn1LyLV"
      },
      "source": [
        "6. Explain the purpose of getter and setter methods in encapsulation. Provide examples."
      ]
    },
    {
      "cell_type": "markdown",
      "source": [
        "Getter and setter methods play a crucial role in the concept of encapsulation in object-oriented programming. Encapsulation is the practice of hiding the internal state of an object and requiring all interaction to be performed through an object's methods. This ensures that the internal representation of the object is protected from unintended or harmful changes.\n",
        "\n",
        "Purpose of Getter and Setter Methods:\n",
        "\n",
        "Controlled Access: Getters and setters allow you to control how an attribute is accessed or modified. You can enforce rules or validation logic whenever the attribute is read or written.\n",
        "\n",
        "Data Protection: By using getters and setters, you prevent external code from directly accessing or modifying the private attributes, protecting the internal state of the object.\n",
        "\n",
        "Encapsulation: They help in maintaining encapsulation by providing a public interface while keeping the internal implementation hidden.\n",
        "\n",
        "Flexibility and Maintainability: If you need to change the internal implementation or add additional logic (e.g., logging, validation) when getting or setting an attribute, you can do so without changing the interface used by external code.\n",
        "\n",
        "Example:\n",
        "\n",
        "Let's enhance the Person class to include some validation logic in the setter method."
      ],
      "metadata": {
        "id": "W1kQenqb-GYg"
      }
    },
    {
      "cell_type": "code",
      "execution_count": 2,
      "metadata": {
        "id": "xlGOaguEL0fD",
        "colab": {
          "base_uri": "https://localhost:8080/"
        },
        "outputId": "6fd2de5c-ab71-4b93-e022-180c272742a7"
      },
      "outputs": [
        {
          "output_type": "stream",
          "name": "stdout",
          "text": [
            "Alice\n",
            "Name cannot be empty\n",
            "Name must be a string\n",
            "Bob\n"
          ]
        }
      ],
      "source": [
        "class Person:\n",
        "    def __init__(self, name=None):\n",
        "        self.__name = name\n",
        "\n",
        "    def get_name(self):\n",
        "        return self.__name\n",
        "\n",
        "    def set_name(self, name):\n",
        "        if not isinstance(name, str):\n",
        "            raise ValueError(\"Name must be a string\")\n",
        "        if not name:\n",
        "            raise ValueError(\"Name cannot be empty\")\n",
        "        self.__name = name\n",
        "\n",
        "# Example usage\n",
        "person = Person(\"Alice\")\n",
        "print(person.get_name())  # Output: Alice\n",
        "\n",
        "try:\n",
        "    person.set_name(\"\")  # Raises ValueError: Name cannot be empty\n",
        "except ValueError as e:\n",
        "    print(e)\n",
        "\n",
        "try:\n",
        "    person.set_name(123)  # Raises ValueError: Name must be a string\n",
        "except ValueError as e:\n",
        "    print(e)\n",
        "\n",
        "person.set_name(\"Bob\")\n",
        "print(person.get_name())  # Output: Bob\n"
      ]
    },
    {
      "cell_type": "markdown",
      "metadata": {
        "id": "UNj1stQ6L09j"
      },
      "source": [
        "7. What is name mangling in Python, and how does it affect encapsulation?"
      ]
    },
    {
      "cell_type": "markdown",
      "source": [
        "Name mangling in Python is a mechanism that provides a way to implement weak forms of data hiding and encapsulation in object-oriented programming. It involves the transformation of attribute names to make them more difficult to accidentally access or modify from outside the class. This is typically done by prefixing the attribute name with double underscores (__).\n",
        "\n",
        "How Name Mangling Works:\n",
        "\n",
        "When you define an attribute with a name that starts with double underscores, Python automatically transforms the name to include the class name. This is done to avoid name conflicts and to make the attribute less accessible from outside the class.\n",
        "\n",
        "For example, if you have a class Person with a private attribute __name, Python internally changes the name to _Person__name.\n",
        "\n",
        "Example of Name Mangling:"
      ],
      "metadata": {
        "id": "-LKVfeeW-wt-"
      }
    },
    {
      "cell_type": "code",
      "execution_count": 3,
      "metadata": {
        "id": "SGA9dNH-L3ZD",
        "colab": {
          "base_uri": "https://localhost:8080/"
        },
        "outputId": "75f7b117-c968-4ee5-e838-d08f8349993d"
      },
      "outputs": [
        {
          "output_type": "stream",
          "name": "stdout",
          "text": [
            "Alice\n",
            "Alice\n"
          ]
        }
      ],
      "source": [
        "class Person:\n",
        "    def __init__(self, name):\n",
        "        self.__name = name  # This will be mangled to _Person__name\n",
        "\n",
        "    def get_name(self):\n",
        "        return self.__name\n",
        "\n",
        "    def set_name(self, name):\n",
        "        self.__name = name\n",
        "\n",
        "# Example usage\n",
        "person = Person(\"Alice\")\n",
        "print(person.get_name())  # Output: Alice\n",
        "\n",
        "# Accessing the private attribute directly (not recommended)\n",
        "print(person._Person__name)  # Output: Alice\n",
        "\n",
        "# Trying to access the private attribute with the original name will fail\n",
        "# print(person.__name)  # This will raise an AttributeError\n"
      ]
    },
    {
      "cell_type": "markdown",
      "source": [
        "How Name Mangling Affects Encapsulation:\n",
        "\n",
        "\n",
        "Increased Protection: Name mangling helps protect the internal state of an object by making private attributes harder to access or modify from outside the class. This provides a stronger form of encapsulation compared to using a single underscore (_) prefix, which is only a convention indicating that the attribute is intended to be private.\n",
        "\n",
        "Avoidance of Name Conflicts: It prevents accidental name clashes in subclasses. If a subclass defines an attribute with the same name, the mangled names will be different, thus avoiding conflicts.\n",
        "\n",
        "Weak Form of Data Hiding: While name mangling makes it more difficult to access private attributes, it does not make it impossible. Advanced users can still access these attributes if necessary, but it requires deliberate effort, indicating that they are circumventing the intended encapsulation.\n",
        "\n",
        "Clear Intent: Using double underscores for name mangling clearly indicates that the attribute is intended for internal use within the class, promoting better design and code readability."
      ],
      "metadata": {
        "id": "VaVUeLBp-6ID"
      }
    },
    {
      "cell_type": "markdown",
      "metadata": {
        "id": "EYzzVdchL3rs"
      },
      "source": [
        "8. Create a Python class called `BankAccount` with private attributes for the account balance (`__balance`) and account number (`__account_number`). Provide methods for depositing and withdrawing money."
      ]
    },
    {
      "cell_type": "code",
      "execution_count": 4,
      "metadata": {
        "id": "rHFfZRdcL5wb",
        "colab": {
          "base_uri": "https://localhost:8080/"
        },
        "outputId": "7dace5e4-030f-4487-9de0-e8e4f1ac3b0b"
      },
      "outputs": [
        {
          "output_type": "stream",
          "name": "stdout",
          "text": [
            "Account Number: 123456789\n",
            "Initial Balance: 100\n",
            "Balance after deposit: 150\n",
            "Balance after withdrawal: 120\n",
            "Insufficient funds\n",
            "Deposit amount must be positive\n"
          ]
        }
      ],
      "source": [
        "class BankAccount:\n",
        "    def __init__(self, account_number, initial_balance=0):\n",
        "        self.__account_number = account_number\n",
        "        self.__balance = initial_balance\n",
        "\n",
        "    def deposit(self, amount):\n",
        "        if amount <= 0:\n",
        "            raise ValueError(\"Deposit amount must be positive\")\n",
        "        self.__balance += amount\n",
        "        return self.__balance\n",
        "\n",
        "    def withdraw(self, amount):\n",
        "        if amount <= 0:\n",
        "            raise ValueError(\"Withdrawal amount must be positive\")\n",
        "        if amount > self.__balance:\n",
        "            raise ValueError(\"Insufficient funds\")\n",
        "        self.__balance -= amount\n",
        "        return self.__balance\n",
        "\n",
        "    def get_balance(self):\n",
        "        return self.__balance\n",
        "\n",
        "    def get_account_number(self):\n",
        "        return self.__account_number\n",
        "\n",
        "# Example usage\n",
        "account = BankAccount(\"123456789\", 100)\n",
        "print(f\"Account Number: {account.get_account_number()}\")\n",
        "print(f\"Initial Balance: {account.get_balance()}\")\n",
        "\n",
        "account.deposit(50)\n",
        "print(f\"Balance after deposit: {account.get_balance()}\")\n",
        "\n",
        "account.withdraw(30)\n",
        "print(f\"Balance after withdrawal: {account.get_balance()}\")\n",
        "\n",
        "try:\n",
        "    account.withdraw(200)  # Should raise ValueError: Insufficient funds\n",
        "except ValueError as e:\n",
        "    print(e)\n",
        "\n",
        "try:\n",
        "    account.deposit(-10)  # Should raise ValueError: Deposit amount must be positive\n",
        "except ValueError as e:\n",
        "    print(e)\n"
      ]
    },
    {
      "cell_type": "markdown",
      "metadata": {
        "id": "ShZLc46vL6MM"
      },
      "source": [
        "9. Discuss the advantages of encapsulation in terms of code maintainability and security."
      ]
    },
    {
      "cell_type": "markdown",
      "source": [
        "Encapsulation is a fundamental principle of object-oriented programming that involves bundling data (attributes) and methods (functions) that operate on the data into a single unit, typically a class, and restricting access to some of the object's components. This concept has significant advantages in terms of\n",
        "code maintainability and security:\n",
        "\n",
        "Advantages of Encapsulation\n",
        "\n",
        "\n",
        "Code Maintainability:\n",
        "\n",
        "\n",
        "Modularity:\n",
        "\n",
        "Encapsulation allows the code to be organized into discrete, modular units. Each class can be developed, tested, and debugged independently. This modularity makes it easier to understand, maintain, and modify the code.\n",
        "\n",
        "Isolation of Changes:\n",
        "\n",
        "When internal implementation details of a class are hidden, changes to the class internals do not affect other parts of the program that depend on the class. This means that developers can change how a class works internally without worrying about breaking other parts of the application.\n",
        "\n",
        "Improved Debugging:\n",
        "\n",
        "Encapsulated code can be debugged more effectively since issues can often be isolated to specific classes. Encapsulation reduces the risk of side effects from unintended interactions with other parts of the code.\n",
        "\n",
        "Clear Interface:\n",
        "\n",
        "By providing public methods for accessing and modifying private attributes, encapsulation creates a clear and controlled interface for interaction. This makes the class easier to use and understand, as the behavior is well-defined and documented through the interface methods.\n",
        "\n",
        "Security:\n",
        "\n",
        "\n",
        "Controlled Access:\n",
        "\n",
        "Encapsulation ensures that the internal state of an object can only be modified through a controlled interface. This prevents external code from inadvertently changing the object's state in inappropriate ways, which can lead to bugs and unpredictable behavior.\n",
        "\n",
        "Data Hiding:\n",
        "\n",
        "Private attributes are hidden from outside access, which protects the integrity of the data. This is especially important for sensitive information, such as account balances or personal data, which should not be directly accessible or modifiable from outside the class.\n",
        "\n",
        "Validation and Constraints:\n",
        "\n",
        "Encapsulation allows for validation and constraints to be applied whenever data is accessed or modified. For instance, setter methods can include checks to ensure that only valid data is assigned to attributes, thus maintaining the integrity of the object's state.\n",
        "\n",
        "Reduced Complexity:\n",
        "\n",
        "By hiding complex internals and exposing only what is necessary, encapsulation reduces the cognitive load on developers. They can interact with objects using a simplified and consistent interface without needing to understand the underlying complexity."
      ],
      "metadata": {
        "id": "4folim32JEOG"
      }
    },
    {
      "cell_type": "markdown",
      "metadata": {
        "id": "on-5HXj-L88s"
      },
      "source": [
        "10. How can you access private attributes in Python? Provide an example demonstrating the use of name\n",
        "mangling."
      ]
    },
    {
      "cell_type": "markdown",
      "source": [
        "In Python, private attributes are not truly private but are name-mangled to make it harder to accidentally access them from outside the class. You can still access these private attributes if you know the mangled name.\n",
        "\n",
        "Accessing Private Attributes Using Name Mangling\n",
        "\n",
        "\n",
        "When you define a private attribute with a double underscore prefix (e.g., __attribute), Python automatically changes its name to include the class name. This name mangling helps avoid name conflicts and accidental access but does not make the attribute completely inaccessible.\n",
        "\n",
        "Example Demonstrating Name Mangling\n",
        "\n",
        "\n",
        "Here’s an example using a class BankAccount with private attributes:"
      ],
      "metadata": {
        "id": "N2q2g50bJ4Sj"
      }
    },
    {
      "cell_type": "code",
      "execution_count": 5,
      "metadata": {
        "id": "xRC7qL4ML_Dj",
        "colab": {
          "base_uri": "https://localhost:8080/"
        },
        "outputId": "adf7e17d-c22d-4c63-9792-79c98d58e3a5"
      },
      "outputs": [
        {
          "output_type": "stream",
          "name": "stdout",
          "text": [
            "Account Number: 123456789\n",
            "Initial Balance: 100\n",
            "123456789\n",
            "100\n",
            "'BankAccount' object has no attribute '__account_number'\n",
            "'BankAccount' object has no attribute '__balance'\n"
          ]
        }
      ],
      "source": [
        "class BankAccount:\n",
        "    def __init__(self, account_number, initial_balance=0):\n",
        "        self.__account_number = account_number\n",
        "        self.__balance = initial_balance\n",
        "\n",
        "    def deposit(self, amount):\n",
        "        if amount <= 0:\n",
        "            raise ValueError(\"Deposit amount must be positive\")\n",
        "        self.__balance += amount\n",
        "        return self.__balance\n",
        "\n",
        "    def withdraw(self, amount):\n",
        "        if amount <= 0:\n",
        "            raise ValueError(\"Withdrawal amount must be positive\")\n",
        "        if amount > self.__balance:\n",
        "            raise ValueError(\"Insufficient funds\")\n",
        "        self.__balance -= amount\n",
        "        return self.__balance\n",
        "\n",
        "    def get_balance(self):\n",
        "        return self.__balance\n",
        "\n",
        "    def get_account_number(self):\n",
        "        return self.__account_number\n",
        "\n",
        "# Example usage\n",
        "account = BankAccount(\"123456789\", 100)\n",
        "print(f\"Account Number: {account.get_account_number()}\")\n",
        "print(f\"Initial Balance: {account.get_balance()}\")\n",
        "\n",
        "# Accessing the private attributes directly using name mangling\n",
        "print(account._BankAccount__account_number)  # Output: 123456789\n",
        "print(account._BankAccount__balance)         # Output: 100\n",
        "\n",
        "# Trying to access the private attributes without name mangling will fail\n",
        "try:\n",
        "    print(account.__account_number)\n",
        "except AttributeError as e:\n",
        "    print(e)  # Output: 'BankAccount' object has no attribute '__account_number'\n",
        "\n",
        "try:\n",
        "    print(account.__balance)\n",
        "except AttributeError as e:\n",
        "    print(e)  # Output: 'BankAccount' object has no attribute '__balance'\n"
      ]
    },
    {
      "cell_type": "markdown",
      "source": [
        "Explanation:\n",
        "\n",
        "\n",
        "Private Attributes: The attributes __account_number and __balance are private due to the double underscore prefix.\n",
        "\n",
        "Name Mangling: The names of these attributes are internally changed to _BankAccount__account_number and _BankAccount__balance to avoid accidental access from outside the class.\n",
        "\n",
        "Accessing Private Attributes:\n",
        "Direct access using the mangled names is demonstrated by account._BankAccount__account_number and account._BankAccount__balance.\n",
        "Attempting to access the attributes using their original names (e.g., account.__account_number) results in an AttributeError.\n",
        "\n",
        "\n",
        "Why Use Name Mangling?\n",
        "\n",
        "\n",
        "Name mangling provides a way to implement weak forms of encapsulation, making it less likely for developers to accidentally access or modify private attributes. It does not provide absolute security, but it signals to developers that these attributes are intended for internal use within the class and should not be accessed directly. This practice helps maintain the integrity and consistency of the object's state."
      ],
      "metadata": {
        "id": "Q4Wksm6UKGCY"
      }
    },
    {
      "cell_type": "markdown",
      "metadata": {
        "id": "8S9qA0bJL_dU"
      },
      "source": [
        "11. Create a Python class hierarchy for a school system, including classes for students, teachers, and courses,\n",
        "and implement encapsulation principles to protect sensitive information."
      ]
    },
    {
      "cell_type": "code",
      "execution_count": 6,
      "metadata": {
        "id": "DOoeNKGRMB0z",
        "colab": {
          "base_uri": "https://localhost:8080/"
        },
        "outputId": "0f110593-ea83-4478-9f28-63aa8f8abc2f"
      },
      "outputs": [
        {
          "output_type": "stream",
          "name": "stdout",
          "text": [
            "Course: Mathematics\n",
            "Teacher: John Doe\n",
            "Students: ['Alice Smith', 'Bob Johnson']\n",
            "Grades: {'Alice Smith': 'A', 'Bob Johnson': 'B'}\n",
            "Teacher's Salary: 50000\n",
            "Teacher's New Salary: 55000\n"
          ]
        }
      ],
      "source": [
        "class Person:\n",
        "    def __init__(self, name, age, id_number):\n",
        "        self.__name = name\n",
        "        self.__age = age\n",
        "        self.__id_number = id_number\n",
        "\n",
        "    def get_name(self):\n",
        "        return self.__name\n",
        "\n",
        "    def get_age(self):\n",
        "        return self.__age\n",
        "\n",
        "    def get_id_number(self):\n",
        "        return self.__id_number\n",
        "\n",
        "class Student(Person):\n",
        "    def __init__(self, name, age, id_number, grades=None):\n",
        "        super().__init__(name, age, id_number)\n",
        "        self.__grades = grades if grades is not None else {}\n",
        "\n",
        "    def get_grades(self):\n",
        "        return self.__grades\n",
        "\n",
        "    def set_grade(self, course, grade):\n",
        "        self.__grades[course] = grade\n",
        "\n",
        "    def get_grade(self, course):\n",
        "        return self.__grades.get(course, \"No grade\")\n",
        "\n",
        "class Teacher(Person):\n",
        "    def __init__(self, name, age, id_number, salary):\n",
        "        super().__init__(name, age, id_number)\n",
        "        self.__salary = salary\n",
        "\n",
        "    def get_salary(self):\n",
        "        return self.__salary\n",
        "\n",
        "    def set_salary(self, salary):\n",
        "        if salary < 0:\n",
        "            raise ValueError(\"Salary must be non-negative\")\n",
        "        self.__salary = salary\n",
        "\n",
        "class Course:\n",
        "    def __init__(self, course_name, teacher):\n",
        "        self.__course_name = course_name\n",
        "        self.__teacher = teacher\n",
        "        self.__students = []\n",
        "\n",
        "    def get_course_name(self):\n",
        "        return self.__course_name\n",
        "\n",
        "    def get_teacher(self):\n",
        "        return self.__teacher\n",
        "\n",
        "    def add_student(self, student):\n",
        "        self.__students.append(student)\n",
        "\n",
        "    def get_students(self):\n",
        "        return [student.get_name() for student in self.__students]\n",
        "\n",
        "    def get_student_grades(self):\n",
        "        return {student.get_name(): student.get_grade(self.__course_name) for student in self.__students}\n",
        "\n",
        "# Example usage\n",
        "teacher = Teacher(\"John Doe\", 40, \"T123\", 50000)\n",
        "course = Course(\"Mathematics\", teacher)\n",
        "\n",
        "student1 = Student(\"Alice Smith\", 20, \"S001\")\n",
        "student2 = Student(\"Bob Johnson\", 21, \"S002\")\n",
        "\n",
        "course.add_student(student1)\n",
        "course.add_student(student2)\n",
        "\n",
        "student1.set_grade(\"Mathematics\", \"A\")\n",
        "student2.set_grade(\"Mathematics\", \"B\")\n",
        "\n",
        "print(f\"Course: {course.get_course_name()}\")\n",
        "print(f\"Teacher: {course.get_teacher().get_name()}\")\n",
        "print(f\"Students: {course.get_students()}\")\n",
        "print(f\"Grades: {course.get_student_grades()}\")\n",
        "\n",
        "print(f\"Teacher's Salary: {teacher.get_salary()}\")\n",
        "teacher.set_salary(55000)\n",
        "print(f\"Teacher's New Salary: {teacher.get_salary()}\")\n"
      ]
    },
    {
      "cell_type": "markdown",
      "metadata": {
        "id": "ZycJgo3-MCLj"
      },
      "source": [
        "12. Explain the concept of property decorators in Python and how they relate to encapsulation."
      ]
    },
    {
      "cell_type": "markdown",
      "source": [
        "Property decorators in Python provide a way to manage the access to attributes of a class, offering a more elegant and pythonic way to implement getters and setters while maintaining encapsulation. They allow us to define methods in a class that can be accessed like attributes, which helps to hide implementation details and provides a clean interface.\n",
        "\n",
        "Concept of Property Decorators\n",
        "\n",
        "\n",
        "In Python, the @property decorator is used to turn a method into a \"getter\" for an attribute. Similarly, @<attribute>.setter and @<attribute>.deleter decorators can be used to define setters and deleters for that property."
      ],
      "metadata": {
        "id": "Ihs_YPGkLluC"
      }
    },
    {
      "cell_type": "markdown",
      "source": [
        "How Property Decorators Relate to Encapsulation\n",
        "\n",
        "Controlled Access:\n",
        "\n",
        "Property decorators provide controlled access to private attributes. For example, in the BankAccount class, direct access to __balance is controlled through the balance property.\n",
        "\n",
        "Data Validation:\n",
        "\n",
        "Setters allow you to include validation logic before changing the value of an attribute. This ensures that the internal state remains consistent and valid.\n",
        "Read-Only Properties:\n",
        "\n",
        "By defining only a getter and not a setter, you can make an attribute read-only. For instance, the account_number property has only a getter, so it cannot be modified once set.\n",
        "\n",
        "Cleaner Syntax:\n",
        "\n",
        "Properties allow you to use a simple attribute-like access syntax (account.balance) rather than method calls (account.get_balance()), making the code cleaner and easier to read.\n",
        "\n",
        "\n",
        "Benefits of Using Property Decorators\n",
        "\n",
        "Encapsulation: They help encapsulate private attributes by providing a public interface for accessing and modifying them.\n",
        "\n",
        "Flexibility: You can easily add additional logic (e.g., validation, logging)\n",
        "when getting or setting a property without changing the interface used by the clients of the class.\n",
        "\n",
        "Simplicity: Using properties makes the code cleaner and more intuitive, as it hides the complexity of method calls behind a simple attribute access.\n",
        "\n",
        "\n",
        "In summary, property decorators are a powerful feature in Python that enhance encapsulation by providing controlled access to private attributes. They make the code more maintainable, secure, and readable, aligning with the principles of object-oriented design."
      ],
      "metadata": {
        "id": "Bc7ixaMJL1jf"
      }
    },
    {
      "cell_type": "markdown",
      "metadata": {
        "id": "ykJQNYTtMFF7"
      },
      "source": [
        "13. What is data hiding, and why is it important in encapsulation? Provide examples."
      ]
    },
    {
      "cell_type": "markdown",
      "source": [
        "Data Hiding\n",
        "\n",
        "\n",
        "Data hiding is a concept in object-oriented programming that refers to restricting access to certain attributes or methods of an object, making them inaccessible from outside the class. This is a key aspect of encapsulation, which aims to bundle the data (attributes) and the methods (functions) that operate on the data into a single unit, while protecting the internal state of the object from unintended interference or misuse.\n",
        "\n",
        "Importance of Data Hiding in Encapsulation\n",
        "\n",
        "Protection of Data Integrity:\n",
        "\n",
        "Data hiding ensures that the internal state of an object can only be modified in controlled ways. By restricting direct access to the attributes, you can prevent invalid or inconsistent states.\n",
        "\n",
        "Encapsulation:\n",
        "\n",
        "Encapsulation is about hiding the internal implementation details and exposing only what is necessary. Data hiding is a mechanism that allows encapsulation to be enforced effectively.\n",
        "\n",
        "Reduced Complexity:\n",
        "\n",
        "By hiding the internal details, you reduce the complexity that users of the class need to understand. They interact with a simplified interface, making the system easier to use and maintain.\n",
        "\n",
        "Flexibility and Maintainability:\n",
        "\n",
        "If the internal implementation of a class changes, but the external interface remains the same, users of the class do not need to update their code. This makes the code more maintainable and flexible to change.\n",
        "\n",
        "Security:\n",
        "\n",
        "Sensitive information is protected from being accessed or modified directly, reducing the risk of accidental or malicious alterations.\n",
        "Example"
      ],
      "metadata": {
        "id": "vayKB0EoMZwJ"
      }
    },
    {
      "cell_type": "code",
      "execution_count": 7,
      "metadata": {
        "id": "0dfR-jV9MHQN",
        "colab": {
          "base_uri": "https://localhost:8080/"
        },
        "outputId": "60f1d752-19a4-4bee-8347-92f6ce227f8a"
      },
      "outputs": [
        {
          "output_type": "stream",
          "name": "stdout",
          "text": [
            "123456789\n",
            "100\n",
            "150\n",
            "Insufficient funds\n",
            "100\n"
          ]
        }
      ],
      "source": [
        "class BankAccount:\n",
        "    def __init__(self, account_number, initial_balance=0):\n",
        "        self.__account_number = account_number  # Private attribute\n",
        "        self.__balance = initial_balance  # Private attribute\n",
        "\n",
        "    # Public getter for account_number\n",
        "    @property\n",
        "    def account_number(self):\n",
        "        return self.__account_number\n",
        "\n",
        "    # Public getter for balance\n",
        "    @property\n",
        "    def balance(self):\n",
        "        return self.__balance\n",
        "\n",
        "    # Public method to deposit money\n",
        "    def deposit(self, amount):\n",
        "        if amount <= 0:\n",
        "            raise ValueError(\"Deposit amount must be positive\")\n",
        "        self.__balance += amount\n",
        "\n",
        "    # Public method to withdraw money\n",
        "    def withdraw(self, amount):\n",
        "        if amount <= 0:\n",
        "            raise ValueError(\"Withdrawal amount must be positive\")\n",
        "        if amount > self.__balance:\n",
        "            raise ValueError(\"Insufficient funds\")\n",
        "        self.__balance -= amount\n",
        "\n",
        "# Example usage\n",
        "account = BankAccount(\"123456789\", 100)\n",
        "print(account.account_number)  # Accesses the account_number property\n",
        "print(account.balance)  # Accesses the balance property\n",
        "\n",
        "account.deposit(50)\n",
        "print(account.balance)  # Updated balance after deposit\n",
        "\n",
        "try:\n",
        "    account.withdraw(200)  # This will raise a ValueError: Insufficient funds\n",
        "except ValueError as e:\n",
        "    print(e)\n",
        "\n",
        "try:\n",
        "    account.__balance = -100  # Attempting to access or modify the private attribute directly will fail\n",
        "except AttributeError as e:\n",
        "    print(e)\n",
        "\n",
        "# The correct way to interact with the account balance\n",
        "account.withdraw(50)\n",
        "print(account.balance)  # Updated balance after withdrawal\n"
      ]
    },
    {
      "cell_type": "markdown",
      "source": [
        "Explanation\n",
        "\n",
        "Private Attributes:\n",
        "\n",
        "__account_number and __balance are private attributes, indicated by the double underscores prefix. This makes them inaccessible directly from outside the class.\n",
        "\n",
        "Public Methods and Properties:\n",
        "\n",
        "Public methods (deposit, withdraw) and properties (account_number, balance) provide controlled access to the private attributes. This allows for validation and ensures that the internal state of the object remains consistent.\n",
        "\n",
        "Data Integrity:\n",
        "\n",
        "The deposit and withdraw methods include validation logic to ensure that the operations performed on the balance are valid. Direct access to __balance is not allowed, preventing accidental or malicious changes."
      ],
      "metadata": {
        "id": "E-KZ0EzKM0qD"
      }
    },
    {
      "cell_type": "markdown",
      "metadata": {
        "id": "YfswpS0bMHmt"
      },
      "source": [
        "14. Create a Python class called `Employee` with private attributes for salary (`__salary`) and employee ID (`__employee_id`). Provide a method to calculate yearly bonuses."
      ]
    },
    {
      "cell_type": "markdown",
      "source": [
        "Here's a Python class called Employee with private attributes for __salary and __employee_id. It includes a method to calculate yearly bonuses based on a given bonus percentage.\n",
        "\n",
        "Employee Class Implementation"
      ],
      "metadata": {
        "id": "K_s-KdpbNgG0"
      }
    },
    {
      "cell_type": "code",
      "execution_count": 8,
      "metadata": {
        "id": "IsjCHyDjMJ7D",
        "colab": {
          "base_uri": "https://localhost:8080/"
        },
        "outputId": "fcf562e6-6d9b-4d61-a5c5-fa2fcb92b34e"
      },
      "outputs": [
        {
          "output_type": "stream",
          "name": "stdout",
          "text": [
            "Employee ID: E12345\n",
            "Salary: 60000\n",
            "Yearly bonus at 10%: 6000.0\n",
            "Updated Salary: 65000\n",
            "Yearly bonus at 10%: 6500.0\n"
          ]
        }
      ],
      "source": [
        "class Employee:\n",
        "    def __init__(self, employee_id, salary):\n",
        "        self.__employee_id = employee_id\n",
        "        self.__salary = salary\n",
        "\n",
        "    @property\n",
        "    def employee_id(self):\n",
        "        return self.__employee_id\n",
        "\n",
        "    @property\n",
        "    def salary(self):\n",
        "        return self.__salary\n",
        "\n",
        "    @salary.setter\n",
        "    def salary(self, new_salary):\n",
        "        if new_salary < 0:\n",
        "            raise ValueError(\"Salary must be non-negative\")\n",
        "        self.__salary = new_salary\n",
        "\n",
        "    def calculate_yearly_bonus(self, bonus_percentage):\n",
        "        if bonus_percentage < 0:\n",
        "            raise ValueError(\"Bonus percentage must be non-negative\")\n",
        "        return self.__salary * bonus_percentage / 100\n",
        "\n",
        "# Example usage\n",
        "employee = Employee(\"E12345\", 60000)\n",
        "print(f\"Employee ID: {employee.employee_id}\")\n",
        "print(f\"Salary: {employee.salary}\")\n",
        "\n",
        "bonus_percentage = 10\n",
        "bonus = employee.calculate_yearly_bonus(bonus_percentage)\n",
        "print(f\"Yearly bonus at {bonus_percentage}%: {bonus}\")\n",
        "\n",
        "# Updating the salary\n",
        "employee.salary = 65000\n",
        "print(f\"Updated Salary: {employee.salary}\")\n",
        "\n",
        "bonus = employee.calculate_yearly_bonus(bonus_percentage)\n",
        "print(f\"Yearly bonus at {bonus_percentage}%: {bonus}\")\n"
      ]
    },
    {
      "cell_type": "markdown",
      "metadata": {
        "id": "dU3CEG0dMKLj"
      },
      "source": [
        "15. Discuss the use of accessors and mutators in encapsulation. How do they help maintain control over\n",
        "attribute access?"
      ]
    },
    {
      "cell_type": "markdown",
      "source": [
        "Accessors and mutators are methods used in encapsulation to control access to the attributes of an object. They provide a controlled interface for reading (accessors) and modifying (mutators) the values of private attributes. This approach helps maintain control over attribute access by enforcing validation, encapsulating implementation details, and promoting data integrity.\n",
        "\n",
        "Accessors (Getters)\n",
        "\n",
        "\n",
        "Accessors, also known as getters, are methods used to retrieve the values of private attributes. They provide read-only access to the attributes, allowing external code to retrieve the values without directly accessing the attributes themselves. Accessors are typically used to enforce encapsulation by hiding the internal representation of an object's state.\n",
        "\n",
        "Benefits of Accessors:\n",
        "\n",
        "Encapsulation: Accessors hide the internal details of the object's state, ensuring that the implementation can be changed without affecting the external interface.\n",
        "\n",
        "Validation: Accessors can perform validation or formatting of the attribute values before returning them, ensuring data integrity.\n",
        "\n",
        "Controlled Access: By providing read-only access, accessors prevent external code from modifying the attributes directly, promoting a more controlled and predictable behavior of the object.\n",
        "\n",
        "\n",
        "Mutators (Setters)\n",
        "\n",
        "Mutators, also known as setters, are methods used to modify the values of private attributes. They provide a controlled way to update the values of attributes, allowing validation and encapsulation of the modification logic. Mutators are often used to enforce constraints or business rules when updating the state of an object.\n",
        "\n",
        "Benefits of Mutators:\n",
        "\n",
        "Validation: Mutators can enforce validation rules to ensure that the new attribute values meet certain criteria before allowing them to be set.\n",
        "\n",
        "Encapsulation: Mutators encapsulate the modification logic, allowing for changes to the internal implementation without affecting the external interface.\n",
        "\n",
        "Controlled Modification: By providing a single point of entry for modifying attribute values, mutators maintain control over how the object's state is changed, preventing unintended side effects.\n",
        "\n",
        "Example:"
      ],
      "metadata": {
        "id": "xPf3NKGoO3zY"
      }
    },
    {
      "cell_type": "code",
      "execution_count": 9,
      "metadata": {
        "id": "EDfPiAnbML_T",
        "colab": {
          "base_uri": "https://localhost:8080/"
        },
        "outputId": "da25ddbe-7b83-4305-b7f4-0bc4dd1c20eb"
      },
      "outputs": [
        {
          "output_type": "stream",
          "name": "stdout",
          "text": [
            "123456789\n",
            "100\n",
            "150\n"
          ]
        }
      ],
      "source": [
        "class BankAccount:\n",
        "    def __init__(self, account_number, initial_balance=0):\n",
        "        self.__account_number = account_number\n",
        "        self.__balance = initial_balance\n",
        "\n",
        "    # Accessor for account_number\n",
        "    def get_account_number(self):\n",
        "        return self.__account_number\n",
        "\n",
        "    # Accessor for balance\n",
        "    def get_balance(self):\n",
        "        return self.__balance\n",
        "\n",
        "    # Mutator for balance\n",
        "    def deposit(self, amount):\n",
        "        if amount <= 0:\n",
        "            raise ValueError(\"Deposit amount must be positive\")\n",
        "        self.__balance += amount\n",
        "\n",
        "    # Mutator for balance\n",
        "    def withdraw(self, amount):\n",
        "        if amount <= 0:\n",
        "            raise ValueError(\"Withdrawal amount must be positive\")\n",
        "        if amount > self.__balance:\n",
        "            raise ValueError(\"Insufficient funds\")\n",
        "        self.__balance -= amount\n",
        "\n",
        "# Example usage\n",
        "account = BankAccount(\"123456789\", 100)\n",
        "print(account.get_account_number())  # Accesses the account_number using the accessor\n",
        "print(account.get_balance())  # Accesses the balance using the accessor\n",
        "\n",
        "account.deposit(50)  # Modifies the balance using the mutator\n",
        "print(account.get_balance())  # Accesses the updated balance using the accessor\n"
      ]
    },
    {
      "cell_type": "markdown",
      "source": [
        "How They Help Maintain Control over Attribute Access\n",
        "\n",
        "\n",
        "Encapsulation:\n",
        "\n",
        "Accessors and mutators encapsulate the internal representation of an object's state, hiding the implementation details from external code.\n",
        "\n",
        "Validation:\n",
        "\n",
        "Mutators can enforce validation rules before allowing modifications to attribute values, ensuring data integrity and consistency.\n",
        "\n",
        "Controlled Access:\n",
        "\n",
        "By providing controlled interfaces for reading and modifying attribute values, accessors and mutators prevent external code from directly accessing or modifying private attributes, maintaining control over attribute access."
      ],
      "metadata": {
        "id": "o4bkwNzvPg6m"
      }
    },
    {
      "cell_type": "markdown",
      "metadata": {
        "id": "ULHh5qckMMT0"
      },
      "source": [
        "16. What are the potential drawbacks or disadvantages of using encapsulation in Python?"
      ]
    },
    {
      "cell_type": "markdown",
      "source": [
        "While encapsulation offers numerous benefits in terms of code organization, data protection, and maintainability, there are also some potential drawbacks or disadvantages associated with its usage in Python:\n",
        "\n",
        "1. **Increased Complexity**: Encapsulation can sometimes lead to increased complexity, especially in larger codebases. By hiding implementation details, encapsulation may require additional abstraction layers, which can make the code harder to understand and maintain.\n",
        "\n",
        "2. **Performance Overhead**: Accessing attributes through getter and setter methods, rather than directly, can introduce a slight performance overhead. While this overhead is usually negligible in most cases, it can become a concern in performance-critical applications.\n",
        "\n",
        "3. **Boilerplate Code**: Implementing encapsulation often requires writing additional getter and setter methods for each attribute, which can result in boilerplate code, especially for classes with many attributes. This can lead to increased development time and reduced code readability.\n",
        "\n",
        "4. **Limited Accessibility**: Encapsulation restricts direct access to attributes, which may limit the flexibility of the code in certain situations. While this restriction helps maintain data integrity, it can sometimes be overly restrictive, especially in scenarios where direct attribute access is necessary.\n",
        "\n",
        "5. **Testing Complexity**: Encapsulation can make unit testing more challenging, as it may require mocking or stubbing of getter and setter methods to isolate the code under test. This can increase the complexity of test cases and make them harder to maintain.\n",
        "\n",
        "6. **Debugging Difficulty**: Encapsulation can obscure the internal state of objects, making it harder to debug issues related to attribute values. Debugging tools may have limited visibility into encapsulated attributes, which can complicate the debugging process.\n",
        "\n",
        "7. **Overuse of Accessors and Mutators**: While accessors and mutators provide a controlled interface for attribute access, overusing them can lead to unnecessary abstraction and verbosity. It's important to strike a balance between encapsulation and simplicity, avoiding excessive use of accessors and mutators for trivial attributes.\n",
        "\n",
        "8. **Difficulty in Subclassing**: Encapsulation can sometimes make subclassing more difficult, especially if subclasses need access to encapsulated attributes of the parent class. This can lead to a trade-off between encapsulation and extensibility in object-oriented designs.\n",
        "\n",
        "Despite these potential drawbacks, encapsulation remains a powerful and widely used concept in Python programming, providing numerous benefits in terms of code organization, data protection, and maintainability. It's important for developers to carefully consider the trade-offs and use encapsulation judiciously based on the specific requirements of their projects."
      ],
      "metadata": {
        "id": "BM-naRRSQ31M"
      }
    },
    {
      "cell_type": "markdown",
      "metadata": {
        "id": "tPmn_MNWMPLL"
      },
      "source": [
        "17. Create a Python class for a library system that encapsulates book information, including titles, authors,\n",
        "and availability status."
      ]
    },
    {
      "cell_type": "code",
      "execution_count": 10,
      "metadata": {
        "id": "m3C88Bp1MQ-f",
        "colab": {
          "base_uri": "https://localhost:8080/"
        },
        "outputId": "4ad8b7ad-ac9d-46d0-af60-fff82d5be141"
      },
      "outputs": [
        {
          "output_type": "stream",
          "name": "stdout",
          "text": [
            "Book 'The Great Gatsby' by F. Scott Fitzgerald has been borrowed.\n",
            "Book 'The Great Gatsby' by F. Scott Fitzgerald is not available for borrowing.\n",
            "Book 'The Great Gatsby' by F. Scott Fitzgerald has been returned.\n",
            "Book 'The Great Gatsby' by F. Scott Fitzgerald is already available.\n",
            "Is 'The Great Gatsby' available? True\n",
            "Is 'To Kill a Mockingbird' available? True\n"
          ]
        }
      ],
      "source": [
        "class Book:\n",
        "    def __init__(self, title, author):\n",
        "        self.__title = title\n",
        "        self.__author = author\n",
        "        self.__available = True  # Initialize availability status to True (available)\n",
        "\n",
        "    @property\n",
        "    def title(self):\n",
        "        return self.__title\n",
        "\n",
        "    @property\n",
        "    def author(self):\n",
        "        return self.__author\n",
        "\n",
        "    @property\n",
        "    def available(self):\n",
        "        return self.__available\n",
        "\n",
        "    def borrow(self):\n",
        "        if self.__available:\n",
        "            self.__available = False\n",
        "            print(f\"Book '{self.__title}' by {self.__author} has been borrowed.\")\n",
        "        else:\n",
        "            print(f\"Book '{self.__title}' by {self.__author} is not available for borrowing.\")\n",
        "\n",
        "    def return_book(self):\n",
        "        if not self.__available:\n",
        "            self.__available = True\n",
        "            print(f\"Book '{self.__title}' by {self.__author} has been returned.\")\n",
        "        else:\n",
        "            print(f\"Book '{self.__title}' by {self.__author} is already available.\")\n",
        "\n",
        "# Example usage\n",
        "book1 = Book(\"The Great Gatsby\", \"F. Scott Fitzgerald\")\n",
        "book2 = Book(\"To Kill a Mockingbird\", \"Harper Lee\")\n",
        "\n",
        "# Borrowing and returning books\n",
        "book1.borrow()  # Borrowing book1\n",
        "book1.borrow()  # Trying to borrow book1 again\n",
        "book1.return_book()  # Returning book1\n",
        "book1.return_book()  # Trying to return book1 again\n",
        "\n",
        "# Check availability\n",
        "print(f\"Is '{book1.title}' available? {book1.available}\")\n",
        "print(f\"Is '{book2.title}' available? {book2.available}\")\n"
      ]
    },
    {
      "cell_type": "markdown",
      "metadata": {
        "id": "UZbuUB5TMRSk"
      },
      "source": [
        "18. Explain how encapsulation enhances code reusability and modularity in Python programs."
      ]
    },
    {
      "cell_type": "markdown",
      "source": [
        "Encapsulation enhances code reusability and modularity in Python programs by promoting a clear separation of concerns, reducing dependencies, and providing a well-defined interface for interacting with objects. Here's how encapsulation achieves these benefits:\n",
        "\n",
        "Encapsulation of Implementation Details:\n",
        "\n",
        "Encapsulation hides the internal implementation details of an object, exposing only a well-defined interface to interact with it. This allows other parts of the code to use the object without needing to know how it is implemented internally. As a result, changes to the internal implementation do not affect other parts of the codebase, promoting code reusability.\n",
        "Modularity:\n",
        "\n",
        "Encapsulation encourages the organization of code into smaller, modular components (classes), each responsible for a specific functionality or data. These modules can be developed, tested, and maintained independently, leading to a more modular and flexible codebase. Additionally, encapsulation enables the creation of reusable components that can be easily integrated into different parts of the system.\n",
        "Reduced Dependencies:\n",
        "\n",
        "Encapsulation reduces dependencies between different parts of the code by providing a clear separation of concerns. Each object encapsulates its own data and behavior, reducing the need for direct interactions with other objects or external data structures. This loose coupling between components improves code maintainability and makes it easier to modify and extend the system.\n",
        "Code Reusability:\n",
        "\n",
        "Encapsulation promotes code reusability by encapsulating reusable logic within objects. Once encapsulated, this logic can be reused across different parts of the codebase without duplication. For example, a well-designed class for handling file I/O can be reused in multiple modules or projects, reducing development time and improving code maintainability.\n",
        "Abstraction:\n",
        "\n",
        "Encapsulation provides abstraction by hiding unnecessary details and exposing only essential features through a well-defined interface. This abstraction simplifies the usage of objects, allowing developers to focus on the high-level functionality rather than the implementation details. By abstracting away complexity, encapsulation makes code more reusable and easier to understand.\n",
        "Encapsulation of State:\n",
        "\n",
        "Encapsulation allows objects to encapsulate their state (data) and behavior (methods) into a single unit. This encapsulation of state prevents external code from directly accessing or modifying the internal state of an object, ensuring data integrity and promoting code reliability."
      ],
      "metadata": {
        "id": "ka6Xkg56R-IJ"
      }
    },
    {
      "cell_type": "markdown",
      "metadata": {
        "id": "U26hwHwxMTj7"
      },
      "source": [
        "19. Describe the concept of information hiding in encapsulation. Why is it essential in software development?"
      ]
    },
    {
      "cell_type": "markdown",
      "source": [
        "Information hiding is a key concept in encapsulation that involves hiding the internal details of an object's implementation, exposing only a well-defined interface through which external code can interact with the object. This interface defines how other parts of the code can access and manipulate the object's data and behavior, while the internal implementation remains hidden and protected from direct access."
      ],
      "metadata": {
        "id": "EOq_TKkvS35h"
      }
    },
    {
      "cell_type": "markdown",
      "source": [
        "Importance of Information Hiding in Software Development:\n",
        "\n",
        "\n",
        "Modularity:\n",
        "\n",
        "Information hiding promotes modularity by encapsulating the internal details of an object within a single unit. This allows developers to work on different parts of the system independently, without needing to know or understand the internal implementation of other components. By hiding implementation details, information hiding reduces dependencies between components, leading to a more modular and flexible codebase.\n",
        "\n",
        "\n",
        "Abstraction:\n",
        "\n",
        "Information hiding provides abstraction by hiding unnecessary details and exposing only essential features through a well-defined interface. This abstraction simplifies the usage of objects, allowing developers to focus on the high-level functionality rather than the implementation details. By abstracting away complexity, information hiding makes code easier to understand, use, and maintain.\n",
        "\n",
        "\n",
        "Encapsulation of State:\n",
        "\n",
        "Information hiding encapsulates the state (data) and behavior (methods) of an object into a single unit, protecting the internal state from direct access by external code. This encapsulation ensures data integrity and prevents unintended modifications to the object's state, leading to more reliable and robust code.\n",
        "\n",
        "\n",
        "Security:\n",
        "\n",
        "Information hiding enhances security by restricting access to sensitive data and functionality. By hiding implementation details, information hiding prevents unauthorized access to internal state and behavior, reducing the risk of data corruption, manipulation, or exploitation by malicious code.\n",
        "\n",
        "\n",
        "Code Reusability:\n",
        "\n",
        "Information hiding promotes code reusability by encapsulating reusable logic within objects. Once encapsulated, this logic can be reused across different parts of the codebase without duplication. By hiding implementation details and exposing a well-defined interface, information hiding enables the creation of reusable components that can be easily integrated into different parts of the system."
      ],
      "metadata": {
        "id": "a6dmnHAeS5U1"
      }
    },
    {
      "cell_type": "markdown",
      "metadata": {
        "id": "QbOdCwpeMX2K"
      },
      "source": [
        "20. Create a Python class called `Customer` with private attributes for customer details like name, address,\n",
        "and contact information. Implement encapsulation to ensure data integrity and security."
      ]
    },
    {
      "cell_type": "code",
      "execution_count": 11,
      "metadata": {
        "id": "WrJqXmSOMYpy",
        "colab": {
          "base_uri": "https://localhost:8080/"
        },
        "outputId": "ab58828b-bfa7-44a8-e3d1-f807e58711bd"
      },
      "outputs": [
        {
          "output_type": "stream",
          "name": "stdout",
          "text": [
            "Customer Details:\n",
            "Name: John Doe\n",
            "Address: 123 Main St, City\n",
            "Contact Information: johndoe@example.com\n",
            "Error: 'Customer' object has no attribute '__name'\n",
            "\n",
            "Updated Customer Details:\n",
            "Name: Jane Smith\n",
            "Address: 456 Elm St, Town\n",
            "Contact Information: janesmith@example.com\n"
          ]
        }
      ],
      "source": [
        "class Customer:\n",
        "    def __init__(self, name, address, contact_info):\n",
        "        self.__name = name\n",
        "        self.__address = address\n",
        "        self.__contact_info = contact_info\n",
        "\n",
        "    # Getter methods\n",
        "    def get_name(self):\n",
        "        return self.__name\n",
        "\n",
        "    def get_address(self):\n",
        "        return self.__address\n",
        "\n",
        "    def get_contact_info(self):\n",
        "        return self.__contact_info\n",
        "\n",
        "    # Setter methods (optional)\n",
        "    def set_name(self, name):\n",
        "        self.__name = name\n",
        "\n",
        "    def set_address(self, address):\n",
        "        self.__address = address\n",
        "\n",
        "    def set_contact_info(self, contact_info):\n",
        "        self.__contact_info = contact_info\n",
        "\n",
        "# Example usage\n",
        "customer = Customer(\"John Doe\", \"123 Main St, City\", \"johndoe@example.com\")\n",
        "print(\"Customer Details:\")\n",
        "print(\"Name:\", customer.get_name())\n",
        "print(\"Address:\", customer.get_address())\n",
        "print(\"Contact Information:\", customer.get_contact_info())\n",
        "\n",
        "# Attempting to access private attributes directly (will raise an AttributeError)\n",
        "try:\n",
        "    print(customer.__name)\n",
        "except AttributeError as e:\n",
        "    print(\"Error:\", e)\n",
        "\n",
        "# Attempting to modify private attributes directly (will raise an AttributeError)\n",
        "try:\n",
        "    customer.__address = \"456 Elm St, Town\"\n",
        "except AttributeError as e:\n",
        "    print(\"Error:\", e)\n",
        "\n",
        "# Modifying customer details using setter methods\n",
        "customer.set_name(\"Jane Smith\")\n",
        "customer.set_address(\"456 Elm St, Town\")\n",
        "customer.set_contact_info(\"janesmith@example.com\")\n",
        "\n",
        "print(\"\\nUpdated Customer Details:\")\n",
        "print(\"Name:\", customer.get_name())\n",
        "print(\"Address:\", customer.get_address())\n",
        "print(\"Contact Information:\", customer.get_contact_info())\n"
      ]
    },
    {
      "cell_type": "markdown",
      "metadata": {
        "id": "PbfRxdwhMY-C"
      },
      "source": [
        "Polymorphism:"
      ]
    },
    {
      "cell_type": "markdown",
      "metadata": {
        "id": "KgD-yyltMbWp"
      },
      "source": [
        "1. What is polymorphism in Python? Explain how it is related to object-oriented programming."
      ]
    },
    {
      "cell_type": "markdown",
      "source": [
        "Polymorphism in Python refers to the ability of different objects to respond to the same message or method call in different ways. It allows objects of different classes to be treated as objects of a common superclass, enabling flexibility and extensibility in object-oriented programming."
      ],
      "metadata": {
        "id": "B5NhLRVzUwCD"
      }
    },
    {
      "cell_type": "markdown",
      "source": [
        "Relationship to Object-Oriented Programming:\n",
        "\n",
        "Inheritance:\n",
        "\n",
        "Polymorphism is closely related to inheritance, one of the fundamental concepts of object-oriented programming (OOP). Inheritance allows a subclass to inherit attributes and methods from its superclass. Polymorphism enables different subclasses to provide their own implementation of methods inherited from the superclass.\n",
        "\n",
        "Method Overriding:\n",
        "\n",
        "Polymorphism is often achieved through method overriding, where a subclass provides its own implementation of a method that is already defined in its superclass. When a method is called on an object, the Python interpreter looks for the method definition starting from the object's class and traversing up the class hierarchy until it finds a matching method.\n",
        "\n",
        "Dynamic Binding:\n",
        "\n",
        "Polymorphism allows for dynamic binding of methods at runtime. This means that the decision about which method implementation to invoke is made during runtime based on the actual type of the object, rather than the declared type of the reference variable. This enables more flexible and extensible code, as objects can behave differently depending on their actual type.\n",
        "\n",
        "\n",
        "Example of Polymorphism in Python:"
      ],
      "metadata": {
        "id": "IFoUFZ9MUxNz"
      }
    },
    {
      "cell_type": "code",
      "execution_count": 12,
      "metadata": {
        "id": "fkE5r4-sMfbK",
        "colab": {
          "base_uri": "https://localhost:8080/"
        },
        "outputId": "457b836f-a036-4f6f-faa2-bb70fdf589e1"
      },
      "outputs": [
        {
          "output_type": "stream",
          "name": "stdout",
          "text": [
            "Woof!\n",
            "Meow!\n",
            "Moo!\n"
          ]
        }
      ],
      "source": [
        "class Animal:\n",
        "    def make_sound(self):\n",
        "        pass\n",
        "\n",
        "class Dog(Animal):\n",
        "    def make_sound(self):\n",
        "        return \"Woof!\"\n",
        "\n",
        "class Cat(Animal):\n",
        "    def make_sound(self):\n",
        "        return \"Meow!\"\n",
        "\n",
        "class Cow(Animal):\n",
        "    def make_sound(self):\n",
        "        return \"Moo!\"\n",
        "\n",
        "# Function demonstrating polymorphism\n",
        "def animal_sound(animal):\n",
        "    return animal.make_sound()\n",
        "\n",
        "# Example usage\n",
        "dog = Dog()\n",
        "cat = Cat()\n",
        "cow = Cow()\n",
        "\n",
        "print(animal_sound(dog))  # Output: Woof!\n",
        "print(animal_sound(cat))  # Output: Meow!\n",
        "print(animal_sound(cow))  # Output: Moo!\n"
      ]
    },
    {
      "cell_type": "markdown",
      "metadata": {
        "id": "uRsBx86nMf4y"
      },
      "source": [
        "2. Describe the difference between compile-time polymorphism and runtime polymorphism in Python."
      ]
    },
    {
      "cell_type": "markdown",
      "source": [
        "In Python, compile-time polymorphism and runtime polymorphism refer to two different ways in which polymorphism can be achieved, depending on when method resolution occurs: during compile time or during runtime.\n",
        "\n",
        "Compile-Time Polymorphism (Static Binding):\n",
        "\n",
        "Compile-time polymorphism, also known as static polymorphism or early binding, refers to the polymorphic behavior that is resolved at compile time. This means that the compiler determines which method or function to call based on the types of the arguments and the signatures of the methods involved.\n",
        "\n",
        "Features of Compile-Time Polymorphism:\n",
        "\n",
        "Method Overloading:\n",
        "\n",
        "Method overloading allows multiple methods with the same name but different parameters to coexist within a class. The appropriate method to be called is determined by the number and types of arguments passed to it.\n",
        "\n",
        "Function Overloading:\n",
        "\n",
        "Function overloading is similar to method overloading but applies to functions defined outside of classes. Like method overloading, the appropriate function to be called is determined by the number and types of arguments passed to it.\n",
        "\n",
        "Example of Compile-Time Polymorphism:"
      ],
      "metadata": {
        "id": "wdb_Vyi_Vio5"
      }
    },
    {
      "cell_type": "code",
      "execution_count": 14,
      "metadata": {
        "id": "DBm0MvO7Mh5L",
        "colab": {
          "base_uri": "https://localhost:8080/"
        },
        "outputId": "b6b63f80-55bc-4e50-b8c0-1183d99e7911"
      },
      "outputs": [
        {
          "output_type": "stream",
          "name": "stdout",
          "text": [
            "5\n",
            "9\n"
          ]
        }
      ],
      "source": [
        "class MathOperations:\n",
        "    def add(self, x, y, z=None):\n",
        "        if z is None:\n",
        "            return x + y\n",
        "        else:\n",
        "            return x + y + z\n",
        "\n",
        "# Example usage\n",
        "math = MathOperations()\n",
        "print(math.add(2, 3))       # Output: 5\n",
        "print(math.add(2, 3, 4))    # Output: 9\n"
      ]
    },
    {
      "cell_type": "markdown",
      "source": [
        "Runtime Polymorphism (Dynamic Binding):\n",
        "\n",
        "\n",
        "Runtime polymorphism, also known as dynamic polymorphism or late binding, refers to the polymorphic behavior that is resolved at runtime. This means that the decision about which method to call is made during the execution of the program, based on the actual type of the object.\n",
        "\n",
        "Features of Runtime Polymorphism:\n",
        "\n",
        "Method Overriding:\n",
        "\n",
        "Method overriding allows a subclass to provide its own implementation of a method that is already defined in its superclass. The decision about which method implementation to invoke is made based on the actual type of the object at runtime.\n",
        "\n",
        "Example of Runtime Polymorphism:"
      ],
      "metadata": {
        "id": "ojVL7ZFcV6Eu"
      }
    },
    {
      "cell_type": "code",
      "source": [
        "class Animal:\n",
        "    def make_sound(self):\n",
        "        pass\n",
        "\n",
        "class Dog(Animal):\n",
        "    def make_sound(self):\n",
        "        return \"Woof!\"\n",
        "\n",
        "class Cat(Animal):\n",
        "    def make_sound(self):\n",
        "        return \"Meow!\"\n",
        "\n",
        "# Function demonstrating runtime polymorphism\n",
        "def animal_sound(animal):\n",
        "    return animal.make_sound()\n",
        "\n",
        "# Example usage\n",
        "dog = Dog()\n",
        "cat = Cat()\n",
        "\n",
        "print(animal_sound(dog))  # Output: Woof!\n",
        "print(animal_sound(cat))  # Output: Meow!\n"
      ],
      "metadata": {
        "colab": {
          "base_uri": "https://localhost:8080/"
        },
        "id": "pdddCAXCWH0l",
        "outputId": "669b117a-f938-4834-ddf4-368889b33399"
      },
      "execution_count": 15,
      "outputs": [
        {
          "output_type": "stream",
          "name": "stdout",
          "text": [
            "Woof!\n",
            "Meow!\n"
          ]
        }
      ]
    },
    {
      "cell_type": "markdown",
      "metadata": {
        "id": "7gf1lSdZMiOi"
      },
      "source": [
        "3. Create a Python class hierarchy for shapes (e.g., circle, square, triangle) and demonstrate polymorphism\n",
        "through a common method, such as `calculate_area()`."
      ]
    },
    {
      "cell_type": "code",
      "execution_count": 16,
      "metadata": {
        "id": "0s21HRMQMnFJ",
        "colab": {
          "base_uri": "https://localhost:8080/"
        },
        "outputId": "3990fc3f-d76d-49ed-aec1-6a585324b15f"
      },
      "outputs": [
        {
          "output_type": "stream",
          "name": "stdout",
          "text": [
            "Area of the shape: 78.53981633974483\n",
            "Area of the shape: 16\n",
            "Area of the shape: 9.0\n"
          ]
        }
      ],
      "source": [
        "import math\n",
        "\n",
        "class Shape:\n",
        "    def calculate_area(self):\n",
        "        pass\n",
        "\n",
        "class Circle(Shape):\n",
        "    def __init__(self, radius):\n",
        "        self.radius = radius\n",
        "\n",
        "    def calculate_area(self):\n",
        "        return math.pi * self.radius ** 2\n",
        "\n",
        "class Square(Shape):\n",
        "    def __init__(self, side_length):\n",
        "        self.side_length = side_length\n",
        "\n",
        "    def calculate_area(self):\n",
        "        return self.side_length ** 2\n",
        "\n",
        "class Triangle(Shape):\n",
        "    def __init__(self, base, height):\n",
        "        self.base = base\n",
        "        self.height = height\n",
        "\n",
        "    def calculate_area(self):\n",
        "        return 0.5 * self.base * self.height\n",
        "\n",
        "# Function demonstrating polymorphism\n",
        "def print_area(shape):\n",
        "    print(\"Area of the shape:\", shape.calculate_area())\n",
        "\n",
        "# Example usage\n",
        "circle = Circle(5)\n",
        "square = Square(4)\n",
        "triangle = Triangle(3, 6)\n",
        "\n",
        "print_area(circle)    # Output: Area of the shape: 78.53981633974483\n",
        "print_area(square)    # Output: Area of the shape: 16\n",
        "print_area(triangle)  # Output: Area of the shape: 9.0\n"
      ]
    },
    {
      "cell_type": "markdown",
      "metadata": {
        "id": "-9iMI4j9MnZ8"
      },
      "source": [
        "4. Explain the concept of method overriding in polymorphism. Provide an example."
      ]
    },
    {
      "cell_type": "markdown",
      "source": [
        "Method overriding is a fundamental concept in polymorphism where a subclass provides its own implementation of a method that is already defined in its superclass. When a method is called on an object of the subclass, the subclass's implementation of the method is invoked instead of the superclass's implementation. This allows subclasses to customize or extend the behavior of inherited methods to suit their specific requirements.\n",
        "\n",
        "Key Points about Method Overriding:\n",
        "\n",
        "Inheritance: Method overriding relies on inheritance, where subclasses inherit methods from their superclass.\n",
        "\n",
        "Same Signature: The overriding method in the subclass must have the same name, parameters, and return type (or a subtype) as the method being overridden in the superclass.\n",
        "\n",
        "Dynamic Binding: The decision about which method implementation to invoke is made at runtime based on the actual type of the object, allowing for flexibility and extensibility.\n",
        "\n",
        "Example of Method Overriding:"
      ],
      "metadata": {
        "id": "BsWdhV4aW3QC"
      }
    },
    {
      "cell_type": "code",
      "execution_count": 17,
      "metadata": {
        "id": "NKyLsB0TMp0h",
        "colab": {
          "base_uri": "https://localhost:8080/"
        },
        "outputId": "fb7c9c13-30e9-4cf3-dde2-f8d290095400"
      },
      "outputs": [
        {
          "output_type": "stream",
          "name": "stdout",
          "text": [
            "Woof!\n",
            "Meow!\n"
          ]
        }
      ],
      "source": [
        "class Animal:\n",
        "    def make_sound(self):\n",
        "        return \"Generic animal sound\"\n",
        "\n",
        "class Dog(Animal):\n",
        "    def make_sound(self):\n",
        "        return \"Woof!\"\n",
        "\n",
        "class Cat(Animal):\n",
        "    def make_sound(self):\n",
        "        return \"Meow!\"\n",
        "\n",
        "# Example usage\n",
        "dog = Dog()\n",
        "cat = Cat()\n",
        "\n",
        "print(dog.make_sound())  # Output: Woof!\n",
        "print(cat.make_sound())  # Output: Meow!\n"
      ]
    },
    {
      "cell_type": "markdown",
      "metadata": {
        "id": "FwsxkIgXMqOz"
      },
      "source": [
        "5. How is polymorphism different from method overloading in Python? Provide examples for both."
      ]
    },
    {
      "cell_type": "markdown",
      "source": [
        "Polymorphism and method overloading are related concepts in Python, but they differ in their implementation and usage.\n",
        "\n",
        "Polymorphism:\n",
        "\n",
        "Polymorphism refers to the ability of different objects to respond to the same message or method call in different ways. It allows objects of different classes to be treated uniformly through a common interface. In Python, polymorphism is typically achieved through method overriding, where subclasses provide their own implementation of methods inherited from a superclass.\n",
        "\n",
        "Example of Polymorphism:"
      ],
      "metadata": {
        "id": "4ELn_fArXlXo"
      }
    },
    {
      "cell_type": "code",
      "execution_count": 18,
      "metadata": {
        "id": "WTZMj1gCMsTK",
        "colab": {
          "base_uri": "https://localhost:8080/"
        },
        "outputId": "7bd98c84-cd65-42d9-b932-0657eb0b8f29"
      },
      "outputs": [
        {
          "output_type": "stream",
          "name": "stdout",
          "text": [
            "Woof!\n",
            "Meow!\n"
          ]
        }
      ],
      "source": [
        "class Animal:\n",
        "    def make_sound(self):\n",
        "        pass\n",
        "\n",
        "class Dog(Animal):\n",
        "    def make_sound(self):\n",
        "        return \"Woof!\"\n",
        "\n",
        "class Cat(Animal):\n",
        "    def make_sound(self):\n",
        "        return \"Meow!\"\n",
        "\n",
        "# Function demonstrating polymorphism\n",
        "def animal_sound(animal):\n",
        "    return animal.make_sound()\n",
        "\n",
        "# Example usage\n",
        "dog = Dog()\n",
        "cat = Cat()\n",
        "\n",
        "print(animal_sound(dog))  # Output: Woof!\n",
        "print(animal_sound(cat))  # Output: Meow!\n"
      ]
    },
    {
      "cell_type": "markdown",
      "source": [
        "Method Overloading:\n",
        "\n",
        "Method overloading refers to the ability to define multiple methods with the same name but different parameters within a class. In languages like Java or C++, method overloading allows different versions of a method to coexist within a class, each accepting different types or numbers of parameters. However, in Python, method overloading is not directly supported because Python does not require explicit type declarations for parameters.\n",
        "\n",
        "Example of Function Overloading in Python:\n",
        "\n",
        "Although method overloading is not directly supported in Python, you can achieve similar behavior using default parameter values or variable-length argument lists. However, it's important to note that this is not true method overloading as seen in other languages."
      ],
      "metadata": {
        "id": "RHoJy0GkX7TE"
      }
    },
    {
      "cell_type": "code",
      "source": [
        "class MathOperations:\n",
        "    def add(self, a, b, c=None):\n",
        "        if c is not None:\n",
        "            return a + b + c\n",
        "        else:\n",
        "            return a + b\n",
        "\n",
        "# Example usage\n",
        "math = MathOperations()\n",
        "print(math.add(2, 3))       # Output: 5\n",
        "print(math.add(2, 3, 4))    # Output: 9\n"
      ],
      "metadata": {
        "colab": {
          "base_uri": "https://localhost:8080/"
        },
        "id": "JUIGsD1YYX8d",
        "outputId": "cf506313-e437-4b38-fbe7-6accb9fa95a4"
      },
      "execution_count": 20,
      "outputs": [
        {
          "output_type": "stream",
          "name": "stdout",
          "text": [
            "5\n",
            "9\n"
          ]
        }
      ]
    },
    {
      "cell_type": "markdown",
      "metadata": {
        "id": "jIstrCu7Ms77"
      },
      "source": [
        "6. Create a Python class called `Animal` with a method `speak()`. Then, create child classes like `Dog`, `Cat`, and `Bird`, each with their own `speak()` method. Demonstrate polymorphism by calling the `speak()` method\n",
        "on objects of different subclasses."
      ]
    },
    {
      "cell_type": "code",
      "execution_count": 21,
      "metadata": {
        "id": "q8KcV0ZXMv1Z",
        "colab": {
          "base_uri": "https://localhost:8080/"
        },
        "outputId": "f67483ea-9b68-4dc0-f8c4-2b415ec61426"
      },
      "outputs": [
        {
          "output_type": "stream",
          "name": "stdout",
          "text": [
            "Woof!\n",
            "Meow!\n",
            "Chirp!\n"
          ]
        }
      ],
      "source": [
        "class Animal:\n",
        "    def speak(self):\n",
        "        pass\n",
        "\n",
        "class Dog(Animal):\n",
        "    def speak(self):\n",
        "        return \"Woof!\"\n",
        "\n",
        "class Cat(Animal):\n",
        "    def speak(self):\n",
        "        return \"Meow!\"\n",
        "\n",
        "class Bird(Animal):\n",
        "    def speak(self):\n",
        "        return \"Chirp!\"\n",
        "\n",
        "# Function demonstrating polymorphism\n",
        "def animal_sound(animal):\n",
        "    return animal.speak()\n",
        "\n",
        "# Example usage\n",
        "dog = Dog()\n",
        "cat = Cat()\n",
        "bird = Bird()\n",
        "\n",
        "print(animal_sound(dog))  # Output: Woof!\n",
        "print(animal_sound(cat))  # Output: Meow!\n",
        "print(animal_sound(bird)) # Output: Chirp!\n"
      ]
    },
    {
      "cell_type": "markdown",
      "metadata": {
        "id": "VQd3AwVUMwN7"
      },
      "source": [
        "7. Discuss the use of abstract methods and classes in achieving polymorphism in Python. Provide an example\n",
        "using the `abc` module."
      ]
    },
    {
      "cell_type": "markdown",
      "source": [
        "Abstract methods and classes are used in Python to define a blueprint for classes that must implement certain methods, but without providing an implementation in the abstract class itself. This allows for a consistent interface across different subclasses while ensuring that each subclass provides its own implementation of the required methods. This concept is closely related to polymorphism because it enables objects of different classes to be treated uniformly through a common interface.\n",
        "\n",
        "\n",
        "Python's abc module (Abstract Base Classes) provides tools for defining abstract classes and methods. An abstract class cannot be instantiated directly; instead, it serves as a base class for other classes to inherit from and requires its subclasses to implement specific methods defined as abstract.\n",
        "\n",
        "\n",
        "Here's an example using the abc module to define an abstract class Shape with an abstract method calculate_area(). Subclasses such as Circle, Square, and Triangle must implement the calculate_area() method, ensuring polymorphic behavior across different shapes:"
      ],
      "metadata": {
        "id": "uJCS_JoQZeQZ"
      }
    },
    {
      "cell_type": "code",
      "execution_count": 22,
      "metadata": {
        "id": "jnVIjcoaMyWp",
        "colab": {
          "base_uri": "https://localhost:8080/"
        },
        "outputId": "cbd08e30-2210-4ada-bf7e-08cadfd69d88"
      },
      "outputs": [
        {
          "output_type": "stream",
          "name": "stdout",
          "text": [
            "Area of the shape: 78.53981633974483\n",
            "Area of the shape: 16\n",
            "Area of the shape: 9.0\n"
          ]
        }
      ],
      "source": [
        "from abc import ABC, abstractmethod\n",
        "import math\n",
        "\n",
        "class Shape(ABC):\n",
        "    @abstractmethod\n",
        "    def calculate_area(self):\n",
        "        pass\n",
        "\n",
        "class Circle(Shape):\n",
        "    def __init__(self, radius):\n",
        "        self.radius = radius\n",
        "\n",
        "    def calculate_area(self):\n",
        "        return math.pi * self.radius ** 2\n",
        "\n",
        "class Square(Shape):\n",
        "    def __init__(self, side_length):\n",
        "        self.side_length = side_length\n",
        "\n",
        "    def calculate_area(self):\n",
        "        return self.side_length ** 2\n",
        "\n",
        "class Triangle(Shape):\n",
        "    def __init__(self, base, height):\n",
        "        self.base = base\n",
        "        self.height = height\n",
        "\n",
        "    def calculate_area(self):\n",
        "        return 0.5 * self.base * self.height\n",
        "\n",
        "# Function demonstrating polymorphism\n",
        "def print_area(shape):\n",
        "    print(\"Area of the shape:\", shape.calculate_area())\n",
        "\n",
        "# Example usage\n",
        "circle = Circle(5)\n",
        "square = Square(4)\n",
        "triangle = Triangle(3, 6)\n",
        "\n",
        "print_area(circle)    # Output: Area of the shape: 78.53981633974483\n",
        "print_area(square)    # Output: Area of the shape: 16\n",
        "print_area(triangle)  # Output: Area of the shape: 9.0\n"
      ]
    },
    {
      "cell_type": "markdown",
      "metadata": {
        "id": "KDGAvQ33My0J"
      },
      "source": [
        "8. Create a Python class hierarchy for a vehicle system (e.g., car, bicycle, boat) and implement a polymorphic `start()` method that prints a message specific to each vehicle type."
      ]
    },
    {
      "cell_type": "code",
      "execution_count": 23,
      "metadata": {
        "id": "OAAIMBGDM1J5",
        "colab": {
          "base_uri": "https://localhost:8080/"
        },
        "outputId": "d0437122-e65a-4b72-91cd-bdc4df4a6ae3"
      },
      "outputs": [
        {
          "output_type": "stream",
          "name": "stdout",
          "text": [
            "Car starting...\n",
            "Bicycle starting...\n",
            "Boat starting...\n"
          ]
        }
      ],
      "source": [
        "class Vehicle:\n",
        "    def start(self):\n",
        "        pass\n",
        "\n",
        "class Car(Vehicle):\n",
        "    def start(self):\n",
        "        return \"Car starting...\"\n",
        "\n",
        "class Bicycle(Vehicle):\n",
        "    def start(self):\n",
        "        return \"Bicycle starting...\"\n",
        "\n",
        "class Boat(Vehicle):\n",
        "    def start(self):\n",
        "        return \"Boat starting...\"\n",
        "\n",
        "# Function demonstrating polymorphism\n",
        "def start_vehicle(vehicle):\n",
        "    print(vehicle.start())\n",
        "\n",
        "# Example usage\n",
        "car = Car()\n",
        "bicycle = Bicycle()\n",
        "boat = Boat()\n",
        "\n",
        "start_vehicle(car)      # Output: Car starting...\n",
        "start_vehicle(bicycle)  # Output: Bicycle starting...\n",
        "start_vehicle(boat)     # Output: Boat starting...\n"
      ]
    },
    {
      "cell_type": "markdown",
      "metadata": {
        "id": "omW9ppoDM1fZ"
      },
      "source": [
        "9. Explain the significance of the `isinstance()` and `issubclass()` functions in Python polymorphism."
      ]
    },
    {
      "cell_type": "markdown",
      "source": [
        "The isinstance() and issubclass() functions in Python are significant for polymorphism as they allow for dynamic type checking and enable code to adapt to different types and class hierarchies.\n",
        "\n",
        "1. isinstance():\n",
        "\n",
        "The isinstance() function checks if an object is an instance of a particular class or any subclass thereof. It takes two arguments: the object to be checked and the class or tuple of classes to check against. It returns True if the object is an instance of the specified class or subclass, and False otherwise.\n",
        "\n",
        "Example:"
      ],
      "metadata": {
        "id": "kXu5HeOnbNvt"
      }
    },
    {
      "cell_type": "code",
      "execution_count": 24,
      "metadata": {
        "id": "oxE5cdjCM4bx",
        "colab": {
          "base_uri": "https://localhost:8080/"
        },
        "outputId": "0428a5ad-5feb-4b1f-9cd6-b4799b55e203"
      },
      "outputs": [
        {
          "output_type": "stream",
          "name": "stdout",
          "text": [
            "True\n",
            "True\n"
          ]
        }
      ],
      "source": [
        "class Animal:\n",
        "    pass\n",
        "\n",
        "class Dog(Animal):\n",
        "    pass\n",
        "\n",
        "dog = Dog()\n",
        "print(isinstance(dog, Dog))     # Output: True\n",
        "print(isinstance(dog, Animal))  # Output: True\n"
      ]
    },
    {
      "cell_type": "markdown",
      "source": [
        "2. issubclass():\n",
        "The issubclass() function checks if a class is a subclass of another class. It takes two arguments: the subclass and the superclass. It returns True if the first class is a subclass of the second class, and False otherwise.\n",
        "\n",
        "Example:"
      ],
      "metadata": {
        "id": "OEOKLKjCbbpj"
      }
    },
    {
      "cell_type": "code",
      "source": [
        "class Animal:\n",
        "    pass\n",
        "\n",
        "class Dog(Animal):\n",
        "    pass\n",
        "\n",
        "print(issubclass(Dog, Animal))   # Output: True\n"
      ],
      "metadata": {
        "colab": {
          "base_uri": "https://localhost:8080/"
        },
        "id": "X1nwN2uudTSL",
        "outputId": "bea1f358-9e46-48f5-cf55-7fefb5ce3dc6"
      },
      "execution_count": 25,
      "outputs": [
        {
          "output_type": "stream",
          "name": "stdout",
          "text": [
            "True\n"
          ]
        }
      ]
    },
    {
      "cell_type": "markdown",
      "source": [
        "Significance in Polymorphism:\n",
        "Dynamic Type Checking: isinstance() allows for dynamic type checking, enabling code to handle objects of different types or classes polymorphically based on their actual types at runtime.\n",
        "\n",
        "Flexible Code: Using isinstance() allows code to be more flexible and adaptable to changes in the class hierarchy. This is crucial for polymorphism, where objects of different classes need to be treated uniformly through a common interface.\n",
        "\n",
        "Hierarchical Polymorphism: issubclass() is useful for hierarchical polymorphism, where subclasses provide specialized behavior while still benefiting from the common interface provided by their superclass. It helps in ensuring that subclasses implement required methods and adhere to the class hierarchy.\n",
        "\n",
        "Code Robustness: Dynamic type checking with isinstance() and issubclass() helps in writing robust code that can handle a variety of input types and adapt to changes in the class hierarchy without requiring explicit type declarations or hard-coded class names."
      ],
      "metadata": {
        "id": "q6-6dHbfdZR9"
      }
    },
    {
      "cell_type": "markdown",
      "metadata": {
        "id": "-IF3_E5qM41p"
      },
      "source": [
        "10. What is the role of the `@abstractmethod` decorator in achieving polymorphism in Python? Provide an\n",
        "example."
      ]
    },
    {
      "cell_type": "markdown",
      "source": [
        "The @abstractmethod decorator in Python, provided by the abc (Abstract Base Classes) module, is used to define abstract methods in abstract classes. An abstract method is a method that is declared but does not contain an implementation in the abstract class itself. Subclasses of the abstract class must implement the abstract methods, ensuring a common interface across different subclasses.\n",
        "\n",
        "The role of @abstractmethod in achieving polymorphism is to enforce the implementation of specific methods in subclasses, allowing objects of different classes to be treated uniformly through a common interface. This ensures that each subclass provides its own implementation of the required methods, facilitating polymorphic behavior.\n",
        "\n",
        "Here's an example demonstrating the use of @abstractmethod to define an abstract class Shape with an abstract method calculate_area(). Subclasses such as Circle, Square, and Triangle must implement the calculate_area() method, ensuring polymorphic behavior across different shapes:"
      ],
      "metadata": {
        "id": "w6KDu6qjdqH5"
      }
    },
    {
      "cell_type": "code",
      "execution_count": 26,
      "metadata": {
        "id": "kzYg1gZyM61p",
        "colab": {
          "base_uri": "https://localhost:8080/"
        },
        "outputId": "cebb47be-1a82-41da-e8a4-eaf251573a44"
      },
      "outputs": [
        {
          "output_type": "stream",
          "name": "stdout",
          "text": [
            "Area of the shape: 78.53981633974483\n",
            "Area of the shape: 16\n",
            "Area of the shape: 9.0\n"
          ]
        }
      ],
      "source": [
        "from abc import ABC, abstractmethod\n",
        "import math\n",
        "\n",
        "class Shape(ABC):\n",
        "    @abstractmethod\n",
        "    def calculate_area(self):\n",
        "        pass\n",
        "\n",
        "class Circle(Shape):\n",
        "    def __init__(self, radius):\n",
        "        self.radius = radius\n",
        "\n",
        "    def calculate_area(self):\n",
        "        return math.pi * self.radius ** 2\n",
        "\n",
        "class Square(Shape):\n",
        "    def __init__(self, side_length):\n",
        "        self.side_length = side_length\n",
        "\n",
        "    def calculate_area(self):\n",
        "        return self.side_length ** 2\n",
        "\n",
        "class Triangle(Shape):\n",
        "    def __init__(self, base, height):\n",
        "        self.base = base\n",
        "        self.height = height\n",
        "\n",
        "    def calculate_area(self):\n",
        "        return 0.5 * self.base * self.height\n",
        "\n",
        "# Function demonstrating polymorphism\n",
        "def print_area(shape):\n",
        "    print(\"Area of the shape:\", shape.calculate_area())\n",
        "\n",
        "# Example usage\n",
        "circle = Circle(5)\n",
        "square = Square(4)\n",
        "triangle = Triangle(3, 6)\n",
        "\n",
        "print_area(circle)    # Output: Area of the shape: 78.53981633974483\n",
        "print_area(square)    # Output: Area of the shape: 16\n",
        "print_area(triangle)  # Output: Area of the shape: 9.0\n"
      ]
    },
    {
      "cell_type": "markdown",
      "metadata": {
        "id": "B15N1OF_M7P5"
      },
      "source": [
        "11. Create a Python class called `Shape` with a polymorphic method `area()` that calculates the area of different shapes (e.g., circle, rectangle, triangle)."
      ]
    },
    {
      "cell_type": "code",
      "execution_count": 27,
      "metadata": {
        "id": "tFZBEQAxM9R6",
        "colab": {
          "base_uri": "https://localhost:8080/"
        },
        "outputId": "a170f1df-049e-418e-d549-f7e869b59784"
      },
      "outputs": [
        {
          "output_type": "stream",
          "name": "stdout",
          "text": [
            "Area of the shape: 78.53981633974483\n",
            "Area of the shape: 24\n",
            "Area of the shape: 9.0\n"
          ]
        }
      ],
      "source": [
        "import math\n",
        "\n",
        "class Shape:\n",
        "    def area(self):\n",
        "        pass\n",
        "\n",
        "class Circle(Shape):\n",
        "    def __init__(self, radius):\n",
        "        self.radius = radius\n",
        "\n",
        "    def area(self):\n",
        "        return math.pi * self.radius ** 2\n",
        "\n",
        "class Rectangle(Shape):\n",
        "    def __init__(self, width, height):\n",
        "        self.width = width\n",
        "        self.height = height\n",
        "\n",
        "    def area(self):\n",
        "        return self.width * self.height\n",
        "\n",
        "class Triangle(Shape):\n",
        "    def __init__(self, base, height):\n",
        "        self.base = base\n",
        "        self.height = height\n",
        "\n",
        "    def area(self):\n",
        "        return 0.5 * self.base * self.height\n",
        "\n",
        "# Function demonstrating polymorphism\n",
        "def print_area(shape):\n",
        "    print(\"Area of the shape:\", shape.area())\n",
        "\n",
        "# Example usage\n",
        "circle = Circle(5)\n",
        "rectangle = Rectangle(4, 6)\n",
        "triangle = Triangle(3, 6)\n",
        "\n",
        "print_area(circle)      # Output: Area of the shape: 78.53981633974483\n",
        "print_area(rectangle)   # Output: Area of the shape: 24\n",
        "print_area(triangle)    # Output: Area of the shape: 9.0\n"
      ]
    },
    {
      "cell_type": "markdown",
      "metadata": {
        "id": "nCeDUftvM9j8"
      },
      "source": [
        "12. Discuss the benefits of polymorphism in terms of code reusability and flexibility in Python programs."
      ]
    },
    {
      "cell_type": "markdown",
      "source": [
        "Polymorphism offers several benefits in terms of code reusability and flexibility in Python programs:\n",
        "\n",
        "1. **Code Reusability**: Polymorphism allows the same code to be reused across different objects or classes. By defining a common interface through abstract methods or inheritance, you can write code that operates on objects of different types without needing to know the specific implementation details of each type. This promotes modularization and reduces code duplication.\n",
        "\n",
        "2. **Flexibility**: Polymorphism enables code to adapt to changes in requirements or class hierarchies without requiring significant modifications. New subclasses can be added easily, and existing code can interact with them seamlessly through the common interface provided by polymorphism. This makes the codebase more flexible and extensible, allowing it to evolve over time.\n",
        "\n",
        "3. **Enhanced Maintainability**: Polymorphism improves code maintainability by promoting encapsulation and reducing dependencies between different parts of the codebase. Changes to one part of the code, such as adding new subclasses or modifying existing behavior, can be made without affecting other parts of the code that rely on the polymorphic interface. This simplifies debugging, testing, and refactoring efforts.\n",
        "\n",
        "4. **Promotes Abstraction**: Polymorphism encourages the use of abstraction by defining common behaviors and interfaces at higher levels of the class hierarchy. This helps in managing complexity and hiding implementation details, leading to cleaner and more readable code.\n",
        "\n",
        "5. **Dynamic Binding**: Polymorphism in Python involves dynamic binding, where method calls are resolved at runtime based on the actual type of the object. This dynamic behavior allows for greater flexibility and adaptability, as method calls can vary depending on the context in which they are invoked.\n",
        "\n",
        "Overall, polymorphism promotes code reusability, flexibility, and maintainability by allowing code to interact with objects of different types through a common interface. This makes Python programs more modular, adaptable, and easier to maintain, leading to improved productivity and scalability."
      ],
      "metadata": {
        "id": "42RaRGh7ept4"
      }
    },
    {
      "cell_type": "markdown",
      "metadata": {
        "id": "jJrFykk0M_us"
      },
      "source": [
        "13. Explain the use of the `super()` function in Python polymorphism. How does it help call methods of parent\n",
        "classes?"
      ]
    },
    {
      "cell_type": "markdown",
      "source": [
        "The super() function in Python is used to access methods and properties of a parent or superclass within a subclass. It provides a way to call methods defined in the superclass from within the subclass, enabling method overriding and achieving polymorphism.\n",
        "\n",
        "Use of super() in Python Polymorphism:\n",
        "Calling Superclass Constructor: In the __init__() method of a subclass, super() can be used to call the constructor of the superclass, allowing the subclass to initialize inherited properties.\n",
        "\n",
        "Calling Superclass Methods: In overridden methods of a subclass, super() can be used to call the corresponding method of the superclass. This allows the subclass to extend or modify the behavior of the superclass method while still invoking the superclass implementation.\n",
        "\n",
        "Example:"
      ],
      "metadata": {
        "id": "w1K52yr4foS8"
      }
    },
    {
      "cell_type": "code",
      "execution_count": 28,
      "metadata": {
        "id": "Y31KABjyNBup",
        "colab": {
          "base_uri": "https://localhost:8080/"
        },
        "outputId": "3f6b5d3d-67af-4382-85a6-753fbb95824c"
      },
      "outputs": [
        {
          "output_type": "stream",
          "name": "stdout",
          "text": [
            "Woof!\n",
            "Generic animal sound\n"
          ]
        }
      ],
      "source": [
        "class Animal:\n",
        "    def make_sound(self):\n",
        "        return \"Generic animal sound\"\n",
        "\n",
        "class Dog(Animal):\n",
        "    def make_sound(self):\n",
        "        return \"Woof!\"\n",
        "\n",
        "    def make_generic_sound(self):\n",
        "        return super().make_sound()  # Calling superclass method\n",
        "\n",
        "dog = Dog()\n",
        "print(dog.make_sound())           # Output: Woof!\n",
        "print(dog.make_generic_sound())   # Output: Generic animal sound\n"
      ]
    },
    {
      "cell_type": "markdown",
      "source": [
        "Benefits of Using super():\n",
        "Explicitness: super() makes the code more explicit by indicating that a method or constructor is being called from the superclass. This improves code readability and maintainability.\n",
        "\n",
        "Dynamic Lookup: super() performs dynamic method resolution, meaning it resolves the method call based on the actual class hierarchy at runtime. This allows for greater flexibility and adaptability, especially in complex class hierarchies.\n",
        "\n",
        "Avoids Hardcoding: Instead of hardcoding the superclass name, super() allows for more flexible and robust code by dynamically determining the appropriate superclass based on the method resolution order (MRO).\n",
        "\n",
        "Supports Multiple Inheritance: super() handles multiple inheritance scenarios by following the method resolution order (MRO) defined by the C3 linearization algorithm, ensuring that methods are called in a predictable and consistent manner."
      ],
      "metadata": {
        "id": "eMCP7Ailf_nx"
      }
    },
    {
      "cell_type": "markdown",
      "metadata": {
        "id": "ninm0IUbNCDM"
      },
      "source": [
        "14. Create a Python class hierarchy for a banking system with various account types (e.g., savings, checking,"
      ]
    },
    {
      "cell_type": "code",
      "execution_count": 29,
      "metadata": {
        "id": "1Rcj1DQ_NETe",
        "colab": {
          "base_uri": "https://localhost:8080/"
        },
        "outputId": "79be9c5b-71a9-4796-f7fa-93dd076ad89f"
      },
      "outputs": [
        {
          "output_type": "stream",
          "name": "stdout",
          "text": [
            "Deposited 500 into account SAV123. New balance: 1500\n",
            "Interest added to account SAV123. New balance: 1530.0\n",
            "Withdrew 700 from account CHK456. New balance: -200\n"
          ]
        }
      ],
      "source": [
        "class BankAccount:\n",
        "    def __init__(self, account_number, balance=0):\n",
        "        self.account_number = account_number\n",
        "        self.balance = balance\n",
        "\n",
        "    def deposit(self, amount):\n",
        "        self.balance += amount\n",
        "        return f\"Deposited {amount} into account {self.account_number}. New balance: {self.balance}\"\n",
        "\n",
        "    def withdraw(self, amount):\n",
        "        if self.balance >= amount:\n",
        "            self.balance -= amount\n",
        "            return f\"Withdrew {amount} from account {self.account_number}. New balance: {self.balance}\"\n",
        "        else:\n",
        "            return f\"Insufficient funds in account {self.account_number}. Balance: {self.balance}\"\n",
        "\n",
        "class SavingsAccount(BankAccount):\n",
        "    def __init__(self, account_number, balance=0, interest_rate=0.02):\n",
        "        super().__init__(account_number, balance)\n",
        "        self.interest_rate = interest_rate\n",
        "\n",
        "    def add_interest(self):\n",
        "        interest_amount = self.balance * self.interest_rate\n",
        "        self.balance += interest_amount\n",
        "        return f\"Interest added to account {self.account_number}. New balance: {self.balance}\"\n",
        "\n",
        "class CheckingAccount(BankAccount):\n",
        "    def __init__(self, account_number, balance=0, overdraft_limit=100):\n",
        "        super().__init__(account_number, balance)\n",
        "        self.overdraft_limit = overdraft_limit\n",
        "\n",
        "    def withdraw(self, amount):\n",
        "        if self.balance + self.overdraft_limit >= amount:\n",
        "            self.balance -= amount\n",
        "            return f\"Withdrew {amount} from account {self.account_number}. New balance: {self.balance}\"\n",
        "        else:\n",
        "            return f\"Exceeds overdraft limit in account {self.account_number}. Balance: {self.balance}\"\n",
        "\n",
        "# Example usage\n",
        "savings_account = SavingsAccount(\"SAV123\", balance=1000)\n",
        "checking_account = CheckingAccount(\"CHK456\", balance=500, overdraft_limit=200)\n",
        "\n",
        "print(savings_account.deposit(500))      # Output: Deposited 500 into account SAV123. New balance: 1500\n",
        "print(savings_account.add_interest())    # Output: Interest added to account SAV123. New balance: 1530.0\n",
        "print(checking_account.withdraw(700))    # Output: Withdrew 700 from account CHK456. New balance: -200\n"
      ]
    },
    {
      "cell_type": "markdown",
      "metadata": {
        "id": "qwaGnz9cNEso"
      },
      "source": [
        "15. Describe the concept of operator overloading in Python and how it relates to polymorphism. Provide\n",
        "examples using operators like `+` and `*`."
      ]
    },
    {
      "cell_type": "markdown",
      "source": [
        "Operator overloading in Python refers to the ability to define custom behavior for operators such as +, -, *, /, ==, <, >, and others. By overloading operators, you can define how objects of a class behave when operated upon using these operators. This allows you to make objects of your class work with the same syntax as built-in types like integers, floats, or strings, providing a more intuitive and expressive interface.\n",
        "\n",
        "How Operator Overloading Relates to Polymorphism:\n",
        "\n",
        "Operator overloading enables polymorphism in Python by allowing objects of different classes to respond to the same operator in different ways. This means that the behavior of an operator can vary depending on the types of the operands involved. Polymorphism, on the other hand, allows objects of different classes to be treated uniformly through a common interface.\n",
        "\n",
        "Example 1: Operator Overloading for Addition (+):"
      ],
      "metadata": {
        "id": "pP3VrmTNhKGh"
      }
    },
    {
      "cell_type": "code",
      "execution_count": 30,
      "metadata": {
        "id": "JOIQuZHrNG8Z",
        "colab": {
          "base_uri": "https://localhost:8080/"
        },
        "outputId": "6111bddf-5136-452b-c612-3798b5b90571"
      },
      "outputs": [
        {
          "output_type": "stream",
          "name": "stdout",
          "text": [
            "Result of addition: (6, 8)\n"
          ]
        }
      ],
      "source": [
        "class Vector:\n",
        "    def __init__(self, x, y):\n",
        "        self.x = x\n",
        "        self.y = y\n",
        "\n",
        "    # Overloading the + operator for Vector objects\n",
        "    def __add__(self, other):\n",
        "        return Vector(self.x + other.x, self.y + other.y)\n",
        "\n",
        "# Example usage\n",
        "v1 = Vector(2, 3)\n",
        "v2 = Vector(4, 5)\n",
        "result = v1 + v2\n",
        "print(f\"Result of addition: ({result.x}, {result.y})\")  # Output: Result of addition: (6, 8)\n"
      ]
    },
    {
      "cell_type": "markdown",
      "source": [
        "Example 2: Operator Overloading for Multiplication (*):"
      ],
      "metadata": {
        "id": "nTTjBbvKhXCa"
      }
    },
    {
      "cell_type": "code",
      "source": [
        "class Point:\n",
        "    def __init__(self, x, y):\n",
        "        self.x = x\n",
        "        self.y = y\n",
        "\n",
        "    # Overloading the * operator for Point objects\n",
        "    def __mul__(self, scalar):\n",
        "        return Point(self.x * scalar, self.y * scalar)\n",
        "\n",
        "# Example usage\n",
        "p1 = Point(2, 3)\n",
        "scalar = 2\n",
        "result = p1 * scalar\n",
        "print(f\"Result of multiplication: ({result.x}, {result.y})\")  # Output: Result of multiplication: (4, 6)\n"
      ],
      "metadata": {
        "colab": {
          "base_uri": "https://localhost:8080/"
        },
        "id": "UIywNElphZe3",
        "outputId": "978cb33f-2026-40b0-a7b2-b4625cbd2072"
      },
      "execution_count": 31,
      "outputs": [
        {
          "output_type": "stream",
          "name": "stdout",
          "text": [
            "Result of multiplication: (4, 6)\n"
          ]
        }
      ]
    },
    {
      "cell_type": "markdown",
      "metadata": {
        "id": "M_bsLbDtNHM5"
      },
      "source": [
        "16. What is dynamic polymorphism, and how is it achieved in Python?"
      ]
    },
    {
      "cell_type": "markdown",
      "source": [
        "Dynamic polymorphism, also known as runtime polymorphism or late binding, is a feature of object-oriented programming languages where the behavior of a method call is determined at runtime based on the actual type of the object. This allows different objects to respond to the same message or method call in different ways, depending on their specific implementations.\n",
        "\n",
        "In Python, dynamic polymorphism is achieved through method overriding and dynamic method resolution. Method overriding involves redefining a method in a subclass with the same name and signature as a method in its superclass. When a method is called on an object, Python looks up the method resolution order (MRO) to determine which method implementation to invoke, starting from the object's class and traversing the class hierarchy until a matching method is found.\n",
        "\n",
        "Key aspects of dynamic polymorphism in Python include:\n",
        "\n",
        "Method Overriding: Subclasses can provide their own implementation of methods inherited from a superclass, allowing for specialized behavior while still adhering to a common interface.\n",
        "\n",
        "Dynamic Method Resolution: Method calls are resolved at runtime based on the actual type of the object, allowing for flexibility and adaptability in method invocation.\n",
        "\n",
        "Common Interface: Objects of different classes can be treated uniformly through a common interface, enabling code reusability and flexibility.\n",
        "\n",
        "Here's an example demonstrating dynamic polymorphism in Python:"
      ],
      "metadata": {
        "id": "wsm4KzBzhxPq"
      }
    },
    {
      "cell_type": "code",
      "execution_count": 32,
      "metadata": {
        "id": "zyg_YXdtNJIz",
        "colab": {
          "base_uri": "https://localhost:8080/"
        },
        "outputId": "fce8b62e-0813-4f6a-9c33-3c8359285b98"
      },
      "outputs": [
        {
          "output_type": "stream",
          "name": "stdout",
          "text": [
            "Woof!\n",
            "Meow!\n"
          ]
        }
      ],
      "source": [
        "class Animal:\n",
        "    def speak(self):\n",
        "        return \"Generic animal sound\"\n",
        "\n",
        "class Dog(Animal):\n",
        "    def speak(self):\n",
        "        return \"Woof!\"\n",
        "\n",
        "class Cat(Animal):\n",
        "    def speak(self):\n",
        "        return \"Meow!\"\n",
        "\n",
        "# Dynamic polymorphism in action\n",
        "animals = [Dog(), Cat()]\n",
        "\n",
        "for animal in animals:\n",
        "    print(animal.speak())  # Output depends on the actual type of the object\n"
      ]
    },
    {
      "cell_type": "markdown",
      "metadata": {
        "id": "tgvC7niDNJnC"
      },
      "source": [
        "17. Create a Python class hierarchy for employees in a company (e.g., manager, developer, designer) and implement polymorphism through a common `calculate_salary()` method."
      ]
    },
    {
      "cell_type": "code",
      "execution_count": 33,
      "metadata": {
        "id": "BipX764YNN2A",
        "colab": {
          "base_uri": "https://localhost:8080/"
        },
        "outputId": "f979ff50-fa19-43e7-a3e7-3c7c41915096"
      },
      "outputs": [
        {
          "output_type": "stream",
          "name": "stdout",
          "text": [
            "6000\n",
            "4800\n",
            "5000\n"
          ]
        }
      ],
      "source": [
        "class Employee:\n",
        "    def __init__(self, name, salary):\n",
        "        self.name = name\n",
        "        self.salary = salary\n",
        "\n",
        "    def calculate_salary(self):\n",
        "        return self.salary\n",
        "\n",
        "class Manager(Employee):\n",
        "    def __init__(self, name, salary, bonus):\n",
        "        super().__init__(name, salary)\n",
        "        self.bonus = bonus\n",
        "\n",
        "    def calculate_salary(self):\n",
        "        total_salary = super().calculate_salary()\n",
        "        return total_salary + self.bonus\n",
        "\n",
        "class Developer(Employee):\n",
        "    def __init__(self, name, salary, bonus):\n",
        "        super().__init__(name, salary)\n",
        "        self.bonus = bonus\n",
        "\n",
        "    def calculate_salary(self):\n",
        "        total_salary = super().calculate_salary()\n",
        "        return total_salary + self.bonus\n",
        "\n",
        "class Designer(Employee):\n",
        "    def __init__(self, name, salary, commission):\n",
        "        super().__init__(name, salary)\n",
        "        self.commission = commission\n",
        "\n",
        "    def calculate_salary(self):\n",
        "        total_salary = super().calculate_salary()\n",
        "        return total_salary + self.commission\n",
        "\n",
        "# Example usage\n",
        "manager = Manager(\"Alice\", 5000, 1000)\n",
        "developer = Developer(\"Bob\", 4000, 800)\n",
        "designer = Designer(\"Charlie\", 4500, 500)\n",
        "\n",
        "print(manager.calculate_salary())   # Output: 6000\n",
        "print(developer.calculate_salary()) # Output: 4800\n",
        "print(designer.calculate_salary()) # Output: 5000\n"
      ]
    },
    {
      "cell_type": "markdown",
      "metadata": {
        "id": "MGT6iM59NOT6"
      },
      "source": [
        "18. Discuss the concept of function pointers and how they can be used to achieve polymorphism in Python."
      ]
    },
    {
      "cell_type": "markdown",
      "source": [
        "In Python, function pointers are not explicitly used as in languages like C or C++, where you can have variables that point to functions. However, Python functions are first-class citizens, which means they can be passed around as arguments to other functions, returned from functions, and assigned to variables. This flexibility allows for achieving polymorphism through functions in Python.\n",
        "\n",
        "Concept of Function Pointers:\n",
        "In languages like C or C++, function pointers are variables that store the address of a function in memory. They can be used to call different functions dynamically at runtime.\n",
        "Function pointers provide a way to achieve polymorphism by allowing different functions to be called through the same pointer, depending on the specific function assigned to it.\n",
        "\n",
        "Achieving Polymorphism in Python using Functions:\n",
        "In Python, polymorphism can be achieved through functions in several ways:\n",
        "\n",
        "Duck Typing: Python follows the principle of \"duck typing,\" where the suitability of an object for a particular operation is determined by the presence of the necessary methods or attributes, rather than its type. Functions can accept objects of different types as arguments and call methods on them, relying on the objects to implement the required behavior.\n",
        "\n",
        "Dynamic Dispatch: Python functions can dynamically dispatch method calls based on the actual type of the object. This allows for achieving polymorphism through method overriding, where subclasses provide their own implementations of methods inherited from a superclass.\n",
        "\n",
        "Common Interface: Functions can operate on objects of different classes through a common interface, allowing for code reusability and flexibility. This is particularly useful when implementing algorithms or operations that need to work with various types of objects.\n",
        "\n",
        "Example:"
      ],
      "metadata": {
        "id": "onOLOTuFjqmR"
      }
    },
    {
      "cell_type": "code",
      "execution_count": 34,
      "metadata": {
        "id": "bahbc5-hNQg4",
        "colab": {
          "base_uri": "https://localhost:8080/"
        },
        "outputId": "49ebcacd-7f7d-41ea-b2fb-424b56106440"
      },
      "outputs": [
        {
          "output_type": "stream",
          "name": "stdout",
          "text": [
            "Woof!\n",
            "Meow!\n"
          ]
        }
      ],
      "source": [
        "class Dog:\n",
        "    def sound(self):\n",
        "        return \"Woof!\"\n",
        "\n",
        "class Cat:\n",
        "    def sound(self):\n",
        "        return \"Meow!\"\n",
        "\n",
        "# Function accepting objects and calling their common method\n",
        "def make_sound(animal):\n",
        "    return animal.sound()\n",
        "\n",
        "# Example usage\n",
        "dog = Dog()\n",
        "cat = Cat()\n",
        "\n",
        "print(make_sound(dog))  # Output: Woof!\n",
        "print(make_sound(cat))  # Output: Meow!\n"
      ]
    },
    {
      "cell_type": "markdown",
      "metadata": {
        "id": "OgydfbaTNQ2g"
      },
      "source": [
        "19. Explain the role of interfaces and abstract classes in polymorphism, drawing comparisons between them."
      ]
    },
    {
      "cell_type": "markdown",
      "source": [
        "Interfaces and abstract classes play significant roles in achieving polymorphism in object-oriented programming, but they serve different purposes and have distinct characteristics.\n",
        "\n",
        "### Interfaces:\n",
        "1. **Purpose**: Interfaces define a contract for classes that implement them. They specify a set of methods that implementing classes must provide, without specifying the implementation details.\n",
        "2. **Characteristics**:\n",
        "   - Interfaces cannot contain implementation details, only method signatures.\n",
        "   - Classes can implement multiple interfaces.\n",
        "   - Interfaces enable loose coupling between classes by defining a common contract.\n",
        "   - Interfaces are used to achieve multiple inheritance of type.\n",
        "3. **Usage**:\n",
        "   - Interfaces are used to enforce a common behavior across unrelated classes.\n",
        "   - They provide a way to achieve polymorphism by allowing objects of different classes to be treated uniformly through a common interface.\n",
        "\n",
        "### Abstract Classes:\n",
        "1. **Purpose**: Abstract classes serve as blueprints for other classes. They can define methods with or without implementation details and may also have abstract methods that subclasses must implement.\n",
        "2. **Characteristics**:\n",
        "   - Abstract classes can contain both concrete methods with implementation and abstract methods without implementation.\n",
        "   - A class can inherit from only one abstract class, but it can inherit from multiple abstract classes through a hierarchy.\n",
        "   - Abstract classes can provide a default behavior that subclasses can override if needed.\n",
        "   - Abstract classes are used to model a general concept or behavior that can be refined by subclasses.\n",
        "3. **Usage**:\n",
        "   - Abstract classes are used when some common functionality among classes can be shared but not fully implemented in the base class.\n",
        "   - They are useful for defining a common interface with some default behavior, leaving specific implementation details to subclasses.\n",
        "   - Abstract classes are used for achieving polymorphism by providing a common interface and allowing subclasses to provide their own implementations.\n",
        "\n",
        "### Comparisons:\n",
        "1. **Definition**: Interfaces define a contract for classes to implement, while abstract classes provide a blueprint for subclasses to extend.\n",
        "2. **Implementation**: Interfaces cannot contain implementation details, only method signatures, while abstract classes can contain both concrete methods with implementation and abstract methods without implementation.\n",
        "3. **Inheritance**: A class can implement multiple interfaces, but it can inherit from only one abstract class. However, it can inherit from multiple abstract classes through a hierarchy.\n",
        "4. **Usage**: Interfaces are used for enforcing a common behavior across unrelated classes, while abstract classes are used for modeling a general concept with common functionality that can be shared among subclasses.\n",
        "\n",
        "In summary, interfaces and abstract classes are both important tools for achieving polymorphism in object-oriented programming, but they serve different purposes and are used in different contexts. Interfaces define contracts for classes to implement common behavior, while abstract classes provide a blueprint for defining common functionality and behavior that can be shared among subclasses."
      ],
      "metadata": {
        "id": "medEQNhZkROc"
      }
    },
    {
      "cell_type": "markdown",
      "metadata": {
        "id": "Cdm8Ka5ENTWI"
      },
      "source": [
        "20. Create a Python class for a zoo simulation, demonstrating polymorphism with different animal types (e.g., mammals, birds, reptiles) and their behavior (e.g., eating, sleeping, making sounds)."
      ]
    },
    {
      "cell_type": "code",
      "execution_count": 35,
      "metadata": {
        "id": "CGDaA57oNVSX",
        "colab": {
          "base_uri": "https://localhost:8080/"
        },
        "outputId": "cd5d0027-b552-455f-f94f-eb8e0ca3addf"
      },
      "outputs": [
        {
          "output_type": "stream",
          "name": "stdout",
          "text": [
            "Lion: Mammal sound\n",
            "Lion: Mammal eating\n",
            "Lion: Mammal sleeping\n",
            "\n",
            "Eagle: Bird sound\n",
            "Eagle: Bird eating\n",
            "Eagle: Bird sleeping\n",
            "\n",
            "Snake: Reptile sound\n",
            "Snake: Reptile eating\n",
            "Snake: Reptile sleeping\n",
            "\n"
          ]
        }
      ],
      "source": [
        "class Animal:\n",
        "    def __init__(self, name):\n",
        "        self.name = name\n",
        "\n",
        "    def make_sound(self):\n",
        "        pass\n",
        "\n",
        "    def eat(self):\n",
        "        pass\n",
        "\n",
        "    def sleep(self):\n",
        "        pass\n",
        "\n",
        "class Mammal(Animal):\n",
        "    def make_sound(self):\n",
        "        return \"Mammal sound\"\n",
        "\n",
        "    def eat(self):\n",
        "        return \"Mammal eating\"\n",
        "\n",
        "    def sleep(self):\n",
        "        return \"Mammal sleeping\"\n",
        "\n",
        "class Bird(Animal):\n",
        "    def make_sound(self):\n",
        "        return \"Bird sound\"\n",
        "\n",
        "    def eat(self):\n",
        "        return \"Bird eating\"\n",
        "\n",
        "    def sleep(self):\n",
        "        return \"Bird sleeping\"\n",
        "\n",
        "class Reptile(Animal):\n",
        "    def make_sound(self):\n",
        "        return \"Reptile sound\"\n",
        "\n",
        "    def eat(self):\n",
        "        return \"Reptile eating\"\n",
        "\n",
        "    def sleep(self):\n",
        "        return \"Reptile sleeping\"\n",
        "\n",
        "# Zoo class to simulate the zoo\n",
        "class Zoo:\n",
        "    def __init__(self):\n",
        "        self.animals = []\n",
        "\n",
        "    def add_animal(self, animal):\n",
        "        self.animals.append(animal)\n",
        "\n",
        "    def simulate(self):\n",
        "        for animal in self.animals:\n",
        "            print(f\"{animal.name}: {animal.make_sound()}\")\n",
        "            print(f\"{animal.name}: {animal.eat()}\")\n",
        "            print(f\"{animal.name}: {animal.sleep()}\")\n",
        "            print()\n",
        "\n",
        "# Example usage\n",
        "zoo = Zoo()\n",
        "zoo.add_animal(Mammal(\"Lion\"))\n",
        "zoo.add_animal(Bird(\"Eagle\"))\n",
        "zoo.add_animal(Reptile(\"Snake\"))\n",
        "\n",
        "zoo.simulate()\n"
      ]
    },
    {
      "cell_type": "markdown",
      "metadata": {
        "id": "AhFjdHMJNZOv"
      },
      "source": [
        "Abstraction:"
      ]
    },
    {
      "cell_type": "markdown",
      "metadata": {
        "id": "VM60LQs7NaWX"
      },
      "source": [
        "1. What is abstraction in Python, and how does it relate to object-oriented programming?"
      ]
    },
    {
      "cell_type": "markdown",
      "source": [
        "Abstraction in Python is a fundamental concept in object-oriented programming (OOP) that involves hiding the implementation details of a class or object and only exposing the essential features or functionalities. It allows developers to focus on what an object does rather than how it does it. Abstraction helps in managing complexity, reducing code duplication, and improving code readability and maintainability.\n",
        "\n",
        "Key Aspects of Abstraction in Python:\n",
        "\n",
        "Encapsulation: Abstraction is closely related to encapsulation, which involves bundling the data and methods that operate on the data within a single unit (i.e., a class). Encapsulation hides the internal state of an object from the outside world, and abstraction provides a simplified interface to interact with the object.\n",
        "\n",
        "Class and Object Interface: Abstraction defines a clear and concise interface for interacting with objects. It hides the internal implementation details and exposes only the essential methods and properties that are relevant to the user.\n",
        "\n",
        "Generalization: Abstraction allows for generalizing common behaviors or properties across different objects into abstract classes or interfaces. This promotes code reuse and modularity by providing a common template that can be extended or specialized by subclasses.\n",
        "\n",
        "Focus on What, Not How: Abstraction enables developers to focus on the high-level functionality of objects without needing to understand the internal implementation details. This promotes separation of concerns and improves the design and readability of the code.\n",
        "\n",
        "Example of Abstraction in Python:"
      ],
      "metadata": {
        "id": "H_S3BAc9llQa"
      }
    },
    {
      "cell_type": "code",
      "execution_count": 36,
      "metadata": {
        "id": "rvw6JvPqNctf",
        "colab": {
          "base_uri": "https://localhost:8080/"
        },
        "outputId": "ff1c45b9-841d-45d1-ba57-4a232dafd82d"
      },
      "outputs": [
        {
          "output_type": "stream",
          "name": "stdout",
          "text": [
            "Circle area: 78.5\n",
            "Rectangle area: 24\n"
          ]
        }
      ],
      "source": [
        "from abc import ABC, abstractmethod\n",
        "\n",
        "class Shape(ABC):\n",
        "    @abstractmethod\n",
        "    def area(self):\n",
        "        pass\n",
        "\n",
        "class Circle(Shape):\n",
        "    def __init__(self, radius):\n",
        "        self.radius = radius\n",
        "\n",
        "    def area(self):\n",
        "        return 3.14 * self.radius ** 2\n",
        "\n",
        "class Rectangle(Shape):\n",
        "    def __init__(self, width, height):\n",
        "        self.width = width\n",
        "        self.height = height\n",
        "\n",
        "    def area(self):\n",
        "        return self.width * self.height\n",
        "\n",
        "# Example usage\n",
        "circle = Circle(5)\n",
        "rectangle = Rectangle(4, 6)\n",
        "\n",
        "print(\"Circle area:\", circle.area())       # Output: Circle area: 78.5\n",
        "print(\"Rectangle area:\", rectangle.area()) # Output: Rectangle area: 24\n"
      ]
    },
    {
      "cell_type": "markdown",
      "metadata": {
        "id": "jpuvlbsYNdA2"
      },
      "source": [
        "2. Describe the benefits of abstraction in terms of code organization and complexity reduction."
      ]
    },
    {
      "cell_type": "markdown",
      "source": [
        "Abstraction offers several benefits in terms of code organization and complexity reduction in software development:\n",
        "\n",
        "1. **Modularity**: Abstraction helps break down a complex system into smaller, manageable modules. By defining abstract interfaces and hiding implementation details, abstraction allows developers to focus on individual components without worrying about the internal complexities of other modules.\n",
        "\n",
        "2. **Code Reusability**: Abstraction promotes code reuse by encapsulating common behaviors or functionalities into abstract classes or interfaces. These reusable components can be shared across different parts of the codebase, leading to less duplication and more efficient development.\n",
        "\n",
        "3. **Encapsulation of Complexity**: Abstraction encapsulates complexity by hiding the internal details of how a functionality is implemented. This reduces cognitive load on developers, as they only need to understand the high-level interface and behavior of the abstraction, rather than the intricate implementation details.\n",
        "\n",
        "4. **Ease of Maintenance**: Abstraction improves code maintainability by decoupling different parts of the system and reducing dependencies between them. Changes to the internal implementation of an abstraction can be made without affecting the external interfaces, minimizing the risk of unintended side effects.\n",
        "\n",
        "5. **Scalability**: Abstraction allows for easier scalability of the codebase as it grows. By organizing code into abstract, reusable components, developers can add new features or extend existing functionality more easily, without having to refactor large portions of the codebase.\n",
        "\n",
        "6. **Simplicity and Readability**: Abstraction promotes simplicity and readability by providing a clear and concise interface to interact with complex systems. Developers can focus on understanding the high-level concepts and relationships between different components, rather than getting bogged down in implementation details.\n",
        "\n",
        "7. **Improved Collaboration**: Abstraction facilitates collaboration among team members by providing a common language and set of abstractions to communicate about the system. It allows developers to work on different parts of the codebase independently, knowing that they can rely on well-defined interfaces and abstractions to interact with each other's code.\n",
        "\n",
        "Overall, abstraction plays a crucial role in code organization and complexity reduction by promoting modularity, code reuse, encapsulation of complexity, ease of maintenance, scalability, simplicity, readability, and improved collaboration among developers. It enables developers to build more robust, flexible, and maintainable software systems that can evolve over time to meet changing requirements."
      ],
      "metadata": {
        "id": "JCN6sVPjmIIR"
      }
    },
    {
      "cell_type": "markdown",
      "metadata": {
        "id": "2BmBjVQfNfYn"
      },
      "source": [
        "3. Create a Python class called `Shape` with an abstract method `calculate_area()`. Then, create child classes (e.g., `Circle`, `Rectangle`) that implement the `calculate_area()` method. Provide an example of\n",
        "using these classes."
      ]
    },
    {
      "cell_type": "code",
      "execution_count": 37,
      "metadata": {
        "id": "D3nJBCbsNiJv",
        "colab": {
          "base_uri": "https://localhost:8080/"
        },
        "outputId": "adc9a86a-b27a-4ae7-cc7f-153aed9b0c8f"
      },
      "outputs": [
        {
          "output_type": "stream",
          "name": "stdout",
          "text": [
            "Circle area: 78.53981633974483\n",
            "Rectangle area: 24\n"
          ]
        }
      ],
      "source": [
        "from abc import ABC, abstractmethod\n",
        "import math\n",
        "\n",
        "class Shape(ABC):\n",
        "    @abstractmethod\n",
        "    def calculate_area(self):\n",
        "        pass\n",
        "\n",
        "class Circle(Shape):\n",
        "    def __init__(self, radius):\n",
        "        self.radius = radius\n",
        "\n",
        "    def calculate_area(self):\n",
        "        return math.pi * self.radius ** 2\n",
        "\n",
        "class Rectangle(Shape):\n",
        "    def __init__(self, width, height):\n",
        "        self.width = width\n",
        "        self.height = height\n",
        "\n",
        "    def calculate_area(self):\n",
        "        return self.width * self.height\n",
        "\n",
        "# Example usage\n",
        "circle = Circle(5)\n",
        "rectangle = Rectangle(4, 6)\n",
        "\n",
        "print(\"Circle area:\", circle.calculate_area())       # Output: Circle area: 78.53981633974483\n",
        "print(\"Rectangle area:\", rectangle.calculate_area()) # Output: Rectangle area: 24\n"
      ]
    },
    {
      "cell_type": "markdown",
      "metadata": {
        "id": "Sf6A0-_uNiev"
      },
      "source": [
        "4. Explain the concept of abstract classes in Python and how they are defined using the `abc` module. Provide\n",
        "an example."
      ]
    },
    {
      "cell_type": "markdown",
      "source": [
        "Abstract classes in Python are classes that cannot be instantiated on their own and are designed to serve as base classes for other classes. They typically contain one or more abstract methods, which are methods declared but not implemented in the abstract class. Subclasses of an abstract class must implement all abstract methods, providing concrete implementations for each method, before they can be instantiated.\n",
        "\n",
        "In Python, abstract classes are defined using the abc (Abstract Base Classes) module, which provides the ABC class and the abstractmethod decorator for declaring abstract methods.\n",
        "\n",
        "Example of Defining Abstract Classes using the abc Module:"
      ],
      "metadata": {
        "id": "oawoEazDnHCv"
      }
    },
    {
      "cell_type": "code",
      "execution_count": 38,
      "metadata": {
        "id": "Vr_a4BZsNlCH",
        "colab": {
          "base_uri": "https://localhost:8080/"
        },
        "outputId": "1a819a32-bdc0-4ae2-82bc-5d078f387183"
      },
      "outputs": [
        {
          "output_type": "stream",
          "name": "stdout",
          "text": [
            "Circle area: 78.5\n",
            "Rectangle area: 24\n"
          ]
        }
      ],
      "source": [
        "from abc import ABC, abstractmethod\n",
        "\n",
        "class Shape(ABC):\n",
        "    @abstractmethod\n",
        "    def calculate_area(self):\n",
        "        pass\n",
        "\n",
        "class Circle(Shape):\n",
        "    def __init__(self, radius):\n",
        "        self.radius = radius\n",
        "\n",
        "    def calculate_area(self):\n",
        "        return 3.14 * self.radius ** 2\n",
        "\n",
        "class Rectangle(Shape):\n",
        "    def __init__(self, width, height):\n",
        "        self.width = width\n",
        "        self.height = height\n",
        "\n",
        "    def calculate_area(self):\n",
        "        return self.width * self.height\n",
        "\n",
        "# Example usage\n",
        "circle = Circle(5)\n",
        "rectangle = Rectangle(4, 6)\n",
        "\n",
        "print(\"Circle area:\", circle.calculate_area())       # Output: Circle area: 78.5\n",
        "print(\"Rectangle area:\", rectangle.calculate_area()) # Output: Rectangle area: 24\n"
      ]
    },
    {
      "cell_type": "markdown",
      "metadata": {
        "id": "XUmPeECJNlWH"
      },
      "source": [
        "5. How do abstract classes differ from regular classes in Python? Discuss their use cases."
      ]
    },
    {
      "cell_type": "markdown",
      "source": [
        "Abstract classes and regular classes in Python differ primarily in their intended use and behavior:\n",
        "\n",
        "Abstract Classes:\n",
        "Cannot be Instantiated: Abstract classes cannot be instantiated directly. They are designed to serve as blueprints for other classes and provide a common interface for a group of related classes.\n",
        "Contain Abstract Methods: Abstract classes may contain one or more abstract methods, which are declared but not implemented in the abstract class itself. Subclasses of an abstract class must provide concrete implementations for all abstract methods before they can be instantiated.\n",
        "Designed for Inheritance: Abstract classes are intended to be subclassed. They define a set of methods or behaviors that subclasses must implement, allowing for polymorphic behavior and enforcing a common interface across related classes.\n",
        "Enforce Structure and Interface: Abstract classes provide a way to enforce structure and interface in a class hierarchy. They define a contract that subclasses must adhere to, promoting consistency and ensuring that subclasses provide specific functionalities.\n",
        "Example Use Cases: Abstract classes are commonly used in scenarios where a group of related classes share common behaviors or functionalities but may have different implementations. For example, in geometric shapes, an abstract class Shape can define common methods like calculate_area() and calculate_perimeter(), with subclasses like Circle, Rectangle, and Triangle providing specific implementations for each shape.\n",
        "Regular Classes:\n",
        "Can be Instantiated: Regular classes can be instantiated directly to create objects. They define concrete implementations of methods and properties, and objects of regular classes can be created and used without any restrictions.\n",
        "May or May Not Have Inheritance: Regular classes may or may not inherit from other classes. They can define their own methods, properties, and behaviors without any requirement to adhere to a specific interface or contract.\n",
        "Flexibility in Design: Regular classes offer flexibility in design and implementation. They can be used to model a wide range of objects and behaviors without the constraints imposed by abstract classes.\n",
        "Example Use Cases: Regular classes are used when there is no need for enforcing a common interface or structure among related classes. They are suitable for modeling objects or entities with specific functionalities and behaviors, where there is no requirement for polymorphism or inheritance."
      ],
      "metadata": {
        "id": "Tx-qm23Yn3Sk"
      }
    },
    {
      "cell_type": "markdown",
      "metadata": {
        "id": "7HCtwuYcNn0u"
      },
      "source": [
        "6. Create a Python class for a bank account and demonstrate abstraction by hiding the account balance and\n",
        "providing methods to deposit and withdraw funds."
      ]
    },
    {
      "cell_type": "code",
      "execution_count": 39,
      "metadata": {
        "id": "CiY2x4qXNp8X",
        "colab": {
          "base_uri": "https://localhost:8080/"
        },
        "outputId": "bae74710-e056-4ad3-8ee7-8e7452613b36"
      },
      "outputs": [
        {
          "output_type": "stream",
          "name": "stdout",
          "text": [
            "Account Number: 123456789\n",
            "Current Balance: 1000\n",
            "Deposited $500. New balance: $1500\n",
            "Withdrew $200. New balance: $1300\n",
            "Current Balance: 1300\n"
          ]
        }
      ],
      "source": [
        "class BankAccount:\n",
        "    def __init__(self, account_number, initial_balance=0):\n",
        "        self._account_number = account_number\n",
        "        self._balance = initial_balance  # Account balance is hidden (abstraction)\n",
        "\n",
        "    def deposit(self, amount):\n",
        "        \"\"\"Deposit funds into the account.\"\"\"\n",
        "        if amount > 0:\n",
        "            self._balance += amount\n",
        "            print(f\"Deposited ${amount}. New balance: ${self._balance}\")\n",
        "        else:\n",
        "            print(\"Invalid deposit amount. Please enter a positive amount.\")\n",
        "\n",
        "    def withdraw(self, amount):\n",
        "        \"\"\"Withdraw funds from the account.\"\"\"\n",
        "        if 0 < amount <= self._balance:\n",
        "            self._balance -= amount\n",
        "            print(f\"Withdrew ${amount}. New balance: ${self._balance}\")\n",
        "        else:\n",
        "            print(\"Insufficient funds or invalid withdrawal amount.\")\n",
        "\n",
        "    def get_balance(self):\n",
        "        \"\"\"Get the current balance of the account.\"\"\"\n",
        "        return self._balance\n",
        "\n",
        "    def get_account_number(self):\n",
        "        \"\"\"Get the account number.\"\"\"\n",
        "        return self._account_number\n",
        "\n",
        "# Example usage\n",
        "account = BankAccount(\"123456789\", 1000)\n",
        "\n",
        "print(\"Account Number:\", account.get_account_number())  # Output: Account Number: 123456789\n",
        "print(\"Current Balance:\", account.get_balance())        # Output: Current Balance: 1000\n",
        "\n",
        "account.deposit(500)    # Output: Deposited $500. New balance: $1500\n",
        "account.withdraw(200)   # Output: Withdrew $200. New balance: $1300\n",
        "\n",
        "print(\"Current Balance:\", account.get_balance())        # Output: Current Balance: 1300\n"
      ]
    },
    {
      "cell_type": "markdown",
      "metadata": {
        "id": "uDL5zrMZNqUf"
      },
      "source": [
        "7. Discuss the concept of interface classes in Python and their role in achieving abstraction."
      ]
    },
    {
      "cell_type": "markdown",
      "source": [
        "In Python, interface classes are classes that define a set of method signatures without providing any implementation details. They serve as contracts or blueprints for classes that implement them, specifying the required methods that implementing classes must provide. Interface classes play a crucial role in achieving abstraction and enforcing a common interface across a group of related classes.\n",
        "\n",
        "Key Points about Interface Classes:\n",
        "Definition: Interface classes declare method signatures without providing any method implementations. They typically contain only abstract methods or methods with no implementation details.\n",
        "\n",
        "Role in Abstraction: Interface classes define a contract or interface that implementing classes must adhere to. By specifying the required methods, interface classes enforce a common behavior or functionality across related classes, promoting code consistency and interoperability.\n",
        "\n",
        "Enforcing Structure: Interface classes provide a structured way to define common behaviors or functionalities shared among multiple classes. They ensure that implementing classes provide specific functionalities, which helps in achieving code reliability and maintainability.\n",
        "\n",
        "Promoting Polymorphism: Interface classes enable polymorphism by allowing objects of different classes to be treated uniformly through a common interface. This promotes flexibility and code reuse, as objects of different classes can be used interchangeably wherever the interface is expected.\n",
        "\n",
        "Use Cases: Interface classes are commonly used in scenarios where a group of related classes share common behaviors or functionalities but may have different implementations. They are particularly useful in frameworks, libraries, and large-scale software systems where a well-defined interface is necessary for interoperability and extensibility.\n",
        "\n",
        "Example:"
      ],
      "metadata": {
        "id": "8KSxkgtCpBNt"
      }
    },
    {
      "cell_type": "code",
      "execution_count": 40,
      "metadata": {
        "id": "Dr0J9IvrNsVw",
        "colab": {
          "base_uri": "https://localhost:8080/"
        },
        "outputId": "d9ad39cd-135f-4c05-96c1-2742d5986dee"
      },
      "outputs": [
        {
          "output_type": "stream",
          "name": "stdout",
          "text": [
            "Circle area: 78.5\n",
            "Circle perimeter: 31.400000000000002\n",
            "Rectangle area: 24\n",
            "Rectangle perimeter: 20\n"
          ]
        }
      ],
      "source": [
        "from abc import ABC, abstractmethod\n",
        "\n",
        "class Shape(ABC):\n",
        "    @abstractmethod\n",
        "    def calculate_area(self):\n",
        "        pass\n",
        "\n",
        "    @abstractmethod\n",
        "    def calculate_perimeter(self):\n",
        "        pass\n",
        "\n",
        "class Circle(Shape):\n",
        "    def __init__(self, radius):\n",
        "        self.radius = radius\n",
        "\n",
        "    def calculate_area(self):\n",
        "        return 3.14 * self.radius ** 2\n",
        "\n",
        "    def calculate_perimeter(self):\n",
        "        return 2 * 3.14 * self.radius\n",
        "\n",
        "class Rectangle(Shape):\n",
        "    def __init__(self, width, height):\n",
        "        self.width = width\n",
        "        self.height = height\n",
        "\n",
        "    def calculate_area(self):\n",
        "        return self.width * self.height\n",
        "\n",
        "    def calculate_perimeter(self):\n",
        "        return 2 * (self.width + self.height)\n",
        "\n",
        "# Example usage\n",
        "circle = Circle(5)\n",
        "rectangle = Rectangle(4, 6)\n",
        "\n",
        "print(\"Circle area:\", circle.calculate_area())             # Output: Circle area: 78.5\n",
        "print(\"Circle perimeter:\", circle.calculate_perimeter())   # Output: Circle perimeter: 31.400000000000002\n",
        "print(\"Rectangle area:\", rectangle.calculate_area())       # Output: Rectangle area: 24\n",
        "print(\"Rectangle perimeter:\", rectangle.calculate_perimeter())  # Output: Rectangle perimeter: 20\n"
      ]
    },
    {
      "cell_type": "markdown",
      "metadata": {
        "id": "BVw3ix51NsrO"
      },
      "source": [
        "8. Create a Python class hierarchy for animals and implement abstraction by defining common methods (e.g., `eat()`, `sleep()`) in an abstract base class."
      ]
    },
    {
      "cell_type": "code",
      "execution_count": 41,
      "metadata": {
        "id": "muDiXvFiNvJH",
        "colab": {
          "base_uri": "https://localhost:8080/"
        },
        "outputId": "2818c02c-2246-459b-9cf7-c1df2a5761ca"
      },
      "outputs": [
        {
          "output_type": "stream",
          "name": "stdout",
          "text": [
            "Buddy is eating dog food.\n",
            "Whiskers is sleeping on the windowsill.\n",
            "Tweetie is pecking seeds.\n"
          ]
        }
      ],
      "source": [
        "from abc import ABC, abstractmethod\n",
        "\n",
        "class Animal(ABC):\n",
        "    def __init__(self, name):\n",
        "        self.name = name\n",
        "\n",
        "    @abstractmethod\n",
        "    def eat(self):\n",
        "        pass\n",
        "\n",
        "    @abstractmethod\n",
        "    def sleep(self):\n",
        "        pass\n",
        "\n",
        "class Dog(Animal):\n",
        "    def eat(self):\n",
        "        return f\"{self.name} is eating dog food.\"\n",
        "\n",
        "    def sleep(self):\n",
        "        return f\"{self.name} is sleeping in its dog bed.\"\n",
        "\n",
        "class Cat(Animal):\n",
        "    def eat(self):\n",
        "        return f\"{self.name} is eating cat food.\"\n",
        "\n",
        "    def sleep(self):\n",
        "        return f\"{self.name} is sleeping on the windowsill.\"\n",
        "\n",
        "class Bird(Animal):\n",
        "    def eat(self):\n",
        "        return f\"{self.name} is pecking seeds.\"\n",
        "\n",
        "    def sleep(self):\n",
        "        return f\"{self.name} is roosting in its nest.\"\n",
        "\n",
        "# Example usage\n",
        "dog = Dog(\"Buddy\")\n",
        "cat = Cat(\"Whiskers\")\n",
        "bird = Bird(\"Tweetie\")\n",
        "\n",
        "print(dog.eat())   # Output: Buddy is eating dog food.\n",
        "print(cat.sleep()) # Output: Whiskers is sleeping on the windowsill.\n",
        "print(bird.eat())  # Output: Tweetie is pecking seeds.\n"
      ]
    },
    {
      "cell_type": "markdown",
      "metadata": {
        "id": "s5AUeTzYNv6J"
      },
      "source": [
        "9. Explain the significance of encapsulation in achieving abstraction. Provide examples."
      ]
    },
    {
      "cell_type": "markdown",
      "source": [
        "Encapsulation and abstraction are closely related concepts in object-oriented programming, and encapsulation plays a significant role in achieving abstraction. Encapsulation refers to the bundling of data (attributes) and methods (functions) that operate on that data within a single unit (i.e., a class). It hides the internal state of an object from the outside world and provides controlled access to the object's properties and behaviors.\n",
        "\n",
        "Significance of Encapsulation in Achieving Abstraction:\n",
        "Hiding Implementation Details: Encapsulation hides the internal implementation details of a class from the outside world. It allows developers to define a public interface for interacting with the object while keeping the implementation details hidden, promoting abstraction.\n",
        "\n",
        "Data Protection: Encapsulation protects the integrity of the object's data by preventing direct access to its attributes from outside the class. This prevents unauthorized modification of the object's state and ensures that data remains consistent and valid.\n",
        "\n",
        "Abstraction of Complexity: Encapsulation abstracts away the complexity of the internal workings of a class, providing a simplified interface for interacting with objects. Users of the class do not need to understand how the object's methods are implemented; they only need to know how to use the public interface provided by the class.\n",
        "\n",
        "Promoting Reusability: Encapsulation promotes code reusability by bundling related data and behaviors into a single unit (i.e., a class). This makes it easier to reuse the class in different parts of the codebase or in different projects without having to duplicate code.\n",
        "\n",
        "Enforcing Modular Design: Encapsulation encourages modular design by dividing the code into smaller, more manageable units (i.e., classes). Each class encapsulates a specific set of functionalities, making the codebase easier to understand, maintain, and extend.\n",
        "\n",
        "Example:"
      ],
      "metadata": {
        "id": "8IRClXeUqRL2"
      }
    },
    {
      "cell_type": "code",
      "execution_count": 42,
      "metadata": {
        "id": "NK6SOQtWNzoG",
        "colab": {
          "base_uri": "https://localhost:8080/"
        },
        "outputId": "99e55d63-4f98-4af7-8c9d-fae1fd08a677"
      },
      "outputs": [
        {
          "output_type": "stream",
          "name": "stdout",
          "text": [
            "Current Speed: 20\n"
          ]
        }
      ],
      "source": [
        "class Car:\n",
        "    def __init__(self, make, model, year):\n",
        "        self._make = make       # Encapsulated attribute\n",
        "        self._model = model     # Encapsulated attribute\n",
        "        self._year = year       # Encapsulated attribute\n",
        "        self._speed = 0         # Encapsulated attribute\n",
        "\n",
        "    def accelerate(self, mph):\n",
        "        \"\"\"Accelerate the car.\"\"\"\n",
        "        self._speed += mph\n",
        "\n",
        "    def brake(self, mph):\n",
        "        \"\"\"Decelerate the car.\"\"\"\n",
        "        self._speed -= mph\n",
        "\n",
        "    def get_speed(self):\n",
        "        \"\"\"Get the current speed of the car.\"\"\"\n",
        "        return self._speed\n",
        "\n",
        "# Example usage\n",
        "my_car = Car(\"Toyota\", \"Camry\", 2022)\n",
        "my_car.accelerate(20)\n",
        "print(\"Current Speed:\", my_car.get_speed())  # Output: Current Speed: 20\n"
      ]
    },
    {
      "cell_type": "markdown",
      "metadata": {
        "id": "VaNHnNxJNz-i"
      },
      "source": [
        "10. What is the purpose of abstract methods, and how do they enforce abstraction in Python classes?"
      ]
    },
    {
      "cell_type": "markdown",
      "source": [
        "Abstract methods in Python serve as placeholders in abstract base classes (ABCs) that define method signatures without providing any implementation details. They enforce abstraction by specifying the required methods that concrete subclasses must implement, promoting a common interface and behavior across related classes.\n",
        "\n",
        "Purpose of Abstract Methods:\n",
        "Define a Contract: Abstract methods define a contract or interface that concrete subclasses must adhere to. They specify the required methods that subclasses must implement, ensuring consistency and interoperability across related classes.\n",
        "\n",
        "Enforce Structure: Abstract methods enforce a common structure and behavior across subclasses. By defining method signatures in the abstract base class, they ensure that subclasses provide specific functionalities, promoting code reliability and maintainability.\n",
        "\n",
        "Promote Polymorphism: Abstract methods enable polymorphism by allowing objects of different subclasses to be treated uniformly through a common interface. This promotes flexibility and code reuse, as objects of different classes can be used interchangeably wherever the abstract method is expected.\n",
        "\n",
        "Guide Subclass Implementation: Abstract methods guide the implementation of subclasses by specifying the required methods that must be provided. They serve as a roadmap for developers, indicating which functionalities need to be implemented in concrete subclasses.\n",
        "\n",
        "Enforcing Abstraction with Abstract Methods:\n",
        "Declaration without Implementation: Abstract methods in abstract base classes are declared using the @abstractmethod decorator, without providing any implementation details. This signals to subclasses that they must provide their own implementations of these methods.\n",
        "\n",
        "Mandatory Implementation: Concrete subclasses must implement all abstract methods defined in the abstract base class before they can be instantiated. Failure to do so will result in a TypeError at runtime, enforcing adherence to the interface defined by the abstract base class.\n",
        "\n",
        "Promoting Consistency: Abstract methods promote consistency by ensuring that all subclasses provide specific functionalities required by the abstract base class. This promotes code reliability and interoperability across related classes.\n",
        "\n",
        "Example:"
      ],
      "metadata": {
        "id": "-bcFii3Rsuga"
      }
    },
    {
      "cell_type": "code",
      "execution_count": 43,
      "metadata": {
        "id": "YpzSk_89N1_z",
        "colab": {
          "base_uri": "https://localhost:8080/"
        },
        "outputId": "e893a0ca-f837-430b-dc9e-2bd065eaebaa"
      },
      "outputs": [
        {
          "output_type": "stream",
          "name": "stdout",
          "text": [
            "Circle area: 78.5\n",
            "Circle perimeter: 31.400000000000002\n",
            "Rectangle area: 24\n",
            "Rectangle perimeter: 20\n"
          ]
        }
      ],
      "source": [
        "from abc import ABC, abstractmethod\n",
        "\n",
        "class Shape(ABC):\n",
        "    @abstractmethod\n",
        "    def calculate_area(self):\n",
        "        pass\n",
        "\n",
        "    @abstractmethod\n",
        "    def calculate_perimeter(self):\n",
        "        pass\n",
        "\n",
        "class Circle(Shape):\n",
        "    def __init__(self, radius):\n",
        "        self.radius = radius\n",
        "\n",
        "    def calculate_area(self):\n",
        "        return 3.14 * self.radius ** 2\n",
        "\n",
        "    def calculate_perimeter(self):\n",
        "        return 2 * 3.14 * self.radius\n",
        "\n",
        "class Rectangle(Shape):\n",
        "    def __init__(self, width, height):\n",
        "        self.width = width\n",
        "        self.height = height\n",
        "\n",
        "    def calculate_area(self):\n",
        "        return self.width * self.height\n",
        "\n",
        "    def calculate_perimeter(self):\n",
        "        return 2 * (self.width + self.height)\n",
        "\n",
        "# Example usage\n",
        "circle = Circle(5)\n",
        "rectangle = Rectangle(4, 6)\n",
        "\n",
        "print(\"Circle area:\", circle.calculate_area())             # Output: Circle area: 78.5\n",
        "print(\"Circle perimeter:\", circle.calculate_perimeter())   # Output: Circle perimeter: 31.400000000000002\n",
        "print(\"Rectangle area:\", rectangle.calculate_area())       # Output: Rectangle area: 24\n",
        "print(\"Rectangle perimeter:\", rectangle.calculate_perimeter())  # Output: Rectangle perimeter: 20\n"
      ]
    },
    {
      "cell_type": "markdown",
      "metadata": {
        "id": "QM78uhiXN2Ye"
      },
      "source": [
        "11. Create a Python class for a vehicle system and demonstrate abstraction by defining common methods (e.g., `start()`, `stop()`) in an abstract base class."
      ]
    },
    {
      "cell_type": "code",
      "execution_count": 44,
      "metadata": {
        "id": "gjSOnE-YN4qX",
        "colab": {
          "base_uri": "https://localhost:8080/"
        },
        "outputId": "696fe006-4850-4a96-f5a2-5e3ae2e5d218"
      },
      "outputs": [
        {
          "output_type": "stream",
          "name": "stdout",
          "text": [
            "Started the 2022 Toyota Camry.\n",
            "Stopped the 2022 Toyota Camry.\n",
            "Started the 2021 Harley-Davidson Street 750.\n",
            "Stopped the 2021 Harley-Davidson Street 750.\n"
          ]
        }
      ],
      "source": [
        "from abc import ABC, abstractmethod\n",
        "\n",
        "class Vehicle(ABC):\n",
        "    def __init__(self, make, model, year):\n",
        "        self.make = make\n",
        "        self.model = model\n",
        "        self.year = year\n",
        "        self.running = False\n",
        "\n",
        "    @abstractmethod\n",
        "    def start(self):\n",
        "        pass\n",
        "\n",
        "    @abstractmethod\n",
        "    def stop(self):\n",
        "        pass\n",
        "\n",
        "class Car(Vehicle):\n",
        "    def start(self):\n",
        "        if not self.running:\n",
        "            self.running = True\n",
        "            print(f\"Started the {self.year} {self.make} {self.model}.\")\n",
        "        else:\n",
        "            print(f\"The {self.year} {self.make} {self.model} is already running.\")\n",
        "\n",
        "    def stop(self):\n",
        "        if self.running:\n",
        "            self.running = False\n",
        "            print(f\"Stopped the {self.year} {self.make} {self.model}.\")\n",
        "        else:\n",
        "            print(f\"The {self.year} {self.make} {self.model} is already stopped.\")\n",
        "\n",
        "class Motorcycle(Vehicle):\n",
        "    def start(self):\n",
        "        if not self.running:\n",
        "            self.running = True\n",
        "            print(f\"Started the {self.year} {self.make} {self.model}.\")\n",
        "        else:\n",
        "            print(f\"The {self.year} {self.make} {self.model} is already running.\")\n",
        "\n",
        "    def stop(self):\n",
        "        if self.running:\n",
        "            self.running = False\n",
        "            print(f\"Stopped the {self.year} {self.make} {self.model}.\")\n",
        "        else:\n",
        "            print(f\"The {self.year} {self.make} {self.model} is already stopped.\")\n",
        "\n",
        "# Example usage\n",
        "car = Car(\"Toyota\", \"Camry\", 2022)\n",
        "motorcycle = Motorcycle(\"Harley-Davidson\", \"Street 750\", 2021)\n",
        "\n",
        "car.start()             # Output: Started the 2022 Toyota Camry.\n",
        "car.stop()              # Output: Stopped the 2022 Toyota Camry.\n",
        "motorcycle.start()     # Output: Started the 2021 Harley-Davidson Street 750.\n",
        "motorcycle.stop()      # Output: Stopped the 2021 Harley-Davidson Street 750.\n"
      ]
    },
    {
      "cell_type": "markdown",
      "metadata": {
        "id": "bpJT0XAzN4-e"
      },
      "source": [
        "12. Describe the use of abstract properties in Python and how they can be employed in abstract classes."
      ]
    },
    {
      "cell_type": "markdown",
      "source": [
        "Abstract properties in Python are properties that are declared in abstract base classes (ABCs) using the @property decorator without providing any implementation details. They serve as placeholders for attributes that must be implemented by concrete subclasses, enforcing abstraction and ensuring that subclasses adhere to a common interface.\n",
        "\n",
        "Use of Abstract Properties:\n",
        "Declaration without Implementation: Abstract properties are declared in abstract base classes using the @property decorator without defining any getter or setter methods. This signals to subclasses that they must provide their own implementations of these properties.\n",
        "\n",
        "Enforcing Structure: Abstract properties enforce a common structure and behavior across subclasses by specifying the required attributes that must be provided. They ensure that subclasses provide specific attributes required by the abstract base class, promoting code reliability and maintainability.\n",
        "\n",
        "Mandatory Implementation: Concrete subclasses must implement all abstract properties defined in the abstract base class before they can be instantiated. Failure to do so will result in a TypeError at runtime, enforcing adherence to the interface defined by the abstract base class.\n",
        "\n",
        "Example:"
      ],
      "metadata": {
        "id": "DF6kyA5btyPV"
      }
    },
    {
      "cell_type": "code",
      "execution_count": 45,
      "metadata": {
        "id": "8PiWMrh4N7E9",
        "colab": {
          "base_uri": "https://localhost:8080/"
        },
        "outputId": "e1281a7e-9076-462c-ca7f-0ee27a9ab24f"
      },
      "outputs": [
        {
          "output_type": "stream",
          "name": "stdout",
          "text": [
            "Started the 2022 Toyota Camry.\n",
            "Is car running? True\n",
            "Stopped the 2022 Toyota Camry.\n",
            "Is car running? False\n"
          ]
        }
      ],
      "source": [
        "from abc import ABC, abstractmethod\n",
        "\n",
        "class Vehicle(ABC):\n",
        "    def __init__(self, make, model, year):\n",
        "        self.make = make\n",
        "        self.model = model\n",
        "        self.year = year\n",
        "        self._running = False\n",
        "\n",
        "    @property\n",
        "    @abstractmethod\n",
        "    def running(self):\n",
        "        pass\n",
        "\n",
        "    @running.setter\n",
        "    @abstractmethod\n",
        "    def running(self, value):\n",
        "        pass\n",
        "\n",
        "    @abstractmethod\n",
        "    def start(self):\n",
        "        pass\n",
        "\n",
        "    @abstractmethod\n",
        "    def stop(self):\n",
        "        pass\n",
        "\n",
        "class Car(Vehicle):\n",
        "    def start(self):\n",
        "        if not self.running:\n",
        "            self.running = True\n",
        "            print(f\"Started the {self.year} {self.make} {self.model}.\")\n",
        "        else:\n",
        "            print(f\"The {self.year} {self.make} {self.model} is already running.\")\n",
        "\n",
        "    def stop(self):\n",
        "        if self.running:\n",
        "            self.running = False\n",
        "            print(f\"Stopped the {self.year} {self.make} {self.model}.\")\n",
        "        else:\n",
        "            print(f\"The {self.year} {self.make} {self.model} is already stopped.\")\n",
        "\n",
        "    @property\n",
        "    def running(self):\n",
        "        return self._running\n",
        "\n",
        "    @running.setter\n",
        "    def running(self, value):\n",
        "        self._running = value\n",
        "\n",
        "# Example usage\n",
        "car = Car(\"Toyota\", \"Camry\", 2022)\n",
        "car.start()             # Output: Started the 2022 Toyota Camry.\n",
        "print(\"Is car running?\", car.running)  # Output: Is car running? True\n",
        "car.stop()              # Output: Stopped the 2022 Toyota Camry.\n",
        "print(\"Is car running?\", car.running)  # Output: Is car running? False\n"
      ]
    },
    {
      "cell_type": "markdown",
      "metadata": {
        "id": "GFzVgPraN7gm"
      },
      "source": [
        "13. Create a Python class hierarchy for employees in a company (e.g., manager, developer, designer) and implement abstraction by defining a common `get_salary()` method."
      ]
    },
    {
      "cell_type": "code",
      "execution_count": 46,
      "metadata": {
        "id": "_5MDSni0N9qt",
        "colab": {
          "base_uri": "https://localhost:8080/"
        },
        "outputId": "e78f17e4-28d1-49e7-a43e-518c5e818a25"
      },
      "outputs": [
        {
          "output_type": "stream",
          "name": "stdout",
          "text": [
            "Manager's Salary: 80000\n",
            "Developer's Salary: 8000\n",
            "Designer's Salary: 65000.0\n"
          ]
        }
      ],
      "source": [
        "from abc import ABC, abstractmethod\n",
        "\n",
        "class Employee(ABC):\n",
        "    def __init__(self, name, employee_id):\n",
        "        self.name = name\n",
        "        self.employee_id = employee_id\n",
        "\n",
        "    @abstractmethod\n",
        "    def get_salary(self):\n",
        "        pass\n",
        "\n",
        "class Manager(Employee):\n",
        "    def __init__(self, name, employee_id, salary):\n",
        "        super().__init__(name, employee_id)\n",
        "        self.salary = salary\n",
        "\n",
        "    def get_salary(self):\n",
        "        return self.salary\n",
        "\n",
        "class Developer(Employee):\n",
        "    def __init__(self, name, employee_id, hourly_rate, hours_worked):\n",
        "        super().__init__(name, employee_id)\n",
        "        self.hourly_rate = hourly_rate\n",
        "        self.hours_worked = hours_worked\n",
        "\n",
        "    def get_salary(self):\n",
        "        return self.hourly_rate * self.hours_worked\n",
        "\n",
        "class Designer(Employee):\n",
        "    def __init__(self, name, employee_id, base_salary, commission_rate, sales):\n",
        "        super().__init__(name, employee_id)\n",
        "        self.base_salary = base_salary\n",
        "        self.commission_rate = commission_rate\n",
        "        self.sales = sales\n",
        "\n",
        "    def get_salary(self):\n",
        "        return self.base_salary + (self.commission_rate * self.sales)\n",
        "\n",
        "# Example usage\n",
        "manager = Manager(\"John Doe\", \"M001\", 80000)\n",
        "developer = Developer(\"Alice Smith\", \"D001\", 50, 160)\n",
        "designer = Designer(\"Bob Johnson\", \"DS001\", 60000, 0.1, 50000)\n",
        "\n",
        "print(\"Manager's Salary:\", manager.get_salary())     # Output: Manager's Salary: 80000\n",
        "print(\"Developer's Salary:\", developer.get_salary()) # Output: Developer's Salary: 8000\n",
        "print(\"Designer's Salary:\", designer.get_salary())   # Output: Designer's Salary: 65000\n"
      ]
    },
    {
      "cell_type": "markdown",
      "metadata": {
        "id": "D-Xhu-DDN-Do"
      },
      "source": [
        "14. Discuss the differences between abstract classes and concrete classes in Python, including their\n",
        "instantiation."
      ]
    },
    {
      "cell_type": "markdown",
      "source": [
        "Abstract classes and concrete classes in Python serve different purposes and have distinct characteristics, especially concerning instantiation.\n",
        "\n",
        "Abstract Classes:\n",
        "Purpose: Abstract classes are meant to be used as blueprints for other classes. They define methods and properties that must be implemented by subclasses but typically do not provide implementations for those methods.\n",
        "\n",
        "Characteristics:\n",
        "\n",
        "Abstract classes often contain one or more abstract methods, declared using the @abstractmethod decorator.\n",
        "They may also contain concrete methods with implementations.\n",
        "Abstract classes cannot be instantiated directly; they serve as templates for subclasses.\n",
        "Instantiation:\n",
        "\n",
        "Attempting to instantiate an abstract class directly will result in a TypeError.\n",
        "Subclasses of abstract classes must provide concrete implementations for all abstract methods defined in the abstract base class before they can be instantiated.\n",
        "Concrete Classes:\n",
        "Purpose: Concrete classes are fully implemented classes that can be instantiated directly. They may inherit from abstract classes or other concrete classes.\n",
        "\n",
        "Characteristics:\n",
        "\n",
        "Concrete classes provide concrete implementations for all methods and properties defined in the class, including any inherited abstract methods.\n",
        "They can be instantiated directly and used to create objects.\n",
        "Instantiation:\n",
        "\n",
        "Concrete classes can be instantiated using the standard object creation syntax, such as obj = ClassName().\n",
        "They may or may not inherit from abstract classes, but they must provide implementations for all abstract methods if they do inherit from abstract classes.\n",
        "\n",
        "\n",
        "Example:"
      ],
      "metadata": {
        "id": "wwojhD1Kvhgp"
      }
    },
    {
      "cell_type": "code",
      "source": [
        "from abc import ABC, abstractmethod\n",
        "\n",
        "# Abstract Class\n",
        "class Shape(ABC):\n",
        "    @abstractmethod\n",
        "    def area(self):\n",
        "        pass\n",
        "\n",
        "# Concrete Classes\n",
        "class Rectangle(Shape):\n",
        "    def __init__(self, width, height):\n",
        "        self.width = width\n",
        "        self.height = height\n",
        "\n",
        "    def area(self):\n",
        "        return self.width * self.height\n",
        "\n",
        "class Circle(Shape):\n",
        "    def __init__(self, radius):\n",
        "        self.radius = radius\n",
        "\n",
        "    def area(self):\n",
        "        return 3.14 * self.radius ** 2\n",
        "\n",
        "# Attempting to instantiate the abstract class directly will raise a TypeError\n",
        "# shape = Shape()  # TypeError: Can't instantiate abstract class Shape with abstract methods area\n",
        "\n",
        "# Instantiating concrete classes\n",
        "rectangle = Rectangle(5, 4)\n",
        "circle = Circle(3)\n",
        "\n",
        "print(\"Rectangle Area:\", rectangle.area())  # Output: Rectangle Area: 20\n",
        "print(\"Circle Area:\", circle.area())        # Output: Circle Area: 28.26\n"
      ],
      "metadata": {
        "colab": {
          "base_uri": "https://localhost:8080/"
        },
        "id": "t-FcyOBQveH9",
        "outputId": "eb5ffe01-d2a5-460d-d5c2-56a773b1dc21"
      },
      "execution_count": 47,
      "outputs": [
        {
          "output_type": "stream",
          "name": "stdout",
          "text": [
            "Rectangle Area: 20\n",
            "Circle Area: 28.26\n"
          ]
        }
      ]
    },
    {
      "cell_type": "markdown",
      "metadata": {
        "id": "nIX8W65mOBzO"
      },
      "source": [
        "15. Explain the concept of abstract data types (ADTs) and their role in achieving abstraction in Python."
      ]
    },
    {
      "cell_type": "markdown",
      "source": [
        "Abstract Data Types (ADTs) are theoretical models that define a set of operations on data without specifying the underlying implementation. They provide a high-level view of data structures and their associated operations, focusing on what operations are possible rather than how they are implemented. ADTs play a crucial role in achieving abstraction in Python and other programming languages by hiding the details of data manipulation and focusing on the interface provided to users.\n",
        "\n",
        "### Key Concepts of Abstract Data Types:\n",
        "\n",
        "1. **Data Structure**: ADTs define a specific data structure, such as lists, stacks, queues, trees, or graphs, along with operations that can be performed on that structure.\n",
        "\n",
        "2. **Operations**: ADTs specify a set of operations or methods that can be applied to the data structure. These operations include adding, removing, accessing, searching, and modifying elements in the data structure.\n",
        "\n",
        "3. **Encapsulation**: ADTs encapsulate the data and operations into a single unit, hiding the implementation details from the user. Users interact with ADTs through a well-defined interface, which promotes code reusability and maintainability.\n",
        "\n",
        "4. **Abstraction**: ADTs abstract away the complexity of data manipulation by providing a simplified view of data structures and their operations. Users do not need to understand how the operations are implemented; they only need to know how to use the provided interface.\n",
        "\n",
        "### Role of ADTs in Achieving Abstraction in Python:\n",
        "\n",
        "1. **Promoting Modularity**: ADTs promote modularity by encapsulating data and operations into reusable components. This allows developers to focus on implementing specific functionality without worrying about the underlying data structures.\n",
        "\n",
        "2. **Simplifying Complexity**: ADTs simplify the complexity of data manipulation by providing a high-level interface for interacting with data structures. Users can perform common operations without needing to understand the internal details of how those operations are implemented.\n",
        "\n",
        "3. **Code Reusability**: ADTs encourage code reusability by providing a standardized interface for data manipulation. Once an ADT is defined, it can be reused in multiple applications without modification, promoting code efficiency and reducing development time.\n",
        "\n",
        "4. **Enhancing Maintainability**: By hiding implementation details, ADTs make it easier to maintain and update code. Changes to the underlying data structure or implementation can be made without affecting the external interface provided by the ADT, minimizing the impact on other parts of the codebase.\n",
        "\n",
        "### Example:\n",
        "\n",
        "A common example of an ADT is the stack, which is a data structure that follows the Last-In-First-Out (LIFO) principle. The stack ADT defines operations such as `push()` to add elements to the stack, `pop()` to remove elements from the stack, and `peek()` to view the top element without removing it. Users interact with the stack ADT through these operations without needing to know how the stack is implemented internally. This abstraction allows developers to use stacks in various applications without worrying about the underlying details of how the operations are performed."
      ],
      "metadata": {
        "id": "XVOKnx6FwTWW"
      }
    },
    {
      "cell_type": "markdown",
      "metadata": {
        "id": "rq8SnJX8OEYu"
      },
      "source": [
        "16. Create a Python class for a computer system, demonstrating abstraction by defining common methods (e.g., `power_on()`, `shutdown()`) in an abstract base class."
      ]
    },
    {
      "cell_type": "code",
      "execution_count": 48,
      "metadata": {
        "id": "dJJqaxT6OGil",
        "colab": {
          "base_uri": "https://localhost:8080/"
        },
        "outputId": "639c842c-3eb4-4659-ba10-862ba3019dc0"
      },
      "outputs": [
        {
          "output_type": "stream",
          "name": "stdout",
          "text": [
            "Powered on the Dell OptiPlex 7010 desktop computer.\n",
            "Shutting down the Dell OptiPlex 7010 desktop computer.\n",
            "Powered on the HP EliteBook 840 G7 laptop computer.\n",
            "Shutting down the HP EliteBook 840 G7 laptop computer.\n"
          ]
        }
      ],
      "source": [
        "from abc import ABC, abstractmethod\n",
        "\n",
        "class ComputerSystem(ABC):\n",
        "    def __init__(self, brand, model):\n",
        "        self.brand = brand\n",
        "        self.model = model\n",
        "        self.powered_on = False\n",
        "\n",
        "    @abstractmethod\n",
        "    def power_on(self):\n",
        "        pass\n",
        "\n",
        "    @abstractmethod\n",
        "    def shutdown(self):\n",
        "        pass\n",
        "\n",
        "class DesktopComputer(ComputerSystem):\n",
        "    def power_on(self):\n",
        "        if not self.powered_on:\n",
        "            self.powered_on = True\n",
        "            print(f\"Powered on the {self.brand} {self.model} desktop computer.\")\n",
        "        else:\n",
        "            print(f\"The {self.brand} {self.model} desktop computer is already powered on.\")\n",
        "\n",
        "    def shutdown(self):\n",
        "        if self.powered_on:\n",
        "            self.powered_on = False\n",
        "            print(f\"Shutting down the {self.brand} {self.model} desktop computer.\")\n",
        "        else:\n",
        "            print(f\"The {self.brand} {self.model} desktop computer is already powered off.\")\n",
        "\n",
        "class LaptopComputer(ComputerSystem):\n",
        "    def power_on(self):\n",
        "        if not self.powered_on:\n",
        "            self.powered_on = True\n",
        "            print(f\"Powered on the {self.brand} {self.model} laptop computer.\")\n",
        "        else:\n",
        "            print(f\"The {self.brand} {self.model} laptop computer is already powered on.\")\n",
        "\n",
        "    def shutdown(self):\n",
        "        if self.powered_on:\n",
        "            self.powered_on = False\n",
        "            print(f\"Shutting down the {self.brand} {self.model} laptop computer.\")\n",
        "        else:\n",
        "            print(f\"The {self.brand} {self.model} laptop computer is already powered off.\")\n",
        "\n",
        "# Example usage\n",
        "desktop = DesktopComputer(\"Dell\", \"OptiPlex 7010\")\n",
        "laptop = LaptopComputer(\"HP\", \"EliteBook 840 G7\")\n",
        "\n",
        "desktop.power_on()       # Output: Powered on the Dell OptiPlex 7010 desktop computer.\n",
        "desktop.shutdown()      # Output: Shutting down the Dell OptiPlex 7010 desktop computer.\n",
        "laptop.power_on()       # Output: Powered on the HP EliteBook 840 G7 laptop computer.\n",
        "laptop.shutdown()      # Output: Shutting down the HP EliteBook 840 G7 laptop computer.\n"
      ]
    },
    {
      "cell_type": "markdown",
      "metadata": {
        "id": "XzHBhUZkOG_u"
      },
      "source": [
        "17. Discuss the benefits of using abstraction in large-scale software development projects."
      ]
    },
    {
      "cell_type": "markdown",
      "source": [
        "Using abstraction in large-scale software development projects offers several benefits that contribute to the overall success and manageability of the project:\n",
        "\n",
        "1. **Simplification of Complexity**: Abstraction allows developers to focus on high-level concepts and hide unnecessary implementation details. This simplifies the overall complexity of the system, making it easier to understand and maintain.\n",
        "\n",
        "2. **Modularity and Encapsulation**: Abstraction encourages modular design and encapsulation by breaking down a complex system into smaller, manageable components. Each component abstracts away its internal workings, providing a well-defined interface for interaction with other components.\n",
        "\n",
        "3. **Code Reusability**: Abstracting common functionalities into reusable components promotes code reusability. Once abstracted, these components can be reused across different parts of the project or in future projects, saving time and effort in development.\n",
        "\n",
        "4. **Flexibility and Scalability**: Abstraction facilitates changes and updates to the system by decoupling components and hiding implementation details. This makes it easier to modify or extend the system without impacting other parts of the codebase, enhancing flexibility and scalability.\n",
        "\n",
        "5. **Promotion of Best Practices**: Abstraction encourages the adoption of best practices such as separation of concerns, loose coupling, and high cohesion. By adhering to these principles, developers can create modular, maintainable, and extensible systems.\n",
        "\n",
        "6. **Enhanced Collaboration**: Abstraction provides clear boundaries between different components of the system, making it easier for teams to collaborate effectively. Each team can work on their assigned components independently without needing to understand the internal details of other components.\n",
        "\n",
        "7. **Ease of Testing and Debugging**: Abstracted components are typically easier to test and debug since they have well-defined interfaces and clearly defined responsibilities. This simplifies the testing process and improves the overall quality of the software.\n",
        "\n",
        "8. **Reduced Complexity Maintenance**: As the project evolves over time, abstraction helps manage complexity by isolating changes to specific components. This reduces the risk of unintended side effects and makes it easier to maintain the codebase in the long run.\n",
        "\n",
        "9. **Improved Documentation and Understanding**: Abstraction promotes clear and concise documentation by focusing on high-level concepts and interfaces. This improves the overall understanding of the system, making it easier for new developers to onboard and contribute to the project.\n",
        "\n",
        "In summary, abstraction is a fundamental principle in large-scale software development that promotes simplicity, modularity, reusability, flexibility, and collaboration. By abstracting away complexity and focusing on essential concepts, developers can build robust, maintainable, and scalable systems that meet the evolving needs of users and stakeholders."
      ],
      "metadata": {
        "id": "9_LSZPTzxiUE"
      }
    },
    {
      "cell_type": "markdown",
      "metadata": {
        "id": "6W6lTrPmOJVT"
      },
      "source": [
        "18. Explain how abstraction enhances code reusability and modularity in Python programs."
      ]
    },
    {
      "cell_type": "markdown",
      "source": [
        "Abstraction enhances code reusability and modularity in Python programs through several mechanisms:\n",
        "\n",
        "1. **Encapsulation of Implementation Details**: Abstraction allows developers to encapsulate implementation details within well-defined interfaces. By hiding the internal workings of components, developers can create reusable modules that can be used across different parts of the codebase without exposing unnecessary complexity.\n",
        "\n",
        "2. **Separation of Concerns**: Abstraction promotes the separation of concerns by breaking down a complex system into smaller, more manageable components. Each component focuses on a specific aspect of functionality, such as data storage, processing, or presentation, making it easier to understand, modify, and reuse.\n",
        "\n",
        "3. **Promotion of Interface-Based Design**: Abstraction encourages interface-based design, where components interact through clearly defined interfaces rather than relying on direct implementation details. This allows developers to swap out implementations easily without affecting other parts of the system, enhancing flexibility and modularity.\n",
        "\n",
        "4. **Reusable Components**: Abstracting common functionalities into reusable components promotes code reusability. Once abstracted, these components can be reused across different parts of the codebase or in future projects, saving time and effort in development.\n",
        "\n",
        "5. **Loose Coupling**: Abstraction helps minimize dependencies between different components of the system, promoting loose coupling. By decoupling components through well-defined interfaces, developers can modify or replace individual components without impacting other parts of the codebase.\n",
        "\n",
        "6. **Enhanced Testability and Debugging**: Abstracted components are typically easier to test and debug since they have well-defined interfaces and clearly defined responsibilities. This simplifies the testing process and improves the overall quality of the software.\n",
        "\n",
        "7. **Facilitation of Dependency Injection**: Abstraction facilitates the use of dependency injection, where dependencies are provided to components externally rather than hardcoded within the component itself. This makes it easier to swap out dependencies or provide alternative implementations, further enhancing flexibility and reusability.\n",
        "\n",
        "In Python, abstraction can be achieved through various mechanisms such as classes, functions, modules, and interfaces. By leveraging these mechanisms effectively, developers can create modular, reusable, and maintainable code that can adapt to changing requirements and scale effectively over time."
      ],
      "metadata": {
        "id": "wH2kwT2byLYQ"
      }
    },
    {
      "cell_type": "markdown",
      "metadata": {
        "id": "Bct-hiswOLtZ"
      },
      "source": [
        "19. Create a Python class for a library system, implementing abstraction by defining common methods (e.g., `add_book()`, `borrow_book()`) in an abstract base class."
      ]
    },
    {
      "cell_type": "code",
      "execution_count": 49,
      "metadata": {
        "id": "GvFJX0LVONv1",
        "colab": {
          "base_uri": "https://localhost:8080/"
        },
        "outputId": "35f263ed-2a2b-43dc-85f6-0d699fa6b041"
      },
      "outputs": [
        {
          "output_type": "stream",
          "name": "stdout",
          "text": [
            "Added book 'Python Programming' by John Doe with ID 101 to the library.\n",
            "Added book 'Data Structures and Algorithms' by Alice Smith with ID 102 to the library.\n",
            "Book with ID 101 has been borrowed by borrower ID A001.\n",
            "Book with ID 102 has been borrowed by borrower ID B002.\n",
            "Book with ID 101 has been returned to the library.\n",
            "Book with ID 102 has been returned to the library.\n"
          ]
        }
      ],
      "source": [
        "from abc import ABC, abstractmethod\n",
        "\n",
        "class LibrarySystem(ABC):\n",
        "    def __init__(self):\n",
        "        self.books = {}\n",
        "\n",
        "    @abstractmethod\n",
        "    def add_book(self, book_id, title, author):\n",
        "        pass\n",
        "\n",
        "    @abstractmethod\n",
        "    def borrow_book(self, book_id, borrower_id):\n",
        "        pass\n",
        "\n",
        "    @abstractmethod\n",
        "    def return_book(self, book_id):\n",
        "        pass\n",
        "\n",
        "class Library(LibrarySystem):\n",
        "    def add_book(self, book_id, title, author):\n",
        "        if book_id in self.books:\n",
        "            print(f\"Book with ID {book_id} already exists in the library.\")\n",
        "        else:\n",
        "            self.books[book_id] = {'title': title, 'author': author, 'available': True}\n",
        "            print(f\"Added book '{title}' by {author} with ID {book_id} to the library.\")\n",
        "\n",
        "    def borrow_book(self, book_id, borrower_id):\n",
        "        if book_id not in self.books:\n",
        "            print(f\"Book with ID {book_id} is not available in the library.\")\n",
        "        elif not self.books[book_id]['available']:\n",
        "            print(f\"Book with ID {book_id} is already borrowed.\")\n",
        "        else:\n",
        "            self.books[book_id]['available'] = False\n",
        "            print(f\"Book with ID {book_id} has been borrowed by borrower ID {borrower_id}.\")\n",
        "\n",
        "    def return_book(self, book_id):\n",
        "        if book_id not in self.books:\n",
        "            print(f\"Book with ID {book_id} is not available in the library.\")\n",
        "        elif self.books[book_id]['available']:\n",
        "            print(f\"Book with ID {book_id} is already available in the library.\")\n",
        "        else:\n",
        "            self.books[book_id]['available'] = True\n",
        "            print(f\"Book with ID {book_id} has been returned to the library.\")\n",
        "\n",
        "# Example usage\n",
        "library = Library()\n",
        "\n",
        "library.add_book(101, \"Python Programming\", \"John Doe\")\n",
        "library.add_book(102, \"Data Structures and Algorithms\", \"Alice Smith\")\n",
        "\n",
        "library.borrow_book(101, \"A001\")\n",
        "library.borrow_book(102, \"B002\")\n",
        "\n",
        "library.return_book(101)\n",
        "library.return_book(102)\n"
      ]
    },
    {
      "cell_type": "markdown",
      "metadata": {
        "id": "-1VOAHvvOOGG"
      },
      "source": [
        "20. Describe the concept of method abstraction in Python and how it relates to polymorphism."
      ]
    },
    {
      "cell_type": "markdown",
      "source": [
        "Method abstraction in Python involves defining methods in a way that hides their implementation details from the caller, focusing instead on the method's purpose and behavior. This concept is closely related to polymorphism, which allows objects of different types to be treated uniformly through a common interface.\n",
        "\n",
        "Method Abstraction:\n",
        "Hiding Implementation Details: Method abstraction allows developers to hide the internal implementation details of methods from the users of those methods. Users interact with the methods through a well-defined interface without needing to know how the methods are implemented.\n",
        "\n",
        "Focus on Interface: Method abstraction encourages focusing on the interface provided by methods rather than their internal workings. This promotes modularity, maintainability, and code reuse by allowing developers to change the implementation of a method without affecting its usage.\n",
        "\n",
        "Encapsulation: Method abstraction is a form of encapsulation, where methods encapsulate their behavior and provide a clear interface for interaction. Encapsulation helps manage complexity by hiding unnecessary details and promoting code organization.\n",
        "\n",
        "Relation to Polymorphism:\n",
        "Common Interface: Polymorphism allows objects of different types to be treated uniformly through a common interface. Method abstraction plays a crucial role in polymorphism by defining this common interface through abstract methods or method signatures.\n",
        "\n",
        "Dynamic Binding: Polymorphism enables dynamic method binding, where the appropriate method implementation is determined at runtime based on the actual type of the object. Method abstraction facilitates this dynamic binding by providing a common interface that can be implemented differently by different subclasses.\n",
        "\n",
        "Code Flexibility: By using method abstraction to define a common interface, developers can write code that is more flexible and adaptable to changes. Polymorphism then allows different implementations of the same interface to be used interchangeably, depending on the context.\n",
        "\n",
        "Example:"
      ],
      "metadata": {
        "id": "HIwNfW2xzxts"
      }
    },
    {
      "cell_type": "code",
      "execution_count": 50,
      "metadata": {
        "id": "8bluow8pORzN",
        "colab": {
          "base_uri": "https://localhost:8080/"
        },
        "outputId": "fb63f3cc-b09b-4fd1-f5ca-df5b78dc6791"
      },
      "outputs": [
        {
          "output_type": "stream",
          "name": "stdout",
          "text": [
            "Area: 20\n",
            "Area: 28.26\n"
          ]
        }
      ],
      "source": [
        "from abc import ABC, abstractmethod\n",
        "\n",
        "class Shape(ABC):\n",
        "    @abstractmethod\n",
        "    def calculate_area(self):\n",
        "        pass\n",
        "\n",
        "class Rectangle(Shape):\n",
        "    def __init__(self, width, height):\n",
        "        self.width = width\n",
        "        self.height = height\n",
        "\n",
        "    def calculate_area(self):\n",
        "        return self.width * self.height\n",
        "\n",
        "class Circle(Shape):\n",
        "    def __init__(self, radius):\n",
        "        self.radius = radius\n",
        "\n",
        "    def calculate_area(self):\n",
        "        return 3.14 * self.radius ** 2\n",
        "\n",
        "# Example usage\n",
        "shapes = [Rectangle(5, 4), Circle(3)]\n",
        "for shape in shapes:\n",
        "    print(\"Area:\", shape.calculate_area())\n"
      ]
    },
    {
      "cell_type": "markdown",
      "metadata": {
        "id": "WmNDlw7zOTVu"
      },
      "source": [
        "Composition:"
      ]
    },
    {
      "cell_type": "markdown",
      "metadata": {
        "id": "AIvaajtkOU_t"
      },
      "source": [
        "1. Explain the concept of composition in Python and how it is used to build complex objects from simpler ones."
      ]
    },
    {
      "cell_type": "markdown",
      "source": [
        "Composition in Python is a design principle that allows complex objects to be constructed by combining simpler objects or components. It involves creating classes that contain instances of other classes as attributes, forming a \"has-a\" relationship between the containing class and the contained classes.\n",
        "\n",
        "Key Concepts of Composition:\n",
        "\"Has-a\" Relationship: Composition establishes a \"has-a\" relationship between classes, where one class contains instances of other classes as its attributes. This relationship signifies that the containing class \"has\" instances of the contained classes.\n",
        "\n",
        "Building Blocks: Composition allows developers to break down complex objects into smaller, reusable components or building blocks. Each component encapsulates a specific functionality or behavior, promoting modularity and code reuse.\n",
        "\n",
        "Encapsulation: Composition promotes encapsulation by hiding the internal implementation details of the contained classes within the containing class. Clients interact with the containing class through a well-defined interface without needing to know the internal details of its components.\n",
        "\n",
        "Flexibility and Extensibility: Composition provides flexibility and extensibility by allowing objects to be composed dynamically at runtime. Components can be added, removed, or replaced to modify the behavior of the containing class without affecting its interface.\n",
        "\n",
        "Code Organization: Composition helps organize code by breaking down complex systems into smaller, more manageable components. This improves code readability, maintainability, and scalability, especially in large-scale projects.\n",
        "\n",
        "Example:"
      ],
      "metadata": {
        "id": "YPsGtSer0wfO"
      }
    },
    {
      "cell_type": "code",
      "execution_count": 51,
      "metadata": {
        "id": "8GzCFbE_OXHl",
        "colab": {
          "base_uri": "https://localhost:8080/"
        },
        "outputId": "981c26fb-1865-4f91-c584-9d723376a662"
      },
      "outputs": [
        {
          "output_type": "stream",
          "name": "stdout",
          "text": [
            "Toyota Camry starting...\n",
            "Engine started.\n",
            "Toyota Camry stopping...\n",
            "Engine stopped.\n"
          ]
        }
      ],
      "source": [
        "class Engine:\n",
        "    def start(self):\n",
        "        print(\"Engine started.\")\n",
        "\n",
        "    def stop(self):\n",
        "        print(\"Engine stopped.\")\n",
        "\n",
        "class Car:\n",
        "    def __init__(self, make, model):\n",
        "        self.make = make\n",
        "        self.model = model\n",
        "        self.engine = Engine()  # Composition: Car has an Engine\n",
        "\n",
        "    def start(self):\n",
        "        print(f\"{self.make} {self.model} starting...\")\n",
        "        self.engine.start()\n",
        "\n",
        "    def stop(self):\n",
        "        print(f\"{self.make} {self.model} stopping...\")\n",
        "        self.engine.stop()\n",
        "\n",
        "# Creating a Car object\n",
        "my_car = Car(\"Toyota\", \"Camry\")\n",
        "\n",
        "# Using composition to start and stop the car\n",
        "my_car.start()\n",
        "my_car.stop()\n"
      ]
    },
    {
      "cell_type": "markdown",
      "metadata": {
        "id": "GEnUGk4GOXjm"
      },
      "source": [
        "2. Describe the difference between composition and inheritance in object-oriented programming."
      ]
    },
    {
      "cell_type": "markdown",
      "source": [
        "Composition and inheritance are two fundamental concepts in object-oriented programming, each serving distinct purposes and exhibiting different characteristics:\n",
        "\n",
        "### Composition:\n",
        "\n",
        "1. **Relationship**: Composition establishes a \"has-a\" relationship between classes, where one class contains instances of other classes as its attributes.\n",
        "   \n",
        "2. **Code Reusability**: Composition promotes code reusability by allowing objects to be composed dynamically at runtime, enabling flexible and modular design.\n",
        "   \n",
        "3. **Encapsulation**: Composition encourages encapsulation by hiding the internal implementation details of the contained classes within the containing class. Clients interact with the containing class through a well-defined interface without needing to know the internal details of its components.\n",
        "   \n",
        "4. **Flexibility**: Composition provides flexibility and extensibility, as components can be added, removed, or replaced to modify the behavior of the containing class without affecting its interface.\n",
        "\n",
        "### Inheritance:\n",
        "\n",
        "1. **Relationship**: Inheritance establishes an \"is-a\" relationship between classes, where one class (subclass) inherits properties and behaviors from another class (superclass).\n",
        "   \n",
        "2. **Code Reuse and Extension**: Inheritance promotes code reuse by allowing subclasses to inherit and reuse the properties and behaviors of their superclasses. Subclasses can also extend or modify the behavior of their superclasses by overriding methods or adding new methods.\n",
        "   \n",
        "3. **Hierarchical Structure**: Inheritance creates a hierarchical structure among classes, where subclasses inherit properties and behaviors from their superclasses. This hierarchy can represent specialization and generalization relationships among classes.\n",
        "   \n",
        "4. **Polymorphism**: Inheritance facilitates polymorphism, where objects of different subclasses can be treated uniformly through a common superclass interface. This allows for more flexible and generic programming.\n",
        "\n",
        "### Comparison:\n",
        "\n",
        "1. **Relationship Type**: Composition establishes a \"has-a\" relationship, while inheritance establishes an \"is-a\" relationship.\n",
        "\n",
        "2. **Code Reusability vs. Specialization**: Composition focuses on code reusability and dynamic composition of objects, while inheritance focuses on code reuse and specialization through class hierarchies.\n",
        "\n",
        "3. **Encapsulation vs. Extension**: Composition promotes encapsulation and flexibility, allowing for more modular and flexible design. Inheritance promotes extension and specialization, enabling subclasses to inherit and modify the behavior of their superclasses.\n",
        "\n",
        "4. **Usage**: Composition is typically used to build complex objects from simpler components or building blocks, while inheritance is used to model specialization and generalization relationships among classes.\n",
        "\n",
        "In summary, composition and inheritance are both powerful mechanisms in object-oriented programming, each with its own strengths and use cases. Understanding the differences between them is crucial for designing effective and maintainable object-oriented systems."
      ],
      "metadata": {
        "id": "bqrPLv_r1ewd"
      }
    },
    {
      "cell_type": "markdown",
      "metadata": {
        "id": "pmDRmcw_Oao1"
      },
      "source": [
        "3. Create a Python class called `Author` with attributes for name and birthdate. Then, create a `Book` class\n",
        "that contains an instance of `Author` as a composition. Provide an example of creating a `Book` object."
      ]
    },
    {
      "cell_type": "code",
      "execution_count": 52,
      "metadata": {
        "id": "On_NWFzXOecE",
        "colab": {
          "base_uri": "https://localhost:8080/"
        },
        "outputId": "09494054-5835-4dcd-8f23-7475bbb52369"
      },
      "outputs": [
        {
          "output_type": "stream",
          "name": "stdout",
          "text": [
            "Title: Python Programming\n",
            "Author: John Doe\n",
            "Birthdate: 1975-03-15\n",
            "ISBN: 978-0-13-444432-1\n"
          ]
        }
      ],
      "source": [
        "class Author:\n",
        "    def __init__(self, name, birthdate):\n",
        "        self.name = name\n",
        "        self.birthdate = birthdate\n",
        "\n",
        "class Book:\n",
        "    def __init__(self, title, author, isbn):\n",
        "        self.title = title\n",
        "        self.author = author  # Composition: Book has an Author\n",
        "        self.isbn = isbn\n",
        "\n",
        "    def display_info(self):\n",
        "        print(\"Title:\", self.title)\n",
        "        print(\"Author:\", self.author.name)\n",
        "        print(\"Birthdate:\", self.author.birthdate)\n",
        "        print(\"ISBN:\", self.isbn)\n",
        "\n",
        "# Example usage\n",
        "author = Author(\"John Doe\", \"1975-03-15\")\n",
        "book = Book(\"Python Programming\", author, \"978-0-13-444432-1\")\n",
        "\n",
        "# Display book information\n",
        "book.display_info()\n"
      ]
    },
    {
      "cell_type": "markdown",
      "metadata": {
        "id": "zzUj7GdgOeyO"
      },
      "source": [
        "4. Discuss the benefits of using composition over inheritance in Python, especially in terms of code flexibility\n",
        "and reusability."
      ]
    },
    {
      "cell_type": "markdown",
      "source": [
        "Using composition over inheritance offers several benefits in terms of code flexibility and reusability in Python:\n",
        "\n",
        "Flexibility in Object Composition: Composition allows objects to be composed dynamically at runtime, enabling flexible and modular design. This flexibility allows developers to create complex objects by combining simpler components or building blocks, adapting to changing requirements and scenarios more easily.\n",
        "\n",
        "Reduced Coupling: Composition promotes loose coupling between classes, as objects are composed through their interfaces rather than through class hierarchies. This reduces the dependencies between classes, making the codebase more flexible and easier to maintain.\n",
        "\n",
        "Code Reusability: Composition promotes code reusability by allowing components to be reused across different parts of the codebase. Since objects are composed dynamically, components can be shared and reused in various contexts without inheriting implementation details from a common superclass.\n",
        "\n",
        "Encapsulation of Behavior: Composition encourages encapsulation by hiding the internal implementation details of components within the containing class. This encapsulation allows for better separation of concerns and promotes modularity, making it easier to understand and maintain the code.\n",
        "\n",
        "Better Support for Single Responsibility Principle (SRP): Composition encourages adherence to the Single Responsibility Principle by promoting the creation of smaller, more focused classes with well-defined responsibilities. Each class can focus on a specific aspect of functionality, leading to a more maintainable and extensible codebase.\n",
        "\n",
        "Avoidance of Fragile Base Class Problem: Composition helps avoid the Fragile Base Class Problem associated with deep class hierarchies in inheritance. Changes to a superclass can inadvertently affect all subclasses, leading to unintended side effects and maintenance challenges. Composition mitigates this risk by favoring object composition over class inheritance.\n",
        "\n",
        "Enhanced Testing and Debugging: Composition typically leads to classes with simpler, more focused functionality, making them easier to test and debug. Components can be tested independently, promoting a more robust and reliable testing strategy.\n",
        "\n",
        "Promotion of Design Patterns: Composition is a fundamental concept in many design patterns, such as the Decorator pattern and the Strategy pattern. By embracing composition, developers can leverage these design patterns to address various design challenges and create more flexible and maintainable solutions."
      ],
      "metadata": {
        "id": "oL1F30oy6Sax"
      }
    },
    {
      "cell_type": "markdown",
      "metadata": {
        "id": "2SfUhoXBOiD1"
      },
      "source": [
        "5. How can you implement composition in Python classes? Provide examples of using composition to create\n",
        "complex objects."
      ]
    },
    {
      "cell_type": "markdown",
      "source": [
        "In Python, composition can be implemented by creating classes that contain instances of other classes as attributes. Here's how you can implement composition in Python classes with examples:\n",
        "\n",
        "Example 1: Car and Engine"
      ],
      "metadata": {
        "id": "IO9NaFit6n2L"
      }
    },
    {
      "cell_type": "code",
      "execution_count": 53,
      "metadata": {
        "id": "k2-r-N7LOlDG",
        "colab": {
          "base_uri": "https://localhost:8080/"
        },
        "outputId": "138b3e10-a4e7-4eeb-b556-ffb05ff44aae"
      },
      "outputs": [
        {
          "output_type": "stream",
          "name": "stdout",
          "text": [
            "Starting the car...\n",
            "Engine started.\n",
            "Stopping the car...\n",
            "Engine stopped.\n"
          ]
        }
      ],
      "source": [
        "class Engine:\n",
        "    def start(self):\n",
        "        print(\"Engine started.\")\n",
        "\n",
        "    def stop(self):\n",
        "        print(\"Engine stopped.\")\n",
        "\n",
        "class Car:\n",
        "    def __init__(self):\n",
        "        self.engine = Engine()  # Composition: Car has an Engine\n",
        "\n",
        "    def start(self):\n",
        "        print(\"Starting the car...\")\n",
        "        self.engine.start()\n",
        "\n",
        "    def stop(self):\n",
        "        print(\"Stopping the car...\")\n",
        "        self.engine.stop()\n",
        "\n",
        "# Create a Car object\n",
        "my_car = Car()\n",
        "\n",
        "# Use composition to start and stop the car\n",
        "my_car.start()\n",
        "my_car.stop()\n"
      ]
    },
    {
      "cell_type": "markdown",
      "source": [
        "Example 2: Employee and Department"
      ],
      "metadata": {
        "id": "Bu4nnrWD6wcF"
      }
    },
    {
      "cell_type": "code",
      "source": [
        "class Department:\n",
        "    def __init__(self, name):\n",
        "        self.name = name\n",
        "\n",
        "class Employee:\n",
        "    def __init__(self, name, department):\n",
        "        self.name = name\n",
        "        self.department = department  # Composition: Employee belongs to a Department\n",
        "\n",
        "    def display_info(self):\n",
        "        print(f\"Name: {self.name}, Department: {self.department.name}\")\n",
        "\n",
        "# Create a Department object\n",
        "engineering_department = Department(\"Engineering\")\n",
        "\n",
        "# Create an Employee object\n",
        "employee = Employee(\"John Doe\", engineering_department)\n",
        "\n",
        "# Display employee information\n",
        "employee.display_info()\n"
      ],
      "metadata": {
        "colab": {
          "base_uri": "https://localhost:8080/"
        },
        "id": "aDsfsZXv6zVg",
        "outputId": "6410a258-2b3c-49bf-ee6a-1e0fd60cf57c"
      },
      "execution_count": 54,
      "outputs": [
        {
          "output_type": "stream",
          "name": "stdout",
          "text": [
            "Name: John Doe, Department: Engineering\n"
          ]
        }
      ]
    },
    {
      "cell_type": "markdown",
      "source": [
        "Example 3: Computer and CPU"
      ],
      "metadata": {
        "id": "8IZK8VVX64Kv"
      }
    },
    {
      "cell_type": "code",
      "source": [
        "class CPU:\n",
        "    def execute(self):\n",
        "        print(\"Executing instructions...\")\n",
        "\n",
        "class Computer:\n",
        "    def __init__(self):\n",
        "        self.cpu = CPU()  # Composition: Computer has a CPU\n",
        "\n",
        "    def work(self):\n",
        "        print(\"Computer is working...\")\n",
        "        self.cpu.execute()\n",
        "\n",
        "# Create a Computer object\n",
        "my_computer = Computer()\n",
        "\n",
        "# Use composition to make the computer work\n",
        "my_computer.work()\n"
      ],
      "metadata": {
        "colab": {
          "base_uri": "https://localhost:8080/"
        },
        "id": "mpVboDtF68XU",
        "outputId": "d20b9c81-8e74-45ca-8a08-1f1f0183e92f"
      },
      "execution_count": 55,
      "outputs": [
        {
          "output_type": "stream",
          "name": "stdout",
          "text": [
            "Computer is working...\n",
            "Executing instructions...\n"
          ]
        }
      ]
    },
    {
      "cell_type": "markdown",
      "metadata": {
        "id": "BeN1865VOnzs"
      },
      "source": [
        "6. Create a Python class hierarchy for a music player system, using composition to represent playlists and\n",
        "songs.6. Create a Python class hierarchy for a music player system, using composition to represent playlists and\n",
        "songs."
      ]
    },
    {
      "cell_type": "code",
      "execution_count": 56,
      "metadata": {
        "id": "X_IrDPYwOotU",
        "colab": {
          "base_uri": "https://localhost:8080/"
        },
        "outputId": "2be2c6e3-2306-44db-f02d-9759e295059f"
      },
      "outputs": [
        {
          "output_type": "stream",
          "name": "stdout",
          "text": [
            "Playing all songs in Pop Hits playlist:\n",
            "Playing: Shape of You - Ed Sheeran (240s)\n",
            "Playing: Believer - Imagine Dragons (210s)\n",
            "Playlist finished.\n",
            "\n",
            "Playing all songs in Favorite Songs playlist:\n",
            "Playing: Shape of You - Ed Sheeran (240s)\n",
            "Playing: Someone Like You - Adele (300s)\n",
            "Playlist finished.\n"
          ]
        }
      ],
      "source": [
        "class Song:\n",
        "    def __init__(self, title, artist, duration):\n",
        "        self.title = title\n",
        "        self.artist = artist\n",
        "        self.duration = duration\n",
        "\n",
        "    def play(self):\n",
        "        print(f\"Playing: {self.title} - {self.artist} ({self.duration}s)\")\n",
        "\n",
        "class Playlist:\n",
        "    def __init__(self, name):\n",
        "        self.name = name\n",
        "        self.songs = []\n",
        "\n",
        "    def add_song(self, song):\n",
        "        self.songs.append(song)\n",
        "\n",
        "    def remove_song(self, song):\n",
        "        if song in self.songs:\n",
        "            self.songs.remove(song)\n",
        "            print(f\"Removed {song.title} from {self.name} playlist.\")\n",
        "        else:\n",
        "            print(f\"{song.title} is not in {self.name} playlist.\")\n",
        "\n",
        "    def play_all(self):\n",
        "        print(f\"Playing all songs in {self.name} playlist:\")\n",
        "        for song in self.songs:\n",
        "            song.play()\n",
        "        print(\"Playlist finished.\")\n",
        "\n",
        "# Example usage\n",
        "song1 = Song(\"Shape of You\", \"Ed Sheeran\", 240)\n",
        "song2 = Song(\"Believer\", \"Imagine Dragons\", 210)\n",
        "song3 = Song(\"Someone Like You\", \"Adele\", 300)\n",
        "\n",
        "playlist1 = Playlist(\"Pop Hits\")\n",
        "playlist1.add_song(song1)\n",
        "playlist1.add_song(song2)\n",
        "\n",
        "playlist2 = Playlist(\"Favorite Songs\")\n",
        "playlist2.add_song(song1)\n",
        "playlist2.add_song(song3)\n",
        "\n",
        "playlist1.play_all()\n",
        "print()\n",
        "playlist2.play_all()\n"
      ]
    },
    {
      "cell_type": "markdown",
      "metadata": {
        "id": "hWr7mSjOOqx9"
      },
      "source": [
        "7. Explain the concept of \"has-a\" relationships in composition and how it helps design software systems."
      ]
    },
    {
      "cell_type": "markdown",
      "source": [
        "In software design, a \"has-a\" relationship refers to a relationship between two classes where one class contains an instance of another class as an attribute. This concept is central to composition, a design principle that emphasizes building complex objects by combining simpler components or building blocks.\n",
        "\n",
        "Key Points:\n",
        "Encapsulation of Components: Composition allows objects to encapsulate and contain other objects as attributes. This encapsulation promotes modularity and code reuse by breaking down complex systems into smaller, more manageable components.\n",
        "\n",
        "Flexibility and Modularity: By composing objects dynamically at runtime, developers can create flexible and modular software systems. Components can be added, removed, or replaced to modify the behavior of the containing class without affecting its interface.\n",
        "\n",
        "Promotion of Code Reusability: Composition promotes code reusability by allowing components to be reused across different parts of the codebase. Since objects are composed dynamically, components can be shared and reused in various contexts without inheriting implementation details from a common superclass.\n",
        "\n",
        "Clearer Abstractions and Separation of Concerns: Composition helps define clearer abstractions and separation of concerns by breaking down complex systems into smaller, more focused components. Each component can focus on a specific aspect of functionality, leading to more maintainable and extensible code.\n",
        "\n",
        "Reduced Coupling: Composition promotes loose coupling between classes, as objects are composed through their interfaces rather than through class hierarchies. This reduces the dependencies between classes, making the codebase more flexible and easier to maintain.\n",
        "\n",
        "Example:\n",
        "Consider a Car class that contains an instance of an Engine class:"
      ],
      "metadata": {
        "id": "4JSXKDhN8MQz"
      }
    },
    {
      "cell_type": "code",
      "execution_count": 57,
      "metadata": {
        "id": "oAJjhbi0Orul",
        "colab": {
          "base_uri": "https://localhost:8080/"
        },
        "outputId": "ae049194-f5b7-47c1-b375-124285796f04"
      },
      "outputs": [
        {
          "output_type": "stream",
          "name": "stdout",
          "text": [
            "Starting the car...\n",
            "Engine started.\n",
            "Stopping the car...\n",
            "Engine stopped.\n"
          ]
        }
      ],
      "source": [
        "class Engine:\n",
        "    def start(self):\n",
        "        print(\"Engine started.\")\n",
        "\n",
        "    def stop(self):\n",
        "        print(\"Engine stopped.\")\n",
        "\n",
        "class Car:\n",
        "    def __init__(self):\n",
        "        self.engine = Engine()  # Composition: Car has an Engine\n",
        "\n",
        "    def start(self):\n",
        "        print(\"Starting the car...\")\n",
        "        self.engine.start()\n",
        "\n",
        "    def stop(self):\n",
        "        print(\"Stopping the car...\")\n",
        "        self.engine.stop()\n",
        "\n",
        "# Example usage\n",
        "my_car = Car()\n",
        "my_car.start()\n",
        "my_car.stop()\n"
      ]
    },
    {
      "cell_type": "markdown",
      "metadata": {
        "id": "eutz-GykOtsr"
      },
      "source": [
        "8. Create a Python class for a computer system, using composition to represent components like CPU, RAM,\n",
        "and storage devices."
      ]
    },
    {
      "cell_type": "code",
      "execution_count": 58,
      "metadata": {
        "id": "WQhpyZoUOubL",
        "colab": {
          "base_uri": "https://localhost:8080/"
        },
        "outputId": "d19b64a2-a4e2-4efc-ac47-d45a6830ec0f"
      },
      "outputs": [
        {
          "output_type": "stream",
          "name": "stdout",
          "text": [
            "Booting the computer...\n",
            "Intel Core i5 CPU executing instructions...\n",
            "Computer booted successfully.\n"
          ]
        }
      ],
      "source": [
        "class CPU:\n",
        "    def __init__(self, model, frequency):\n",
        "        self.model = model\n",
        "        self.frequency = frequency\n",
        "\n",
        "    def execute(self):\n",
        "        print(f\"{self.model} CPU executing instructions...\")\n",
        "\n",
        "class RAM:\n",
        "    def __init__(self, capacity):\n",
        "        self.capacity = capacity\n",
        "\n",
        "    def read(self, address):\n",
        "        print(f\"Reading data from RAM at address {address}...\")\n",
        "\n",
        "    def write(self, address, data):\n",
        "        print(f\"Writing data {data} to RAM at address {address}...\")\n",
        "\n",
        "class Storage:\n",
        "    def __init__(self, capacity):\n",
        "        self.capacity = capacity\n",
        "\n",
        "    def read(self, sector):\n",
        "        print(f\"Reading data from storage at sector {sector}...\")\n",
        "\n",
        "    def write(self, sector, data):\n",
        "        print(f\"Writing data {data} to storage at sector {sector}...\")\n",
        "\n",
        "class Computer:\n",
        "    def __init__(self, cpu_model, cpu_frequency, ram_capacity, storage_capacity):\n",
        "        self.cpu = CPU(cpu_model, cpu_frequency)\n",
        "        self.ram = RAM(ram_capacity)\n",
        "        self.storage = Storage(storage_capacity)\n",
        "\n",
        "    def boot(self):\n",
        "        print(\"Booting the computer...\")\n",
        "        self.cpu.execute()\n",
        "        print(\"Computer booted successfully.\")\n",
        "\n",
        "# Example usage\n",
        "my_computer = Computer(\"Intel Core i5\", \"3.5GHz\", \"8GB\", \"1TB\")\n",
        "my_computer.boot()\n"
      ]
    },
    {
      "cell_type": "markdown",
      "metadata": {
        "id": "XvGbNiSuOwcT"
      },
      "source": [
        "9. Describe the concept of \"delegation\" in composition and how it simplifies the design of complex systems."
      ]
    },
    {
      "cell_type": "markdown",
      "source": [
        "Delegation in composition refers to the process of passing responsibility for a task or operation from one object to another. It simplifies the design of complex systems by allowing objects to collaborate and share functionality without inheriting from a common superclass.\n",
        "\n",
        "Key Points:\n",
        "Encapsulation of Responsibilities: Delegation allows objects to encapsulate specific responsibilities or behaviors and delegate them to other objects. This promotes modularity and code reuse by breaking down complex systems into smaller, more manageable components.\n",
        "\n",
        "Clearer Abstractions: Delegation helps define clearer abstractions and separation of concerns by assigning specific tasks to objects with relevant expertise. Each object can focus on its area of responsibility, leading to more maintainable and extensible code.\n",
        "\n",
        "Promotion of Loose Coupling: Delegation promotes loose coupling between objects, as it allows objects to interact through well-defined interfaces rather than through class hierarchies. This reduces dependencies and increases flexibility, making the system easier to maintain and evolve.\n",
        "\n",
        "Flexibility and Modularity: Delegation enables flexible and modular design by allowing objects to collaborate dynamically at runtime. Components can be added, removed, or replaced to modify the behavior of the system without affecting its overall structure.\n",
        "\n",
        "Promotion of Composition over Inheritance: Delegation encourages the use of composition over inheritance, as it allows objects to collaborate through composition rather than through inheritance hierarchies. This leads to more flexible and maintainable codebases, as objects can be composed dynamically to achieve desired functionality.\n",
        "\n",
        "Example:\n",
        "Consider a Car class that delegates the responsibility of starting the engine to an Engine object:"
      ],
      "metadata": {
        "id": "OVtmt1bB9Xpc"
      }
    },
    {
      "cell_type": "code",
      "execution_count": 59,
      "metadata": {
        "id": "z4JxfY9vOxPc",
        "colab": {
          "base_uri": "https://localhost:8080/"
        },
        "outputId": "ff525b6e-fd97-46f5-bcfb-41f0fef9e89a"
      },
      "outputs": [
        {
          "output_type": "stream",
          "name": "stdout",
          "text": [
            "Starting the car...\n",
            "Engine started.\n"
          ]
        }
      ],
      "source": [
        "class Engine:\n",
        "    def start(self):\n",
        "        print(\"Engine started.\")\n",
        "\n",
        "class Car:\n",
        "    def __init__(self, engine):\n",
        "        self.engine = engine\n",
        "\n",
        "    def start(self):\n",
        "        print(\"Starting the car...\")\n",
        "        self.engine.start()\n",
        "\n",
        "# Example usage\n",
        "engine = Engine()\n",
        "my_car = Car(engine)\n",
        "my_car.start()\n"
      ]
    },
    {
      "cell_type": "markdown",
      "metadata": {
        "id": "rwMVMnxJOy0r"
      },
      "source": [
        "10. Create a Python class for a car, using composition to represent components like the engine, wheels, and\n",
        "transmission."
      ]
    },
    {
      "cell_type": "code",
      "execution_count": 60,
      "metadata": {
        "id": "LuRZpFBsO04L",
        "colab": {
          "base_uri": "https://localhost:8080/"
        },
        "outputId": "3f8c0485-6de4-4924-9d20-67f7785c5fd3"
      },
      "outputs": [
        {
          "output_type": "stream",
          "name": "stdout",
          "text": [
            "Starting the car...\n",
            "Engine started.\n",
            "Wheel rotating...\n",
            "Wheel rotating...\n",
            "Wheel rotating...\n",
            "Wheel rotating...\n",
            "Car started.\n",
            "Shifting to gear 1.\n",
            "Stopping the car...\n",
            "Engine stopped.\n",
            "Car stopped.\n"
          ]
        }
      ],
      "source": [
        "class Engine:\n",
        "    def start(self):\n",
        "        print(\"Engine started.\")\n",
        "\n",
        "    def stop(self):\n",
        "        print(\"Engine stopped.\")\n",
        "\n",
        "class Wheel:\n",
        "    def rotate(self):\n",
        "        print(\"Wheel rotating...\")\n",
        "\n",
        "class Transmission:\n",
        "    def shift_gear(self, gear):\n",
        "        print(f\"Shifting to gear {gear}.\")\n",
        "\n",
        "class Car:\n",
        "    def __init__(self):\n",
        "        self.engine = Engine()\n",
        "        self.wheels = [Wheel() for _ in range(4)]  # Four wheels\n",
        "        self.transmission = Transmission()\n",
        "\n",
        "    def start(self):\n",
        "        print(\"Starting the car...\")\n",
        "        self.engine.start()\n",
        "        for wheel in self.wheels:\n",
        "            wheel.rotate()\n",
        "        print(\"Car started.\")\n",
        "\n",
        "    def stop(self):\n",
        "        print(\"Stopping the car...\")\n",
        "        self.engine.stop()\n",
        "        print(\"Car stopped.\")\n",
        "\n",
        "    def change_gear(self, gear):\n",
        "        self.transmission.shift_gear(gear)\n",
        "\n",
        "# Example usage\n",
        "my_car = Car()\n",
        "my_car.start()\n",
        "my_car.change_gear(1)\n",
        "my_car.stop()\n"
      ]
    },
    {
      "cell_type": "markdown",
      "metadata": {
        "id": "Ud9BM0ITO1mK"
      },
      "source": [
        "11. How can you encapsulate and hide the details of composed objects in Python classes to maintain\n",
        "abstraction?"
      ]
    },
    {
      "cell_type": "markdown",
      "source": [
        "In Python, you can encapsulate and hide the details of composed objects in classes to maintain abstraction by following these principles:\n",
        "\n",
        "Use Private Attributes and Methods: Declare attributes and methods of composed objects as private by prefixing them with double underscores (__). This prevents direct access to these attributes and methods from outside the class, enforcing encapsulation.\n",
        "\n",
        "Provide Public Interfaces: Define public methods in the containing class that serve as interfaces for interacting with composed objects. These methods should delegate operations to the composed objects while hiding their internal details.\n",
        "\n",
        "Limit Direct Access: Restrict direct access to composed objects by providing controlled access through getter and setter methods. This allows you to validate and control access to composed objects' attributes, maintaining data integrity.\n",
        "\n",
        "Implement Abstraction Layers: Introduce abstraction layers between the containing class and composed objects, hiding implementation details and exposing high-level functionality through well-defined interfaces.\n",
        "\n",
        "Document Interface Contracts: Document the public interfaces and contracts of composed objects to provide guidance on how they should be used. This helps developers understand how to interact with composed objects without needing to know their internal details.\n",
        "\n",
        "Here's an example demonstrating encapsulation and abstraction in a Python class containing a composed object:"
      ],
      "metadata": {
        "id": "qUe4pXfQ_xaw"
      }
    },
    {
      "cell_type": "code",
      "execution_count": 61,
      "metadata": {
        "id": "GQVLerBCO3qr",
        "colab": {
          "base_uri": "https://localhost:8080/"
        },
        "outputId": "61008b19-0e90-4f9a-89f2-a3632ac686e2"
      },
      "outputs": [
        {
          "output_type": "stream",
          "name": "stdout",
          "text": [
            "Starting the car...\n",
            "Engine started.\n",
            "Fuel level: 120\n",
            "Stopping the car...\n",
            "Engine stopped.\n"
          ]
        }
      ],
      "source": [
        "class Engine:\n",
        "    def __init__(self):\n",
        "        self.__fuel_level = 100  # Private attribute\n",
        "\n",
        "    def start(self):\n",
        "        print(\"Engine started.\")\n",
        "\n",
        "    def stop(self):\n",
        "        print(\"Engine stopped.\")\n",
        "\n",
        "    def refuel(self, amount):\n",
        "        self.__fuel_level += amount\n",
        "\n",
        "    def get_fuel_level(self):  # Getter method\n",
        "        return self.__fuel_level\n",
        "\n",
        "class Car:\n",
        "    def __init__(self):\n",
        "        self.__engine = Engine()  # Composed object\n",
        "\n",
        "    def start(self):\n",
        "        print(\"Starting the car...\")\n",
        "        self.__engine.start()\n",
        "\n",
        "    def stop(self):\n",
        "        print(\"Stopping the car...\")\n",
        "        self.__engine.stop()\n",
        "\n",
        "    def refuel(self, amount):\n",
        "        self.__engine.refuel(amount)\n",
        "\n",
        "    def get_fuel_level(self):  # Delegated method\n",
        "        return self.__engine.get_fuel_level()\n",
        "\n",
        "# Example usage\n",
        "my_car = Car()\n",
        "my_car.start()\n",
        "my_car.refuel(20)\n",
        "print(\"Fuel level:\", my_car.get_fuel_level())\n",
        "my_car.stop()\n"
      ]
    },
    {
      "cell_type": "markdown",
      "metadata": {
        "id": "Ct89jsLfO3_z"
      },
      "source": [
        "12. Create a Python class for a university course, using composition to represent students, instructors, and\n",
        "course materials."
      ]
    },
    {
      "cell_type": "code",
      "execution_count": 62,
      "metadata": {
        "id": "On2cSzpfO50T",
        "colab": {
          "base_uri": "https://localhost:8080/"
        },
        "outputId": "8e6bdb7b-fcee-49ab-812f-b731de12ed84"
      },
      "outputs": [
        {
          "output_type": "stream",
          "name": "stdout",
          "text": [
            "Course: CS101 - Introduction to Python Programming\n",
            "Instructor: Dr. Smith\n",
            "Students:\n",
            "- Alice\n",
            "- Bob\n",
            "Course Materials:\n",
            "- Lecture Slides\n",
            "- Assignments\n"
          ]
        }
      ],
      "source": [
        "class Student:\n",
        "    def __init__(self, name, student_id):\n",
        "        self.name = name\n",
        "        self.student_id = student_id\n",
        "\n",
        "class Instructor:\n",
        "    def __init__(self, name, instructor_id):\n",
        "        self.name = name\n",
        "        self.instructor_id = instructor_id\n",
        "\n",
        "class CourseMaterial:\n",
        "    def __init__(self, title, content):\n",
        "        self.title = title\n",
        "        self.content = content\n",
        "\n",
        "class UniversityCourse:\n",
        "    def __init__(self, course_code, course_name, instructor, students, course_materials):\n",
        "        self.course_code = course_code\n",
        "        self.course_name = course_name\n",
        "        self.instructor = instructor\n",
        "        self.students = students\n",
        "        self.course_materials = course_materials\n",
        "\n",
        "    def display_course_info(self):\n",
        "        print(f\"Course: {self.course_code} - {self.course_name}\")\n",
        "        print(\"Instructor:\", self.instructor.name)\n",
        "        print(\"Students:\")\n",
        "        for student in self.students:\n",
        "            print(f\"- {student.name}\")\n",
        "        print(\"Course Materials:\")\n",
        "        for material in self.course_materials:\n",
        "            print(f\"- {material.title}\")\n",
        "\n",
        "# Example usage\n",
        "student1 = Student(\"Alice\", \"S001\")\n",
        "student2 = Student(\"Bob\", \"S002\")\n",
        "\n",
        "instructor = Instructor(\"Dr. Smith\", \"I001\")\n",
        "\n",
        "material1 = CourseMaterial(\"Lecture Slides\", \"Introduction to Python\")\n",
        "material2 = CourseMaterial(\"Assignments\", \"Python programming assignments\")\n",
        "\n",
        "students = [student1, student2]\n",
        "materials = [material1, material2]\n",
        "\n",
        "course = UniversityCourse(\"CS101\", \"Introduction to Python Programming\", instructor, students, materials)\n",
        "course.display_course_info()\n"
      ]
    },
    {
      "cell_type": "markdown",
      "metadata": {
        "id": "lq7dz9q5O6JU"
      },
      "source": [
        "13. Discuss the challenges and drawbacks of composition, such as increased complexity and potential for\n",
        "tight coupling between objects."
      ]
    },
    {
      "cell_type": "markdown",
      "source": [
        "While composition offers several benefits, it also comes with its own set of challenges and drawbacks, including:\n",
        "\n",
        "1. **Increased Complexity**: As the number of composed objects grows, the complexity of managing interactions between them can increase. This complexity can make the codebase harder to understand, maintain, and debug.\n",
        "\n",
        "2. **Potential for Tight Coupling**: Composition can lead to tight coupling between objects if the containing class directly accesses or manipulates the internal state of composed objects. This tight coupling can make it difficult to modify or extend the system without affecting other components.\n",
        "\n",
        "3. **Dependency Management**: Managing dependencies between composed objects can become challenging, especially in large systems with complex object graphs. Changes to one object may require modifications to multiple other objects, leading to cascading changes and potential maintenance issues.\n",
        "\n",
        "4. **Object Creation Overhead**: Creating and managing multiple composed objects can introduce overhead, especially if objects need to be created dynamically at runtime. This overhead can impact performance and memory usage, particularly in resource-constrained environments.\n",
        "\n",
        "5. **Inheritance vs. Composition**: Choosing between inheritance and composition can be challenging, as both approaches have their own trade-offs. Composition can lead to more flexible and modular designs, but it requires careful planning to avoid tight coupling and excessive complexity.\n",
        "\n",
        "6. **Duplication of Functionality**: Composed objects may duplicate functionality already provided by other objects in the system. This duplication can lead to code redundancy and increase the risk of inconsistencies or bugs.\n",
        "\n",
        "7. **Interface Proliferation**: Each composed object may expose its own interface, leading to a proliferation of interfaces in the containing class. Managing these interfaces and ensuring consistency across them can be challenging, especially in large systems.\n",
        "\n",
        "8. **Testing Complexity**: Testing composed objects and their interactions can be complex, requiring comprehensive test coverage to ensure the correct behavior of the system as a whole. Mocking and stubbing may be necessary to isolate components for testing.\n",
        "\n",
        "To mitigate these challenges and drawbacks, it's essential to carefully design the composition hierarchy, adhere to design principles such as the Single Responsibility Principle and the Dependency Inversion Principle, and use design patterns such as the Factory Method pattern and the Dependency Injection pattern where appropriate. Additionally, thorough testing and code reviews can help identify and address potential issues early in the development process."
      ],
      "metadata": {
        "id": "-EGjsIuUAzh_"
      }
    },
    {
      "cell_type": "markdown",
      "metadata": {
        "id": "ontjH8YuO9tj"
      },
      "source": [
        "14. Create a Python class hierarchy for a restaurant system, using composition to represent menus, dishes,\n",
        "and ingredients."
      ]
    },
    {
      "cell_type": "code",
      "execution_count": 63,
      "metadata": {
        "id": "14Z6hshfO-TM",
        "colab": {
          "base_uri": "https://localhost:8080/"
        },
        "outputId": "1a4a5a11-5be4-4866-dc5a-9a476139d4f2"
      },
      "outputs": [
        {
          "output_type": "stream",
          "name": "stdout",
          "text": [
            "Menu: Italian Menu\n",
            "Dishes:\n",
            "Margherita Pizza: Classic pizza with tomato and cheese\n",
            "Ingredients:\n",
            "- 2 Tomato\n",
            "- 100g Cheese\n",
            "- 2 slices Bread\n",
            "Caprese Salad: Fresh salad with tomato, mozzarella, and basil\n",
            "Ingredients:\n",
            "- 2 Tomato\n",
            "- 100g Cheese\n"
          ]
        }
      ],
      "source": [
        "class Ingredient:\n",
        "    def __init__(self, name, quantity):\n",
        "        self.name = name\n",
        "        self.quantity = quantity\n",
        "\n",
        "class Dish:\n",
        "    def __init__(self, name, description, ingredients):\n",
        "        self.name = name\n",
        "        self.description = description\n",
        "        self.ingredients = ingredients\n",
        "\n",
        "    def display(self):\n",
        "        print(f\"{self.name}: {self.description}\")\n",
        "        print(\"Ingredients:\")\n",
        "        for ingredient in self.ingredients:\n",
        "            print(f\"- {ingredient.quantity} {ingredient.name}\")\n",
        "\n",
        "class Menu:\n",
        "    def __init__(self, name, dishes):\n",
        "        self.name = name\n",
        "        self.dishes = dishes\n",
        "\n",
        "    def display(self):\n",
        "        print(f\"Menu: {self.name}\")\n",
        "        print(\"Dishes:\")\n",
        "        for dish in self.dishes:\n",
        "            dish.display()\n",
        "\n",
        "# Example usage\n",
        "ingredient1 = Ingredient(\"Tomato\", \"2\")\n",
        "ingredient2 = Ingredient(\"Cheese\", \"100g\")\n",
        "ingredient3 = Ingredient(\"Bread\", \"2 slices\")\n",
        "\n",
        "dish1 = Dish(\"Margherita Pizza\", \"Classic pizza with tomato and cheese\", [ingredient1, ingredient2, ingredient3])\n",
        "dish2 = Dish(\"Caprese Salad\", \"Fresh salad with tomato, mozzarella, and basil\", [ingredient1, ingredient2])\n",
        "\n",
        "menu = Menu(\"Italian Menu\", [dish1, dish2])\n",
        "menu.display()\n"
      ]
    },
    {
      "cell_type": "markdown",
      "metadata": {
        "id": "JrDXSWQWO-6b"
      },
      "source": [
        "15. Explain how composition enhances code maintainability and modularity in Python programs."
      ]
    },
    {
      "cell_type": "markdown",
      "source": [
        "Composition enhances code maintainability and modularity in Python programs in several ways:\n",
        "\n",
        "1. **Encapsulation of Responsibilities**: Composition allows objects to encapsulate specific responsibilities or behaviors and delegate them to other objects. Each object can focus on a specific aspect of functionality, leading to clearer abstractions and separation of concerns. This makes it easier to understand and modify individual components without affecting the entire system.\n",
        "\n",
        "2. **Modularity and Reusability**: Composition promotes modularity by breaking down complex systems into smaller, more manageable components. These components can be reused across different parts of the codebase, leading to more maintainable and extensible code. By composing objects dynamically at runtime, developers can create flexible and modular software systems that can adapt to changing requirements.\n",
        "\n",
        "3. **Flexibility and Extensibility**: Composition allows objects to collaborate dynamically at runtime, enabling developers to add, remove, or replace components to modify the behavior of the system. This flexibility makes it easier to extend the functionality of the system without modifying existing code, reducing the risk of introducing bugs or unintended side effects.\n",
        "\n",
        "4. **Loose Coupling**: Composition promotes loose coupling between objects, as it allows objects to interact through well-defined interfaces rather than through class hierarchies. This reduces dependencies between components, making the codebase more flexible, maintainable, and testable. Changes to one component are less likely to impact other components, leading to fewer cascading changes and easier maintenance.\n",
        "\n",
        "5. **Encapsulation of Complexity**: Composition allows developers to encapsulate complex behavior within individual components, hiding implementation details and exposing high-level interfaces. This abstraction layer makes it easier to reason about the behavior of the system and reduces cognitive overhead for developers working on different parts of the codebase.\n",
        "\n",
        "Overall, composition promotes cleaner, more modular, and more maintainable code by encouraging developers to break down complex systems into smaller, reusable components that can be composed dynamically to achieve desired functionality. It fosters flexibility, extensibility, and loose coupling, making it easier to adapt and evolve the codebase over time."
      ],
      "metadata": {
        "id": "s2o3te5XB8Ew"
      }
    },
    {
      "cell_type": "markdown",
      "metadata": {
        "id": "OaYQKg39PCP0"
      },
      "source": [
        "16. Create a Python class for a computer game character, using composition to represent attributes like\n",
        "weapons, armor, and inventory."
      ]
    },
    {
      "cell_type": "code",
      "execution_count": 64,
      "metadata": {
        "id": "RDdkQH1PPEEu",
        "colab": {
          "base_uri": "https://localhost:8080/"
        },
        "outputId": "bbf29476-637c-4263-9297-612b5d94068e"
      },
      "outputs": [
        {
          "output_type": "stream",
          "name": "stdout",
          "text": [
            "Attacking with Sword! Damage: 20\n",
            "Equipping Shield! Defense: 10\n",
            "Hero's Inventory:\n",
            "- Health Potion (Quantity: 3)\n"
          ]
        }
      ],
      "source": [
        "class Weapon:\n",
        "    def __init__(self, name, damage):\n",
        "        self.name = name\n",
        "        self.damage = damage\n",
        "\n",
        "    def attack(self):\n",
        "        print(f\"Attacking with {self.name}! Damage: {self.damage}\")\n",
        "\n",
        "class Armor:\n",
        "    def __init__(self, name, defense):\n",
        "        self.name = name\n",
        "        self.defense = defense\n",
        "\n",
        "    def equip(self):\n",
        "        print(f\"Equipping {self.name}! Defense: {self.defense}\")\n",
        "\n",
        "class InventoryItem:\n",
        "    def __init__(self, name, quantity):\n",
        "        self.name = name\n",
        "        self.quantity = quantity\n",
        "\n",
        "    def use(self):\n",
        "        print(f\"Using {self.name}!\")\n",
        "\n",
        "class Character:\n",
        "    def __init__(self, name):\n",
        "        self.name = name\n",
        "        self.weapon = None\n",
        "        self.armor = None\n",
        "        self.inventory = []\n",
        "\n",
        "    def equip_weapon(self, weapon):\n",
        "        self.weapon = weapon\n",
        "\n",
        "    def equip_armor(self, armor):\n",
        "        self.armor = armor\n",
        "\n",
        "    def add_to_inventory(self, item):\n",
        "        self.inventory.append(item)\n",
        "\n",
        "    def display_inventory(self):\n",
        "        print(f\"{self.name}'s Inventory:\")\n",
        "        for item in self.inventory:\n",
        "            print(f\"- {item.name} (Quantity: {item.quantity})\")\n",
        "\n",
        "# Example usage\n",
        "sword = Weapon(\"Sword\", 20)\n",
        "shield = Armor(\"Shield\", 10)\n",
        "health_potion = InventoryItem(\"Health Potion\", 3)\n",
        "\n",
        "hero = Character(\"Hero\")\n",
        "hero.equip_weapon(sword)\n",
        "hero.equip_armor(shield)\n",
        "hero.add_to_inventory(health_potion)\n",
        "\n",
        "hero.weapon.attack()\n",
        "hero.armor.equip()\n",
        "hero.display_inventory()\n"
      ]
    },
    {
      "cell_type": "markdown",
      "metadata": {
        "id": "d2AdhuSXPEZF"
      },
      "source": [
        "17. Describe the concept of \"aggregation\" in composition and how it differs from simple composition."
      ]
    },
    {
      "cell_type": "markdown",
      "source": [
        "In composition, \"aggregation\" refers to a specific type of relationship between objects where one object is composed of other objects, but the composed objects have an independent lifecycle from the containing object. In other words, aggregation implies a weaker relationship compared to simple composition.\n",
        "\n",
        "Here's how aggregation differs from simple composition:\n",
        "\n",
        "1. **Independence of Lifecycle**: In aggregation, the composed objects can exist independently of the containing object. They may be created, modified, or destroyed without directly affecting the containing object. In contrast, in simple composition, the composed objects typically have a lifecycle tightly coupled with the containing object, meaning they are created and destroyed along with the containing object.\n",
        "\n",
        "2. **Ownership**: In aggregation, the containing object does not own the composed objects. It merely contains references to them, allowing for greater flexibility and reusability. The composed objects can be shared among multiple containing objects or exist independently outside of any containing object. In simple composition, the containing object owns and controls the lifecycle of the composed objects, which are tightly bound to it.\n",
        "\n",
        "3. **Cardinality**: Aggregation can have a cardinality of \"zero or more,\" meaning the containing object may contain multiple instances of the composed objects, including none. In contrast, simple composition typically has a cardinality of \"one and only one,\" meaning the containing object must have exactly one instance of the composed object.\n",
        "\n",
        "4. **Flexibility and Modularity**: Aggregation promotes flexibility and modularity by allowing composed objects to be reused across multiple containing objects or even exist independently. This makes the design more flexible and promotes code reuse. In contrast, simple composition tightly couples the lifecycle of the composed objects with the containing object, making it less flexible and modular.\n",
        "\n",
        "5. **Examples**: Examples of aggregation include a university course containing multiple students, a library containing multiple books, or a team containing multiple players. In each case, the contained objects (students, books, players) can exist independently of the containing object (course, library, team) and may be shared among multiple containing objects.\n",
        "\n",
        "Overall, aggregation in composition represents a \"has-a\" relationship where one object contains other objects but does not own them. It provides greater flexibility, reusability, and modularity compared to simple composition, making it a powerful tool for designing complex systems."
      ],
      "metadata": {
        "id": "hCfNZVYTDBKV"
      }
    },
    {
      "cell_type": "markdown",
      "metadata": {
        "id": "jWZdzG7bPG4T"
      },
      "source": [
        "18. Create a Python class for a house, using composition to represent rooms, furniture, and appliances."
      ]
    },
    {
      "cell_type": "code",
      "execution_count": 65,
      "metadata": {
        "id": "Y-kg8orVPI18",
        "colab": {
          "base_uri": "https://localhost:8080/"
        },
        "outputId": "ddbb95f0-27ce-4aa9-8c98-3bc847f2b9c1"
      },
      "outputs": [
        {
          "output_type": "stream",
          "name": "stdout",
          "text": [
            "House: My House\n",
            "Rooms:\n",
            "Room: Kitchen\n",
            "Furniture:\n",
            "This is a Dining Table.\n",
            "Appliances:\n",
            "This is a Refrigerator.\n",
            "Room: Living Room\n",
            "Furniture:\n",
            "This is a Sofa.\n",
            "Appliances:\n",
            "This is a Television.\n"
          ]
        }
      ],
      "source": [
        "class Furniture:\n",
        "    def __init__(self, name):\n",
        "        self.name = name\n",
        "\n",
        "    def describe(self):\n",
        "        print(f\"This is a {self.name}.\")\n",
        "\n",
        "class Appliance:\n",
        "    def __init__(self, name):\n",
        "        self.name = name\n",
        "\n",
        "    def describe(self):\n",
        "        print(f\"This is a {self.name}.\")\n",
        "\n",
        "class Room:\n",
        "    def __init__(self, name):\n",
        "        self.name = name\n",
        "        self.furniture = []\n",
        "        self.appliances = []\n",
        "\n",
        "    def add_furniture(self, furniture):\n",
        "        self.furniture.append(furniture)\n",
        "\n",
        "    def add_appliance(self, appliance):\n",
        "        self.appliances.append(appliance)\n",
        "\n",
        "    def describe(self):\n",
        "        print(f\"Room: {self.name}\")\n",
        "        print(\"Furniture:\")\n",
        "        for item in self.furniture:\n",
        "            item.describe()\n",
        "        print(\"Appliances:\")\n",
        "        for item in self.appliances:\n",
        "            item.describe()\n",
        "\n",
        "class House:\n",
        "    def __init__(self, name):\n",
        "        self.name = name\n",
        "        self.rooms = []\n",
        "\n",
        "    def add_room(self, room):\n",
        "        self.rooms.append(room)\n",
        "\n",
        "    def describe(self):\n",
        "        print(f\"House: {self.name}\")\n",
        "        print(\"Rooms:\")\n",
        "        for room in self.rooms:\n",
        "            room.describe()\n",
        "\n",
        "# Example usage\n",
        "kitchen = Room(\"Kitchen\")\n",
        "kitchen.add_furniture(Furniture(\"Dining Table\"))\n",
        "kitchen.add_appliance(Appliance(\"Refrigerator\"))\n",
        "\n",
        "living_room = Room(\"Living Room\")\n",
        "living_room.add_furniture(Furniture(\"Sofa\"))\n",
        "living_room.add_appliance(Appliance(\"Television\"))\n",
        "\n",
        "my_house = House(\"My House\")\n",
        "my_house.add_room(kitchen)\n",
        "my_house.add_room(living_room)\n",
        "\n",
        "my_house.describe()\n"
      ]
    },
    {
      "cell_type": "markdown",
      "metadata": {
        "id": "n1XTUhjOPJI8"
      },
      "source": [
        "19. How can you achieve flexibility in composed objects by allowing them to be replaced or modified\n",
        "dynamically at runtime?"
      ]
    },
    {
      "cell_type": "markdown",
      "source": [
        "To achieve flexibility in composed objects by allowing them to be replaced or modified dynamically at runtime, you can employ several strategies:\n",
        "\n",
        "1. **Interface-based Composition**: Define interfaces or abstract base classes for the components that can be composed. This allows different implementations of the same interface to be substituted at runtime, providing flexibility while maintaining consistency in usage.\n",
        "\n",
        "2. **Dependency Injection**: Instead of directly creating instances of composed objects within the containing object, pass instances of these objects as parameters to the constructor or setter methods. This allows the containing object to be decoupled from specific implementations of composed objects, making it easier to replace or modify them.\n",
        "\n",
        "3. **Factory Method Pattern**: Use factory methods to create instances of composed objects. The factory methods can encapsulate the logic for creating different implementations of composed objects based on certain conditions or configurations. This allows for dynamic selection of implementations at runtime.\n",
        "\n",
        "4. **Decorator Pattern**: Use the decorator pattern to add or modify behavior of composed objects dynamically at runtime. Decorators wrap around existing objects and provide additional functionality without altering their interface. This allows for flexible modification of behavior without changing the core implementation of composed objects.\n",
        "\n",
        "5. **Strategy Pattern**: Define strategies or algorithms as separate classes and inject them into the containing object. This allows the containing object to dynamically switch between different strategies at runtime, providing flexibility in behavior.\n",
        "\n",
        "6. **Observer Pattern**: Use the observer pattern to allow composed objects to observe changes in other objects and react accordingly. Composed objects can register themselves as observers of certain events or changes, allowing them to dynamically adjust their behavior based on these notifications.\n",
        "\n",
        "7. **Dynamic Configuration**: Provide mechanisms for dynamically configuring composed objects at runtime, such as through configuration files, dependency injection frameworks, or user input. This allows for flexible customization of composed objects without modifying the code.\n",
        "\n",
        "By employing these strategies, you can achieve flexibility in composed objects, allowing them to be replaced or modified dynamically at runtime to adapt to changing requirements or conditions. This promotes code maintainability, extensibility, and modularity in complex systems."
      ],
      "metadata": {
        "id": "wXZiwTpREBsk"
      }
    },
    {
      "cell_type": "markdown",
      "metadata": {
        "id": "4F0m0ZomPLUa"
      },
      "source": [
        "20. Create a Python class for a social media application, using composition to represent users, posts, and\n",
        "comments."
      ]
    },
    {
      "cell_type": "code",
      "execution_count": 66,
      "metadata": {
        "id": "7FEgdwp7PM-U",
        "colab": {
          "base_uri": "https://localhost:8080/"
        },
        "outputId": "fddf3c3e-66aa-4e19-d2f5-6d386a48ae1d"
      },
      "outputs": [
        {
          "output_type": "stream",
          "name": "stdout",
          "text": [
            "Alice posted: Hello, world!\n",
            "Comments:\n",
            "Bob commented: Great post!\n",
            "Alice commented: Thanks!\n",
            "Alice posted: I'm enjoying my day.\n",
            "Comments:\n"
          ]
        }
      ],
      "source": [
        "class Comment:\n",
        "    def __init__(self, text, user):\n",
        "        self.text = text\n",
        "        self.user = user\n",
        "\n",
        "    def display(self):\n",
        "        print(f\"{self.user.name} commented: {self.text}\")\n",
        "\n",
        "class Post:\n",
        "    def __init__(self, text, user):\n",
        "        self.text = text\n",
        "        self.user = user\n",
        "        self.comments = []\n",
        "\n",
        "    def add_comment(self, comment):\n",
        "        self.comments.append(comment)\n",
        "\n",
        "    def display(self):\n",
        "        print(f\"{self.user.name} posted: {self.text}\")\n",
        "        print(\"Comments:\")\n",
        "        for comment in self.comments:\n",
        "            comment.display()\n",
        "\n",
        "class User:\n",
        "    def __init__(self, name):\n",
        "        self.name = name\n",
        "        self.posts = []\n",
        "\n",
        "    def create_post(self, text):\n",
        "        post = Post(text, self)\n",
        "        self.posts.append(post)\n",
        "        return post\n",
        "\n",
        "# Example usage\n",
        "user1 = User(\"Alice\")\n",
        "user2 = User(\"Bob\")\n",
        "\n",
        "post1 = user1.create_post(\"Hello, world!\")\n",
        "post2 = user2.create_post(\"Nice weather today.\")\n",
        "\n",
        "comment1 = Comment(\"Great post!\", user2)\n",
        "post1.add_comment(comment1)\n",
        "comment2 = Comment(\"Thanks!\", user1)\n",
        "post1.add_comment(comment2)\n",
        "\n",
        "user1.create_post(\"I'm enjoying my day.\")\n",
        "\n",
        "for post in user1.posts:\n",
        "    post.display()\n"
      ]
    }
  ],
  "metadata": {
    "colab": {
      "provenance": []
    },
    "kernelspec": {
      "display_name": "Python 3",
      "name": "python3"
    },
    "language_info": {
      "name": "python"
    }
  },
  "nbformat": 4,
  "nbformat_minor": 0
}