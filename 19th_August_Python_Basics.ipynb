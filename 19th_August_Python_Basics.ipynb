{
 "cells": [
  {
   "cell_type": "markdown",
   "id": "42e313a8-5f38-4032-9e0d-b9ca9c67ceeb",
   "metadata": {},
   "source": [
    "Assignment - 1"
   ]
  },
  {
   "cell_type": "markdown",
   "id": "b32a1462-2ab2-4ca7-b389-7b96f8fe8423",
   "metadata": {},
   "source": [
    "TOPIC: Python Basics Variable Questions"
   ]
  },
  {
   "cell_type": "markdown",
   "id": "1566b73c-a3a6-4c19-b5f6-05d0a5a14285",
   "metadata": {},
   "source": [
    "1. Declare two variables, `x` and `y`, and assign them integer values. Swap the\n",
    "values of these variables without using any temporary variable."
   ]
  },
  {
   "cell_type": "code",
   "execution_count": 2,
   "id": "1dc79c74-3dd0-46b3-a82f-5df39288a40e",
   "metadata": {},
   "outputs": [
    {
     "name": "stdin",
     "output_type": "stream",
     "text": [
      "Enter an integer value:  34\n",
      "Enter another integer value:  22\n"
     ]
    },
    {
     "name": "stdout",
     "output_type": "stream",
     "text": [
      "22\n",
      "34\n"
     ]
    }
   ],
   "source": [
    "# Declaring the varibles\n",
    "x = int(input(\"Enter an integer value: \"))\n",
    "y = int(input(\"Enter another integer value: \"))\n",
    "x , y = y , x\n",
    "print(x)\n",
    "print(y)"
   ]
  },
  {
   "cell_type": "markdown",
   "id": "5b3fbfeb-3387-4c27-a992-feca66a895ec",
   "metadata": {},
   "source": [
    "2. Create a program that calculates the area of a rectangle. Take the length and\n",
    "width as inputs from the user and store them in variables. Calculate and\n",
    "display the area."
   ]
  },
  {
   "cell_type": "code",
   "execution_count": 3,
   "id": "e65fcc86-20f1-4e0e-9ccd-2f86ee6840b9",
   "metadata": {},
   "outputs": [
    {
     "name": "stdin",
     "output_type": "stream",
     "text": [
      "Enter the length of rectangle:  34.5\n",
      "Enter the breadth of the rectangle:  23.2\n"
     ]
    },
    {
     "name": "stdout",
     "output_type": "stream",
     "text": [
      "The area of rectangle is 800.4\n"
     ]
    }
   ],
   "source": [
    "# Taking length and breadth as input\n",
    "a = float(input(\"Enter the length of rectangle: \"))\n",
    "b = float(input(\"Enter the breadth of the rectangle: \"))\n",
    "area = a * b\n",
    "print(\"The area of rectangle is\", area)"
   ]
  },
  {
   "cell_type": "markdown",
   "id": "ea6197f2-e7c7-4145-b00f-3597a481dfbb",
   "metadata": {},
   "source": [
    "3. Write a Python program that converts temperatures from Celsius to\n",
    "Fahrenheit. Take the temperature in Celsius as input, store it in a variable,\n",
    "convert it to Fahrenheit, and display the result."
   ]
  },
  {
   "cell_type": "code",
   "execution_count": 5,
   "id": "1f33e6e2-22df-4808-b62a-abf330c03cae",
   "metadata": {},
   "outputs": [
    {
     "name": "stdin",
     "output_type": "stream",
     "text": [
      "Enter the temperature in degree Celsius:  23.4\n"
     ]
    },
    {
     "name": "stdout",
     "output_type": "stream",
     "text": [
      "The temperature in degree Fahrenhiet is  74.12\n"
     ]
    }
   ],
   "source": [
    "# taking the temperature as input in degree celsius\n",
    "temp1 = float(input(\"Enter the temperature in degree Celsius: \"))\n",
    "temp2 = 9/5 * temp1 + 32\n",
    "print(\"The temperature in degree Fahrenhiet is \", temp2)"
   ]
  },
  {
   "cell_type": "markdown",
   "id": "b65f706e-9c6a-49e9-8a26-10f9fa7a9e0c",
   "metadata": {},
   "source": [
    "TOPIC: String Based Questions"
   ]
  },
  {
   "cell_type": "markdown",
   "id": "5d26cd6b-0b0e-4848-b84c-25043f5ae6c6",
   "metadata": {},
   "source": [
    "1. Write a Python program that takes a string as input and prints the length of\n",
    "the string."
   ]
  },
  {
   "cell_type": "code",
   "execution_count": 7,
   "id": "c859bc64-f052-4585-aa80-3ab60b6a8708",
   "metadata": {},
   "outputs": [
    {
     "name": "stdin",
     "output_type": "stream",
     "text": [
      "Enter a string:  pwskills\n"
     ]
    },
    {
     "name": "stdout",
     "output_type": "stream",
     "text": [
      "The length of the string is  8\n"
     ]
    }
   ],
   "source": [
    "# taking the string from the user\n",
    "a = input(\"Enter a string: \")\n",
    "print(\"The length of the string is \", len(a))"
   ]
  },
  {
   "cell_type": "markdown",
   "id": "396e06ad-dbc3-4f18-90ba-9bf070fecb7e",
   "metadata": {},
   "source": [
    "2. Create a program that takes a sentence from the user and counts the number\n",
    "of vowels (a, e, i, o, u) in the string."
   ]
  },
  {
   "cell_type": "code",
   "execution_count": 10,
   "id": "a8e6e39d-8488-494c-a0c2-0689e6d5f4c7",
   "metadata": {},
   "outputs": [
    {
     "name": "stdin",
     "output_type": "stream",
     "text": [
      "Enter a sentence:  Pwskills and ineuron\n"
     ]
    },
    {
     "name": "stdout",
     "output_type": "stream",
     "text": [
      "Number of vowels: 6\n"
     ]
    }
   ],
   "source": [
    "# Taking input from the user\n",
    "a = input(\"Enter a sentence: \")\n",
    "\n",
    "# Initializing a variable to count vowels\n",
    "vowels_count = 0\n",
    "\n",
    "# Defining the set of vowels\n",
    "vowels = \"aeiouAEIOU\"\n",
    "\n",
    "# Iterating through each character in the input sentence\n",
    "for char in a:\n",
    "    if char in vowels:\n",
    "        vowels_count += 1\n",
    "\n",
    "# Print the number of vowels\n",
    "print(\"Number of vowels:\", vowels_count)\n"
   ]
  },
  {
   "cell_type": "markdown",
   "id": "4e135a20-d7db-489f-9e13-2b4574fa1c6b",
   "metadata": {},
   "source": [
    "3. Given a string, reverse the order of characters using string slicing and print\n",
    "the reversed string."
   ]
  },
  {
   "cell_type": "code",
   "execution_count": 11,
   "id": "28269bab-2b5d-4e8b-a31a-7677f16d94c6",
   "metadata": {},
   "outputs": [
    {
     "name": "stdout",
     "output_type": "stream",
     "text": [
      "Reversed string: margorP ecnicS ataD sllikswP\n"
     ]
    }
   ],
   "source": [
    "given_string = \"Pwskills Data Scince Program\"\n",
    "\n",
    "# Reversing the string using slicing\n",
    "reversed_string = given_string[::-1]\n",
    "\n",
    "# Printing the reversed string\n",
    "print(\"Reversed string:\", reversed_string)\n"
   ]
  },
  {
   "cell_type": "markdown",
   "id": "c4d183f4-4b87-4da0-8520-7f99bb052dab",
   "metadata": {},
   "source": [
    "4. Write a program that takes a string as input and checks if it is a palindrome\n",
    "(reads the same forwards and backwards)."
   ]
  },
  {
   "cell_type": "code",
   "execution_count": 13,
   "id": "33c34b6f-4174-4f03-a07f-8cbabc783a53",
   "metadata": {},
   "outputs": [
    {
     "name": "stdin",
     "output_type": "stream",
     "text": [
      "Enter a string:  tomato\n"
     ]
    },
    {
     "name": "stdout",
     "output_type": "stream",
     "text": [
      "The string is not a palindrome.\n"
     ]
    }
   ],
   "source": [
    "# taking input from the user\n",
    "input_string = input(\"Enter a string: \")\n",
    "\n",
    "# removing spaces and convert to lowercase for case-insensitive comparison\n",
    "cleaned_string = input_string.replace(\" \", \"\").lower()\n",
    "\n",
    "# defining a boolean expression to check if the string is a palindrome\n",
    "is_palindrome = cleaned_string == cleaned_string[::-1]\n",
    "\n",
    "# printing the result using the boolean expression\n",
    "print(\"The string is a palindrome.\" if is_palindrome else \"The string is not a palindrome.\")\n"
   ]
  },
  {
   "cell_type": "markdown",
   "id": "5c40c201-2d77-4fef-879a-e236ad9a230c",
   "metadata": {},
   "source": [
    "5. Create a program that takes a string as input and removes all the spaces from\n",
    "it. Print the modified string without spaces."
   ]
  },
  {
   "cell_type": "code",
   "execution_count": null,
   "id": "599fef55-b8b9-4222-9b59-0fb2b15b5e25",
   "metadata": {},
   "outputs": [],
   "source": [
    "# taking input from the user\n",
    "input_string = input(\"Enter a string: \")\n",
    "\n",
    "# removing spaces\n",
    "cleaned_string = input_string.replace(\" \", \"\")\n",
    "\n",
    "print(\"The modified str\")"
   ]
  }
 ],
 "metadata": {
  "kernelspec": {
   "display_name": "Python 3 (ipykernel)",
   "language": "python",
   "name": "python3"
  },
  "language_info": {
   "codemirror_mode": {
    "name": "ipython",
    "version": 3
   },
   "file_extension": ".py",
   "mimetype": "text/x-python",
   "name": "python",
   "nbconvert_exporter": "python",
   "pygments_lexer": "ipython3",
   "version": "3.10.8"
  }
 },
 "nbformat": 4,
 "nbformat_minor": 5
}
