{
  "cells": [
    {
      "cell_type": "markdown",
      "id": "2554575b-4de6-476b-9e97-b85d02fcbc97",
      "metadata": {
        "id": "2554575b-4de6-476b-9e97-b85d02fcbc97"
      },
      "source": [
        "Assignment Questions"
      ]
    },
    {
      "cell_type": "markdown",
      "id": "48f588f7-30e5-4dc8-a2e1-f8f9153dd4d5",
      "metadata": {
        "id": "48f588f7-30e5-4dc8-a2e1-f8f9153dd4d5"
      },
      "source": [
        "Basic Level:"
      ]
    },
    {
      "cell_type": "markdown",
      "id": "44658850-573c-4eaa-b1d2-803f75f106e5",
      "metadata": {
        "id": "44658850-573c-4eaa-b1d2-803f75f106e5"
      },
      "source": [
        "1. Write a Python program to print the numbers from 1 to 10 using a `for` loop."
      ]
    },
    {
      "cell_type": "code",
      "source": [
        "for num in range(1, 11):\n",
        "    print(num)\n"
      ],
      "metadata": {
        "colab": {
          "base_uri": "https://localhost:8080/"
        },
        "id": "cVZmZk14IFrN",
        "outputId": "e98f73c5-7811-42b5-8a39-a6c643e348c4"
      },
      "id": "cVZmZk14IFrN",
      "execution_count": null,
      "outputs": [
        {
          "output_type": "stream",
          "name": "stdout",
          "text": [
            "1\n",
            "2\n",
            "3\n",
            "4\n",
            "5\n",
            "6\n",
            "7\n",
            "8\n",
            "9\n",
            "10\n"
          ]
        }
      ]
    },
    {
      "cell_type": "markdown",
      "id": "de9b66ce-0ca2-4582-9834-f83541a7f94a",
      "metadata": {
        "id": "de9b66ce-0ca2-4582-9834-f83541a7f94a"
      },
      "source": [
        "2. Create a program that calculates the sum of all numbers in a list using a `for` loop"
      ]
    },
    {
      "cell_type": "code",
      "source": [
        "# Define a list of numbers\n",
        "numbers = [2, 4, 6, 8, 10]\n",
        "\n",
        "# Initialize a variable to store the sum\n",
        "sum_of_numbers = 0\n",
        "\n",
        "# Calculate the sum using a for loop\n",
        "for num in numbers:\n",
        "    sum_of_numbers += num\n",
        "\n",
        "# Print the result\n",
        "print(f\"The sum of numbers in the list is: {sum_of_numbers}\")\n"
      ],
      "metadata": {
        "colab": {
          "base_uri": "https://localhost:8080/"
        },
        "id": "AfCrs-uYIGit",
        "outputId": "45c5df43-7f2d-48f1-d59e-541c9a48db0c"
      },
      "id": "AfCrs-uYIGit",
      "execution_count": null,
      "outputs": [
        {
          "output_type": "stream",
          "name": "stdout",
          "text": [
            "The sum of numbers in the list is: 30\n"
          ]
        }
      ]
    },
    {
      "cell_type": "markdown",
      "id": "1be525c6-eb58-4f22-8b0d-fb3d652e143d",
      "metadata": {
        "id": "1be525c6-eb58-4f22-8b0d-fb3d652e143d"
      },
      "source": [
        "3. Write a program to print the characters of a string in reverse order using a `for` loop."
      ]
    },
    {
      "cell_type": "code",
      "source": [
        "# Input a string from the user\n",
        "input_string = input(\"Enter a string: \")\n",
        "\n",
        "# Initialize an empty string to store the reversed string\n",
        "reversed_string = \"\"\n",
        "\n",
        "# Use a for loop to reverse the string\n",
        "for char in reversed(input_string):\n",
        "    reversed_string += char\n",
        "\n",
        "# Print the reversed string\n",
        "print(\"Reversed string:\", reversed_string)\n"
      ],
      "metadata": {
        "colab": {
          "base_uri": "https://localhost:8080/"
        },
        "id": "n6ygXQc9IHGt",
        "outputId": "24fc39b8-5cd5-4ac8-c01a-c1b59df72ed9"
      },
      "id": "n6ygXQc9IHGt",
      "execution_count": null,
      "outputs": [
        {
          "output_type": "stream",
          "name": "stdout",
          "text": [
            "Enter a string: tjhit\n",
            "Reversed string: tihjt\n"
          ]
        }
      ]
    },
    {
      "cell_type": "markdown",
      "id": "a313adfc-f7c1-4c63-9a3f-94b549b60a7e",
      "metadata": {
        "id": "a313adfc-f7c1-4c63-9a3f-94b549b60a7e"
      },
      "source": [
        "4. Develop a program that finds the factorial of a given number using a `for` loop."
      ]
    },
    {
      "cell_type": "code",
      "source": [
        "# Input a number from the user\n",
        "num = int(input(\"Enter a number: \"))\n",
        "\n",
        "# Initialize the factorial to 1\n",
        "factorial = 1\n",
        "\n",
        "# Calculate the factorial using a for loop\n",
        "for i in range(1, num + 1):\n",
        "    factorial *= i\n",
        "\n",
        "# Print the factorial\n",
        "print(f\"The factorial of {num} is: {factorial}\")\n"
      ],
      "metadata": {
        "colab": {
          "base_uri": "https://localhost:8080/"
        },
        "id": "rGMUUOUmIINk",
        "outputId": "d0191f51-4c4a-407e-a5be-2e0dc8ebe974"
      },
      "id": "rGMUUOUmIINk",
      "execution_count": null,
      "outputs": [
        {
          "output_type": "stream",
          "name": "stdout",
          "text": [
            "Enter a number: 6\n",
            "The factorial of 6 is: 720\n"
          ]
        }
      ]
    },
    {
      "cell_type": "markdown",
      "id": "66e3f7fc-fbad-42cf-92da-81ed718e16ea",
      "metadata": {
        "id": "66e3f7fc-fbad-42cf-92da-81ed718e16ea"
      },
      "source": [
        "5. Create a program to print the multiplication table of a given number using a `for` loop."
      ]
    },
    {
      "cell_type": "code",
      "source": [
        "# Input a number from the user\n",
        "num = int(input(\"Enter a number: \"))\n",
        "\n",
        "# Print the multiplication table using a for loop\n",
        "print(f\"Multiplication table for {num}:\")\n",
        "for i in range(1, 11):\n",
        "    result = num * i\n",
        "    print(f\"{num} x {i} = {result}\")\n"
      ],
      "metadata": {
        "colab": {
          "base_uri": "https://localhost:8080/"
        },
        "id": "chgFYNjeIJBr",
        "outputId": "787580f8-52d6-4622-aa09-f133fa73c1a3"
      },
      "id": "chgFYNjeIJBr",
      "execution_count": null,
      "outputs": [
        {
          "output_type": "stream",
          "name": "stdout",
          "text": [
            "Enter a number: 65\n",
            "Multiplication table for 65:\n",
            "65 x 1 = 65\n",
            "65 x 2 = 130\n",
            "65 x 3 = 195\n",
            "65 x 4 = 260\n",
            "65 x 5 = 325\n",
            "65 x 6 = 390\n",
            "65 x 7 = 455\n",
            "65 x 8 = 520\n",
            "65 x 9 = 585\n",
            "65 x 10 = 650\n"
          ]
        }
      ]
    },
    {
      "cell_type": "markdown",
      "id": "cf76c041-6d88-426c-82b2-18780c6ea34a",
      "metadata": {
        "id": "cf76c041-6d88-426c-82b2-18780c6ea34a"
      },
      "source": [
        "6. Write a program that counts the number of even and odd numbers in a list using a `for` loop."
      ]
    },
    {
      "cell_type": "code",
      "source": [
        "# Define a list of numbers\n",
        "numbers = [1, 2, 3, 4, 5, 6, 7, 8, 9, 10]\n",
        "\n",
        "# Initialize counters for even and odd numbers\n",
        "even_count = 0\n",
        "odd_count = 0\n",
        "\n",
        "# Use a for loop to count even and odd numbers\n",
        "for num in numbers:\n",
        "    if num % 2 == 0:\n",
        "        even_count += 1\n",
        "    else:\n",
        "        odd_count += 1\n",
        "\n",
        "# Print the results\n",
        "print(\"Number of even numbers:\", even_count)\n",
        "print(\"Number of odd numbers:\", odd_count)\n"
      ],
      "metadata": {
        "colab": {
          "base_uri": "https://localhost:8080/"
        },
        "id": "CnZCfDc3IKC0",
        "outputId": "591e99ac-715a-4636-b0c7-9fef53a67bca"
      },
      "id": "CnZCfDc3IKC0",
      "execution_count": null,
      "outputs": [
        {
          "output_type": "stream",
          "name": "stdout",
          "text": [
            "Number of even numbers: 5\n",
            "Number of odd numbers: 5\n"
          ]
        }
      ]
    },
    {
      "cell_type": "markdown",
      "id": "2bec070b-a7cf-4911-8839-13f3289666dc",
      "metadata": {
        "id": "2bec070b-a7cf-4911-8839-13f3289666dc"
      },
      "source": [
        "7. Develop a program that prints the squares of numbers from 1 to 5 using a `for` loop"
      ]
    },
    {
      "cell_type": "code",
      "source": [
        "# Print the squares of numbers from 1 to 5 using a for loop\n",
        "for num in range(1, 6):\n",
        "    square = num ** 2\n",
        "    print(f\"The square of {num} is: {square}\")\n"
      ],
      "metadata": {
        "colab": {
          "base_uri": "https://localhost:8080/"
        },
        "id": "3IvwVnfcIK5M",
        "outputId": "94c9342a-07a9-4fe6-c1ba-8b92a6db7a94"
      },
      "id": "3IvwVnfcIK5M",
      "execution_count": null,
      "outputs": [
        {
          "output_type": "stream",
          "name": "stdout",
          "text": [
            "The square of 1 is: 1\n",
            "The square of 2 is: 4\n",
            "The square of 3 is: 9\n",
            "The square of 4 is: 16\n",
            "The square of 5 is: 25\n"
          ]
        }
      ]
    },
    {
      "cell_type": "markdown",
      "id": "9d10f8ca-3baa-48ed-afb1-7f58a0b4f2bc",
      "metadata": {
        "id": "9d10f8ca-3baa-48ed-afb1-7f58a0b4f2bc"
      },
      "source": [
        "8. Create a program to find the length of a string without using the `len()` function."
      ]
    },
    {
      "cell_type": "code",
      "source": [
        "def string_length(input_string):\n",
        "    count = 0\n",
        "    for char in input_string:\n",
        "        count += 1\n",
        "    return count\n",
        "\n",
        "# Input a string from the user\n",
        "input_string = input(\"Enter a string: \")\n",
        "\n",
        "# Calculate and print the length of the string\n",
        "length = string_length(input_string)\n",
        "print(f\"The length of the string is: {length}\")\n"
      ],
      "metadata": {
        "colab": {
          "base_uri": "https://localhost:8080/"
        },
        "id": "filvnhS3IMkV",
        "outputId": "88a839ce-53ff-4f44-c6b1-dd1a8209fb3c"
      },
      "id": "filvnhS3IMkV",
      "execution_count": null,
      "outputs": [
        {
          "output_type": "stream",
          "name": "stdout",
          "text": [
            "Enter a string: mdfhorn\n",
            "The length of the string is: 7\n"
          ]
        }
      ]
    },
    {
      "cell_type": "markdown",
      "id": "266911f1-b6ec-40f6-96bc-941c44201c3e",
      "metadata": {
        "id": "266911f1-b6ec-40f6-96bc-941c44201c3e"
      },
      "source": [
        "9. Write a program that calculates the average of a list of numbers using a `for` loop."
      ]
    },
    {
      "cell_type": "code",
      "source": [
        "# Define a list of numbers\n",
        "numbers = [5, 10, 15, 20, 25]\n",
        "\n",
        "# Initialize variables for sum and count\n",
        "total = 0\n",
        "count = 0\n",
        "\n",
        "# Use a for loop to calculate the sum and count\n",
        "for num in numbers:\n",
        "    total += num\n",
        "    count += 1\n",
        "\n",
        "# Calculate the average\n",
        "if count > 0:\n",
        "    average = total / count\n",
        "else:\n",
        "    average = 0\n",
        "\n",
        "# Print the average\n",
        "print(\"The average of the numbers is:\", average)\n"
      ],
      "metadata": {
        "colab": {
          "base_uri": "https://localhost:8080/"
        },
        "id": "B2r6kbxXINct",
        "outputId": "f850b320-b7be-4f82-9dc1-89912c9adf4f"
      },
      "id": "B2r6kbxXINct",
      "execution_count": null,
      "outputs": [
        {
          "output_type": "stream",
          "name": "stdout",
          "text": [
            "The average of the numbers is: 15.0\n"
          ]
        }
      ]
    },
    {
      "cell_type": "markdown",
      "id": "bc4b5fa8-c5b7-407f-afd6-596e23c13443",
      "metadata": {
        "id": "bc4b5fa8-c5b7-407f-afd6-596e23c13443"
      },
      "source": [
        "10. Develop a program that prints the first `n` Fibonacci numbers using a `for` loop."
      ]
    },
    {
      "cell_type": "code",
      "source": [
        "# Input the number of Fibonacci numbers to generate\n",
        "n = int(input(\"Enter the number of Fibonacci numbers to generate: \"))\n",
        "\n",
        "# Initialize the first two Fibonacci numbers\n",
        "fibonacci_sequence = [0, 1]\n",
        "\n",
        "# Generate the Fibonacci sequence using a for loop\n",
        "for i in range(2, n):\n",
        "    next_fibonacci = fibonacci_sequence[i - 1] + fibonacci_sequence[i - 2]\n",
        "    fibonacci_sequence.append(next_fibonacci)\n",
        "\n",
        "# Print the first n Fibonacci numbers\n",
        "print(\"The first\", n, \"Fibonacci numbers are:\")\n",
        "for num in fibonacci_sequence:\n",
        "    print(num)\n"
      ],
      "metadata": {
        "colab": {
          "base_uri": "https://localhost:8080/"
        },
        "id": "I7tlgd5NIOGc",
        "outputId": "d679ce0c-dc16-47ee-c073-b45b0e5298d5"
      },
      "id": "I7tlgd5NIOGc",
      "execution_count": null,
      "outputs": [
        {
          "output_type": "stream",
          "name": "stdout",
          "text": [
            "Enter the number of Fibonacci numbers to generate: 6\n",
            "The first 6 Fibonacci numbers are:\n",
            "0\n",
            "1\n",
            "1\n",
            "2\n",
            "3\n",
            "5\n"
          ]
        }
      ]
    },
    {
      "cell_type": "markdown",
      "id": "5229988c-d188-47a7-a166-e8b09557bafe",
      "metadata": {
        "id": "5229988c-d188-47a7-a166-e8b09557bafe"
      },
      "source": [
        "Intermediate Level:"
      ]
    },
    {
      "cell_type": "markdown",
      "id": "361fe11d-9e9f-4a1f-a0a7-bd9385562639",
      "metadata": {
        "id": "361fe11d-9e9f-4a1f-a0a7-bd9385562639"
      },
      "source": [
        "11. Write a program to check if a given list contains any duplicates using a `for` loop."
      ]
    },
    {
      "cell_type": "code",
      "source": [
        "def has_duplicates(input_list):\n",
        "    seen = set()\n",
        "    for item in input_list:\n",
        "        if item in seen:\n",
        "            return True\n",
        "        seen.add(item)\n",
        "    return False\n",
        "\n",
        "# Input a list from the user\n",
        "input_list = input(\"Enter a list of elements separated by spaces: \").split()\n",
        "\n",
        "# Check for duplicates\n",
        "if has_duplicates(input_list):\n",
        "    print(\"The list contains duplicates.\")\n",
        "else:\n",
        "    print(\"The list does not contain duplicates.\")\n"
      ],
      "metadata": {
        "colab": {
          "base_uri": "https://localhost:8080/"
        },
        "id": "TtI0J9zmIOzd",
        "outputId": "ed18a63a-1094-4287-fec2-43b34bdd778e"
      },
      "id": "TtI0J9zmIOzd",
      "execution_count": null,
      "outputs": [
        {
          "output_type": "stream",
          "name": "stdout",
          "text": [
            "Enter a list of elements separated by spaces: 34 56 7 89 9 0\n",
            "The list does not contain duplicates.\n"
          ]
        }
      ]
    },
    {
      "cell_type": "markdown",
      "id": "56ad9099-7753-48d8-9106-9cc8bf88cfe5",
      "metadata": {
        "id": "56ad9099-7753-48d8-9106-9cc8bf88cfe5"
      },
      "source": [
        "12. Create a program that prints the prime numbers in a given range using a `for` loop."
      ]
    },
    {
      "cell_type": "code",
      "source": [
        "def is_prime(number):\n",
        "    if number <= 1:\n",
        "        return False\n",
        "    for i in range(2, int(number**0.5) + 1):\n",
        "        if number % i == 0:\n",
        "            return False\n",
        "    return True\n",
        "\n",
        "# Input the range from the user\n",
        "start = int(input(\"Enter the start of the range: \"))\n",
        "end = int(input(\"Enter the end of the range: \"))\n",
        "\n",
        "print(\"Prime numbers in the range\", start, \"to\", end, \"are:\")\n",
        "\n",
        "# Check and print prime numbers using a for loop\n",
        "for num in range(start, end + 1):\n",
        "    if is_prime(num):\n",
        "        print(num)\n"
      ],
      "metadata": {
        "colab": {
          "base_uri": "https://localhost:8080/"
        },
        "id": "mpJX22rdIPxE",
        "outputId": "a5effb5b-0e72-46ce-9939-dc0a18f058c8"
      },
      "id": "mpJX22rdIPxE",
      "execution_count": null,
      "outputs": [
        {
          "output_type": "stream",
          "name": "stdout",
          "text": [
            "Enter the start of the range: 45\n",
            "Enter the end of the range: 467\n",
            "Prime numbers in the range 45 to 467 are:\n",
            "47\n",
            "53\n",
            "59\n",
            "61\n",
            "67\n",
            "71\n",
            "73\n",
            "79\n",
            "83\n",
            "89\n",
            "97\n",
            "101\n",
            "103\n",
            "107\n",
            "109\n",
            "113\n",
            "127\n",
            "131\n",
            "137\n",
            "139\n",
            "149\n",
            "151\n",
            "157\n",
            "163\n",
            "167\n",
            "173\n",
            "179\n",
            "181\n",
            "191\n",
            "193\n",
            "197\n",
            "199\n",
            "211\n",
            "223\n",
            "227\n",
            "229\n",
            "233\n",
            "239\n",
            "241\n",
            "251\n",
            "257\n",
            "263\n",
            "269\n",
            "271\n",
            "277\n",
            "281\n",
            "283\n",
            "293\n",
            "307\n",
            "311\n",
            "313\n",
            "317\n",
            "331\n",
            "337\n",
            "347\n",
            "349\n",
            "353\n",
            "359\n",
            "367\n",
            "373\n",
            "379\n",
            "383\n",
            "389\n",
            "397\n",
            "401\n",
            "409\n",
            "419\n",
            "421\n",
            "431\n",
            "433\n",
            "439\n",
            "443\n",
            "449\n",
            "457\n",
            "461\n",
            "463\n",
            "467\n"
          ]
        }
      ]
    },
    {
      "cell_type": "markdown",
      "id": "430ec382-d4d8-4e34-bad2-d91eb56cd0f7",
      "metadata": {
        "id": "430ec382-d4d8-4e34-bad2-d91eb56cd0f7"
      },
      "source": [
        "13. Develop a program that counts the number of vowels in a string using a `for` loop."
      ]
    },
    {
      "cell_type": "code",
      "source": [
        "# Input a string from the user\n",
        "input_string = input(\"Enter a string: \")\n",
        "\n",
        "# Initialize a variable to count vowels\n",
        "vowel_count = 0\n",
        "\n",
        "# Define a set of vowels for checking\n",
        "vowels = \"AEIOUaeiou\"\n",
        "\n",
        "# Use a for loop to count vowels in the string\n",
        "for char in input_string:\n",
        "    if char in vowels:\n",
        "        vowel_count += 1\n",
        "\n",
        "# Print the result\n",
        "print(f\"The number of vowels in the string is: {vowel_count}\")\n"
      ],
      "metadata": {
        "colab": {
          "base_uri": "https://localhost:8080/"
        },
        "id": "APgngUNKIQuM",
        "outputId": "4954ed12-28cc-4529-89c4-5e95bcab09e3"
      },
      "id": "APgngUNKIQuM",
      "execution_count": null,
      "outputs": [
        {
          "output_type": "stream",
          "name": "stdout",
          "text": [
            "Enter a string: mfhgpwei\n",
            "The number of vowels in the string is: 2\n"
          ]
        }
      ]
    },
    {
      "cell_type": "markdown",
      "id": "1d9cc11d-6de7-4c28-b57b-392514c491ed",
      "metadata": {
        "id": "1d9cc11d-6de7-4c28-b57b-392514c491ed"
      },
      "source": [
        "14. Write a program to find the maximum element in a 2D list using a nested `for` loop."
      ]
    },
    {
      "cell_type": "code",
      "source": [
        "# Define a 2D list\n",
        "matrix = [\n",
        "    [5, 10, 15],\n",
        "    [20, 25, 30],\n",
        "    [35, 40, 45]\n",
        "]\n",
        "\n",
        "# Initialize a variable to store the maximum element\n",
        "max_element = matrix[0][0]\n",
        "\n",
        "# Use a nested for loop to find the maximum element\n",
        "for row in matrix:\n",
        "    for element in row:\n",
        "        if element > max_element:\n",
        "            max_element = element\n",
        "\n",
        "# Print the maximum element\n",
        "print(f\"The maximum element in the 2D list is: {max_element}\")\n"
      ],
      "metadata": {
        "colab": {
          "base_uri": "https://localhost:8080/"
        },
        "id": "c4s-3F2qIRf0",
        "outputId": "3d5dcd02-894b-4b33-8092-066834889fd3"
      },
      "id": "c4s-3F2qIRf0",
      "execution_count": null,
      "outputs": [
        {
          "output_type": "stream",
          "name": "stdout",
          "text": [
            "The maximum element in the 2D list is: 45\n"
          ]
        }
      ]
    },
    {
      "cell_type": "markdown",
      "id": "0abae1e3-5a31-45e2-b76d-4b67d2317a65",
      "metadata": {
        "id": "0abae1e3-5a31-45e2-b76d-4b67d2317a65"
      },
      "source": [
        "15. Create a program that removes all occurrences of a specific element from a list using a `for` loop."
      ]
    },
    {
      "cell_type": "code",
      "source": [
        "# Define a list\n",
        "my_list = [1, 2, 3, 4, 2, 5, 6, 2, 7]\n",
        "\n",
        "# Input the element to remove from the list\n",
        "element_to_remove = int(input(\"Enter the element to remove: \"))\n",
        "\n",
        "# Use a for loop to remove all occurrences of the element\n",
        "new_list = []\n",
        "for item in my_list:\n",
        "    if item != element_to_remove:\n",
        "        new_list.append(item)\n",
        "\n",
        "# Print the updated list\n",
        "print(\"Original list:\", my_list)\n",
        "print(\"List after removing all occurrences of\", element_to_remove, \":\", new_list)\n"
      ],
      "metadata": {
        "colab": {
          "base_uri": "https://localhost:8080/"
        },
        "id": "Qpv5HjZcISRc",
        "outputId": "4d9a23e4-438a-482f-b438-2bcecfdad0e8"
      },
      "id": "Qpv5HjZcISRc",
      "execution_count": null,
      "outputs": [
        {
          "output_type": "stream",
          "name": "stdout",
          "text": [
            "Enter the element to remove: 5\n",
            "Original list: [1, 2, 3, 4, 2, 5, 6, 2, 7]\n",
            "List after removing all occurrences of 5 : [1, 2, 3, 4, 2, 6, 2, 7]\n"
          ]
        }
      ]
    },
    {
      "cell_type": "markdown",
      "id": "23e4dce8-f931-4d37-8c0c-d712071ab204",
      "metadata": {
        "id": "23e4dce8-f931-4d37-8c0c-d712071ab204"
      },
      "source": [
        "16. Develop a program that generates a multiplication table for numbers from 1 to 5 using a nested `for` loop."
      ]
    },
    {
      "cell_type": "code",
      "source": [
        "# Generate a multiplication table for numbers from 1 to 5\n",
        "for i in range(1, 6):\n",
        "    print(f\"Multiplication table for {i}:\")\n",
        "    for j in range(1, 11):\n",
        "        result = i * j\n",
        "        print(f\"{i} x {j} = {result}\")\n",
        "    print()  # Add a blank line to separate tables\n"
      ],
      "metadata": {
        "colab": {
          "base_uri": "https://localhost:8080/"
        },
        "id": "fWnJ40O8ITH0",
        "outputId": "facc428c-412c-430d-932d-3b7bcdc37d29"
      },
      "id": "fWnJ40O8ITH0",
      "execution_count": null,
      "outputs": [
        {
          "output_type": "stream",
          "name": "stdout",
          "text": [
            "Multiplication table for 1:\n",
            "1 x 1 = 1\n",
            "1 x 2 = 2\n",
            "1 x 3 = 3\n",
            "1 x 4 = 4\n",
            "1 x 5 = 5\n",
            "1 x 6 = 6\n",
            "1 x 7 = 7\n",
            "1 x 8 = 8\n",
            "1 x 9 = 9\n",
            "1 x 10 = 10\n",
            "\n",
            "Multiplication table for 2:\n",
            "2 x 1 = 2\n",
            "2 x 2 = 4\n",
            "2 x 3 = 6\n",
            "2 x 4 = 8\n",
            "2 x 5 = 10\n",
            "2 x 6 = 12\n",
            "2 x 7 = 14\n",
            "2 x 8 = 16\n",
            "2 x 9 = 18\n",
            "2 x 10 = 20\n",
            "\n",
            "Multiplication table for 3:\n",
            "3 x 1 = 3\n",
            "3 x 2 = 6\n",
            "3 x 3 = 9\n",
            "3 x 4 = 12\n",
            "3 x 5 = 15\n",
            "3 x 6 = 18\n",
            "3 x 7 = 21\n",
            "3 x 8 = 24\n",
            "3 x 9 = 27\n",
            "3 x 10 = 30\n",
            "\n",
            "Multiplication table for 4:\n",
            "4 x 1 = 4\n",
            "4 x 2 = 8\n",
            "4 x 3 = 12\n",
            "4 x 4 = 16\n",
            "4 x 5 = 20\n",
            "4 x 6 = 24\n",
            "4 x 7 = 28\n",
            "4 x 8 = 32\n",
            "4 x 9 = 36\n",
            "4 x 10 = 40\n",
            "\n",
            "Multiplication table for 5:\n",
            "5 x 1 = 5\n",
            "5 x 2 = 10\n",
            "5 x 3 = 15\n",
            "5 x 4 = 20\n",
            "5 x 5 = 25\n",
            "5 x 6 = 30\n",
            "5 x 7 = 35\n",
            "5 x 8 = 40\n",
            "5 x 9 = 45\n",
            "5 x 10 = 50\n",
            "\n"
          ]
        }
      ]
    },
    {
      "cell_type": "markdown",
      "id": "5319339d-091e-4f5a-848c-d0cf66d01099",
      "metadata": {
        "id": "5319339d-091e-4f5a-848c-d0cf66d01099"
      },
      "source": [
        "17. Write a program that converts a list of Fahrenheit temperatures to Celsius using a `for` loop."
      ]
    },
    {
      "cell_type": "code",
      "source": [
        "# Define a list of Fahrenheit temperatures\n",
        "fahrenheit_temperatures = [32, 68, 77, 104, 212]\n",
        "\n",
        "# Initialize an empty list to store Celsius temperatures\n",
        "celsius_temperatures = []\n",
        "\n",
        "# Convert Fahrenheit to Celsius using a for loop\n",
        "for fahrenheit in fahrenheit_temperatures:\n",
        "    celsius = (fahrenheit - 32) * 5/9\n",
        "    celsius_temperatures.append(celsius)\n",
        "\n",
        "# Print the converted Celsius temperatures\n",
        "print(\"Fahrenheit Temperatures:\", fahrenheit_temperatures)\n",
        "print(\"Celsius Temperatures:\", celsius_temperatures)\n"
      ],
      "metadata": {
        "colab": {
          "base_uri": "https://localhost:8080/"
        },
        "id": "syHTRK6xITxE",
        "outputId": "0e26070f-0039-4d5a-b041-a923d2e636d1"
      },
      "id": "syHTRK6xITxE",
      "execution_count": null,
      "outputs": [
        {
          "output_type": "stream",
          "name": "stdout",
          "text": [
            "Fahrenheit Temperatures: [32, 68, 77, 104, 212]\n",
            "Celsius Temperatures: [0.0, 20.0, 25.0, 40.0, 100.0]\n"
          ]
        }
      ]
    },
    {
      "cell_type": "markdown",
      "id": "e74b7e38-565d-4800-9669-55a448a750ea",
      "metadata": {
        "id": "e74b7e38-565d-4800-9669-55a448a750ea"
      },
      "source": [
        "18. Create a program to print the common elements from two lists using a `for` loop."
      ]
    },
    {
      "cell_type": "code",
      "source": [
        "# Define two lists\n",
        "list1 = [1, 2, 3, 4, 5]\n",
        "list2 = [3, 4, 5, 6, 7]\n",
        "\n",
        "# Initialize an empty list to store common elements\n",
        "common_elements = []\n",
        "\n",
        "# Use a nested for loop to find common elements\n",
        "for item1 in list1:\n",
        "    for item2 in list2:\n",
        "        if item1 == item2:\n",
        "            common_elements.append(item1)\n",
        "\n",
        "# Print the common elements\n",
        "print(\"Common elements between list1 and list2:\", common_elements)\n"
      ],
      "metadata": {
        "colab": {
          "base_uri": "https://localhost:8080/"
        },
        "id": "LCQpBR0FIUl0",
        "outputId": "fcec7ed8-6b16-4b09-b540-ba220aedfe90"
      },
      "id": "LCQpBR0FIUl0",
      "execution_count": null,
      "outputs": [
        {
          "output_type": "stream",
          "name": "stdout",
          "text": [
            "Common elements between list1 and list2: [3, 4, 5]\n"
          ]
        }
      ]
    },
    {
      "cell_type": "markdown",
      "id": "041fcd18-d1f5-4313-b41d-6fa43c5b6bf7",
      "metadata": {
        "id": "041fcd18-d1f5-4313-b41d-6fa43c5b6bf7"
      },
      "source": [
        "19. Develop a program that prints the pattern of right-angled triangles using a `for` loop. Use ‘*’ to draw the\n",
        "pattern"
      ]
    },
    {
      "cell_type": "code",
      "source": [
        "# Input the height of the triangle from the user\n",
        "height = int(input(\"Enter the height of the right-angled triangle: \"))\n",
        "\n",
        "# Use a for loop to print the right-angled triangle pattern\n",
        "for i in range(1, height + 1):\n",
        "    for j in range(height - i):\n",
        "        print(\" \", end=\"\")\n",
        "    for k in range(i):\n",
        "        print(\"*\", end=\"\")\n",
        "    print()\n"
      ],
      "metadata": {
        "colab": {
          "base_uri": "https://localhost:8080/"
        },
        "id": "EFfe-chPIVqc",
        "outputId": "d97bbf87-e129-48e2-9e5f-0a30902efdc5"
      },
      "id": "EFfe-chPIVqc",
      "execution_count": null,
      "outputs": [
        {
          "output_type": "stream",
          "name": "stdout",
          "text": [
            "Enter the height of the right-angled triangle: 12\n",
            "           *\n",
            "          **\n",
            "         ***\n",
            "        ****\n",
            "       *****\n",
            "      ******\n",
            "     *******\n",
            "    ********\n",
            "   *********\n",
            "  **********\n",
            " ***********\n",
            "************\n"
          ]
        }
      ]
    },
    {
      "cell_type": "markdown",
      "id": "c9a94062-a673-4258-ba91-b779dd75facb",
      "metadata": {
        "id": "c9a94062-a673-4258-ba91-b779dd75facb"
      },
      "source": [
        "20. Write a program to find the greatest common divisor (GCD) of two numbers using a `for` loop."
      ]
    },
    {
      "cell_type": "code",
      "source": [
        "# Input two numbers from the user\n",
        "num1 = int(input(\"Enter the first number: \"))\n",
        "num2 = int(input(\"Enter the second number: \"))\n",
        "\n",
        "# Find the GCD using the Euclidean algorithm with a for loop\n",
        "while num2:\n",
        "    num1, num2 = num2, num1 % num2\n",
        "\n",
        "# Print the GCD\n",
        "print(f\"The Greatest Common Divisor (GCD) is: {num1}\")\n"
      ],
      "metadata": {
        "colab": {
          "base_uri": "https://localhost:8080/"
        },
        "id": "qaWWSzu9IWgc",
        "outputId": "9c397222-ab53-46aa-a931-5f28fd7b68aa"
      },
      "id": "qaWWSzu9IWgc",
      "execution_count": null,
      "outputs": [
        {
          "output_type": "stream",
          "name": "stdout",
          "text": [
            "Enter the first number: 67\n",
            "Enter the second number: 45\n",
            "The Greatest Common Divisor (GCD) is: 1\n"
          ]
        }
      ]
    },
    {
      "cell_type": "markdown",
      "id": "984398f1-7089-4b9f-bc3f-c394d93d0046",
      "metadata": {
        "id": "984398f1-7089-4b9f-bc3f-c394d93d0046"
      },
      "source": [
        "Advanced Level:"
      ]
    },
    {
      "cell_type": "markdown",
      "id": "b1f3fe1d-faa5-4ee5-9fa7-26a42f8c2aff",
      "metadata": {
        "id": "b1f3fe1d-faa5-4ee5-9fa7-26a42f8c2aff"
      },
      "source": [
        "21. Create a program that calculates the sum of the digits of numbers in a list using a list comprehension."
      ]
    },
    {
      "cell_type": "code",
      "source": [
        "# Define a list of numbers\n",
        "numbers = [123, 45, 789, 12, 56]\n",
        "\n",
        "# Use a list comprehension to calculate the sum of digits for each number\n",
        "sum_of_digits = [sum(map(int, str(num))) for num in numbers]\n",
        "\n",
        "# Print the original numbers and the sum of digits\n",
        "for i in range(len(numbers)):\n",
        "    print(f\"Number: {numbers[i]}, Sum of Digits: {sum_of_digits[i]}\")\n"
      ],
      "metadata": {
        "colab": {
          "base_uri": "https://localhost:8080/"
        },
        "id": "tb1XDytJIXg0",
        "outputId": "b1094cfd-8a92-4c23-ae46-3b64b0fd2779"
      },
      "id": "tb1XDytJIXg0",
      "execution_count": null,
      "outputs": [
        {
          "output_type": "stream",
          "name": "stdout",
          "text": [
            "Number: 123, Sum of Digits: 6\n",
            "Number: 45, Sum of Digits: 9\n",
            "Number: 789, Sum of Digits: 24\n",
            "Number: 12, Sum of Digits: 3\n",
            "Number: 56, Sum of Digits: 11\n"
          ]
        }
      ]
    },
    {
      "cell_type": "markdown",
      "id": "5b80eabe-1e3a-4685-a3ab-e229bdbe4900",
      "metadata": {
        "id": "5b80eabe-1e3a-4685-a3ab-e229bdbe4900"
      },
      "source": [
        "22. Write a program to find the prime factors of a given number using a `for` loop and list comprehension."
      ]
    },
    {
      "cell_type": "code",
      "source": [
        "def is_prime(number):\n",
        "    if number <= 1:\n",
        "        return False\n",
        "    for i in range(2, int(number ** 0.5) + 1):\n",
        "        if number % i == 0:\n",
        "            return False\n",
        "    return True\n",
        "\n",
        "# Input a number from the user\n",
        "num = int(input(\"Enter a number: \"))\n",
        "\n",
        "# Use list comprehension to find prime factors\n",
        "prime_factors = [factor for factor in range(2, num + 1) if num % factor == 0 and is_prime(factor)]\n",
        "\n",
        "# Print the prime factors\n",
        "print(f\"The prime factors of {num} are:\", prime_factors)\n"
      ],
      "metadata": {
        "colab": {
          "base_uri": "https://localhost:8080/"
        },
        "id": "_mVTsKBuIYRU",
        "outputId": "7b57a4c4-04d9-4b24-8f3c-3dffff67496f"
      },
      "id": "_mVTsKBuIYRU",
      "execution_count": null,
      "outputs": [
        {
          "output_type": "stream",
          "name": "stdout",
          "text": [
            "Enter a number: 55\n",
            "The prime factors of 55 are: [5, 11]\n"
          ]
        }
      ]
    },
    {
      "cell_type": "markdown",
      "id": "6c4d6c8c-35da-4764-ab65-f99088b3496f",
      "metadata": {
        "id": "6c4d6c8c-35da-4764-ab65-f99088b3496f"
      },
      "source": [
        "23. Develop a program that extracts unique elements from a list and stores them in a new list using a list\n",
        "comprehension."
      ]
    },
    {
      "cell_type": "code",
      "source": [
        "def is_prime(number):\n",
        "    if number <= 1:\n",
        "        return False\n",
        "    for i in range(2, int(number ** 0.5) + 1):\n",
        "        if number % i == 0:\n",
        "            return False\n",
        "    return True\n",
        "\n",
        "# Input a number from the user\n",
        "num = int(input(\"Enter a number: \"))\n",
        "\n",
        "# Use list comprehension to find prime factors\n",
        "prime_factors = [factor for factor in range(2, num + 1) if num % factor == 0 and is_prime(factor)]\n",
        "\n",
        "# Print the prime factors\n",
        "print(f\"The prime factors of {num} are:\", prime_factors)\n"
      ],
      "metadata": {
        "colab": {
          "base_uri": "https://localhost:8080/"
        },
        "id": "q8JDNKbyIY88",
        "outputId": "0e25659e-dfe5-4025-9a51-b5cb25e4f7cb"
      },
      "id": "q8JDNKbyIY88",
      "execution_count": null,
      "outputs": [
        {
          "output_type": "stream",
          "name": "stdout",
          "text": [
            "Enter a number: 45\n",
            "The prime factors of 45 are: [3, 5]\n"
          ]
        }
      ]
    },
    {
      "cell_type": "markdown",
      "id": "6cf5704e-9608-4b3c-a31d-5e87f4ba9e0f",
      "metadata": {
        "id": "6cf5704e-9608-4b3c-a31d-5e87f4ba9e0f"
      },
      "source": [
        "24. Create a program that generates a list of all palindromic numbers up to a specified limit using a list\n",
        "comprehension."
      ]
    },
    {
      "cell_type": "code",
      "source": [
        "# Input the limit from the user\n",
        "limit = int(input(\"Enter the limit: \"))\n",
        "\n",
        "# Use list comprehension to generate palindromic numbers\n",
        "palindromic_numbers = [num for num in range(1, limit + 1) if str(num) == str(num)[::-1]]\n",
        "\n",
        "# Print the list of palindromic numbers\n",
        "print(\"Palindromic numbers up to\", limit, \"are:\", palindromic_numbers)\n"
      ],
      "metadata": {
        "colab": {
          "base_uri": "https://localhost:8080/"
        },
        "id": "H8aSHdx_IZo8",
        "outputId": "628c7123-e51b-4fce-8198-839b63e5d411"
      },
      "id": "H8aSHdx_IZo8",
      "execution_count": null,
      "outputs": [
        {
          "output_type": "stream",
          "name": "stdout",
          "text": [
            "Enter the limit: 34\n",
            "Palindromic numbers up to 34 are: [1, 2, 3, 4, 5, 6, 7, 8, 9, 11, 22, 33]\n"
          ]
        }
      ]
    },
    {
      "cell_type": "markdown",
      "id": "47d146bd-c67f-4bce-8e8d-d373314a0687",
      "metadata": {
        "id": "47d146bd-c67f-4bce-8e8d-d373314a0687"
      },
      "source": [
        "25. Write a program to flatten a nested list using list comprehension."
      ]
    },
    {
      "cell_type": "code",
      "source": [
        "# Define a nested list\n",
        "nested_list = [[1, 2, 3], [4, 5], [6, 7, 8]]\n",
        "\n",
        "# Flatten the nested list using list comprehension\n",
        "flattened_list = [element for sublist in nested_list for element in sublist]\n",
        "\n",
        "# Print the flattened list\n",
        "print(\"Nested List:\", nested_list)\n",
        "print(\"Flattened List:\", flattened_list)\n"
      ],
      "metadata": {
        "colab": {
          "base_uri": "https://localhost:8080/"
        },
        "id": "VYCn7jS3IaYT",
        "outputId": "bc0bb971-4482-4c65-caf1-66fce09f6da9"
      },
      "id": "VYCn7jS3IaYT",
      "execution_count": null,
      "outputs": [
        {
          "output_type": "stream",
          "name": "stdout",
          "text": [
            "Nested List: [[1, 2, 3], [4, 5], [6, 7, 8]]\n",
            "Flattened List: [1, 2, 3, 4, 5, 6, 7, 8]\n"
          ]
        }
      ]
    },
    {
      "cell_type": "markdown",
      "id": "8882b4ae-8bd5-4be8-afe5-91ac6c4cbee2",
      "metadata": {
        "id": "8882b4ae-8bd5-4be8-afe5-91ac6c4cbee2"
      },
      "source": [
        "26. Develop a program that computes the sum of even and odd numbers in a list separately using list\n",
        "comprehension."
      ]
    },
    {
      "cell_type": "code",
      "source": [
        "# Define a list of numbers\n",
        "numbers = [1, 2, 3, 4, 5, 6, 7, 8, 9, 10]\n",
        "\n",
        "# Use list comprehension to compute the sum of even and odd numbers separately\n",
        "even_sum = sum([num for num in numbers if num % 2 == 0])\n",
        "odd_sum = sum([num for num in numbers if num % 2 != 0])\n",
        "\n",
        "# Print the sums\n",
        "print(\"Original List:\", numbers)\n",
        "print(\"Sum of Even Numbers:\", even_sum)\n",
        "print(\"Sum of Odd Numbers:\", odd_sum)\n"
      ],
      "metadata": {
        "colab": {
          "base_uri": "https://localhost:8080/"
        },
        "id": "gNymJJTeIatb",
        "outputId": "95d84ebe-aefb-44df-e918-8bd49c5f28a8"
      },
      "id": "gNymJJTeIatb",
      "execution_count": null,
      "outputs": [
        {
          "output_type": "stream",
          "name": "stdout",
          "text": [
            "Original List: [1, 2, 3, 4, 5, 6, 7, 8, 9, 10]\n",
            "Sum of Even Numbers: 30\n",
            "Sum of Odd Numbers: 25\n"
          ]
        }
      ]
    },
    {
      "cell_type": "markdown",
      "id": "8cb1143b-78d2-4f91-a55e-5e6116f2c678",
      "metadata": {
        "id": "8cb1143b-78d2-4f91-a55e-5e6116f2c678"
      },
      "source": [
        "27. Create a program that generates a list of squares of odd numbers between 1 and 10 using list\n",
        "comprehension."
      ]
    },
    {
      "cell_type": "code",
      "source": [
        "# Use list comprehension to generate squares of odd numbers between 1 and 10\n",
        "odd_squares = [num ** 2 for num in range(1, 11) if num % 2 != 0]\n",
        "\n",
        "# Print the list of squares\n",
        "print(\"Squares of Odd Numbers between 1 and 10:\", odd_squares)\n"
      ],
      "metadata": {
        "colab": {
          "base_uri": "https://localhost:8080/"
        },
        "id": "lbN8ykxJIbJT",
        "outputId": "b093bd76-c53e-4bb1-85d6-054b1f144f36"
      },
      "id": "lbN8ykxJIbJT",
      "execution_count": null,
      "outputs": [
        {
          "output_type": "stream",
          "name": "stdout",
          "text": [
            "Squares of Odd Numbers between 1 and 10: [1, 9, 25, 49, 81]\n"
          ]
        }
      ]
    },
    {
      "cell_type": "markdown",
      "id": "8f12e68a-81e1-4d1e-952f-43ed48054d92",
      "metadata": {
        "id": "8f12e68a-81e1-4d1e-952f-43ed48054d92"
      },
      "source": [
        "28. Write a program that combines two lists into a dictionary using list comprehension."
      ]
    },
    {
      "cell_type": "code",
      "source": [
        "# Define two lists\n",
        "keys = ['a', 'b', 'c']\n",
        "values = [1, 2, 3]\n",
        "\n",
        "# Combine the lists into a dictionary using list comprehension\n",
        "combined_dict = {keys[i]: values[i] for i in range(min(len(keys), len(values)))}\n",
        "\n",
        "# Print the resulting dictionary\n",
        "print(\"Combined Dictionary:\", combined_dict)\n"
      ],
      "metadata": {
        "colab": {
          "base_uri": "https://localhost:8080/"
        },
        "id": "clI_0IJaIbzk",
        "outputId": "73aa11ef-c54b-4dd8-e26d-9f464d9def14"
      },
      "id": "clI_0IJaIbzk",
      "execution_count": null,
      "outputs": [
        {
          "output_type": "stream",
          "name": "stdout",
          "text": [
            "Combined Dictionary: {'a': 1, 'b': 2, 'c': 3}\n"
          ]
        }
      ]
    },
    {
      "cell_type": "markdown",
      "id": "662dd5dd-838e-41a0-8123-b65a5fde001e",
      "metadata": {
        "id": "662dd5dd-838e-41a0-8123-b65a5fde001e"
      },
      "source": [
        "29. Develop a program that extracts the vowels from a string and stores them in a list using list comprehension."
      ]
    },
    {
      "cell_type": "code",
      "source": [
        "# Input string\n",
        "input_string = input(\"Enter a string: \")\n",
        "\n",
        "# Extract vowels using list comprehension\n",
        "vowels = [char for char in input_string if char.lower() in 'aeiou']\n",
        "\n",
        "# Display the extracted vowels\n",
        "print(\"Vowels in the string:\")\n",
        "print(vowels)\n"
      ],
      "metadata": {
        "colab": {
          "base_uri": "https://localhost:8080/"
        },
        "id": "8ZM_l_L6Qw1a",
        "outputId": "81ec8ef9-9957-42fe-fd82-b9ed1d527e40"
      },
      "id": "8ZM_l_L6Qw1a",
      "execution_count": null,
      "outputs": [
        {
          "output_type": "stream",
          "name": "stdout",
          "text": [
            "Enter a string: aman\n",
            "Vowels in the string:\n",
            "['a', 'a']\n"
          ]
        }
      ]
    },
    {
      "cell_type": "markdown",
      "id": "d8ddddd1-c096-4c10-8d8b-cef2bd595324",
      "metadata": {
        "id": "d8ddddd1-c096-4c10-8d8b-cef2bd595324"
      },
      "source": [
        "30. Create a program that removes all non-numeric characters from a list of strings using list comprehension."
      ]
    },
    {
      "cell_type": "code",
      "source": [
        "# Define a list of strings\n",
        "strings_with_nonnumeric = [\"abc123\", \"45x\", \"6y7z\", \"12\", \"xyz\"]\n",
        "\n",
        "# Use list comprehension to remove non-numeric characters\n",
        "numeric_strings = [''.join(char for char in string if char.isnumeric()) for string in strings_with_nonnumeric]\n",
        "\n",
        "# Print the list of numeric strings\n",
        "print(\"Original List:\", strings_with_nonnumeric)\n",
        "print(\"List with Non-Numeric Characters Removed:\", numeric_strings)\n"
      ],
      "metadata": {
        "colab": {
          "base_uri": "https://localhost:8080/"
        },
        "id": "9EtZBtM6Idc7",
        "outputId": "32d9b914-ef1b-46b8-e47b-dc44022894b9"
      },
      "id": "9EtZBtM6Idc7",
      "execution_count": null,
      "outputs": [
        {
          "output_type": "stream",
          "name": "stdout",
          "text": [
            "Original List: ['abc123', '45x', '6y7z', '12', 'xyz']\n",
            "List with Non-Numeric Characters Removed: ['123', '45', '67', '12', '']\n"
          ]
        }
      ]
    },
    {
      "cell_type": "markdown",
      "id": "73ec645e-331b-43c9-9106-d50ad62cfa28",
      "metadata": {
        "id": "73ec645e-331b-43c9-9106-d50ad62cfa28"
      },
      "source": [
        "Challenge Level:"
      ]
    },
    {
      "cell_type": "markdown",
      "id": "61028a50-657f-440a-8c31-15334effc609",
      "metadata": {
        "id": "61028a50-657f-440a-8c31-15334effc609"
      },
      "source": [
        "31. Write a program to generate a list of prime numbers using the Sieve of Eratosthenes algorithm and list\n",
        "comprehension."
      ]
    },
    {
      "cell_type": "code",
      "source": [
        "# Input the upper limit from the user\n",
        "limit = int(input(\"Enter the upper limit for prime numbers: \"))\n",
        "\n",
        "# Create a list of boolean values indicating whether each number is prime\n",
        "is_prime = [True] * (limit + 1)\n",
        "is_prime[0] = is_prime[1] = False  # 0 and 1 are not prime\n",
        "\n",
        "# Apply the Sieve of Eratosthenes algorithm to mark non-prime numbers\n",
        "for number in range(2, int(limit**0.5) + 1):\n",
        "    if is_prime[number]:\n",
        "        for multiple in range(number * number, limit + 1, number):\n",
        "            is_prime[multiple] = False\n",
        "\n",
        "# Use list comprehension to generate a list of prime numbers\n",
        "prime_numbers = [num for num in range(2, limit + 1) if is_prime[num]]\n",
        "\n",
        "# Print the list of prime numbers\n",
        "print(\"Prime numbers up to\", limit, \"are:\", prime_numbers)\n"
      ],
      "metadata": {
        "colab": {
          "base_uri": "https://localhost:8080/"
        },
        "id": "veqtsb6JIebk",
        "outputId": "3f92d64e-105b-4338-9fec-892e919bd45b"
      },
      "id": "veqtsb6JIebk",
      "execution_count": null,
      "outputs": [
        {
          "output_type": "stream",
          "name": "stdout",
          "text": [
            "Enter the upper limit for prime numbers: 4\n",
            "Prime numbers up to 4 are: [2, 3]\n"
          ]
        }
      ]
    },
    {
      "cell_type": "markdown",
      "id": "0867ba2c-8746-4e7e-8eeb-0a034982865d",
      "metadata": {
        "id": "0867ba2c-8746-4e7e-8eeb-0a034982865d"
      },
      "source": [
        "32. Create a program that generates a list of all Pythagorean triplets up to a specified limit using list\n",
        "comprehension."
      ]
    },
    {
      "cell_type": "code",
      "source": [
        "# Input the upper limit from the user\n",
        "limit = int(input(\"Enter the upper limit for Pythagorean triplets: \"))\n",
        "\n",
        "# Use list comprehension to generate Pythagorean triplets\n",
        "pythagorean_triplets = [(a, b, c) for a in range(1, limit + 1) for b in range(a, limit + 1) for c in range(b, limit + 1) if a**2 + b**2 == c**2]\n",
        "\n",
        "# Print the list of Pythagorean triplets\n",
        "print(\"Pythagorean triplets up to\", limit, \"are:\", pythagorean_triplets)\n"
      ],
      "metadata": {
        "colab": {
          "base_uri": "https://localhost:8080/"
        },
        "id": "Uz2pjlleIfJ7",
        "outputId": "03e14ce5-3928-48e4-8b6e-3e27d715a11b"
      },
      "id": "Uz2pjlleIfJ7",
      "execution_count": null,
      "outputs": [
        {
          "output_type": "stream",
          "name": "stdout",
          "text": [
            "Enter the upper limit for Pythagorean triplets: 12\n",
            "Pythagorean triplets up to 12 are: [(3, 4, 5), (6, 8, 10)]\n"
          ]
        }
      ]
    },
    {
      "cell_type": "markdown",
      "id": "17ffe9b9-1fcf-4048-a361-0ec18a3962d8",
      "metadata": {
        "id": "17ffe9b9-1fcf-4048-a361-0ec18a3962d8"
      },
      "source": [
        "33. Develop a program that generates a list of all possible combinations of two lists using list comprehension."
      ]
    },
    {
      "cell_type": "code",
      "source": [
        "# Define two lists\n",
        "list1 = [1, 2, 3]\n",
        "list2 = ['a', 'b', 'c']\n",
        "\n",
        "# Use list comprehension to generate all possible combinations\n",
        "combinations = [(x, y) for x in list1 for y in list2]\n",
        "\n",
        "# Print the list of combinations\n",
        "print(\"Combinations of two lists:\")\n",
        "for combination in combinations:\n",
        "    print(combination)\n"
      ],
      "metadata": {
        "colab": {
          "base_uri": "https://localhost:8080/"
        },
        "id": "4z9oyhyWIf4b",
        "outputId": "b8c5269f-9801-4cf6-9c27-96c169513a3b"
      },
      "id": "4z9oyhyWIf4b",
      "execution_count": null,
      "outputs": [
        {
          "output_type": "stream",
          "name": "stdout",
          "text": [
            "Combinations of two lists:\n",
            "(1, 'a')\n",
            "(1, 'b')\n",
            "(1, 'c')\n",
            "(2, 'a')\n",
            "(2, 'b')\n",
            "(2, 'c')\n",
            "(3, 'a')\n",
            "(3, 'b')\n",
            "(3, 'c')\n"
          ]
        }
      ]
    },
    {
      "cell_type": "markdown",
      "id": "61a77589-c2c7-4352-a508-14dd255e16d6",
      "metadata": {
        "id": "61a77589-c2c7-4352-a508-14dd255e16d6"
      },
      "source": [
        "34. Write a program that calculates the mean, median, and mode of a list of numbers using list\n",
        "comprehension."
      ]
    },
    {
      "cell_type": "code",
      "source": [
        "import statistics\n",
        "\n",
        "# Define a list of numbers\n",
        "numbers = [5, 2, 7, 2, 8, 5, 3]\n",
        "\n",
        "# Calculate the mean using the statistics library\n",
        "mean = statistics.mean(numbers)\n",
        "\n",
        "# Calculate the median using the statistics library\n",
        "median = statistics.median(numbers)\n",
        "\n",
        "# Calculate the mode using the statistics library\n",
        "mode = statistics.mode(numbers)\n",
        "\n",
        "# Print the mean, median, and mode\n",
        "print(\"Mean:\", mean)\n",
        "print(\"Median:\", median)\n",
        "print(\"Mode:\", mode)\n"
      ],
      "metadata": {
        "colab": {
          "base_uri": "https://localhost:8080/"
        },
        "id": "44ATfYafIgT0",
        "outputId": "96f93411-070c-4e44-ab2d-dca20039e80f"
      },
      "id": "44ATfYafIgT0",
      "execution_count": null,
      "outputs": [
        {
          "output_type": "stream",
          "name": "stdout",
          "text": [
            "Mean: 4.571428571428571\n",
            "Median: 5\n",
            "Mode: 5\n"
          ]
        }
      ]
    },
    {
      "cell_type": "markdown",
      "id": "9bd49af1-1bf9-44b9-8a1d-4f1d830f0279",
      "metadata": {
        "id": "9bd49af1-1bf9-44b9-8a1d-4f1d830f0279"
      },
      "source": [
        "35. Create a program that generates Pascal's triangle up to a specified number of rows using list\n",
        "comprehension."
      ]
    },
    {
      "cell_type": "code",
      "source": [
        "def generate_pascals_triangle(n):\n",
        "    if n <= 0:\n",
        "        return []\n",
        "\n",
        "    pascals_triangle = [[1]]\n",
        "\n",
        "    for i in range(1, n):\n",
        "        row = [1] + [pascals_triangle[i - 1][j - 1] + pascals_triangle[i - 1][j] for j in range(1, i)] + [1]\n",
        "        pascals_triangle.append(row)\n",
        "\n",
        "    return pascals_triangle\n",
        "\n",
        "def display_pascals_triangle(triangle):\n",
        "    max_width = len(\" \".join(map(str, triangle[-1])))\n",
        "    for row in triangle:\n",
        "        row_str = \" \".join(map(str, row))\n",
        "        print(row_str.center(max_width))\n",
        "\n",
        "if __name__ == \"__main__\":\n",
        "    try:\n",
        "        n = int(input(\"Enter the number of rows for Pascal's triangle: \"))\n",
        "        pascals_triangle = generate_pascals_triangle(n)\n",
        "        display_pascals_triangle(pascals_triangle)\n",
        "    except ValueError:\n",
        "        print(\"Please enter a valid positive integer.\")\n"
      ],
      "metadata": {
        "colab": {
          "base_uri": "https://localhost:8080/"
        },
        "id": "zy1mNJh_IhBD",
        "outputId": "defec7ac-0377-41b2-8be1-2748b192355b"
      },
      "id": "zy1mNJh_IhBD",
      "execution_count": null,
      "outputs": [
        {
          "output_type": "stream",
          "name": "stdout",
          "text": [
            "Enter the number of rows for Pascal's triangle: 5\n",
            "    1    \n",
            "   1 1   \n",
            "  1 2 1  \n",
            " 1 3 3 1 \n",
            "1 4 6 4 1\n"
          ]
        }
      ]
    },
    {
      "cell_type": "markdown",
      "id": "f8aac1b4-5189-41c7-99a9-1776a6096b9e",
      "metadata": {
        "id": "f8aac1b4-5189-41c7-99a9-1776a6096b9e"
      },
      "source": [
        "36. Develop a program that calculates the sum of the digits of a factorial of numbers from 1 to 5 using list\n",
        "comprehension."
      ]
    },
    {
      "cell_type": "code",
      "source": [
        "# Function to calculate factorial of a number\n",
        "def factorial(n):\n",
        "    if n == 0:\n",
        "        return 1\n",
        "    else:\n",
        "        return n * factorial(n - 1)\n",
        "\n",
        "# Function to calculate the sum of digits of a number\n",
        "def sum_of_digits(number):\n",
        "    return sum(int(digit) for digit in str(number))\n",
        "\n",
        "# Calculate the sum of digits of factorial for numbers from 1 to 5\n",
        "results = [sum_of_digits(factorial(i)) for i in range(1, 6)]\n",
        "\n",
        "# Display the results\n",
        "for i, result in enumerate(results, start=1):\n",
        "    print(f\"Sum of digits of {i}! = {result}\")\n"
      ],
      "metadata": {
        "colab": {
          "base_uri": "https://localhost:8080/"
        },
        "id": "ZKPreKKhIhwb",
        "outputId": "4e9e5c97-3d10-46f7-b651-e69d75f7345b"
      },
      "id": "ZKPreKKhIhwb",
      "execution_count": null,
      "outputs": [
        {
          "output_type": "stream",
          "name": "stdout",
          "text": [
            "Sum of digits of 1! = 1\n",
            "Sum of digits of 2! = 2\n",
            "Sum of digits of 3! = 6\n",
            "Sum of digits of 4! = 6\n",
            "Sum of digits of 5! = 3\n"
          ]
        }
      ]
    },
    {
      "cell_type": "markdown",
      "id": "580238d8-27f8-49e5-bda8-960e579e7a70",
      "metadata": {
        "id": "580238d8-27f8-49e5-bda8-960e579e7a70"
      },
      "source": [
        "37. Write a program that finds the longest word in a sentence using list comprehension."
      ]
    },
    {
      "cell_type": "code",
      "source": [
        "# Input sentence\n",
        "sentence = input(\"Enter a sentence: \")\n",
        "\n",
        "# Split the sentence into words\n",
        "words = sentence.split()\n",
        "\n",
        "# Find the longest word using list comprehension\n",
        "longest_word = max((word for word in words), key=len)\n",
        "\n",
        "# Display the longest word\n",
        "print(f\"The longest word in the sentence is: {longest_word}\")\n"
      ],
      "metadata": {
        "colab": {
          "base_uri": "https://localhost:8080/"
        },
        "id": "ri2qGOk3IiTj",
        "outputId": "d072552b-c306-435a-e723-4057f669d3d2"
      },
      "id": "ri2qGOk3IiTj",
      "execution_count": null,
      "outputs": [
        {
          "output_type": "stream",
          "name": "stdout",
          "text": [
            "Enter a sentence: I want to earn handsome amount\n",
            "The longest word in the sentence is: handsome\n"
          ]
        }
      ]
    },
    {
      "cell_type": "markdown",
      "id": "9ec90513-81e2-438f-a956-2864d2016979",
      "metadata": {
        "id": "9ec90513-81e2-438f-a956-2864d2016979"
      },
      "source": [
        "38. Create a program that filters a list of strings to include only those with more than three vowels using list\n",
        "comprehension."
      ]
    },
    {
      "cell_type": "code",
      "source": [
        "# List of strings\n",
        "string_list = [\"apple\", \"banana\", \"cherry\", \"date\", \"elephant\", \"fig\", \"grape\"]\n",
        "\n",
        "# Function to count vowels in a string\n",
        "def count_vowels(s):\n",
        "    vowels = \"AEIOUaeiou\"\n",
        "    return sum(1 for char in s if char in vowels)\n",
        "\n",
        "# Filter strings with more than three vowels using list comprehension\n",
        "filtered_list = [string for string in string_list if count_vowels(string) > 3]\n",
        "\n",
        "# Display the filtered list\n",
        "print(\"Strings with more than three vowels:\")\n",
        "for string in filtered_list:\n",
        "    print(string)\n"
      ],
      "metadata": {
        "colab": {
          "base_uri": "https://localhost:8080/"
        },
        "id": "AWaXRorEQ6RY",
        "outputId": "691a6ab6-5d7f-4dec-9dbe-7f7c950e88f3"
      },
      "id": "AWaXRorEQ6RY",
      "execution_count": null,
      "outputs": [
        {
          "output_type": "stream",
          "name": "stdout",
          "text": [
            "Strings with more than three vowels:\n"
          ]
        }
      ]
    },
    {
      "cell_type": "markdown",
      "id": "999e9109-4487-4043-96e0-83a24648e74c",
      "metadata": {
        "id": "999e9109-4487-4043-96e0-83a24648e74c"
      },
      "source": [
        "39. Develop a program that calculates the sum of the digits of numbers from 1 to 1000 using list\n",
        "comprehension."
      ]
    },
    {
      "cell_type": "code",
      "source": [
        "# Function to calculate the sum of digits of a number\n",
        "def sum_of_digits(number):\n",
        "    return sum(int(digit) for digit in str(number))\n",
        "\n",
        "# Calculate the sum of digits for numbers from 1 to 1000 using list comprehension\n",
        "sums_of_digits = [sum_of_digits(i) for i in range(1, 1001)]\n",
        "\n",
        "# Calculate the total sum of digits\n",
        "total_sum = sum(sums_of_digits)\n",
        "\n",
        "# Display the results\n",
        "print(f\"Sum of digits for numbers from 1 to 1000:\")\n",
        "print(f\"Individual sums: {sums_of_digits}\")\n",
        "print(f\"Total sum: {total_sum}\")\n"
      ],
      "metadata": {
        "colab": {
          "base_uri": "https://localhost:8080/"
        },
        "id": "0t3lgLkfIjhD",
        "outputId": "01f5ba3a-e04d-47c6-e827-b8194753c24c"
      },
      "id": "0t3lgLkfIjhD",
      "execution_count": null,
      "outputs": [
        {
          "output_type": "stream",
          "name": "stdout",
          "text": [
            "Sum of digits for numbers from 1 to 1000:\n",
            "Individual sums: [1, 2, 3, 4, 5, 6, 7, 8, 9, 1, 2, 3, 4, 5, 6, 7, 8, 9, 10, 2, 3, 4, 5, 6, 7, 8, 9, 10, 11, 3, 4, 5, 6, 7, 8, 9, 10, 11, 12, 4, 5, 6, 7, 8, 9, 10, 11, 12, 13, 5, 6, 7, 8, 9, 10, 11, 12, 13, 14, 6, 7, 8, 9, 10, 11, 12, 13, 14, 15, 7, 8, 9, 10, 11, 12, 13, 14, 15, 16, 8, 9, 10, 11, 12, 13, 14, 15, 16, 17, 9, 10, 11, 12, 13, 14, 15, 16, 17, 18, 1, 2, 3, 4, 5, 6, 7, 8, 9, 10, 2, 3, 4, 5, 6, 7, 8, 9, 10, 11, 3, 4, 5, 6, 7, 8, 9, 10, 11, 12, 4, 5, 6, 7, 8, 9, 10, 11, 12, 13, 5, 6, 7, 8, 9, 10, 11, 12, 13, 14, 6, 7, 8, 9, 10, 11, 12, 13, 14, 15, 7, 8, 9, 10, 11, 12, 13, 14, 15, 16, 8, 9, 10, 11, 12, 13, 14, 15, 16, 17, 9, 10, 11, 12, 13, 14, 15, 16, 17, 18, 10, 11, 12, 13, 14, 15, 16, 17, 18, 19, 2, 3, 4, 5, 6, 7, 8, 9, 10, 11, 3, 4, 5, 6, 7, 8, 9, 10, 11, 12, 4, 5, 6, 7, 8, 9, 10, 11, 12, 13, 5, 6, 7, 8, 9, 10, 11, 12, 13, 14, 6, 7, 8, 9, 10, 11, 12, 13, 14, 15, 7, 8, 9, 10, 11, 12, 13, 14, 15, 16, 8, 9, 10, 11, 12, 13, 14, 15, 16, 17, 9, 10, 11, 12, 13, 14, 15, 16, 17, 18, 10, 11, 12, 13, 14, 15, 16, 17, 18, 19, 11, 12, 13, 14, 15, 16, 17, 18, 19, 20, 3, 4, 5, 6, 7, 8, 9, 10, 11, 12, 4, 5, 6, 7, 8, 9, 10, 11, 12, 13, 5, 6, 7, 8, 9, 10, 11, 12, 13, 14, 6, 7, 8, 9, 10, 11, 12, 13, 14, 15, 7, 8, 9, 10, 11, 12, 13, 14, 15, 16, 8, 9, 10, 11, 12, 13, 14, 15, 16, 17, 9, 10, 11, 12, 13, 14, 15, 16, 17, 18, 10, 11, 12, 13, 14, 15, 16, 17, 18, 19, 11, 12, 13, 14, 15, 16, 17, 18, 19, 20, 12, 13, 14, 15, 16, 17, 18, 19, 20, 21, 4, 5, 6, 7, 8, 9, 10, 11, 12, 13, 5, 6, 7, 8, 9, 10, 11, 12, 13, 14, 6, 7, 8, 9, 10, 11, 12, 13, 14, 15, 7, 8, 9, 10, 11, 12, 13, 14, 15, 16, 8, 9, 10, 11, 12, 13, 14, 15, 16, 17, 9, 10, 11, 12, 13, 14, 15, 16, 17, 18, 10, 11, 12, 13, 14, 15, 16, 17, 18, 19, 11, 12, 13, 14, 15, 16, 17, 18, 19, 20, 12, 13, 14, 15, 16, 17, 18, 19, 20, 21, 13, 14, 15, 16, 17, 18, 19, 20, 21, 22, 5, 6, 7, 8, 9, 10, 11, 12, 13, 14, 6, 7, 8, 9, 10, 11, 12, 13, 14, 15, 7, 8, 9, 10, 11, 12, 13, 14, 15, 16, 8, 9, 10, 11, 12, 13, 14, 15, 16, 17, 9, 10, 11, 12, 13, 14, 15, 16, 17, 18, 10, 11, 12, 13, 14, 15, 16, 17, 18, 19, 11, 12, 13, 14, 15, 16, 17, 18, 19, 20, 12, 13, 14, 15, 16, 17, 18, 19, 20, 21, 13, 14, 15, 16, 17, 18, 19, 20, 21, 22, 14, 15, 16, 17, 18, 19, 20, 21, 22, 23, 6, 7, 8, 9, 10, 11, 12, 13, 14, 15, 7, 8, 9, 10, 11, 12, 13, 14, 15, 16, 8, 9, 10, 11, 12, 13, 14, 15, 16, 17, 9, 10, 11, 12, 13, 14, 15, 16, 17, 18, 10, 11, 12, 13, 14, 15, 16, 17, 18, 19, 11, 12, 13, 14, 15, 16, 17, 18, 19, 20, 12, 13, 14, 15, 16, 17, 18, 19, 20, 21, 13, 14, 15, 16, 17, 18, 19, 20, 21, 22, 14, 15, 16, 17, 18, 19, 20, 21, 22, 23, 15, 16, 17, 18, 19, 20, 21, 22, 23, 24, 7, 8, 9, 10, 11, 12, 13, 14, 15, 16, 8, 9, 10, 11, 12, 13, 14, 15, 16, 17, 9, 10, 11, 12, 13, 14, 15, 16, 17, 18, 10, 11, 12, 13, 14, 15, 16, 17, 18, 19, 11, 12, 13, 14, 15, 16, 17, 18, 19, 20, 12, 13, 14, 15, 16, 17, 18, 19, 20, 21, 13, 14, 15, 16, 17, 18, 19, 20, 21, 22, 14, 15, 16, 17, 18, 19, 20, 21, 22, 23, 15, 16, 17, 18, 19, 20, 21, 22, 23, 24, 16, 17, 18, 19, 20, 21, 22, 23, 24, 25, 8, 9, 10, 11, 12, 13, 14, 15, 16, 17, 9, 10, 11, 12, 13, 14, 15, 16, 17, 18, 10, 11, 12, 13, 14, 15, 16, 17, 18, 19, 11, 12, 13, 14, 15, 16, 17, 18, 19, 20, 12, 13, 14, 15, 16, 17, 18, 19, 20, 21, 13, 14, 15, 16, 17, 18, 19, 20, 21, 22, 14, 15, 16, 17, 18, 19, 20, 21, 22, 23, 15, 16, 17, 18, 19, 20, 21, 22, 23, 24, 16, 17, 18, 19, 20, 21, 22, 23, 24, 25, 17, 18, 19, 20, 21, 22, 23, 24, 25, 26, 9, 10, 11, 12, 13, 14, 15, 16, 17, 18, 10, 11, 12, 13, 14, 15, 16, 17, 18, 19, 11, 12, 13, 14, 15, 16, 17, 18, 19, 20, 12, 13, 14, 15, 16, 17, 18, 19, 20, 21, 13, 14, 15, 16, 17, 18, 19, 20, 21, 22, 14, 15, 16, 17, 18, 19, 20, 21, 22, 23, 15, 16, 17, 18, 19, 20, 21, 22, 23, 24, 16, 17, 18, 19, 20, 21, 22, 23, 24, 25, 17, 18, 19, 20, 21, 22, 23, 24, 25, 26, 18, 19, 20, 21, 22, 23, 24, 25, 26, 27, 1]\n",
            "Total sum: 13501\n"
          ]
        }
      ]
    },
    {
      "cell_type": "markdown",
      "id": "399c26fa-1b53-463e-8598-f2a8b84abceb",
      "metadata": {
        "id": "399c26fa-1b53-463e-8598-f2a8b84abceb"
      },
      "source": [
        "40. Write a program that generates a list of prime palindromic numbers using list comprehension."
      ]
    },
    {
      "cell_type": "code",
      "execution_count": null,
      "id": "c4201396-edd3-4b44-83a5-6421af357df3",
      "metadata": {
        "id": "c4201396-edd3-4b44-83a5-6421af357df3",
        "colab": {
          "base_uri": "https://localhost:8080/"
        },
        "outputId": "c93e354c-2c39-49b2-d731-529485b1ad55"
      },
      "outputs": [
        {
          "output_type": "stream",
          "name": "stdout",
          "text": [
            "Prime palindromic numbers:\n",
            "[2, 3, 5, 7, 11, 101, 131, 151, 181, 191, 313, 353, 373, 383, 727, 757, 787, 797, 919, 929]\n"
          ]
        }
      ],
      "source": [
        "# Function to check if a number is prime\n",
        "def is_prime(n):\n",
        "    if n <= 1:\n",
        "        return False\n",
        "    if n == 2:\n",
        "        return True\n",
        "    if n % 2 == 0:\n",
        "        return False\n",
        "    for i in range(3, int(n ** 0.5) + 1, 2):\n",
        "        if n % i == 0:\n",
        "            return False\n",
        "    return True\n",
        "\n",
        "# Generate a list of prime palindromic numbers using list comprehension\n",
        "prime_palindromes = [n for n in range(1, 1000) if is_prime(n) and str(n) == str(n)[::-1]]\n",
        "\n",
        "# Display the list of prime palindromic numbers\n",
        "print(\"Prime palindromic numbers:\")\n",
        "print(prime_palindromes)\n"
      ]
    }
  ],
  "metadata": {
    "kernelspec": {
      "display_name": "Python 3 (ipykernel)",
      "language": "python",
      "name": "python3"
    },
    "language_info": {
      "codemirror_mode": {
        "name": "ipython",
        "version": 3
      },
      "file_extension": ".py",
      "mimetype": "text/x-python",
      "name": "python",
      "nbconvert_exporter": "python",
      "pygments_lexer": "ipython3",
      "version": "3.10.8"
    },
    "colab": {
      "provenance": [],
      "toc_visible": true
    }
  },
  "nbformat": 4,
  "nbformat_minor": 5
}