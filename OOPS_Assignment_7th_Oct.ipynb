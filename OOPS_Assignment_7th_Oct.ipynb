{
  "nbformat": 4,
  "nbformat_minor": 0,
  "metadata": {
    "colab": {
      "provenance": []
    },
    "kernelspec": {
      "name": "python3",
      "display_name": "Python 3"
    },
    "language_info": {
      "name": "python"
    }
  },
  "cells": [
    {
      "cell_type": "markdown",
      "source": [
        "Problem 1: Bank Account Create a class representing a bank account with attributes like account number, account holder name, and balance. Implement methods to deposit and withdraw money from the account.\n",
        "\n"
      ],
      "metadata": {
        "id": "wfPyeSYMFQzp"
      }
    },
    {
      "cell_type": "code",
      "execution_count": 1,
      "metadata": {
        "id": "HUAjLFieFJee",
        "colab": {
          "base_uri": "https://localhost:8080/"
        },
        "outputId": "b1d760d5-a4d7-49c6-ca20-a948fb102b31"
      },
      "outputs": [
        {
          "output_type": "stream",
          "name": "stdout",
          "text": [
            "Account Number: 1234567890\n",
            "Account Holder Name: John Doe\n",
            "Current Balance: 1000\n",
            "Deposited 500 successfully. Current balance: 1500\n",
            "Withdrawn 200 successfully. Current balance: 1300\n",
            "Account Number: 1234567890\n",
            "Account Holder Name: John Doe\n",
            "Current Balance: 1300\n"
          ]
        }
      ],
      "source": [
        "class BankAccount:\n",
        "    def __init__(self, account_number, account_holder_name, balance=0):\n",
        "        self.account_number = account_number\n",
        "        self.account_holder_name = account_holder_name\n",
        "        self.balance = balance\n",
        "\n",
        "    def deposit(self, amount):\n",
        "        if amount > 0:\n",
        "            self.balance += amount\n",
        "            print(f\"Deposited {amount} successfully. Current balance: {self.balance}\")\n",
        "        else:\n",
        "            print(\"Invalid deposit amount.\")\n",
        "\n",
        "    def withdraw(self, amount):\n",
        "        if 0 < amount <= self.balance:\n",
        "            self.balance -= amount\n",
        "            print(f\"Withdrawn {amount} successfully. Current balance: {self.balance}\")\n",
        "        else:\n",
        "            print(\"Insufficient funds or invalid withdrawal amount.\")\n",
        "\n",
        "    def display_balance(self):\n",
        "        print(f\"Account Number: {self.account_number}\")\n",
        "        print(f\"Account Holder Name: {self.account_holder_name}\")\n",
        "        print(f\"Current Balance: {self.balance}\")\n",
        "\n",
        "# Example usage:\n",
        "# Creating a bank account object\n",
        "account1 = BankAccount(\"1234567890\", \"John Doe\", 1000)\n",
        "\n",
        "# Displaying account details\n",
        "account1.display_balance()\n",
        "\n",
        "# Depositing money\n",
        "account1.deposit(500)\n",
        "\n",
        "# Withdrawing money\n",
        "account1.withdraw(200)\n",
        "\n",
        "# Displaying updated balance\n",
        "account1.display_balance()\n"
      ]
    },
    {
      "cell_type": "markdown",
      "source": [
        "Problem 2: Employee Management Create a class representing an employee with attributes like employee ID, name, and salary. Implement methods to calculate the yearly bonus and display employee details.\n",
        "\n"
      ],
      "metadata": {
        "id": "NzRLOmhnFe4P"
      }
    },
    {
      "cell_type": "code",
      "source": [
        "class Employee:\n",
        "    def __init__(self, employee_id, name, salary):\n",
        "        self.employee_id = employee_id\n",
        "        self.name = name\n",
        "        self.salary = salary\n",
        "\n",
        "    def calculate_yearly_bonus(self, bonus_percentage):\n",
        "        bonus_amount = (bonus_percentage / 100) * self.salary\n",
        "        return bonus_amount\n",
        "\n",
        "    def display_details(self):\n",
        "        print(\"Employee Details:\")\n",
        "        print(f\"Employee ID: {self.employee_id}\")\n",
        "        print(f\"Name: {self.name}\")\n",
        "        print(f\"Salary: {self.salary}\")\n",
        "\n",
        "# Example usage:\n",
        "# Creating an employee object\n",
        "employee1 = Employee(\"E123\", \"John Doe\", 50000)\n",
        "\n",
        "# Displaying employee details\n",
        "employee1.display_details()\n",
        "\n",
        "# Calculating and displaying yearly bonus (assuming 10% bonus)\n",
        "bonus_percentage = 10\n",
        "yearly_bonus = employee1.calculate_yearly_bonus(bonus_percentage)\n",
        "print(f\"Yearly Bonus: ${yearly_bonus:.2f}\")\n"
      ],
      "metadata": {
        "id": "bTm9PvfcFixS",
        "colab": {
          "base_uri": "https://localhost:8080/"
        },
        "outputId": "eda23fdd-59f6-4d3f-bf0b-9db994bdaa8d"
      },
      "execution_count": 2,
      "outputs": [
        {
          "output_type": "stream",
          "name": "stdout",
          "text": [
            "Employee Details:\n",
            "Employee ID: E123\n",
            "Name: John Doe\n",
            "Salary: 50000\n",
            "Yearly Bonus: $5000.00\n"
          ]
        }
      ]
    },
    {
      "cell_type": "markdown",
      "source": [
        "Problem 3: Vehicle Rental Create a class representing a vehicle rental system. Implement methods to rent a vehicle, return a vehicle, and display available vehicles.\n",
        "\n"
      ],
      "metadata": {
        "id": "kr-JniJWFjaH"
      }
    },
    {
      "cell_type": "code",
      "source": [
        "class VehicleRental:\n",
        "    def __init__(self):\n",
        "        self.available_vehicles = []\n",
        "\n",
        "    def rent_vehicle(self, vehicle):\n",
        "        if vehicle in self.available_vehicles:\n",
        "            self.available_vehicles.remove(vehicle)\n",
        "            print(f\"{vehicle} rented successfully.\")\n",
        "        else:\n",
        "            print(f\"Sorry, {vehicle} is not available for rent.\")\n",
        "\n",
        "    def return_vehicle(self, vehicle):\n",
        "        self.available_vehicles.append(vehicle)\n",
        "        print(f\"{vehicle} returned successfully.\")\n",
        "\n",
        "    def display_available_vehicles(self):\n",
        "        if self.available_vehicles:\n",
        "            print(\"Available Vehicles:\")\n",
        "            for vehicle in self.available_vehicles:\n",
        "                print(vehicle)\n",
        "        else:\n",
        "            print(\"No vehicles available for rent.\")\n",
        "\n",
        "# Example usage:\n",
        "# Creating a vehicle rental system object\n",
        "rental_system = VehicleRental()\n",
        "\n",
        "# Adding some vehicles to the available vehicles list\n",
        "rental_system.available_vehicles = ['Car', 'Bike', 'Van']\n",
        "\n",
        "# Displaying available vehicles\n",
        "rental_system.display_available_vehicles()\n",
        "\n",
        "# Renting a vehicle\n",
        "rental_system.rent_vehicle('Car')\n",
        "\n",
        "# Displaying available vehicles after renting\n",
        "rental_system.display_available_vehicles()\n",
        "\n",
        "# Returning a vehicle\n",
        "rental_system.return_vehicle('Car')\n",
        "\n",
        "# Displaying available vehicles after returning\n",
        "rental_system.display_available_vehicles()\n"
      ],
      "metadata": {
        "id": "9dGT_6jtFneu",
        "colab": {
          "base_uri": "https://localhost:8080/"
        },
        "outputId": "fc0daa2c-87e3-42e1-c7e1-3b1efe2b5640"
      },
      "execution_count": 3,
      "outputs": [
        {
          "output_type": "stream",
          "name": "stdout",
          "text": [
            "Available Vehicles:\n",
            "Car\n",
            "Bike\n",
            "Van\n",
            "Car rented successfully.\n",
            "Available Vehicles:\n",
            "Bike\n",
            "Van\n",
            "Car returned successfully.\n",
            "Available Vehicles:\n",
            "Bike\n",
            "Van\n",
            "Car\n"
          ]
        }
      ]
    },
    {
      "cell_type": "markdown",
      "source": [
        "Problem 4: Library Catalog Create classes representing a library and a book. Implement methods to add books to the library, borrow books, and display available books.\n",
        "\n"
      ],
      "metadata": {
        "id": "8FCP5q0tFn8m"
      }
    },
    {
      "cell_type": "code",
      "source": [
        "class Book:\n",
        "    def __init__(self, title, author):\n",
        "        self.title = title\n",
        "        self.author = author\n",
        "        self.borrowed = False\n",
        "\n",
        "    def borrow(self):\n",
        "        if not self.borrowed:\n",
        "            self.borrowed = True\n",
        "            print(f\"Book '{self.title}' by {self.author} borrowed successfully.\")\n",
        "            return True\n",
        "        else:\n",
        "            print(f\"Book '{self.title}' by {self.author} is already borrowed.\")\n",
        "            return False\n",
        "\n",
        "    def return_book(self):\n",
        "        if self.borrowed:\n",
        "            self.borrowed = False\n",
        "            print(f\"Book '{self.title}' by {self.author} returned successfully.\")\n",
        "        else:\n",
        "            print(f\"Book '{self.title}' by {self.author} was not borrowed.\")\n",
        "\n",
        "\n",
        "class Library:\n",
        "    def __init__(self):\n",
        "        self.catalog = []\n",
        "\n",
        "    def add_book(self, book):\n",
        "        self.catalog.append(book)\n",
        "        print(f\"Book '{book.title}' by {book.author} added to the library catalog.\")\n",
        "\n",
        "    def display_available_books(self):\n",
        "        available_books = [book for book in self.catalog if not book.borrowed]\n",
        "        if available_books:\n",
        "            print(\"Available Books:\")\n",
        "            for book in available_books:\n",
        "                print(f\"{book.title} by {book.author}\")\n",
        "        else:\n",
        "            print(\"No books available.\")\n",
        "\n",
        "# Example usage:\n",
        "# Creating a library object\n",
        "library = Library()\n",
        "\n",
        "# Adding some books to the library catalog\n",
        "book1 = Book(\"Harry Potter and the Sorcerer's Stone\", \"J.K. Rowling\")\n",
        "book2 = Book(\"To Kill a Mockingbird\", \"Harper Lee\")\n",
        "library.add_book(book1)\n",
        "library.add_book(book2)\n",
        "\n",
        "# Displaying available books\n",
        "library.display_available_books()\n",
        "\n",
        "# Borrowing a book\n",
        "book1.borrow()\n",
        "\n",
        "# Displaying available books after borrowing\n",
        "library.display_available_books()\n",
        "\n",
        "# Returning a book\n",
        "book1.return_book()\n",
        "\n",
        "# Displaying available books after returning\n",
        "library.display_available_books()\n"
      ],
      "metadata": {
        "id": "zM439LV9FtlO",
        "colab": {
          "base_uri": "https://localhost:8080/"
        },
        "outputId": "1feae089-498e-4125-949e-627ddfae7b09"
      },
      "execution_count": 4,
      "outputs": [
        {
          "output_type": "stream",
          "name": "stdout",
          "text": [
            "Book 'Harry Potter and the Sorcerer's Stone' by J.K. Rowling added to the library catalog.\n",
            "Book 'To Kill a Mockingbird' by Harper Lee added to the library catalog.\n",
            "Available Books:\n",
            "Harry Potter and the Sorcerer's Stone by J.K. Rowling\n",
            "To Kill a Mockingbird by Harper Lee\n",
            "Book 'Harry Potter and the Sorcerer's Stone' by J.K. Rowling borrowed successfully.\n",
            "Available Books:\n",
            "To Kill a Mockingbird by Harper Lee\n",
            "Book 'Harry Potter and the Sorcerer's Stone' by J.K. Rowling returned successfully.\n",
            "Available Books:\n",
            "Harry Potter and the Sorcerer's Stone by J.K. Rowling\n",
            "To Kill a Mockingbird by Harper Lee\n"
          ]
        }
      ]
    },
    {
      "cell_type": "markdown",
      "source": [
        "Problem 5: Product Inventory Create classes representing a product and an inventory system. Implement methods to add products to the inventory, update product quantity, and display available products.\n",
        "\n"
      ],
      "metadata": {
        "id": "tOLptmqyFuAu"
      }
    },
    {
      "cell_type": "code",
      "source": [
        "class Product:\n",
        "    def __init__(self, product_id, name, price, quantity):\n",
        "        self.product_id = product_id\n",
        "        self.name = name\n",
        "        self.price = price\n",
        "        self.quantity = quantity\n",
        "\n",
        "class Inventory:\n",
        "    def __init__(self):\n",
        "        self.products = []\n",
        "\n",
        "    def add_product(self, product):\n",
        "        self.products.append(product)\n",
        "        print(f\"Product '{product.name}' added to inventory.\")\n",
        "\n",
        "    def update_quantity(self, product_id, new_quantity):\n",
        "        for product in self.products:\n",
        "            if product.product_id == product_id:\n",
        "                product.quantity = new_quantity\n",
        "                print(f\"Quantity updated for product '{product.name}' to {new_quantity}.\")\n",
        "                return\n",
        "        print(f\"Product with ID '{product_id}' not found in inventory.\")\n",
        "\n",
        "    def display_available_products(self):\n",
        "        available_products = [product for product in self.products if product.quantity > 0]\n",
        "        if available_products:\n",
        "            print(\"Available Products:\")\n",
        "            for product in available_products:\n",
        "                print(f\"ID: {product.product_id}, Name: {product.name}, Price: {product.price}, Quantity: {product.quantity}\")\n",
        "        else:\n",
        "            print(\"No products available in inventory.\")\n",
        "\n",
        "# Example usage:\n",
        "# Creating an inventory object\n",
        "inventory = Inventory()\n",
        "\n",
        "# Adding some products to the inventory\n",
        "product1 = Product(1, \"Laptop\", 1000, 5)\n",
        "product2 = Product(2, \"Phone\", 500, 10)\n",
        "inventory.add_product(product1)\n",
        "inventory.add_product(product2)\n",
        "\n",
        "# Displaying available products\n",
        "inventory.display_available_products()\n",
        "\n",
        "# Updating quantity of a product\n",
        "inventory.update_quantity(1, 3)\n",
        "\n",
        "# Displaying available products after updating quantity\n",
        "inventory.display_available_products()\n"
      ],
      "metadata": {
        "id": "RJY4aMSFFxhY",
        "colab": {
          "base_uri": "https://localhost:8080/"
        },
        "outputId": "066085df-724e-4ac8-f355-6ab080bbf9c7"
      },
      "execution_count": 5,
      "outputs": [
        {
          "output_type": "stream",
          "name": "stdout",
          "text": [
            "Product 'Laptop' added to inventory.\n",
            "Product 'Phone' added to inventory.\n",
            "Available Products:\n",
            "ID: 1, Name: Laptop, Price: 1000, Quantity: 5\n",
            "ID: 2, Name: Phone, Price: 500, Quantity: 10\n",
            "Quantity updated for product 'Laptop' to 3.\n",
            "Available Products:\n",
            "ID: 1, Name: Laptop, Price: 1000, Quantity: 3\n",
            "ID: 2, Name: Phone, Price: 500, Quantity: 10\n"
          ]
        }
      ]
    },
    {
      "cell_type": "markdown",
      "source": [
        "Problem 6: Shape Calculation Create a class representing a shape with attributes like length, width, and height. Implement methods to calculate the area and perimeter of the shape.\n",
        "\n"
      ],
      "metadata": {
        "id": "YFIHZ3y2FzG2"
      }
    },
    {
      "cell_type": "code",
      "source": [
        "class Shape:\n",
        "    def __init__(self, length, width=None, height=None):\n",
        "        self.length = length\n",
        "        self.width = width\n",
        "        self.height = height\n",
        "\n",
        "    def calculate_area(self):\n",
        "        if self.width is None:  # For 1D shapes (e.g., line)\n",
        "            return self.length\n",
        "        elif self.height is None:  # For 2D shapes (e.g., rectangle)\n",
        "            return self.length * self.width\n",
        "        else:  # For 3D shapes (e.g., cuboid)\n",
        "            return 2 * (self.length * self.width + self.length * self.height + self.width * self.height)\n",
        "\n",
        "    def calculate_perimeter(self):\n",
        "        if self.width is None:  # For 1D shapes (e.g., line)\n",
        "            return 0\n",
        "        elif self.height is None:  # For 2D shapes (e.g., rectangle)\n",
        "            return 2 * (self.length + self.width)\n",
        "        else:  # For 3D shapes (e.g., cuboid)\n",
        "            return 4 * (self.length + self.width + self.height)\n",
        "\n",
        "# Example usage:\n",
        "# Creating shape objects\n",
        "line = Shape(10)\n",
        "rectangle = Shape(5, 10)\n",
        "cuboid = Shape(3, 4, 5)\n",
        "\n",
        "# Calculating and displaying area and perimeter for each shape\n",
        "print(\"Line:\")\n",
        "print(\"Area:\", line.calculate_area())\n",
        "print(\"Perimeter:\", line.calculate_perimeter())\n",
        "\n",
        "print(\"\\nRectangle:\")\n",
        "print(\"Area:\", rectangle.calculate_area())\n",
        "print(\"Perimeter:\", rectangle.calculate_perimeter())\n",
        "\n",
        "print(\"\\nCuboid:\")\n",
        "print(\"Area:\", cuboid.calculate_area())\n",
        "print(\"Perimeter:\", cuboid.calculate_perimeter())\n"
      ],
      "metadata": {
        "id": "tiMxg_39F3PF",
        "colab": {
          "base_uri": "https://localhost:8080/"
        },
        "outputId": "6afb42d6-6d69-48d7-a371-3f0b4a1e621f"
      },
      "execution_count": 6,
      "outputs": [
        {
          "output_type": "stream",
          "name": "stdout",
          "text": [
            "Line:\n",
            "Area: 10\n",
            "Perimeter: 0\n",
            "\n",
            "Rectangle:\n",
            "Area: 50\n",
            "Perimeter: 30\n",
            "\n",
            "Cuboid:\n",
            "Area: 94\n",
            "Perimeter: 48\n"
          ]
        }
      ]
    },
    {
      "cell_type": "markdown",
      "source": [
        "Problem 7: Student Management Create a class representing a student with attributes like student ID, name, and grades. Implement methods to calculate the average grade and display student details.\n",
        "\n"
      ],
      "metadata": {
        "id": "Z9Y_p7f8F4JG"
      }
    },
    {
      "cell_type": "code",
      "source": [
        "class Student:\n",
        "    def __init__(self, student_id, name, grades=[]):\n",
        "        self.student_id = student_id\n",
        "        self.name = name\n",
        "        self.grades = grades\n",
        "\n",
        "    def add_grade(self, grade):\n",
        "        self.grades.append(grade)\n",
        "        print(f\"Grade {grade} added for student {self.name}.\")\n",
        "\n",
        "    def calculate_average_grade(self):\n",
        "        if not self.grades:\n",
        "            return 0\n",
        "        else:\n",
        "            return sum(self.grades) / len(self.grades)\n",
        "\n",
        "    def display_details(self):\n",
        "        print(\"Student Details:\")\n",
        "        print(f\"Student ID: {self.student_id}\")\n",
        "        print(f\"Name: {self.name}\")\n",
        "        print(f\"Grades: {', '.join(map(str, self.grades))}\")\n",
        "        print(f\"Average Grade: {self.calculate_average_grade()}\")\n",
        "\n",
        "# Example usage:\n",
        "# Creating a student object\n",
        "student1 = Student(\"S123\", \"John Doe\", [90, 85, 95])\n",
        "\n",
        "# Displaying student details\n",
        "student1.display_details()\n",
        "\n",
        "# Adding a new grade\n",
        "student1.add_grade(88)\n",
        "\n",
        "# Displaying student details after adding grade\n",
        "student1.display_details()\n"
      ],
      "metadata": {
        "id": "OFHGL0QbF6s3",
        "colab": {
          "base_uri": "https://localhost:8080/"
        },
        "outputId": "501a8af5-7ded-4b03-9626-55f28329282a"
      },
      "execution_count": 7,
      "outputs": [
        {
          "output_type": "stream",
          "name": "stdout",
          "text": [
            "Student Details:\n",
            "Student ID: S123\n",
            "Name: John Doe\n",
            "Grades: 90, 85, 95\n",
            "Average Grade: 90.0\n",
            "Grade 88 added for student John Doe.\n",
            "Student Details:\n",
            "Student ID: S123\n",
            "Name: John Doe\n",
            "Grades: 90, 85, 95, 88\n",
            "Average Grade: 89.5\n"
          ]
        }
      ]
    },
    {
      "cell_type": "markdown",
      "source": [
        "Problem 8: Email Management Create a class representing an email with attributes like sender, recipient, and subject. Implement methods to send an email and display email details.\n",
        "\n"
      ],
      "metadata": {
        "id": "aJcmhvieF7EH"
      }
    },
    {
      "cell_type": "code",
      "source": [
        "class Email:\n",
        "    def __init__(self, sender, recipient, subject, body):\n",
        "        self.sender = sender\n",
        "        self.recipient = recipient\n",
        "        self.subject = subject\n",
        "        self.body = body\n",
        "\n",
        "    def send_email(self):\n",
        "        print(f\"Email sent from: {self.sender}\")\n",
        "        print(f\"Email sent to: {self.recipient}\")\n",
        "        print(f\"Subject: {self.subject}\")\n",
        "        print(f\"Body:\\n{self.body}\")\n",
        "        print(\"Email sent successfully.\")\n",
        "\n",
        "    def display_email_details(self):\n",
        "        print(\"Email Details:\")\n",
        "        print(f\"Sender: {self.sender}\")\n",
        "        print(f\"Recipient: {self.recipient}\")\n",
        "        print(f\"Subject: {self.subject}\")\n",
        "        print(f\"Body:\\n{self.body}\")\n",
        "\n",
        "# Example usage:\n",
        "# Creating an email object\n",
        "email = Email(\"sender@example.com\", \"recipient@example.com\", \"Test Email\", \"This is a test email.\")\n",
        "\n",
        "# Displaying email details\n",
        "email.display_email_details()\n",
        "\n",
        "# Sending the email\n",
        "email.send_email()\n"
      ],
      "metadata": {
        "id": "GqdoleK3F9RV",
        "colab": {
          "base_uri": "https://localhost:8080/"
        },
        "outputId": "f601bc03-6859-4bb9-aaeb-f7336fde0f33"
      },
      "execution_count": 8,
      "outputs": [
        {
          "output_type": "stream",
          "name": "stdout",
          "text": [
            "Email Details:\n",
            "Sender: sender@example.com\n",
            "Recipient: recipient@example.com\n",
            "Subject: Test Email\n",
            "Body:\n",
            "This is a test email.\n",
            "Email sent from: sender@example.com\n",
            "Email sent to: recipient@example.com\n",
            "Subject: Test Email\n",
            "Body:\n",
            "This is a test email.\n",
            "Email sent successfully.\n"
          ]
        }
      ]
    },
    {
      "cell_type": "markdown",
      "source": [
        "Problem 9: Social Media Profile Create a class representing a social media profile with attributes like username and posts. Implement methods to add posts, display posts, and search for posts by keyword.\n",
        "\n"
      ],
      "metadata": {
        "id": "hIfTadUgF9x1"
      }
    },
    {
      "cell_type": "code",
      "source": [
        "class SocialMediaProfile:\n",
        "    def __init__(self, username):\n",
        "        self.username = username\n",
        "        self.posts = []\n",
        "\n",
        "    def add_post(self, post):\n",
        "        self.posts.append(post)\n",
        "        print(f\"Post added to {self.username}'s profile.\")\n",
        "\n",
        "    def display_posts(self):\n",
        "        if self.posts:\n",
        "            print(f\"Posts by {self.username}:\")\n",
        "            for i, post in enumerate(self.posts, 1):\n",
        "                print(f\"Post {i}: {post}\")\n",
        "        else:\n",
        "            print(f\"No posts found on {self.username}'s profile.\")\n",
        "\n",
        "    def search_posts_by_keyword(self, keyword):\n",
        "        matching_posts = [post for post in self.posts if keyword in post]\n",
        "        if matching_posts:\n",
        "            print(f\"Posts containing '{keyword}':\")\n",
        "            for i, post in enumerate(matching_posts, 1):\n",
        "                print(f\"Match {i}: {post}\")\n",
        "        else:\n",
        "            print(f\"No posts found containing '{keyword}'.\")\n",
        "\n",
        "# Example usage:\n",
        "# Creating a social media profile object\n",
        "profile = SocialMediaProfile(\"JohnDoe\")\n",
        "\n",
        "# Adding some posts to the profile\n",
        "profile.add_post(\"Hello everyone!\")\n",
        "profile.add_post(\"Just had a great day.\")\n",
        "\n",
        "# Displaying posts\n",
        "profile.display_posts()\n",
        "\n",
        "# Searching for posts by keyword\n",
        "profile.search_posts_by_keyword(\"great\")\n"
      ],
      "metadata": {
        "id": "Y1L1EJ1PGBU_",
        "colab": {
          "base_uri": "https://localhost:8080/"
        },
        "outputId": "7d9a7008-edca-449c-f5d0-7aeb323e10a0"
      },
      "execution_count": 9,
      "outputs": [
        {
          "output_type": "stream",
          "name": "stdout",
          "text": [
            "Post added to JohnDoe's profile.\n",
            "Post added to JohnDoe's profile.\n",
            "Posts by JohnDoe:\n",
            "Post 1: Hello everyone!\n",
            "Post 2: Just had a great day.\n",
            "Posts containing 'great':\n",
            "Match 1: Just had a great day.\n"
          ]
        }
      ]
    },
    {
      "cell_type": "markdown",
      "source": [
        "Problem 10: ToDo List Create a class representing a ToDo list with attributes like tasks and due dates. Implement methods to add tasks, mark tasks as completed, and display pending tasks."
      ],
      "metadata": {
        "id": "e9jaGr9gGBu9"
      }
    },
    {
      "cell_type": "code",
      "source": [
        "class ToDoList:\n",
        "    def __init__(self):\n",
        "        self.tasks = {}\n",
        "\n",
        "    def add_task(self, task, due_date):\n",
        "        self.tasks[task] = due_date\n",
        "        print(f\"Task '{task}' added to ToDo list with due date {due_date}.\")\n",
        "\n",
        "    def mark_task_as_completed(self, task):\n",
        "        if task in self.tasks:\n",
        "            del self.tasks[task]\n",
        "            print(f\"Task '{task}' marked as completed.\")\n",
        "        else:\n",
        "            print(f\"Task '{task}' not found in ToDo list.\")\n",
        "\n",
        "    def display_pending_tasks(self):\n",
        "        if self.tasks:\n",
        "            print(\"Pending Tasks:\")\n",
        "            for task, due_date in self.tasks.items():\n",
        "                print(f\"Task: {task}, Due Date: {due_date}\")\n",
        "        else:\n",
        "            print(\"No pending tasks.\")\n",
        "\n",
        "# Example usage:\n",
        "# Creating a ToDo list object\n",
        "todo_list = ToDoList()\n",
        "\n",
        "# Adding some tasks to the ToDo list\n",
        "todo_list.add_task(\"Complete assignment\", \"2024-04-30\")\n",
        "todo_list.add_task(\"Buy groceries\", \"2024-05-05\")\n",
        "\n",
        "# Displaying pending tasks\n",
        "todo_list.display_pending_tasks()\n",
        "\n",
        "# Marking a task as completed\n",
        "todo_list.mark_task_as_completed(\"Complete assignment\")\n",
        "\n",
        "# Displaying pending tasks after marking task as completed\n",
        "todo_list.display_pending_tasks()\n"
      ],
      "metadata": {
        "id": "AljQ6eCUGCf9",
        "colab": {
          "base_uri": "https://localhost:8080/"
        },
        "outputId": "2913b5a5-d626-4caa-dd9c-03dfa0d51952"
      },
      "execution_count": 10,
      "outputs": [
        {
          "output_type": "stream",
          "name": "stdout",
          "text": [
            "Task 'Complete assignment' added to ToDo list with due date 2024-04-30.\n",
            "Task 'Buy groceries' added to ToDo list with due date 2024-05-05.\n",
            "Pending Tasks:\n",
            "Task: Complete assignment, Due Date: 2024-04-30\n",
            "Task: Buy groceries, Due Date: 2024-05-05\n",
            "Task 'Complete assignment' marked as completed.\n",
            "Pending Tasks:\n",
            "Task: Buy groceries, Due Date: 2024-05-05\n"
          ]
        }
      ]
    }
  ]
}