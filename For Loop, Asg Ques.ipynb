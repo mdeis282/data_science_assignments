{
 "cells": [
  {
   "cell_type": "markdown",
   "id": "2554575b-4de6-476b-9e97-b85d02fcbc97",
   "metadata": {},
   "source": [
    "Assignment Questions"
   ]
  },
  {
   "cell_type": "markdown",
   "id": "48f588f7-30e5-4dc8-a2e1-f8f9153dd4d5",
   "metadata": {},
   "source": [
    "Basic Level:"
   ]
  },
  {
   "cell_type": "markdown",
   "id": "44658850-573c-4eaa-b1d2-803f75f106e5",
   "metadata": {},
   "source": [
    "1. Write a Python program to print the numbers from 1 to 10 using a `for` loop."
   ]
  },
  {
   "cell_type": "markdown",
   "id": "de9b66ce-0ca2-4582-9834-f83541a7f94a",
   "metadata": {},
   "source": [
    "2. Create a program that calculates the sum of all numbers in a list using a `for` loop"
   ]
  },
  {
   "cell_type": "markdown",
   "id": "1be525c6-eb58-4f22-8b0d-fb3d652e143d",
   "metadata": {},
   "source": [
    "3. Write a program to print the characters of a string in reverse order using a `for` loop."
   ]
  },
  {
   "cell_type": "markdown",
   "id": "a313adfc-f7c1-4c63-9a3f-94b549b60a7e",
   "metadata": {},
   "source": [
    "4. Develop a program that finds the factorial of a given number using a `for` loop."
   ]
  },
  {
   "cell_type": "markdown",
   "id": "66e3f7fc-fbad-42cf-92da-81ed718e16ea",
   "metadata": {},
   "source": [
    "5. Create a program to print the multiplication table of a given number using a `for` loop."
   ]
  },
  {
   "cell_type": "markdown",
   "id": "cf76c041-6d88-426c-82b2-18780c6ea34a",
   "metadata": {},
   "source": [
    "6. Write a program that counts the number of even and odd numbers in a list using a `for` loop."
   ]
  },
  {
   "cell_type": "markdown",
   "id": "2bec070b-a7cf-4911-8839-13f3289666dc",
   "metadata": {},
   "source": [
    "7. Develop a program that prints the squares of numbers from 1 to 5 using a `for` loop"
   ]
  },
  {
   "cell_type": "markdown",
   "id": "9d10f8ca-3baa-48ed-afb1-7f58a0b4f2bc",
   "metadata": {},
   "source": [
    "8. Create a program to find the length of a string without using the `len()` function."
   ]
  },
  {
   "cell_type": "markdown",
   "id": "266911f1-b6ec-40f6-96bc-941c44201c3e",
   "metadata": {},
   "source": [
    "9. Write a program that calculates the average of a list of numbers using a `for` loop."
   ]
  },
  {
   "cell_type": "markdown",
   "id": "bc4b5fa8-c5b7-407f-afd6-596e23c13443",
   "metadata": {},
   "source": [
    "10. Develop a program that prints the first `n` Fibonacci numbers using a `for` loop."
   ]
  },
  {
   "cell_type": "markdown",
   "id": "5229988c-d188-47a7-a166-e8b09557bafe",
   "metadata": {},
   "source": [
    "Intermediate Level:"
   ]
  },
  {
   "cell_type": "markdown",
   "id": "361fe11d-9e9f-4a1f-a0a7-bd9385562639",
   "metadata": {},
   "source": [
    "11. Write a program to check if a given list contains any duplicates using a `for` loop."
   ]
  },
  {
   "cell_type": "markdown",
   "id": "56ad9099-7753-48d8-9106-9cc8bf88cfe5",
   "metadata": {},
   "source": [
    "12. Create a program that prints the prime numbers in a given range using a `for` loop."
   ]
  },
  {
   "cell_type": "markdown",
   "id": "430ec382-d4d8-4e34-bad2-d91eb56cd0f7",
   "metadata": {},
   "source": [
    "13. Develop a program that counts the number of vowels in a string using a `for` loop."
   ]
  },
  {
   "cell_type": "markdown",
   "id": "1d9cc11d-6de7-4c28-b57b-392514c491ed",
   "metadata": {},
   "source": [
    "14. Write a program to find the maximum element in a 2D list using a nested `for` loop."
   ]
  },
  {
   "cell_type": "markdown",
   "id": "0abae1e3-5a31-45e2-b76d-4b67d2317a65",
   "metadata": {},
   "source": [
    "15. Create a program that removes all occurrences of a specific element from a list using a `for` loop."
   ]
  },
  {
   "cell_type": "markdown",
   "id": "23e4dce8-f931-4d37-8c0c-d712071ab204",
   "metadata": {},
   "source": [
    "16. Develop a program that generates a multiplication table for numbers from 1 to 5 using a nested `for` loop."
   ]
  },
  {
   "cell_type": "markdown",
   "id": "5319339d-091e-4f5a-848c-d0cf66d01099",
   "metadata": {},
   "source": [
    "17. Write a program that converts a list of Fahrenheit temperatures to Celsius using a `for` loop."
   ]
  },
  {
   "cell_type": "markdown",
   "id": "e74b7e38-565d-4800-9669-55a448a750ea",
   "metadata": {},
   "source": [
    "18. Create a program to print the common elements from two lists using a `for` loop."
   ]
  },
  {
   "cell_type": "markdown",
   "id": "041fcd18-d1f5-4313-b41d-6fa43c5b6bf7",
   "metadata": {},
   "source": [
    "19. Develop a program that prints the pattern of right-angled triangles using a `for` loop. Use ‘*’ to draw the \n",
    "pattern"
   ]
  },
  {
   "cell_type": "markdown",
   "id": "c9a94062-a673-4258-ba91-b779dd75facb",
   "metadata": {},
   "source": [
    "20. Write a program to find the greatest common divisor (GCD) of two numbers using a `for` loop."
   ]
  },
  {
   "cell_type": "markdown",
   "id": "984398f1-7089-4b9f-bc3f-c394d93d0046",
   "metadata": {},
   "source": [
    "Advanced Level:"
   ]
  },
  {
   "cell_type": "markdown",
   "id": "b1f3fe1d-faa5-4ee5-9fa7-26a42f8c2aff",
   "metadata": {},
   "source": [
    "21. Create a program that calculates the sum of the digits of numbers in a list using a list comprehension."
   ]
  },
  {
   "cell_type": "markdown",
   "id": "5b80eabe-1e3a-4685-a3ab-e229bdbe4900",
   "metadata": {},
   "source": [
    "22. Write a program to find the prime factors of a given number using a `for` loop and list comprehension."
   ]
  },
  {
   "cell_type": "markdown",
   "id": "6c4d6c8c-35da-4764-ab65-f99088b3496f",
   "metadata": {},
   "source": [
    "23. Develop a program that extracts unique elements from a list and stores them in a new list using a list \n",
    "comprehension."
   ]
  },
  {
   "cell_type": "markdown",
   "id": "6cf5704e-9608-4b3c-a31d-5e87f4ba9e0f",
   "metadata": {},
   "source": [
    "24. Create a program that generates a list of all palindromic numbers up to a specified limit using a list \n",
    "comprehension."
   ]
  },
  {
   "cell_type": "markdown",
   "id": "47d146bd-c67f-4bce-8e8d-d373314a0687",
   "metadata": {},
   "source": [
    "25. Write a program to flatten a nested list using list comprehension."
   ]
  },
  {
   "cell_type": "markdown",
   "id": "8882b4ae-8bd5-4be8-afe5-91ac6c4cbee2",
   "metadata": {},
   "source": [
    "26. Develop a program that computes the sum of even and odd numbers in a list separately using list \n",
    "comprehension."
   ]
  },
  {
   "cell_type": "markdown",
   "id": "8cb1143b-78d2-4f91-a55e-5e6116f2c678",
   "metadata": {},
   "source": [
    "27. Create a program that generates a list of squares of odd numbers between 1 and 10 using list \n",
    "comprehension."
   ]
  },
  {
   "cell_type": "markdown",
   "id": "8f12e68a-81e1-4d1e-952f-43ed48054d92",
   "metadata": {},
   "source": [
    "28. Write a program that combines two lists into a dictionary using list comprehension."
   ]
  },
  {
   "cell_type": "markdown",
   "id": "662dd5dd-838e-41a0-8123-b65a5fde001e",
   "metadata": {},
   "source": [
    "29. Develop a program that extracts the vowels from a string and stores them in a list using list comprehension."
   ]
  },
  {
   "cell_type": "markdown",
   "id": "d8ddddd1-c096-4c10-8d8b-cef2bd595324",
   "metadata": {},
   "source": [
    "30. Create a program that removes all non-numeric characters from a list of strings using list comprehension."
   ]
  },
  {
   "cell_type": "markdown",
   "id": "73ec645e-331b-43c9-9106-d50ad62cfa28",
   "metadata": {},
   "source": [
    "Challenge Level:"
   ]
  },
  {
   "cell_type": "markdown",
   "id": "61028a50-657f-440a-8c31-15334effc609",
   "metadata": {},
   "source": [
    "31. Write a program to generate a list of prime numbers using the Sieve of Eratosthenes algorithm and list \n",
    "comprehension."
   ]
  },
  {
   "cell_type": "markdown",
   "id": "0867ba2c-8746-4e7e-8eeb-0a034982865d",
   "metadata": {},
   "source": [
    "32. Create a program that generates a list of all Pythagorean triplets up to a specified limit using list \n",
    "comprehension."
   ]
  },
  {
   "cell_type": "markdown",
   "id": "17ffe9b9-1fcf-4048-a361-0ec18a3962d8",
   "metadata": {},
   "source": [
    "33. Develop a program that generates a list of all possible combinations of two lists using list comprehension."
   ]
  },
  {
   "cell_type": "markdown",
   "id": "61a77589-c2c7-4352-a508-14dd255e16d6",
   "metadata": {},
   "source": [
    "34. Write a program that calculates the mean, median, and mode of a list of numbers using list \n",
    "comprehension."
   ]
  },
  {
   "cell_type": "markdown",
   "id": "9bd49af1-1bf9-44b9-8a1d-4f1d830f0279",
   "metadata": {},
   "source": [
    "35. Create a program that generates Pascal's triangle up to a specified number of rows using list \n",
    "comprehension."
   ]
  },
  {
   "cell_type": "markdown",
   "id": "f8aac1b4-5189-41c7-99a9-1776a6096b9e",
   "metadata": {},
   "source": [
    "36. Develop a program that calculates the sum of the digits of a factorial of numbers from 1 to 5 using list \n",
    "comprehension."
   ]
  },
  {
   "cell_type": "markdown",
   "id": "580238d8-27f8-49e5-bda8-960e579e7a70",
   "metadata": {},
   "source": [
    "37. Write a program that finds the longest word in a sentence using list comprehension."
   ]
  },
  {
   "cell_type": "markdown",
   "id": "9ec90513-81e2-438f-a956-2864d2016979",
   "metadata": {},
   "source": [
    "38. Create a program that filters a list of strings to include only those with more than three vowels using list \n",
    "comprehension."
   ]
  },
  {
   "cell_type": "markdown",
   "id": "999e9109-4487-4043-96e0-83a24648e74c",
   "metadata": {},
   "source": [
    "39. Develop a program that calculates the sum of the digits of numbers from 1 to 1000 using list \n",
    "comprehension."
   ]
  },
  {
   "cell_type": "markdown",
   "id": "399c26fa-1b53-463e-8598-f2a8b84abceb",
   "metadata": {},
   "source": [
    "40. Write a program that generates a list of prime palindromic numbers using list comprehension."
   ]
  },
  {
   "cell_type": "code",
   "execution_count": null,
   "id": "c4201396-edd3-4b44-83a5-6421af357df3",
   "metadata": {},
   "outputs": [],
   "source": []
  }
 ],
 "metadata": {
  "kernelspec": {
   "display_name": "Python 3 (ipykernel)",
   "language": "python",
   "name": "python3"
  },
  "language_info": {
   "codemirror_mode": {
    "name": "ipython",
    "version": 3
   },
   "file_extension": ".py",
   "mimetype": "text/x-python",
   "name": "python",
   "nbconvert_exporter": "python",
   "pygments_lexer": "ipython3",
   "version": "3.10.8"
  }
 },
 "nbformat": 4,
 "nbformat_minor": 5
}
