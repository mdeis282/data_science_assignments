{
  "nbformat": 4,
  "nbformat_minor": 0,
  "metadata": {
    "colab": {
      "provenance": []
    },
    "kernelspec": {
      "name": "python3",
      "display_name": "Python 3"
    },
    "language_info": {
      "name": "python"
    }
  },
  "cells": [
    {
      "cell_type": "markdown",
      "source": [
        "For Loop :-"
      ],
      "metadata": {
        "id": "hcGBeLcdyv6q"
      }
    },
    {
      "cell_type": "markdown",
      "source": [
        "1. Write a Python program to print numbers from 1 to 10 using a for loop.\n"
      ],
      "metadata": {
        "id": "qRbDmXSNy6MJ"
      }
    },
    {
      "cell_type": "code",
      "source": [
        "for i in range(1,11):\n",
        "    print(i)"
      ],
      "metadata": {
        "id": "f9-awGAX-_cY",
        "colab": {
          "base_uri": "https://localhost:8080/"
        },
        "outputId": "ddf3ce59-1da4-40f2-bdd2-45ff233de4dd"
      },
      "execution_count": null,
      "outputs": [
        {
          "output_type": "stream",
          "name": "stdout",
          "text": [
            "1\n",
            "2\n",
            "3\n",
            "4\n",
            "5\n",
            "6\n",
            "7\n",
            "8\n",
            "9\n",
            "10\n"
          ]
        }
      ]
    },
    {
      "cell_type": "markdown",
      "source": [
        "2. Explain the difference between a for loop and a while loop in Python.\n"
      ],
      "metadata": {
        "id": "oXwT2CfjzFO4"
      }
    },
    {
      "cell_type": "markdown",
      "source": [
        "A for loop is typically used when you know beforehand how many times you want to iterate or when you want to iterate over a sequence (e.g., a list, tuple, string, or range of numbers)."
      ],
      "metadata": {
        "id": "n9s0nuuo_MpM"
      }
    },
    {
      "cell_type": "code",
      "source": [
        "for i in range(1, 6):\n",
        "    print(i)\n"
      ],
      "metadata": {
        "id": "ZZiuZJO1_Ov1",
        "colab": {
          "base_uri": "https://localhost:8080/"
        },
        "outputId": "96061e37-a2d9-4763-8eef-eb2c1a39165a"
      },
      "execution_count": null,
      "outputs": [
        {
          "output_type": "stream",
          "name": "stdout",
          "text": [
            "1\n",
            "2\n",
            "3\n",
            "4\n",
            "5\n"
          ]
        }
      ]
    },
    {
      "cell_type": "markdown",
      "source": [
        "A while loop is used when you don't know in advance how many times you need to iterate or when you want to continue iterating until a certain condition is met."
      ],
      "metadata": {
        "id": "GzG9ohwZ_PpF"
      }
    },
    {
      "cell_type": "code",
      "source": [
        "i = 1\n",
        "while i <= 5:\n",
        "    print(i)\n",
        "    i += 1\n"
      ],
      "metadata": {
        "id": "-tuCrfpm_S3s",
        "colab": {
          "base_uri": "https://localhost:8080/"
        },
        "outputId": "9e0e47d5-1d96-4ff0-ffb4-14bea6e76bd4"
      },
      "execution_count": null,
      "outputs": [
        {
          "output_type": "stream",
          "name": "stdout",
          "text": [
            "1\n",
            "2\n",
            "3\n",
            "4\n",
            "5\n"
          ]
        }
      ]
    },
    {
      "cell_type": "markdown",
      "source": [
        "3. Write a Python program to calculate the sum of all numbers from 1 to 100 using a for loop."
      ],
      "metadata": {
        "id": "wlGXPvJGzJsH"
      }
    },
    {
      "cell_type": "code",
      "source": [
        "sum = 0\n",
        "for i in range(1,101):\n",
        "    sum+=i\n",
        "print(sum)\n"
      ],
      "metadata": {
        "id": "Jy2uRoV2_XMM",
        "colab": {
          "base_uri": "https://localhost:8080/"
        },
        "outputId": "0bf355b7-9f19-4937-b004-0a277f8a8786"
      },
      "execution_count": null,
      "outputs": [
        {
          "output_type": "stream",
          "name": "stdout",
          "text": [
            "5050\n"
          ]
        }
      ]
    },
    {
      "cell_type": "markdown",
      "source": [
        "4. How do you iterate through a list using a for loop in Python?\n"
      ],
      "metadata": {
        "id": "Xkcnhn03zMdf"
      }
    },
    {
      "cell_type": "code",
      "source": [
        "#In this example, the for loop iterates through each element in the my_list and prints it to the console.\n",
        "\n",
        "l = [1, 2, 3, 4, 5]\n",
        "for i in l:\n",
        "    print(i)"
      ],
      "metadata": {
        "id": "fTHijoMO_ooM",
        "colab": {
          "base_uri": "https://localhost:8080/"
        },
        "outputId": "8ae0d46c-719d-4829-cc11-7d0c452d39dd"
      },
      "execution_count": null,
      "outputs": [
        {
          "output_type": "stream",
          "name": "stdout",
          "text": [
            "1\n",
            "2\n",
            "3\n",
            "4\n",
            "5\n"
          ]
        }
      ]
    },
    {
      "cell_type": "markdown",
      "source": [
        "5. Write a Python program to find the product of all elements in a list using a for loop.\n"
      ],
      "metadata": {
        "id": "_KP57VD8zQI3"
      }
    },
    {
      "cell_type": "code",
      "source": [
        "l = []\n",
        "a = int(input(\"Enter the length of the list:\" ))\n",
        "for i in range(a):\n",
        "    n = int(input(\"Enter the integer value for the list: \"))\n",
        "    l.append(n)\n",
        "print(l)\n",
        "\n",
        "m = 0\n",
        "for j in range(0, a-1):\n",
        "    m+=l[j]*l[j+1]\n",
        "print(\"The product of the elements: \", m)"
      ],
      "metadata": {
        "id": "PixMCr5G_xpM",
        "colab": {
          "base_uri": "https://localhost:8080/"
        },
        "outputId": "244d4096-ef2f-4ff6-e4a4-3d072727f3b8"
      },
      "execution_count": null,
      "outputs": [
        {
          "output_type": "stream",
          "name": "stdout",
          "text": [
            "Enter the length of the list:6\n",
            "Enter the integer value for the list: 34\n",
            "Enter the integer value for the list: 4\n",
            "Enter the integer value for the list: 5\n",
            "Enter the integer value for the list: 6\n",
            "Enter the integer value for the list: 7\n",
            "Enter the integer value for the list: 4\n",
            "[34, 4, 5, 6, 7, 4]\n",
            "The product of the elements:  256\n"
          ]
        }
      ]
    },
    {
      "cell_type": "markdown",
      "source": [
        "6. Create a Python program that prints all even numbers from 1 to 20 using a for loop.\n"
      ],
      "metadata": {
        "id": "HZBtECMwzVL4"
      }
    },
    {
      "cell_type": "code",
      "source": [
        "for i in range(1,21):\n",
        "    if i%2==0:\n",
        "        print(i)"
      ],
      "metadata": {
        "id": "Mi1S5E6dH2Vs",
        "colab": {
          "base_uri": "https://localhost:8080/"
        },
        "outputId": "f98aaa83-1d0e-4be8-a17d-3a8349160dcc"
      },
      "execution_count": null,
      "outputs": [
        {
          "output_type": "stream",
          "name": "stdout",
          "text": [
            "2\n",
            "4\n",
            "6\n",
            "8\n",
            "10\n",
            "12\n",
            "14\n",
            "16\n",
            "18\n",
            "20\n"
          ]
        }
      ]
    },
    {
      "cell_type": "markdown",
      "source": [
        "7. Write a Python program that calculates the factorial of a number using a for loop."
      ],
      "metadata": {
        "id": "PcU206U0zakP"
      }
    },
    {
      "cell_type": "code",
      "source": [
        "n = int(input(\"Enter the number: \"))\n",
        "fact = 1\n",
        "for i in range(1, n+1):\n",
        "    fact*=i\n",
        "print(\"The factorial of the number is \", fact)"
      ],
      "metadata": {
        "id": "CnbanVJIH7OI",
        "colab": {
          "base_uri": "https://localhost:8080/"
        },
        "outputId": "29bfc6f3-a05a-4397-82ff-e0cfa84b2451"
      },
      "execution_count": null,
      "outputs": [
        {
          "output_type": "stream",
          "name": "stdout",
          "text": [
            "Enter the number: 5\n",
            "The factorial of the number is  120\n"
          ]
        }
      ]
    },
    {
      "cell_type": "markdown",
      "source": [
        "8. How can you iterate through the characters of a string using a for loop in Python?\n"
      ],
      "metadata": {
        "id": "EihNOP3qzeW2"
      }
    },
    {
      "cell_type": "code",
      "source": [
        "# Iterating through a string using a for loop\n",
        "a = input(\"Enter a string: \")\n",
        "for i in a:\n",
        "    print(i)"
      ],
      "metadata": {
        "id": "YDsRMBleH-td",
        "colab": {
          "base_uri": "https://localhost:8080/"
        },
        "outputId": "3dda2b1e-42e3-4b6f-8fc9-a8aa48c1c547"
      },
      "execution_count": null,
      "outputs": [
        {
          "output_type": "stream",
          "name": "stdout",
          "text": [
            "Enter a string: python\n",
            "p\n",
            "y\n",
            "t\n",
            "h\n",
            "o\n",
            "n\n"
          ]
        }
      ]
    },
    {
      "cell_type": "markdown",
      "source": [
        "9. Write a Python program to find the largest number in a list using a for loop.\n"
      ],
      "metadata": {
        "id": "YQpRQvOMzjTO"
      }
    },
    {
      "cell_type": "code",
      "source": [
        "l = []\n",
        "a = int(input(\"Enter the length of the list:\" ))\n",
        "for i in range(a):\n",
        "    n = int(input(\"Enter the integer value for the list: \"))\n",
        "    l.append(n)\n",
        "print(l)\n",
        "maxnum = l[0]\n",
        "for j in l:\n",
        "    if j > maxnum:\n",
        "        maxnum = j\n",
        "print(\"The maximum element of the list is\", maxnum)"
      ],
      "metadata": {
        "id": "Q933UYdAIC7P",
        "colab": {
          "base_uri": "https://localhost:8080/"
        },
        "outputId": "0e24905f-d1c9-48ea-9bf1-4972faf69c55"
      },
      "execution_count": null,
      "outputs": [
        {
          "output_type": "stream",
          "name": "stdout",
          "text": [
            "Enter the length of the list:5\n",
            "Enter the integer value for the list: 3\n",
            "Enter the integer value for the list: 4\n",
            "Enter the integer value for the list: 5\n",
            "Enter the integer value for the list: 6\n",
            "Enter the integer value for the list: 7\n",
            "[3, 4, 5, 6, 7]\n",
            "The maximum element of the list is 7\n"
          ]
        }
      ]
    },
    {
      "cell_type": "markdown",
      "source": [
        "10. Create a Python program that prints the Fibonacci sequence up to a specified limit using a for loop.\n"
      ],
      "metadata": {
        "id": "az26voACznWl"
      }
    },
    {
      "cell_type": "code",
      "source": [
        "a = 0\n",
        "b = 1\n",
        "\n",
        "n = int(input(\"Enter the order for upto which you want to generate the Fibonacci sequence: \"))\n",
        "print(a)\n",
        "print(b)\n",
        "\n",
        "for i in range(n):\n",
        "        c = a+b\n",
        "        print(c)\n",
        "        a, b = b, c"
      ],
      "metadata": {
        "id": "28YrvobKIGeZ",
        "colab": {
          "base_uri": "https://localhost:8080/"
        },
        "outputId": "05d970a0-b426-4b6f-ea6b-4e99c75cc7d2"
      },
      "execution_count": null,
      "outputs": [
        {
          "output_type": "stream",
          "name": "stdout",
          "text": [
            "Enter the order for upto which you want to generate the Fibonacci sequence: 6\n",
            "0\n",
            "1\n",
            "1\n",
            "2\n",
            "3\n",
            "5\n",
            "8\n",
            "13\n"
          ]
        }
      ]
    },
    {
      "cell_type": "markdown",
      "source": [
        "11. Write a Python program to count the number of vowels in a given string using a for loop."
      ],
      "metadata": {
        "id": "h3QsUUBOzq6N"
      }
    },
    {
      "cell_type": "code",
      "source": [
        "input_string = input(\"Enter a string: \")\n",
        "\n",
        "# Convert the input string to lowercase to handle both uppercase and lowercase vowels\n",
        "input_string = input_string.lower()\n",
        "\n",
        "\n",
        "vowel_count = 0\n",
        "\n",
        "\n",
        "vowels = \"aeiou\"\n",
        "\n",
        "for char in input_string:\n",
        "    if char in vowels:\n",
        "        vowel_count += 1\n",
        "\n",
        "\n",
        "print(\"Number of vowels in the string:\", vowel_count)"
      ],
      "metadata": {
        "id": "Pvizif3DIKU2",
        "colab": {
          "base_uri": "https://localhost:8080/"
        },
        "outputId": "98b0f24c-2c7e-4046-b2df-330f0d78bbe1"
      },
      "execution_count": null,
      "outputs": [
        {
          "output_type": "stream",
          "name": "stdout",
          "text": [
            "Enter a string: my\n",
            "Number of vowels in the string: 0\n"
          ]
        }
      ]
    },
    {
      "cell_type": "markdown",
      "source": [
        "12. Create a Python program that generates a multiplication table for a given number using a for loop.\n"
      ],
      "metadata": {
        "id": "fHwBKK3vzvDe"
      }
    },
    {
      "cell_type": "code",
      "source": [
        "def multiplication_table(number):\n",
        "    print(f\"Multiplication Table for {number}:\")\n",
        "    print(\"-------------------------\")\n",
        "    for i in range(1, 11):\n",
        "        result = number * i\n",
        "        print(f\"{number} x {i} = {result}\")\n",
        "\n",
        "# Input from user\n",
        "number = int(input(\"Enter a number to generate its multiplication table: \"))\n",
        "\n",
        "# Call the function to generate the multiplication table\n",
        "multiplication_table(number)\n"
      ],
      "metadata": {
        "colab": {
          "base_uri": "https://localhost:8080/"
        },
        "id": "_wJlqvkpI865",
        "outputId": "2376dcd4-8dac-47de-d0f9-013165beff52"
      },
      "execution_count": null,
      "outputs": [
        {
          "output_type": "stream",
          "name": "stdout",
          "text": [
            "Enter a number to generate its multiplication table: 7\n",
            "Multiplication Table for 7:\n",
            "-------------------------\n",
            "7 x 1 = 7\n",
            "7 x 2 = 14\n",
            "7 x 3 = 21\n",
            "7 x 4 = 28\n",
            "7 x 5 = 35\n",
            "7 x 6 = 42\n",
            "7 x 7 = 49\n",
            "7 x 8 = 56\n",
            "7 x 9 = 63\n",
            "7 x 10 = 70\n"
          ]
        }
      ]
    },
    {
      "cell_type": "markdown",
      "source": [
        "13. Write a Python program to reverse a list using a for loop.\n"
      ],
      "metadata": {
        "id": "_dPe4FAqzy1m"
      }
    },
    {
      "cell_type": "code",
      "source": [
        "def reverse_list(input_list):\n",
        "    reversed_list = []\n",
        "    for i in range(len(input_list) - 1, -1, -1):\n",
        "        reversed_list.append(input_list[i])\n",
        "    return reversed_list\n",
        "\n",
        "# Example usage:\n",
        "my_list = [1, 2, 3, 4, 5]\n",
        "reversed_list = reverse_list(my_list)\n",
        "print(\"Original List:\", my_list)\n",
        "print(\"Reversed List:\", reversed_list)\n"
      ],
      "metadata": {
        "colab": {
          "base_uri": "https://localhost:8080/"
        },
        "id": "-1JQHpPDKTOB",
        "outputId": "07d69e96-af24-4db6-e2e0-51853b9ef737"
      },
      "execution_count": null,
      "outputs": [
        {
          "output_type": "stream",
          "name": "stdout",
          "text": [
            "Original List: [1, 2, 3, 4, 5]\n",
            "Reversed List: [5, 4, 3, 2, 1]\n"
          ]
        }
      ]
    },
    {
      "cell_type": "markdown",
      "source": [
        "14. Write a Python program to find the common elements between two lists using a for loop.\n"
      ],
      "metadata": {
        "id": "N2A68mqYz2P9"
      }
    },
    {
      "cell_type": "code",
      "source": [
        "def find_common_elements(list1, list2):\n",
        "    common_elements = []\n",
        "    for element in list1:\n",
        "        if element in list2:\n",
        "            common_elements.append(element)\n",
        "    return common_elements\n",
        "\n",
        "# Example usage:\n",
        "list1 = [1, 2, 3, 4, 5]\n",
        "list2 = [3, 4, 5, 6, 7]\n",
        "common_elements = find_common_elements(list1, list2)\n",
        "print(\"List 1:\", list1)\n",
        "print(\"List 2:\", list2)\n",
        "print(\"Common Elements:\", common_elements)\n"
      ],
      "metadata": {
        "colab": {
          "base_uri": "https://localhost:8080/"
        },
        "id": "Lt42q8MpKdwt",
        "outputId": "fc87725a-924a-4d1d-e238-fa539fb75f6d"
      },
      "execution_count": null,
      "outputs": [
        {
          "output_type": "stream",
          "name": "stdout",
          "text": [
            "List 1: [1, 2, 3, 4, 5]\n",
            "List 2: [3, 4, 5, 6, 7]\n",
            "Common Elements: [3, 4, 5]\n"
          ]
        }
      ]
    },
    {
      "cell_type": "markdown",
      "source": [
        "15. Explain how to use a for loop to iterate through the keys and values of a dictionary in Python.\n"
      ],
      "metadata": {
        "id": "Jluzg9zPz5u2"
      }
    },
    {
      "cell_type": "markdown",
      "source": [
        "In Python, we can use a for loop to iterate through the keys and values of a dictionary using the items() method. Here's how you can do it:"
      ],
      "metadata": {
        "id": "kZ0HUpHIKnwe"
      }
    },
    {
      "cell_type": "code",
      "source": [
        "my_dict = {'a': 1, 'b': 2, 'c': 3}\n",
        "\n",
        "# Iterating through keys and values using items()\n",
        "for key, value in my_dict.items():\n",
        "    print(\"Key:\", key, \"- Value:\", value)\n"
      ],
      "metadata": {
        "colab": {
          "base_uri": "https://localhost:8080/"
        },
        "id": "eo3qX3AqKt0r",
        "outputId": "037618f7-d01c-4056-c5f5-7c12c9a0b695"
      },
      "execution_count": null,
      "outputs": [
        {
          "output_type": "stream",
          "name": "stdout",
          "text": [
            "Key: a - Value: 1\n",
            "Key: b - Value: 2\n",
            "Key: c - Value: 3\n"
          ]
        }
      ]
    },
    {
      "cell_type": "markdown",
      "source": [
        "In this code:\n",
        "\n",
        "my_dict.items() returns a sequence of tuples where each tuple contains a key-value pair from the dictionary.\n",
        "\n",
        "In the for loop, the key variable receives the key from each tuple, and the value variable receives the corresponding value.\n",
        "\n",
        "Inside the loop, you can use key and value to access the current key and value pair respectively."
      ],
      "metadata": {
        "id": "tPzChH_UKx2j"
      }
    },
    {
      "cell_type": "markdown",
      "source": [
        "16. Write a Python program to find the GCD (Greatest Common Divisor) of two numbers using a for loop.\n"
      ],
      "metadata": {
        "id": "CU4iPyfhz8p2"
      }
    },
    {
      "cell_type": "code",
      "source": [
        "def gcd(a, b):\n",
        "    while b != 0:\n",
        "        a, b = b, a % b\n",
        "    return a\n",
        "\n",
        "# Input from user\n",
        "num1 = int(input(\"Enter the first number: \"))\n",
        "num2 = int(input(\"Enter the second number: \"))\n",
        "\n",
        "# Find the GCD using the function\n",
        "result = gcd(num1, num2)\n",
        "print(\"The GCD of\", num1, \"and\", num2, \"is\", result)\n"
      ],
      "metadata": {
        "colab": {
          "base_uri": "https://localhost:8080/"
        },
        "id": "TEjNcR0IK-Ks",
        "outputId": "bb01504d-3dd1-4ed6-cd16-d5d6df3d00ee"
      },
      "execution_count": null,
      "outputs": [
        {
          "output_type": "stream",
          "name": "stdout",
          "text": [
            "Enter the first number: 45\n",
            "Enter the second number: 67\n",
            "The GCD of 45 and 67 is 1\n"
          ]
        }
      ]
    },
    {
      "cell_type": "markdown",
      "source": [
        "17. Create a Python program that checks if a string is a palindrome using a for loop.\n"
      ],
      "metadata": {
        "id": "9Y_OPN6k0AD1"
      }
    },
    {
      "cell_type": "code",
      "source": [
        "def is_palindrome(string):\n",
        "    # Remove spaces and convert to lowercase\n",
        "    string = string.replace(\" \", \"\").lower()\n",
        "    length = len(string)\n",
        "    for i in range(length // 2):\n",
        "        if string[i] != string[length - i - 1]:\n",
        "            return False\n",
        "    return True\n",
        "\n",
        "# Example usage:\n",
        "input_string = input(\"Enter a string: \")\n",
        "if is_palindrome(input_string):\n",
        "    print(\"The string is a palindrome.\")\n",
        "else:\n",
        "    print(\"The string is not a palindrome.\")\n"
      ],
      "metadata": {
        "colab": {
          "base_uri": "https://localhost:8080/"
        },
        "id": "3pnKES-dLLmT",
        "outputId": "66eadbfa-3b51-48dc-8825-d4532e615842"
      },
      "execution_count": null,
      "outputs": [
        {
          "output_type": "stream",
          "name": "stdout",
          "text": [
            "Enter a string: python\n",
            "The string is not a palindrome.\n"
          ]
        }
      ]
    },
    {
      "cell_type": "markdown",
      "source": [
        "18. Write a Python program to remove duplicates from a list using a for loop.\n"
      ],
      "metadata": {
        "id": "92k12TTq0EZ9"
      }
    },
    {
      "cell_type": "code",
      "source": [
        "def remove_duplicates(input_list):\n",
        "    unique_list = []\n",
        "    for item in input_list:\n",
        "        if item not in unique_list:\n",
        "            unique_list.append(item)\n",
        "    return unique_list\n",
        "\n",
        "# Example usage:\n",
        "my_list = [1, 2, 3, 2, 4, 5, 4, 6]\n",
        "unique_list = remove_duplicates(my_list)\n",
        "print(\"Original List:\", my_list)\n",
        "print(\"List with Duplicates Removed:\", unique_list)\n"
      ],
      "metadata": {
        "colab": {
          "base_uri": "https://localhost:8080/"
        },
        "id": "t-GeJvnfLV5N",
        "outputId": "d6c5b576-7df0-4d59-9eda-3ce0b5a6a6ce"
      },
      "execution_count": null,
      "outputs": [
        {
          "output_type": "stream",
          "name": "stdout",
          "text": [
            "Original List: [1, 2, 3, 2, 4, 5, 4, 6]\n",
            "List with Duplicates Removed: [1, 2, 3, 4, 5, 6]\n"
          ]
        }
      ]
    },
    {
      "cell_type": "markdown",
      "source": [
        "19. Create a Python program that counts the number of words in a sentence using a for loop.\n"
      ],
      "metadata": {
        "id": "4iXO0xA-0Jd9"
      }
    },
    {
      "cell_type": "code",
      "source": [
        "def count_words(sentence):\n",
        "    word_count = 0\n",
        "    # Split the sentence into words based on spaces\n",
        "    words = sentence.split()\n",
        "    # Iterate through each word\n",
        "    for word in words:\n",
        "        # Increment the word count for each word encountered\n",
        "        word_count += 1\n",
        "    return word_count\n",
        "\n",
        "# Example usage:\n",
        "input_sentence = input(\"Enter a sentence: \")\n",
        "num_words = count_words(input_sentence)\n",
        "print(\"Number of words in the sentence:\", num_words)\n"
      ],
      "metadata": {
        "colab": {
          "base_uri": "https://localhost:8080/"
        },
        "id": "8t79AIThLzDM",
        "outputId": "1f0563dd-590f-413c-814d-e3984c7e6d6e"
      },
      "execution_count": null,
      "outputs": [
        {
          "output_type": "stream",
          "name": "stdout",
          "text": [
            "Enter a sentence: I am writing Python codes\n",
            "Number of words in the sentence: 5\n"
          ]
        }
      ]
    },
    {
      "cell_type": "markdown",
      "source": [
        "20. Write a Python program to find the sum of all odd numbers from 1 to 50 using a for loop."
      ],
      "metadata": {
        "id": "AsW9KQxm0Mpd"
      }
    },
    {
      "cell_type": "code",
      "source": [
        "# Initialize sum to store the cumulative sum\n",
        "odd_sum = 0\n",
        "\n",
        "# Iterate through numbers from 1 to 50\n",
        "for num in range(1, 51):\n",
        "    # Check if the number is odd\n",
        "    if num % 2 != 0:\n",
        "        # If odd, add it to the sum\n",
        "        odd_sum += num\n",
        "\n",
        "# Print the sum of all odd numbers from 1 to 50\n",
        "print(\"Sum of all odd numbers from 1 to 50:\", odd_sum)\n"
      ],
      "metadata": {
        "colab": {
          "base_uri": "https://localhost:8080/"
        },
        "id": "qlIeXuwLL-CK",
        "outputId": "07f39f03-c785-4cc8-a920-cd51c2b28a5a"
      },
      "execution_count": null,
      "outputs": [
        {
          "output_type": "stream",
          "name": "stdout",
          "text": [
            "Sum of all odd numbers from 1 to 50: 625\n"
          ]
        }
      ]
    },
    {
      "cell_type": "markdown",
      "source": [
        "21. Write a Python program that checks if a given year is a leap year using a for loop.\n"
      ],
      "metadata": {
        "id": "lSZk1QVx0QYk"
      }
    },
    {
      "cell_type": "code",
      "source": [
        "def is_leap_year(year):\n",
        "    for y in range(1, year + 1):\n",
        "        if y % 4 == 0:\n",
        "            if y % 100 != 0 or y % 400 == 0:\n",
        "                if y == year:\n",
        "                    return True\n",
        "    return False\n",
        "\n",
        "# Example usage:\n",
        "input_year = int(input(\"Enter a year: \"))\n",
        "if is_leap_year(input_year):\n",
        "    print(input_year, \"is a leap year.\")\n",
        "else:\n",
        "    print(input_year, \"is not a leap year.\")\n"
      ],
      "metadata": {
        "colab": {
          "base_uri": "https://localhost:8080/"
        },
        "id": "SMnKd5rcMJgA",
        "outputId": "fecfb419-9bd1-457c-efee-1c73a2428dbb"
      },
      "execution_count": null,
      "outputs": [
        {
          "output_type": "stream",
          "name": "stdout",
          "text": [
            "Enter a year: 2024\n",
            "2024 is a leap year.\n"
          ]
        }
      ]
    },
    {
      "cell_type": "markdown",
      "source": [
        "22. Create a Python program that calculates the square root of a number using a for loop.\n"
      ],
      "metadata": {
        "id": "5DK0UGFX0TzT"
      }
    },
    {
      "cell_type": "code",
      "source": [
        "def square_root(number):\n",
        "    # Initial guess for the square root\n",
        "    guess = number / 2.0\n",
        "    # Number of iterations for refining the guess\n",
        "    iterations = 1000\n",
        "    # Refine the guess using a for loop\n",
        "    for _ in range(iterations):\n",
        "        guess = (guess + number / guess) / 2.0\n",
        "    return guess\n",
        "\n",
        "# Example usage:\n",
        "input_number = float(input(\"Enter a number to find its square root: \"))\n",
        "approx_sqrt = square_root(input_number)\n",
        "print(\"Approximate square root:\", approx_sqrt)\n"
      ],
      "metadata": {
        "colab": {
          "base_uri": "https://localhost:8080/"
        },
        "id": "TnACfjn6MVCp",
        "outputId": "48f116eb-0bc3-48aa-9057-bbed1c2d0a98"
      },
      "execution_count": null,
      "outputs": [
        {
          "output_type": "stream",
          "name": "stdout",
          "text": [
            "Enter a number to find its square root: 343\n",
            "Approximate square root: 18.520259177452132\n"
          ]
        }
      ]
    },
    {
      "cell_type": "markdown",
      "source": [
        "23. Write a Python program to find the LCM (Least Common Multiple) of two numbers using a for loop.\n"
      ],
      "metadata": {
        "id": "RVP_XngN0TrC"
      }
    },
    {
      "cell_type": "code",
      "source": [
        "def lcm(num1, num2):\n",
        "    # Find the maximum of the two numbers\n",
        "    max_num = max(num1, num2)\n",
        "    # Start iterating from the maximum number\n",
        "    for i in range(max_num, (num1 * num2) + 1, max_num):\n",
        "        # Check if i is a multiple of both num1 and num2\n",
        "        if i % num1 == 0 and i % num2 == 0:\n",
        "            return i\n",
        "    return num1 * num2  # Return num1 * num2 if no common multiple is found\n",
        "\n",
        "# Example usage:\n",
        "num1 = int(input(\"Enter the first number: \"))\n",
        "num2 = int(input(\"Enter the second number: \"))\n",
        "lcm_result = lcm(num1, num2)\n",
        "print(\"LCM of\", num1, \"and\", num2, \"is\", lcm_result)\n"
      ],
      "metadata": {
        "colab": {
          "base_uri": "https://localhost:8080/"
        },
        "id": "39mySRyvMhWw",
        "outputId": "8a6e661b-f057-4fff-959f-b659d14e80bf"
      },
      "execution_count": null,
      "outputs": [
        {
          "output_type": "stream",
          "name": "stdout",
          "text": [
            "Enter the first number: 45\n",
            "Enter the second number: 34\n",
            "LCM of 45 and 34 is 1530\n"
          ]
        }
      ]
    },
    {
      "cell_type": "markdown",
      "source": [
        "If else :\n"
      ],
      "metadata": {
        "id": "y327ZShx0avz"
      }
    },
    {
      "cell_type": "markdown",
      "source": [
        "1. Write a Python program to check if a number is positive, negative, or zero using an if-else statement."
      ],
      "metadata": {
        "id": "9fdCSQdV0dlk"
      }
    },
    {
      "cell_type": "code",
      "source": [
        "number = float(input(\"Enter a number: \"))\n",
        "\n",
        "if number > 0:\n",
        "    print(\"The number is positive.\")\n",
        "elif number < 0:\n",
        "    print(\"The number is negative.\")\n",
        "else:\n",
        "    print(\"The number is zero.\")\n"
      ],
      "metadata": {
        "colab": {
          "base_uri": "https://localhost:8080/"
        },
        "id": "Y_225gZcOKgd",
        "outputId": "b2eb6ba8-8fe7-498c-82e7-ef302b61c612"
      },
      "execution_count": null,
      "outputs": [
        {
          "output_type": "stream",
          "name": "stdout",
          "text": [
            "Enter a number: 65\n",
            "The number is positive.\n"
          ]
        }
      ]
    },
    {
      "cell_type": "markdown",
      "source": [
        "2. Create a Python program that checks if a given number is even or odd using an if-else statement.\n"
      ],
      "metadata": {
        "id": "Trv2ZuUr0ga7"
      }
    },
    {
      "cell_type": "code",
      "source": [
        "number = int(input(\"Enter a number: \"))\n",
        "\n",
        "if number % 2 == 0:\n",
        "    print(\"The number is even.\")\n",
        "else:\n",
        "    print(\"The number is odd.\")\n"
      ],
      "metadata": {
        "colab": {
          "base_uri": "https://localhost:8080/"
        },
        "id": "E8ihZ-EXOsFc",
        "outputId": "1a04a549-ea01-4a00-a4d3-ef19c39b94f4"
      },
      "execution_count": null,
      "outputs": [
        {
          "output_type": "stream",
          "name": "stdout",
          "text": [
            "Enter a number: 56\n",
            "The number is even.\n"
          ]
        }
      ]
    },
    {
      "cell_type": "markdown",
      "source": [
        "3. How can you use nested if-else statements in Python, and provide an example?\n"
      ],
      "metadata": {
        "id": "UkgYqXkx0gVL"
      }
    },
    {
      "cell_type": "markdown",
      "source": [
        "Nested if-else statements are used when you need to perform additional checks within an if or else block. Here's an example:"
      ],
      "metadata": {
        "id": "fndjbWssOz7k"
      }
    },
    {
      "cell_type": "code",
      "source": [
        "x = 10\n",
        "if x > 0:\n",
        "    if x % 2 == 0:\n",
        "        print(\"Positive and even\")\n",
        "    else:\n",
        "        print(\"Positive and odd\")\n",
        "else:\n",
        "    print(\"Negative or zero\")\n"
      ],
      "metadata": {
        "colab": {
          "base_uri": "https://localhost:8080/"
        },
        "id": "MKZ3x6JVO05Y",
        "outputId": "1f41ddbf-91e4-41d3-d1da-2dbe6bdde343"
      },
      "execution_count": null,
      "outputs": [
        {
          "output_type": "stream",
          "name": "stdout",
          "text": [
            "Positive and even\n"
          ]
        }
      ]
    },
    {
      "cell_type": "markdown",
      "source": [
        "4. Write a Python program to determine the largest of three numbers using if-else.\n"
      ],
      "metadata": {
        "id": "a4KI8lM40gRz"
      }
    },
    {
      "cell_type": "code",
      "source": [
        "num1 = float(input(\"Enter first number: \"))\n",
        "num2 = float(input(\"Enter second number: \"))\n",
        "num3 = float(input(\"Enter third number: \"))\n",
        "\n",
        "if num1 >= num2 and num1 >= num3:\n",
        "    largest = num1\n",
        "elif num2 >= num1 and num2 >= num3:\n",
        "    largest = num2\n",
        "else:\n",
        "    largest = num3\n",
        "\n",
        "print(\"The largest number is\", largest)\n"
      ],
      "metadata": {
        "colab": {
          "base_uri": "https://localhost:8080/"
        },
        "id": "XkjZ2pRdO7Ss",
        "outputId": "8b12d329-7fa1-4534-8017-8588a90af4bc"
      },
      "execution_count": null,
      "outputs": [
        {
          "output_type": "stream",
          "name": "stdout",
          "text": [
            "Enter first number: 45\n",
            "Enter second number: 22\n",
            "Enter third number: 35\n",
            "The largest number is 45.0\n"
          ]
        }
      ]
    },
    {
      "cell_type": "markdown",
      "source": [
        "5. Write a Python program that calculates the absolute value of a number using if-else.\n"
      ],
      "metadata": {
        "id": "P54okcYx0gOW"
      }
    },
    {
      "cell_type": "code",
      "source": [
        "number = float(input(\"Enter a number: \"))\n",
        "\n",
        "if number < 0:\n",
        "    abs_value = -number\n",
        "else:\n",
        "    abs_value = number\n",
        "\n",
        "print(\"The absolute value of\", number, \"is\", abs_value)\n"
      ],
      "metadata": {
        "colab": {
          "base_uri": "https://localhost:8080/"
        },
        "id": "2kp5INZ0PB_P",
        "outputId": "7f40b0cc-5b02-456b-89f2-4e1a86bf6b57"
      },
      "execution_count": null,
      "outputs": [
        {
          "output_type": "stream",
          "name": "stdout",
          "text": [
            "Enter a number: 78\n",
            "The absolute value of 78.0 is 78.0\n"
          ]
        }
      ]
    },
    {
      "cell_type": "markdown",
      "source": [
        "6. Create a Python program that checks if a given character is a vowel or consonant using if-else.\n"
      ],
      "metadata": {
        "id": "mcVmIpFf0gKu"
      }
    },
    {
      "cell_type": "code",
      "source": [
        "character = input(\"Enter a character: \")\n",
        "\n",
        "if character.lower() in ['a', 'e', 'i', 'o', 'u']:\n",
        "    print(\"The character is a vowel.\")\n",
        "else:\n",
        "    print(\"The character is a consonant.\")\n"
      ],
      "metadata": {
        "colab": {
          "base_uri": "https://localhost:8080/"
        },
        "id": "uiiOGKcRPH47",
        "outputId": "26f6e893-4cc3-4188-ce67-0ba5c5c4c900"
      },
      "execution_count": null,
      "outputs": [
        {
          "output_type": "stream",
          "name": "stdout",
          "text": [
            "Enter a character: t\n",
            "The character is a consonant.\n"
          ]
        }
      ]
    },
    {
      "cell_type": "markdown",
      "source": [
        "7. Write a Python program to determine if a user is eligible to vote based on their age using if-else.\n"
      ],
      "metadata": {
        "id": "9peD9EVZ0gHD"
      }
    },
    {
      "cell_type": "code",
      "source": [
        "age = int(input(\"Enter your age: \"))\n",
        "\n",
        "if age >= 18:\n",
        "    print(\"You are eligible to vote.\")\n",
        "else:\n",
        "    print(\"You are not eligible to vote yet.\")\n"
      ],
      "metadata": {
        "colab": {
          "base_uri": "https://localhost:8080/"
        },
        "id": "Mi0ROUUjPNn9",
        "outputId": "f6597be2-ed7b-4e3a-fe20-33876c567e76"
      },
      "execution_count": null,
      "outputs": [
        {
          "output_type": "stream",
          "name": "stdout",
          "text": [
            "Enter your age: 89\n",
            "You are eligible to vote.\n"
          ]
        }
      ]
    },
    {
      "cell_type": "markdown",
      "source": [
        "8. Create a Python program that calculates the discount amount based on the purchase amount using if-else.\n"
      ],
      "metadata": {
        "id": "MgW-fg0Z0gEL"
      }
    },
    {
      "cell_type": "code",
      "source": [
        "purchase_amount = float(input(\"Enter the purchase amount: \"))\n",
        "\n",
        "if purchase_amount >= 1000:\n",
        "    discount = 0.1 * purchase_amount  # 10% discount\n",
        "else:\n",
        "    discount = 0\n",
        "\n",
        "print(\"Discount amount:\", discount)\n"
      ],
      "metadata": {
        "colab": {
          "base_uri": "https://localhost:8080/"
        },
        "id": "Xo6tEg9QPVFS",
        "outputId": "39371ffb-453a-46bb-dd2e-3d20c7447fe6"
      },
      "execution_count": null,
      "outputs": [
        {
          "output_type": "stream",
          "name": "stdout",
          "text": [
            "Enter the purchase amount: 560000\n",
            "Discount amount: 56000.0\n"
          ]
        }
      ]
    },
    {
      "cell_type": "markdown",
      "source": [
        "9. Write a Python program to check if a number is within a specified range using if-else.\n"
      ],
      "metadata": {
        "id": "FovsHhNq0gA8"
      }
    },
    {
      "cell_type": "code",
      "source": [
        "number = float(input(\"Enter a number: \"))\n",
        "lower_limit = float(input(\"Enter the lower limit of the range: \"))\n",
        "upper_limit = float(input(\"Enter the upper limit of the range: \"))\n",
        "\n",
        "if lower_limit <= number <= upper_limit:\n",
        "    print(\"The number is within the specified range.\")\n",
        "else:\n",
        "    print(\"The number is not within the specified range.\")\n"
      ],
      "metadata": {
        "colab": {
          "base_uri": "https://localhost:8080/"
        },
        "id": "PiZKvc0dPhl6",
        "outputId": "f29ddc3c-f661-4bd2-f085-0fa3f05d02d4"
      },
      "execution_count": null,
      "outputs": [
        {
          "output_type": "stream",
          "name": "stdout",
          "text": [
            "Enter a number: 67\n",
            "Enter the lower limit of the range: 5\n",
            "Enter the upper limit of the range: 50\n",
            "The number is not within the specified range.\n"
          ]
        }
      ]
    },
    {
      "cell_type": "markdown",
      "source": [
        "10. Create a Python program that determines the grade of a student based on their score using if-else.\n"
      ],
      "metadata": {
        "id": "1diQVwT00f9r"
      }
    },
    {
      "cell_type": "code",
      "source": [
        "score = float(input(\"Enter the student's score: \"))\n",
        "\n",
        "if 90 <= score <= 100:\n",
        "    grade = 'A'\n",
        "elif 80 <= score < 90:\n",
        "    grade = 'B'\n",
        "elif 70 <= score < 80:\n",
        "    grade = 'C'\n",
        "elif 60 <= score < 70:\n",
        "    grade = 'D'\n",
        "else:\n",
        "    grade = 'F'\n",
        "\n",
        "print(\"The student's grade is\", grade)\n"
      ],
      "metadata": {
        "colab": {
          "base_uri": "https://localhost:8080/"
        },
        "id": "v_yG2CsYX4G6",
        "outputId": "eac7cd3e-984f-43c5-992b-51a3c1200ced"
      },
      "execution_count": null,
      "outputs": [
        {
          "output_type": "stream",
          "name": "stdout",
          "text": [
            "Enter the student's score: 95\n",
            "The student's grade is A\n"
          ]
        }
      ]
    },
    {
      "cell_type": "markdown",
      "source": [
        "11. Write a Python program to check if a string is empty or not using if-else.\n"
      ],
      "metadata": {
        "id": "28A_F3vy0f6z"
      }
    },
    {
      "cell_type": "code",
      "source": [
        "string = input(\"Enter a string: \")\n",
        "\n",
        "if string:\n",
        "    print(\"The string is not empty.\")\n",
        "else:\n",
        "    print(\"The string is empty.\")\n"
      ],
      "metadata": {
        "colab": {
          "base_uri": "https://localhost:8080/"
        },
        "id": "7oqyDDEDX-Ki",
        "outputId": "af3a1283-cf4e-4de8-f3f5-dcee7570516f"
      },
      "execution_count": null,
      "outputs": [
        {
          "output_type": "stream",
          "name": "stdout",
          "text": [
            "Enter a string: \n",
            "The string is empty.\n"
          ]
        }
      ]
    },
    {
      "cell_type": "markdown",
      "source": [
        "12. Create a Python program that identifies the type of a triangle (e.g., equilateral, isosceles, or scalene) based on input values using if-else.\n"
      ],
      "metadata": {
        "id": "ADRBEHCm0f4M"
      }
    },
    {
      "cell_type": "code",
      "source": [
        "side1 = float(input(\"Enter length of side 1: \"))\n",
        "side2 = float(input(\"Enter length of side 2: \"))\n",
        "side3 = float(input(\"Enter length of side 3: \"))\n",
        "\n",
        "if side1 == side2 == side3:\n",
        "    print(\"The triangle is equilateral.\")\n",
        "elif side1 == side2 or side1 == side3 or side2 == side3:\n",
        "    print(\"The triangle is isosceles.\")\n",
        "else:\n",
        "    print(\"The triangle is scalene.\")\n"
      ],
      "metadata": {
        "colab": {
          "base_uri": "https://localhost:8080/"
        },
        "id": "NBBiTXZCYEIM",
        "outputId": "c7cd6486-c24b-4877-814c-c565a7170256"
      },
      "execution_count": null,
      "outputs": [
        {
          "output_type": "stream",
          "name": "stdout",
          "text": [
            "Enter length of side 1: 56\n",
            "Enter length of side 2: 34\n",
            "Enter length of side 3: 22\n",
            "The triangle is scalene.\n"
          ]
        }
      ]
    },
    {
      "cell_type": "markdown",
      "source": [
        "13. Write a Python program to determine the day of the week based on a user-provided number using if-else."
      ],
      "metadata": {
        "id": "GaxTIeeQ0f1V"
      }
    },
    {
      "cell_type": "code",
      "source": [
        "day_number = int(input(\"Enter a number (1-7) representing the day of the week: \"))\n",
        "\n",
        "if day_number == 1:\n",
        "    print(\"Monday\")\n",
        "elif day_number == 2:\n",
        "    print(\"Tuesday\")\n",
        "elif day_number == 3:\n",
        "    print(\"Wednesday\")\n",
        "elif day_number == 4:\n",
        "    print(\"Thursday\")\n",
        "elif day_number == 5:\n",
        "    print(\"Friday\")\n",
        "elif day_number == 6:\n",
        "    print(\"Saturday\")\n",
        "elif day_number == 7:\n",
        "    print(\"Sunday\")\n",
        "else:\n",
        "    print(\"Invalid input\")\n"
      ],
      "metadata": {
        "colab": {
          "base_uri": "https://localhost:8080/"
        },
        "id": "qQmU2lcSYKXa",
        "outputId": "7c240653-f33e-4202-e1f7-a9c5604fd8ae"
      },
      "execution_count": null,
      "outputs": [
        {
          "output_type": "stream",
          "name": "stdout",
          "text": [
            "Enter a number (1-7) representing the day of the week: 5\n",
            "Friday\n"
          ]
        }
      ]
    },
    {
      "cell_type": "markdown",
      "source": [
        "14. Create a Python program that checks if a given year is a leap year using both if-else and a function.\n"
      ],
      "metadata": {
        "id": "mwcoW0cp0fyI"
      }
    },
    {
      "cell_type": "code",
      "source": [
        "def is_leap_year(year):\n",
        "    if (year % 4 == 0 and year % 100 != 0) or (year % 400 == 0):\n",
        "        return True\n",
        "    else:\n",
        "        return False\n",
        "\n",
        "year = int(input(\"Enter a year: \"))\n",
        "\n",
        "if is_leap_year(year):\n",
        "    print(year, \"is a leap year.\")\n",
        "else:\n",
        "    print(year, \"is not a leap year.\")\n"
      ],
      "metadata": {
        "colab": {
          "base_uri": "https://localhost:8080/"
        },
        "id": "wlRm1bb1YYwA",
        "outputId": "2af25fa0-425e-4b95-f0cb-3396e89c44c9"
      },
      "execution_count": null,
      "outputs": [
        {
          "output_type": "stream",
          "name": "stdout",
          "text": [
            "Enter a year: 2025\n",
            "2025 is not a leap year.\n"
          ]
        }
      ]
    },
    {
      "cell_type": "markdown",
      "source": [
        "15. How do you use the \"assert\" statement in Python to add debugging checks within if-else blocks?\n"
      ],
      "metadata": {
        "id": "7vg2LLNZ0fud"
      }
    },
    {
      "cell_type": "markdown",
      "source": [
        "The assert statement is used for debugging purposes to check if a condition is True. If the condition is False, it raises an AssertionError. Here's an example:"
      ],
      "metadata": {
        "id": "yKeK_0ZQYhci"
      }
    },
    {
      "cell_type": "code",
      "source": [
        "x = 10\n",
        "assert x > 0, \"x should be greater than 0\"\n",
        "print(\"x is positive\")\n"
      ],
      "metadata": {
        "colab": {
          "base_uri": "https://localhost:8080/"
        },
        "id": "g6F6IpESYiMq",
        "outputId": "713ea977-ddf5-4564-ae70-5e4f12d51b43"
      },
      "execution_count": null,
      "outputs": [
        {
          "output_type": "stream",
          "name": "stdout",
          "text": [
            "x is positive\n"
          ]
        }
      ]
    },
    {
      "cell_type": "markdown",
      "source": [
        "16. Create a Python program that determines the eligibility of a person for a senior citizen discount based on age using if-else."
      ],
      "metadata": {
        "id": "pN0dUAnz0fns"
      }
    },
    {
      "cell_type": "code",
      "source": [
        "age = int(input(\"Enter your age: \"))\n",
        "\n",
        "if age >= 60:\n",
        "    print(\"You are eligible for a senior citizen discount.\")\n",
        "else:\n",
        "    print(\"You are not eligible for a senior citizen discount.\")\n"
      ],
      "metadata": {
        "colab": {
          "base_uri": "https://localhost:8080/"
        },
        "id": "iD3goYPUYoCy",
        "outputId": "ed9c40f9-be36-4771-9361-902585a811b8"
      },
      "execution_count": null,
      "outputs": [
        {
          "output_type": "stream",
          "name": "stdout",
          "text": [
            "Enter your age: 22\n",
            "You are not eligible for a senior citizen discount.\n"
          ]
        }
      ]
    },
    {
      "cell_type": "markdown",
      "source": [
        "17. Write a Python program to categorize a given character as uppercase, lowercase, or neither using if-else.\n"
      ],
      "metadata": {
        "id": "sDsjmONG0fej"
      }
    },
    {
      "cell_type": "code",
      "source": [
        "character = input(\"Enter a character: \")\n",
        "\n",
        "if 'a' <= character <= 'z':\n",
        "    print(\"The character is lowercase.\")\n",
        "elif 'A' <= character <= 'Z':\n",
        "    print(\"The character is uppercase.\")\n",
        "else:\n",
        "    print(\"The character is neither uppercase nor lowercase.\")\n"
      ],
      "metadata": {
        "colab": {
          "base_uri": "https://localhost:8080/"
        },
        "id": "IgF1QEV8YtwK",
        "outputId": "7c23776f-faec-4df6-b584-4d3fb975b585"
      },
      "execution_count": null,
      "outputs": [
        {
          "output_type": "stream",
          "name": "stdout",
          "text": [
            "Enter a character: f\n",
            "The character is lowercase.\n"
          ]
        }
      ]
    },
    {
      "cell_type": "markdown",
      "source": [
        "18. Write a Python program to determine the roots of a quadratic equation using if-else.\n"
      ],
      "metadata": {
        "id": "cqElxGIG0fRD"
      }
    },
    {
      "cell_type": "code",
      "source": [
        "import math\n",
        "\n",
        "a = float(input(\"Enter coefficient a: \"))\n",
        "b = float(input(\"Enter coefficient b: \"))\n",
        "c = float(input(\"Enter coefficient c: \"))\n",
        "\n",
        "discriminant = b**2 - 4*a*c\n",
        "\n",
        "if discriminant > 0:\n",
        "    root1 = (-b + math.sqrt(discriminant)) / (2*a)\n",
        "    root2 = (-b - math.sqrt(discriminant)) / (2*a)\n",
        "    print(\"Roots are real and distinct.\")\n",
        "    print(\"Root 1:\", root1)\n",
        "    print(\"Root 2:\", root2)\n",
        "elif discriminant == 0:\n",
        "    root = -b / (2*a)\n",
        "    print(\"Roots are real and equal.\")\n",
        "    print(\"Root:\", root)\n",
        "else:\n",
        "    real_part = -b / (2*a)\n",
        "    imag_part = math.sqrt(-discriminant) / (2*a)\n",
        "    print(\"Roots are complex.\")\n",
        "    print(\"Root 1:\", real_part, \"+\", imag_part, \"i\")\n",
        "    print(\"Root 2:\", real_part, \"-\", imag_part, \"i\")\n"
      ],
      "metadata": {
        "colab": {
          "base_uri": "https://localhost:8080/"
        },
        "id": "Peoh38VqYyXT",
        "outputId": "154e09c3-881f-4138-806e-2c9ebaea8be5"
      },
      "execution_count": null,
      "outputs": [
        {
          "output_type": "stream",
          "name": "stdout",
          "text": [
            "Enter coefficient a: 4\n",
            "Enter coefficient b: 5\n",
            "Enter coefficient c: 6\n",
            "Roots are complex.\n",
            "Root 1: -0.625 + 1.0532687216470449 i\n",
            "Root 2: -0.625 - 1.0532687216470449 i\n"
          ]
        }
      ]
    },
    {
      "cell_type": "markdown",
      "source": [
        "19. Create a Python program that checks if a given year is a century year or not using if-else.\n"
      ],
      "metadata": {
        "id": "kdRFgAeC0ehF"
      }
    },
    {
      "cell_type": "code",
      "source": [
        "year = int(input(\"Enter a year: \"))\n",
        "\n",
        "if year % 100 == 0:\n",
        "    print(year, \"is a century year.\")\n",
        "else:\n",
        "    print(year, \"is not a century year.\")\n"
      ],
      "metadata": {
        "colab": {
          "base_uri": "https://localhost:8080/"
        },
        "id": "QPbmHo_yY4fw",
        "outputId": "afb64040-4ca8-4604-f691-12c9475c2bcb"
      },
      "execution_count": null,
      "outputs": [
        {
          "output_type": "stream",
          "name": "stdout",
          "text": [
            "Enter a year: 2021\n",
            "2021 is not a century year.\n"
          ]
        }
      ]
    },
    {
      "cell_type": "markdown",
      "source": [
        "20. Write a Python program to determine if a given number is a perfect square using if-else.\n"
      ],
      "metadata": {
        "id": "6dafbH630dXT"
      }
    },
    {
      "cell_type": "code",
      "source": [
        "number = int(input(\"Enter a number: \"))\n",
        "\n",
        "if number > 0:\n",
        "    square_root = number ** 0.5\n",
        "    if square_root == int(square_root):\n",
        "        print(number, \"is a perfect square.\")\n",
        "    else:\n",
        "        print(number, \"is not a perfect square.\")\n",
        "else:\n",
        "    print(\"Please enter a positive number.\")\n"
      ],
      "metadata": {
        "colab": {
          "base_uri": "https://localhost:8080/"
        },
        "id": "uKcTEd3PZAsg",
        "outputId": "6397bdb0-b3f6-4893-aada-d810ff0b07a2"
      },
      "execution_count": null,
      "outputs": [
        {
          "output_type": "stream",
          "name": "stdout",
          "text": [
            "Enter a number: 34\n",
            "34 is not a perfect square.\n"
          ]
        }
      ]
    },
    {
      "cell_type": "markdown",
      "source": [
        "21. Explain the purpose of the \"continue\" and \"break\" statements within if-else loops.\n"
      ],
      "metadata": {
        "id": "WDh1ud3m2b0u"
      }
    },
    {
      "cell_type": "markdown",
      "source": [
        "The continue statement is used to skip the rest of the code inside a loop for the current iteration and move to the next iteration.\n",
        "The break statement is used to exit the loop immediately, regardless of the iteration count or the loop condition."
      ],
      "metadata": {
        "id": "APXd1CvnZGgn"
      }
    },
    {
      "cell_type": "markdown",
      "source": [
        "22. Create a Python program that calculates the BMI (Body Mass Index) of a person based on their weight and height using if-else.\n"
      ],
      "metadata": {
        "id": "YM2huqcF2bsO"
      }
    },
    {
      "cell_type": "code",
      "source": [
        "weight = float(input(\"Enter your weight in kilograms: \"))\n",
        "height = float(input(\"Enter your height in meters: \"))\n",
        "\n",
        "bmi = weight / (height ** 2)\n",
        "\n",
        "if bmi < 18.5:\n",
        "    print(\"Underweight\")\n",
        "elif 18.5 <= bmi < 25:\n",
        "    print(\"Normal weight\")\n",
        "elif 25 <= bmi < 30:\n",
        "    print(\"Overweight\")\n",
        "else:\n",
        "    print(\"Obese\")\n"
      ],
      "metadata": {
        "colab": {
          "base_uri": "https://localhost:8080/"
        },
        "id": "-OUSq_srZJtx",
        "outputId": "9859cf1e-4e54-4ca6-e629-5912ebb485b1"
      },
      "execution_count": null,
      "outputs": [
        {
          "output_type": "stream",
          "name": "stdout",
          "text": [
            "Enter your weight in kilograms: 50\n",
            "Enter your height in meters: 2.3\n",
            "Underweight\n"
          ]
        }
      ]
    },
    {
      "cell_type": "markdown",
      "source": [
        "23. How can you use the \"filter()\" function with if-else statements to filter elements from a list?"
      ],
      "metadata": {
        "id": "_l2agNYV2bik"
      }
    },
    {
      "cell_type": "markdown",
      "source": [
        "We can use the filter() function with a lambda function and if-else statement to filter elements from a list based on a condition. Here's an example:"
      ],
      "metadata": {
        "id": "-Kbrkh3tZUn4"
      }
    },
    {
      "cell_type": "code",
      "source": [
        "numbers = [1, 2, 3, 4, 5, 6, 7, 8, 9, 10]\n",
        "even_numbers = list(filter(lambda x: x % 2 == 0, numbers))\n",
        "print(even_numbers)\n"
      ],
      "metadata": {
        "colab": {
          "base_uri": "https://localhost:8080/"
        },
        "id": "XEbJzaKsZW8Y",
        "outputId": "6f73ef8d-d170-41be-a823-4169da638126"
      },
      "execution_count": null,
      "outputs": [
        {
          "output_type": "stream",
          "name": "stdout",
          "text": [
            "[2, 4, 6, 8, 10]\n"
          ]
        }
      ]
    },
    {
      "cell_type": "markdown",
      "source": [
        "24. Write a Python program to determine if a given number is prime or not using if-else.\n"
      ],
      "metadata": {
        "id": "DHtlB05d2bd-"
      }
    },
    {
      "cell_type": "code",
      "source": [
        "number = int(input(\"Enter a number: \"))\n",
        "\n",
        "if number > 1:\n",
        "    for i in range(2, int(number ** 0.5) + 1):\n",
        "        if number % i == 0:\n",
        "            print(number, \"is not a prime number.\")\n",
        "            break\n",
        "    else:\n",
        "        print(number, \"is a prime number.\")\n",
        "else:\n",
        "    print(number, \"is not a prime number.\")\n"
      ],
      "metadata": {
        "colab": {
          "base_uri": "https://localhost:8080/"
        },
        "id": "ylSU9s6eZbVf",
        "outputId": "83bf98b2-d88d-48de-e3b0-9bb250951bb6"
      },
      "execution_count": null,
      "outputs": [
        {
          "output_type": "stream",
          "name": "stdout",
          "text": [
            "Enter a number: 67\n",
            "67 is a prime number.\n"
          ]
        }
      ]
    },
    {
      "cell_type": "markdown",
      "source": [
        "Map :-"
      ],
      "metadata": {
        "id": "gRL340Zu2r0_"
      }
    },
    {
      "cell_type": "markdown",
      "source": [
        "1. Explain the purpose of the `map()` function in Python and provide an example of how it can be used to apply a function to each element of an iterable.\n"
      ],
      "metadata": {
        "id": "s0ARd4gL2rxB"
      }
    },
    {
      "cell_type": "markdown",
      "source": [
        "The map() function in Python is used to apply a specified function to each item in an iterable (such as a list) and return an iterator that yields the results.\n",
        "It's a convenient way to apply a function to every item in an iterable without using explicit loops."
      ],
      "metadata": {
        "id": "P8OoBPLidOB9"
      }
    },
    {
      "cell_type": "code",
      "source": [
        "# Define a function\n",
        "def square(x):\n",
        "    return x ** 2\n",
        "\n",
        "# Apply the function to each element of a list using map()\n",
        "numbers = [1, 2, 3, 4, 5]\n",
        "squared_numbers = map(square, numbers)\n",
        "\n",
        "# Convert the iterator to a list to see the result\n",
        "squared_numbers_list = list(squared_numbers)\n",
        "print(squared_numbers_list)  # Output: [1, 4, 9, 16, 25]\n"
      ],
      "metadata": {
        "colab": {
          "base_uri": "https://localhost:8080/"
        },
        "id": "qGA3N2vidRVY",
        "outputId": "b3032eb3-f37c-4358-a557-8074fff71496"
      },
      "execution_count": null,
      "outputs": [
        {
          "output_type": "stream",
          "name": "stdout",
          "text": [
            "[1, 4, 9, 16, 25]\n"
          ]
        }
      ]
    },
    {
      "cell_type": "markdown",
      "source": [
        "2. Write a Python program that uses the `map()` function to square each element of a list of numbers.\n"
      ],
      "metadata": {
        "id": "CpCrqJ0x2rtM"
      }
    },
    {
      "cell_type": "code",
      "source": [
        "numbers = [1, 2, 3, 4, 5]\n",
        "squared_numbers = map(lambda x: x ** 2, numbers)\n",
        "squared_numbers_list = list(squared_numbers)\n",
        "print(squared_numbers_list)  # Output: [1, 4, 9, 16, 25]\n"
      ],
      "metadata": {
        "colab": {
          "base_uri": "https://localhost:8080/"
        },
        "id": "WtmrXLBXe75O",
        "outputId": "d7494428-c81a-45d8-a99f-159bb5aa2f7e"
      },
      "execution_count": null,
      "outputs": [
        {
          "output_type": "stream",
          "name": "stdout",
          "text": [
            "[1, 4, 9, 16, 25]\n"
          ]
        }
      ]
    },
    {
      "cell_type": "markdown",
      "source": [
        "3. How does the `map()` function differ from a list comprehension in Python, and when would you choose one over the other?\n"
      ],
      "metadata": {
        "id": "5lKBppX82rqU"
      }
    },
    {
      "cell_type": "markdown",
      "source": [
        "Both map() and list comprehension can be used to apply a function to each element of an iterable.\n",
        "\n",
        "The map() function is generally used when you want to apply a single function to every element of an iterable. It's more concise and readable in such cases.\n",
        "\n",
        "List comprehension, on the other hand, is more flexible and allows for more complex transformations and filtering of elements. It can also be more readable in certain situations where the logic is more complex."
      ],
      "metadata": {
        "id": "TkbV1_P9fBNk"
      }
    },
    {
      "cell_type": "markdown",
      "source": [
        "4. Create a Python program that uses the `map()` function to convert a list of names to uppercase.\n"
      ],
      "metadata": {
        "id": "_Z5a55RK2rme"
      }
    },
    {
      "cell_type": "code",
      "source": [
        "names = [\"Alice\", \"Bob\", \"Charlie\"]\n",
        "uppercase_names = map(str.upper, names)\n",
        "uppercase_names_list = list(uppercase_names)\n",
        "print(uppercase_names_list)  # Output: ['ALICE', 'BOB', 'CHARLIE']\n"
      ],
      "metadata": {
        "colab": {
          "base_uri": "https://localhost:8080/"
        },
        "id": "cST8aDenfNBM",
        "outputId": "79b3eb91-7682-4b9d-fde9-05ca59c29a96"
      },
      "execution_count": null,
      "outputs": [
        {
          "output_type": "stream",
          "name": "stdout",
          "text": [
            "['ALICE', 'BOB', 'CHARLIE']\n"
          ]
        }
      ]
    },
    {
      "cell_type": "markdown",
      "source": [
        "5. Write a Python program that uses the `map()` function to calculate the length of each word in a list of strings.\n"
      ],
      "metadata": {
        "id": "gAT1ERsc2rjl"
      }
    },
    {
      "cell_type": "code",
      "source": [
        "strings = [\"hello\", \"world\", \"python\"]\n",
        "word_lengths = map(len, strings)\n",
        "word_lengths_list = list(word_lengths)\n",
        "print(word_lengths_list)  # Output: [5, 5, 6]\n"
      ],
      "metadata": {
        "colab": {
          "base_uri": "https://localhost:8080/"
        },
        "id": "cZ_IVicpfSV0",
        "outputId": "d99170ca-6e8c-4012-e0c8-c4558f64db90"
      },
      "execution_count": null,
      "outputs": [
        {
          "output_type": "stream",
          "name": "stdout",
          "text": [
            "[5, 5, 6]\n"
          ]
        }
      ]
    },
    {
      "cell_type": "markdown",
      "source": [
        "6. How can you use the `map()` function to apply a custom function to elements of multiple lists simultaneously in Python?\n"
      ],
      "metadata": {
        "id": "4Mib7Ph12rgZ"
      }
    },
    {
      "cell_type": "markdown",
      "source": [
        "We can pass multiple iterables to the map() function. The function should then accept as many arguments as there are iterables and operate on them correspondingly."
      ],
      "metadata": {
        "id": "51L2pFenfcuu"
      }
    },
    {
      "cell_type": "code",
      "source": [
        "list1 = [1, 2, 3]\n",
        "list2 = [4, 5, 6]\n",
        "\n",
        "# Define a custom function that takes two arguments\n",
        "def add(x, y):\n",
        "    return x + y\n",
        "\n",
        "# Apply the function to elements of both lists simultaneously using map()\n",
        "result = map(add, list1, list2)\n",
        "result_list = list(result)\n",
        "print(result_list)  # Output: [5, 7, 9]\n"
      ],
      "metadata": {
        "colab": {
          "base_uri": "https://localhost:8080/"
        },
        "id": "zNXDq4gvffTi",
        "outputId": "79248e27-b2ae-4e84-d7be-48c87f14d68e"
      },
      "execution_count": null,
      "outputs": [
        {
          "output_type": "stream",
          "name": "stdout",
          "text": [
            "[5, 7, 9]\n"
          ]
        }
      ]
    },
    {
      "cell_type": "markdown",
      "source": [
        "7. Create a Python program that uses `map()` to convert a list of temperatures from Celsius to Fahrenheit.\n"
      ],
      "metadata": {
        "id": "JSL0TYpY2rc2"
      }
    },
    {
      "cell_type": "code",
      "source": [
        "temperatures_celsius = [0, 10, 20, 30, 40]\n",
        "temperatures_fahrenheit = map(lambda c: c * 9/5 + 32, temperatures_celsius)\n",
        "temperatures_fahrenheit_list = list(temperatures_fahrenheit)\n",
        "print(temperatures_fahrenheit_list)  # Output: [32.0, 50.0, 68.0, 86.0, 104.0]\n"
      ],
      "metadata": {
        "id": "B3_GCwMbfkRD",
        "outputId": "00068318-9641-4d71-c22a-d00d07474af9",
        "colab": {
          "base_uri": "https://localhost:8080/"
        }
      },
      "execution_count": null,
      "outputs": [
        {
          "output_type": "stream",
          "name": "stdout",
          "text": [
            "[32.0, 50.0, 68.0, 86.0, 104.0]\n"
          ]
        }
      ]
    },
    {
      "cell_type": "markdown",
      "source": [
        "8. Write a Python program that uses the `map()` function to round each element of a list of floating-point numbers to the nearest integer.\n",
        "\n"
      ],
      "metadata": {
        "id": "mI5qOiK-2rZh"
      }
    },
    {
      "cell_type": "code",
      "source": [
        "numbers = [3.14, 2.718, 1.5, 2.5, 4.8]\n",
        "rounded_numbers = map(round, numbers)\n",
        "rounded_numbers_list = list(rounded_numbers)\n",
        "print(rounded_numbers_list)  # Output: [3, 3, 2, 2, 5]\n"
      ],
      "metadata": {
        "id": "EoGifE95fm57",
        "outputId": "2b7d9673-9616-4a03-d200-6013c2544fdf",
        "colab": {
          "base_uri": "https://localhost:8080/"
        }
      },
      "execution_count": null,
      "outputs": [
        {
          "output_type": "stream",
          "name": "stdout",
          "text": [
            "[3, 3, 2, 2, 5]\n"
          ]
        }
      ]
    },
    {
      "cell_type": "markdown",
      "source": [
        "Reduce :-"
      ],
      "metadata": {
        "id": "FQ-8KySQ2rWp"
      }
    },
    {
      "cell_type": "markdown",
      "source": [
        "1. What is the `reduce()` function in Python, and what module should you import to use it? Provide an example of its basic usage.\n"
      ],
      "metadata": {
        "id": "MpfTsbt72rSu"
      }
    },
    {
      "cell_type": "markdown",
      "source": [
        "The reduce() function in Python is used to apply a function of two arguments cumulatively to the items of an iterable, from left to right, so as to reduce the iterable to a single value. To use it, you need to import the functools module. Here's an example of its basic usage:"
      ],
      "metadata": {
        "id": "m46x3e3jFnKu"
      }
    },
    {
      "cell_type": "code",
      "source": [
        "from functools import reduce\n",
        "\n",
        "# Example usage of reduce() function\n",
        "def add(x, y):\n",
        "    return x + y\n",
        "\n",
        "numbers = [1, 2, 3, 4, 5]\n",
        "result = reduce(add, numbers)\n",
        "print(result)  # Output: 15\n"
      ],
      "metadata": {
        "colab": {
          "base_uri": "https://localhost:8080/"
        },
        "id": "SehN_QJIFoaI",
        "outputId": "4e77c93c-3f1e-4eef-cb48-9709beab9153"
      },
      "execution_count": 1,
      "outputs": [
        {
          "output_type": "stream",
          "name": "stdout",
          "text": [
            "15\n"
          ]
        }
      ]
    },
    {
      "cell_type": "markdown",
      "source": [
        "2. Write a Python program that uses the `reduce()` function to find the product of all elements in a list.\n"
      ],
      "metadata": {
        "id": "zNwCEhLd2rPG"
      }
    },
    {
      "cell_type": "code",
      "source": [
        "from functools import reduce\n",
        "\n",
        "numbers = [1, 2, 3, 4, 5]\n",
        "product = reduce(lambda x, y: x * y, numbers)\n",
        "print(product)  # Output: 120\n"
      ],
      "metadata": {
        "colab": {
          "base_uri": "https://localhost:8080/"
        },
        "id": "lpu_gf0aFyHC",
        "outputId": "7c0254a3-1309-4baa-e21b-6150db79568c"
      },
      "execution_count": 45,
      "outputs": [
        {
          "output_type": "stream",
          "name": "stdout",
          "text": [
            "120\n"
          ]
        }
      ]
    },
    {
      "cell_type": "markdown",
      "source": [
        "3. Create a Python program that uses `reduce()` to find the maximum element in a list of numbers.\n"
      ],
      "metadata": {
        "id": "NnhhZ0nZ2rLg"
      }
    },
    {
      "cell_type": "code",
      "source": [
        "from functools import reduce\n",
        "\n",
        "numbers = [3, 8, 1, 6, 4]\n",
        "max_number = reduce(lambda x, y: x if x > y else y, numbers)\n",
        "print(max_number)  # Output: 8\n"
      ],
      "metadata": {
        "colab": {
          "base_uri": "https://localhost:8080/"
        },
        "id": "sD3RetJ4F27D",
        "outputId": "f8b7b94d-00e7-498e-a495-ef947c2d193f"
      },
      "execution_count": 44,
      "outputs": [
        {
          "output_type": "stream",
          "name": "stdout",
          "text": [
            "8\n"
          ]
        }
      ]
    },
    {
      "cell_type": "markdown",
      "source": [
        "4. How can you use the `reduce()` function to concatenate a list of strings into a single string?\n"
      ],
      "metadata": {
        "id": "MJKfj3i32rIM"
      }
    },
    {
      "cell_type": "code",
      "source": [
        "from functools import reduce\n",
        "\n",
        "strings = [\"Hello\", \" \", \"world\", \"!\"]\n",
        "concatenated_string = reduce(lambda x, y: x + y, strings)\n",
        "print(concatenated_string)  # Output: Hello world!\n"
      ],
      "metadata": {
        "colab": {
          "base_uri": "https://localhost:8080/"
        },
        "id": "qfCMpwshF95_",
        "outputId": "5243fd05-14b3-4f58-b4a5-09c4f94cb7db"
      },
      "execution_count": 43,
      "outputs": [
        {
          "output_type": "stream",
          "name": "stdout",
          "text": [
            "Hello world!\n"
          ]
        }
      ]
    },
    {
      "cell_type": "markdown",
      "source": [
        "5. Write a Python program that calculates the factorial of a number using the `reduce()` function."
      ],
      "metadata": {
        "id": "5jSV3ipI2rEr"
      }
    },
    {
      "cell_type": "code",
      "source": [
        "from functools import reduce\n",
        "\n",
        "def factorial(n):\n",
        "    return reduce(lambda x, y: x * y, range(1, n+1))\n",
        "\n",
        "number = 5\n",
        "factorial_result = factorial(number)\n",
        "print(factorial_result)  # Output: 120\n"
      ],
      "metadata": {
        "colab": {
          "base_uri": "https://localhost:8080/"
        },
        "id": "YplRuXPhGBT1",
        "outputId": "5be01d7c-ebf3-4d4f-83d9-80fe3f0b9958"
      },
      "execution_count": 42,
      "outputs": [
        {
          "output_type": "stream",
          "name": "stdout",
          "text": [
            "120\n"
          ]
        }
      ]
    },
    {
      "cell_type": "markdown",
      "source": [
        "6. Create a Python program that uses `reduce()` to find the GCD (Greatest Common Divisor) of a list of numbers.\n"
      ],
      "metadata": {
        "id": "uHqcC2uE2rAu"
      }
    },
    {
      "cell_type": "code",
      "source": [
        "from functools import reduce\n",
        "import math\n",
        "\n",
        "numbers = [12, 18, 24, 36]\n",
        "gcd = reduce(math.gcd, numbers)\n",
        "print(gcd)  # Output: 6\n"
      ],
      "metadata": {
        "colab": {
          "base_uri": "https://localhost:8080/"
        },
        "id": "uo3jGXGsGGNn",
        "outputId": "d505b15a-2f30-4bef-d4ab-111c6ad4f06d"
      },
      "execution_count": 41,
      "outputs": [
        {
          "output_type": "stream",
          "name": "stdout",
          "text": [
            "6\n"
          ]
        }
      ]
    },
    {
      "cell_type": "markdown",
      "source": [
        "7. Write a Python program that uses the `reduce()` function to find the sum of the digits of a given number.\n"
      ],
      "metadata": {
        "id": "tqQQmR1S2q6c"
      }
    },
    {
      "cell_type": "code",
      "source": [
        "from functools import reduce\n",
        "\n",
        "def sum_of_digits(number):\n",
        "    return reduce(lambda x, y: int(x) + int(y), str(number))\n",
        "\n",
        "number = 12345\n",
        "digit_sum = sum_of_digits(number)\n",
        "print(digit_sum)  # Output: 15\n"
      ],
      "metadata": {
        "colab": {
          "base_uri": "https://localhost:8080/"
        },
        "id": "UcOC58f_GIY8",
        "outputId": "ec7ff357-57a5-4fe3-8f6d-407b128e1771"
      },
      "execution_count": 40,
      "outputs": [
        {
          "output_type": "stream",
          "name": "stdout",
          "text": [
            "15\n"
          ]
        }
      ]
    },
    {
      "cell_type": "markdown",
      "source": [
        "Filter :-"
      ],
      "metadata": {
        "id": "A15VRzEF2q3F"
      }
    },
    {
      "cell_type": "markdown",
      "source": [
        "1. Explain the purpose of the `filter()` function in Python and provide an example of how it can be used to filter elements from an iterable.\n"
      ],
      "metadata": {
        "id": "g2diAqJo2qzZ"
      }
    },
    {
      "cell_type": "markdown",
      "source": [
        "The filter() function in Python is used to construct an iterator from elements of an iterable for which a function returns true. It creates a new iterable that contains only the elements for which the function evaluates to true. The purpose of filter() is to selectively extract elements from an iterable based on a condition.\n",
        "\n",
        "Here's an example of how filter() can be used to filter elements from an iterable:"
      ],
      "metadata": {
        "id": "fL-2QuWWGf6k"
      }
    },
    {
      "cell_type": "code",
      "source": [
        "# Example usage of filter() function\n",
        "def is_even(num):\n",
        "    return num % 2 == 0\n",
        "\n",
        "numbers = [1, 2, 3, 4, 5, 6, 7, 8, 9, 10]\n",
        "even_numbers = filter(is_even, numbers)\n",
        "print(list(even_numbers))  # Output: [2, 4, 6, 8, 10]\n"
      ],
      "metadata": {
        "colab": {
          "base_uri": "https://localhost:8080/"
        },
        "id": "sdPM81bjGhkS",
        "outputId": "12861f95-26b0-44e9-f2a5-59e293aee888"
      },
      "execution_count": 39,
      "outputs": [
        {
          "output_type": "stream",
          "name": "stdout",
          "text": [
            "[2, 4, 6, 8, 10]\n"
          ]
        }
      ]
    },
    {
      "cell_type": "markdown",
      "source": [
        "2. Write a Python program that uses the `filter()` function to select even numbers from a list of integers.\n"
      ],
      "metadata": {
        "id": "_9vDLYUk2qwF"
      }
    },
    {
      "cell_type": "code",
      "source": [
        "numbers = [1, 2, 3, 4, 5, 6, 7, 8, 9, 10]\n",
        "even_numbers = filter(lambda x: x % 2 == 0, numbers)\n",
        "print(list(even_numbers))  # Output: [2, 4, 6, 8, 10]\n"
      ],
      "metadata": {
        "colab": {
          "base_uri": "https://localhost:8080/"
        },
        "id": "6-26MCvOGnT7",
        "outputId": "3dbbc483-c63f-45d9-b0ba-fee4c5ddf0ee"
      },
      "execution_count": 38,
      "outputs": [
        {
          "output_type": "stream",
          "name": "stdout",
          "text": [
            "[2, 4, 6, 8, 10]\n"
          ]
        }
      ]
    },
    {
      "cell_type": "markdown",
      "source": [
        "3. Create a Python program that uses the `filter()` function to select names that start with a specific letter from a list of strings.\n"
      ],
      "metadata": {
        "id": "yiWJ3Ebx2qtp"
      }
    },
    {
      "cell_type": "code",
      "source": [
        "names = [\"Alice\", \"Bob\", \"Charlie\", \"David\", \"Eve\"]\n",
        "letter = \"B\"\n",
        "selected_names = filter(lambda name: name.startswith(letter), names)\n",
        "print(list(selected_names))  # Output: ['Bob']\n"
      ],
      "metadata": {
        "colab": {
          "base_uri": "https://localhost:8080/"
        },
        "id": "UO0F7lDhGrI5",
        "outputId": "be226ea9-93d7-4cf7-a451-5e55083b96ce"
      },
      "execution_count": 37,
      "outputs": [
        {
          "output_type": "stream",
          "name": "stdout",
          "text": [
            "['Bob']\n"
          ]
        }
      ]
    },
    {
      "cell_type": "markdown",
      "source": [
        "4. Write a Python program that uses the `filter()` function to select prime numbers from a list of integers.\n"
      ],
      "metadata": {
        "id": "vB9fGQbn2qp8"
      }
    },
    {
      "cell_type": "code",
      "source": [
        "def is_prime(n):\n",
        "    if n <= 1:\n",
        "        return False\n",
        "    for i in range(2, int(n**0.5) + 1):\n",
        "        if n % i == 0:\n",
        "            return False\n",
        "    return True\n",
        "\n",
        "numbers = [1, 2, 3, 4, 5, 6, 7, 8, 9, 10]\n",
        "prime_numbers = filter(is_prime, numbers)\n",
        "print(list(prime_numbers))  # Output: [2, 3, 5, 7]\n"
      ],
      "metadata": {
        "colab": {
          "base_uri": "https://localhost:8080/"
        },
        "id": "Anpl0gIgGvwi",
        "outputId": "3bd26e05-3208-4f18-b6eb-d7c3443eb274"
      },
      "execution_count": 36,
      "outputs": [
        {
          "output_type": "stream",
          "name": "stdout",
          "text": [
            "[2, 3, 5, 7]\n"
          ]
        }
      ]
    },
    {
      "cell_type": "markdown",
      "source": [
        "5. How can you use the `filter()` function to remove None values from a list in Python?\n"
      ],
      "metadata": {
        "id": "yuAoaeta2qmc"
      }
    },
    {
      "cell_type": "code",
      "source": [
        "values = [1, None, 2, None, 3, None, 4, None]\n",
        "filtered_values = filter(lambda x: x is not None, values)\n",
        "print(list(filtered_values))  # Output: [1, 2, 3, 4]\n"
      ],
      "metadata": {
        "colab": {
          "base_uri": "https://localhost:8080/"
        },
        "id": "ka6Dg4cDGzBi",
        "outputId": "d0ddb789-45e1-476d-f8aa-b460382082f6"
      },
      "execution_count": 35,
      "outputs": [
        {
          "output_type": "stream",
          "name": "stdout",
          "text": [
            "[1, 2, 3, 4]\n"
          ]
        }
      ]
    },
    {
      "cell_type": "markdown",
      "source": [
        "6. Create a Python program that uses `filter()` to select words longer than a certain length from a list of strings.\n"
      ],
      "metadata": {
        "id": "9Y36ZQst2qjD"
      }
    },
    {
      "cell_type": "code",
      "source": [
        "words = [\"apple\", \"banana\", \"grape\", \"kiwi\", \"orange\"]\n",
        "min_length = 5\n",
        "selected_words = filter(lambda word: len(word) > min_length, words)\n",
        "print(list(selected_words))  # Output: ['banana', 'orange']\n"
      ],
      "metadata": {
        "colab": {
          "base_uri": "https://localhost:8080/"
        },
        "id": "lQmlEHuDG37d",
        "outputId": "0c1355f2-9d9e-4bb0-e433-aab9370a828c"
      },
      "execution_count": 34,
      "outputs": [
        {
          "output_type": "stream",
          "name": "stdout",
          "text": [
            "['banana', 'orange']\n"
          ]
        }
      ]
    },
    {
      "cell_type": "markdown",
      "source": [
        "7. Write a Python program that uses the `filter()` function to select elements greater than a specified threshold from a list of values.\n"
      ],
      "metadata": {
        "id": "lLcNQ8fd2qf0"
      }
    },
    {
      "cell_type": "code",
      "source": [
        "values = [10, 20, 30, 40, 50, 60]\n",
        "threshold = 35\n",
        "selected_values = filter(lambda x: x > threshold, values)\n",
        "print(list(selected_values))  # Output: [40, 50, 60]\n"
      ],
      "metadata": {
        "colab": {
          "base_uri": "https://localhost:8080/"
        },
        "id": "RsZb7nFbG68S",
        "outputId": "399ee955-1230-4620-aaaf-15b46066efb6"
      },
      "execution_count": 33,
      "outputs": [
        {
          "output_type": "stream",
          "name": "stdout",
          "text": [
            "[40, 50, 60]\n"
          ]
        }
      ]
    },
    {
      "cell_type": "markdown",
      "source": [
        "Recursion:-"
      ],
      "metadata": {
        "id": "wSWA4MjF4CvN"
      }
    },
    {
      "cell_type": "markdown",
      "source": [
        "1. Explain the concept of recursion in Python. How does it differ from iteration?\n"
      ],
      "metadata": {
        "id": "kUG7PfAb4Cqh"
      }
    },
    {
      "cell_type": "markdown",
      "source": [
        "Recursion in Python refers to a programming technique where a function calls itself in order to solve a problem. It's a way of solving problems by dividing them into smaller, simpler instances of the same problem. Each recursive call solves a smaller subproblem until reaching a base case, which is a problem small enough to solve directly without further recursion.\n",
        "\n",
        "Here's how recursion differs from iteration:\n",
        "\n",
        "Mechanism: Recursion involves a function calling itself, while iteration involves using loop constructs like for or while to repeat a block of code until a condition is met.\n",
        "\n",
        "Approach: Recursion often leads to a more concise and elegant solution for problems that can be broken down into smaller instances of the same problem. Iteration is generally used when the number of repetitions is known or when efficiency is a concern."
      ],
      "metadata": {
        "id": "OM0lLaXOHSXN"
      }
    },
    {
      "cell_type": "markdown",
      "source": [
        "2. Write a Python program to calculate the factorial of a number using recursion.\n"
      ],
      "metadata": {
        "id": "a0-GG7yQ4CnA"
      }
    },
    {
      "cell_type": "code",
      "source": [
        "def factorial(n):\n",
        "    if n == 0:\n",
        "        return 1\n",
        "    else:\n",
        "        return n * factorial(n - 1)\n",
        "\n",
        "number = 5\n",
        "print(factorial(number))  # Output: 120\n"
      ],
      "metadata": {
        "colab": {
          "base_uri": "https://localhost:8080/"
        },
        "id": "FU6xUeBBHVkT",
        "outputId": "a3714d99-566a-4675-c83c-21e3a7e4aab2"
      },
      "execution_count": 32,
      "outputs": [
        {
          "output_type": "stream",
          "name": "stdout",
          "text": [
            "120\n"
          ]
        }
      ]
    },
    {
      "cell_type": "markdown",
      "source": [
        "3. Create a recursive Python function to find the nth Fibonacci number.\n"
      ],
      "metadata": {
        "id": "KJiqhU4O4CkA"
      }
    },
    {
      "cell_type": "code",
      "source": [
        "def fibonacci(n):\n",
        "    if n <= 1:\n",
        "        return n\n",
        "    else:\n",
        "        return fibonacci(n - 1) + fibonacci(n - 2)\n",
        "\n",
        "n = 7\n",
        "print(fibonacci(n))  # Output: 13\n"
      ],
      "metadata": {
        "colab": {
          "base_uri": "https://localhost:8080/"
        },
        "id": "Hax45iz-HaIr",
        "outputId": "4f830646-6b08-4363-ee45-48b2267e5907"
      },
      "execution_count": 31,
      "outputs": [
        {
          "output_type": "stream",
          "name": "stdout",
          "text": [
            "13\n"
          ]
        }
      ]
    },
    {
      "cell_type": "markdown",
      "source": [
        "4. Write a recursive Python function to calculate the sum of all elements in a list.\n"
      ],
      "metadata": {
        "id": "y4olhO7e4Cg3"
      }
    },
    {
      "cell_type": "code",
      "source": [
        "def list_sum(lst):\n",
        "    if not lst:\n",
        "        return 0\n",
        "    else:\n",
        "        return lst[0] + list_sum(lst[1:])\n",
        "\n",
        "numbers = [1, 2, 3, 4, 5]\n",
        "print(list_sum(numbers))  # Output: 15\n"
      ],
      "metadata": {
        "colab": {
          "base_uri": "https://localhost:8080/"
        },
        "id": "nXXttxsaHef5",
        "outputId": "89a9846f-6683-4f60-f274-835f6e468732"
      },
      "execution_count": 30,
      "outputs": [
        {
          "output_type": "stream",
          "name": "stdout",
          "text": [
            "15\n"
          ]
        }
      ]
    },
    {
      "cell_type": "markdown",
      "source": [
        "5. How can you prevent a recursive function from running indefinitely, causing a stack overflow error?\n"
      ],
      "metadata": {
        "id": "tdcUs4oM4Cd_"
      }
    },
    {
      "cell_type": "markdown",
      "source": [
        "To prevent a recursive function from running indefinitely, causing a stack overflow error, you need to ensure that there's a mechanism to reach a base case. The base case serves as a stopping condition for the recursion, ensuring that the function eventually terminates."
      ],
      "metadata": {
        "id": "z9DDRWvgHlYV"
      }
    },
    {
      "cell_type": "markdown",
      "source": [
        "6. Create a recursive Python function to find the greatest common divisor (GCD) of two numbers using the Euclidean algorithm.\n"
      ],
      "metadata": {
        "id": "B0MXYKtN4Cak"
      }
    },
    {
      "cell_type": "code",
      "source": [
        "def gcd(a, b):\n",
        "    if b == 0:\n",
        "        return a\n",
        "    else:\n",
        "        return gcd(b, a % b)\n",
        "\n",
        "print(gcd(48, 18))  # Output: 6\n"
      ],
      "metadata": {
        "colab": {
          "base_uri": "https://localhost:8080/"
        },
        "id": "LS6T4qTpHonc",
        "outputId": "04e2433a-0bbe-4a3d-8293-d04d45963690"
      },
      "execution_count": 29,
      "outputs": [
        {
          "output_type": "stream",
          "name": "stdout",
          "text": [
            "6\n"
          ]
        }
      ]
    },
    {
      "cell_type": "markdown",
      "source": [
        "7. Write a recursive Python function to reverse a string.\n"
      ],
      "metadata": {
        "id": "N1f2NTAo4CV7"
      }
    },
    {
      "cell_type": "code",
      "source": [
        "def reverse_string(string):\n",
        "    if len(string) <= 1:\n",
        "        return string\n",
        "    else:\n",
        "        return reverse_string(string[1:]) + string[0]\n",
        "\n",
        "print(reverse_string(\"hello\"))  # Output: \"olleh\"\n"
      ],
      "metadata": {
        "colab": {
          "base_uri": "https://localhost:8080/"
        },
        "id": "W9pOrRsVHr-s",
        "outputId": "31be90ef-6d14-4871-8138-cd5f9a55fff6"
      },
      "execution_count": 28,
      "outputs": [
        {
          "output_type": "stream",
          "name": "stdout",
          "text": [
            "olleh\n"
          ]
        }
      ]
    },
    {
      "cell_type": "markdown",
      "source": [
        "8. Create a recursive Python function to calculate the power of a number (x^n).\n"
      ],
      "metadata": {
        "id": "E18hITNi4CQp"
      }
    },
    {
      "cell_type": "code",
      "source": [
        "def power(x, n):\n",
        "    if n == 0:\n",
        "        return 1\n",
        "    else:\n",
        "        return x * power(x, n - 1)\n",
        "\n",
        "print(power(2, 3))  # Output: 8\n"
      ],
      "metadata": {
        "colab": {
          "base_uri": "https://localhost:8080/"
        },
        "id": "ZKa8wPauHult",
        "outputId": "322a1adc-547e-4147-ade1-e404dce8da59"
      },
      "execution_count": 27,
      "outputs": [
        {
          "output_type": "stream",
          "name": "stdout",
          "text": [
            "8\n"
          ]
        }
      ]
    },
    {
      "cell_type": "markdown",
      "source": [
        "9. Write a recursive Python function to find all permutations of a given string.\n"
      ],
      "metadata": {
        "id": "CAGrDxp74CM-"
      }
    },
    {
      "cell_type": "code",
      "source": [
        "def permutations(string):\n",
        "    if len(string) == 1:\n",
        "        return [string]\n",
        "    else:\n",
        "        perms = []\n",
        "        for i, char in enumerate(string):\n",
        "            for perm in permutations(string[:i] + string[i+1:]):\n",
        "                perms.append(char + perm)\n",
        "        return perms\n",
        "\n",
        "print(permutations(\"abc\"))  # Output: ['abc', 'acb', 'bac', 'bca', 'cab', 'cba']\n"
      ],
      "metadata": {
        "colab": {
          "base_uri": "https://localhost:8080/"
        },
        "id": "MarijmefHyXS",
        "outputId": "77610aa3-d7ba-4e2a-b3e8-0f82c9ccc183"
      },
      "execution_count": 26,
      "outputs": [
        {
          "output_type": "stream",
          "name": "stdout",
          "text": [
            "['abc', 'acb', 'bac', 'bca', 'cab', 'cba']\n"
          ]
        }
      ]
    },
    {
      "cell_type": "markdown",
      "source": [
        "10. Write a recursive Python function to check if a string is a palindrome.\n"
      ],
      "metadata": {
        "id": "90A7hTcC4CJP"
      }
    },
    {
      "cell_type": "code",
      "source": [
        "def is_palindrome(string):\n",
        "    if len(string) <= 1:\n",
        "        return True\n",
        "    elif string[0] != string[-1]:\n",
        "        return False\n",
        "    else:\n",
        "        return is_palindrome(string[1:-1])\n",
        "\n",
        "print(is_palindrome(\"radar\"))  # Output: True\n"
      ],
      "metadata": {
        "colab": {
          "base_uri": "https://localhost:8080/"
        },
        "id": "-X2WAehJH3Tl",
        "outputId": "5c9e391b-3ca9-4f49-d0dd-7698b1340b56"
      },
      "execution_count": 25,
      "outputs": [
        {
          "output_type": "stream",
          "name": "stdout",
          "text": [
            "True\n"
          ]
        }
      ]
    },
    {
      "cell_type": "markdown",
      "source": [
        "11. Create a recursive Python function to generate all possible combinations of a list of elements.\n"
      ],
      "metadata": {
        "id": "6_5sASgX4CE3"
      }
    },
    {
      "cell_type": "code",
      "source": [
        "def combinations(lst):\n",
        "    if not lst:\n",
        "        return [[]]\n",
        "    else:\n",
        "        rest_combinations = combinations(lst[1:])\n",
        "        return rest_combinations + [[lst[0]] + combo for combo in rest_combinations]\n",
        "\n",
        "print(combinations([1, 2, 3]))  # Output: [[], [1], [2], [1, 2], [3], [1, 3], [2, 3], [1, 2, 3]]\n"
      ],
      "metadata": {
        "colab": {
          "base_uri": "https://localhost:8080/"
        },
        "id": "whuLJkMvH6Ng",
        "outputId": "47846424-00cd-4de1-e992-a0418d0862e1"
      },
      "execution_count": 24,
      "outputs": [
        {
          "output_type": "stream",
          "name": "stdout",
          "text": [
            "[[], [3], [2], [2, 3], [1], [1, 3], [1, 2], [1, 2, 3]]\n"
          ]
        }
      ]
    },
    {
      "cell_type": "markdown",
      "source": [
        "Basics of Functions:"
      ],
      "metadata": {
        "id": "BwX6A4Fh4CAu"
      }
    },
    {
      "cell_type": "markdown",
      "source": [
        "1. What is a function in Python, and why is it used?\n"
      ],
      "metadata": {
        "id": "8to3J6aa4B9k"
      }
    },
    {
      "cell_type": "markdown",
      "source": [
        "A function in Python is a block of reusable code that performs a specific task. It's a way to modularize code by encapsulating a set of statements so that they can be executed multiple times with different inputs, allowing for better organization, readability, and reusability of code. Functions help in reducing redundancy and promoting code abstraction."
      ],
      "metadata": {
        "id": "HNQZ-JfuIsse"
      }
    },
    {
      "cell_type": "markdown",
      "source": [
        "2. How do you define a function in Python? Provide an example.\n"
      ],
      "metadata": {
        "id": "X6l0TFdY4B5V"
      }
    },
    {
      "cell_type": "markdown",
      "source": [
        "To define a function in Python, you use the def keyword followed by the function name and parentheses containing zero or more parameters. The function body is indented below the function definition.\n",
        "\n",
        "Here's an example of defining a function in Python:"
      ],
      "metadata": {
        "id": "UJKBCY7nIuJL"
      }
    },
    {
      "cell_type": "code",
      "source": [
        "def greet(name):\n",
        "    print(\"Hello,\", name)\n",
        "\n",
        "# Function call\n",
        "greet(\"Alice\")  # Output: Hello, Alice\n"
      ],
      "metadata": {
        "colab": {
          "base_uri": "https://localhost:8080/"
        },
        "id": "Pg8mTUK8IzN0",
        "outputId": "650dec46-59fd-4d8b-ffed-960f117db617"
      },
      "execution_count": 23,
      "outputs": [
        {
          "output_type": "stream",
          "name": "stdout",
          "text": [
            "Hello, Alice\n"
          ]
        }
      ]
    },
    {
      "cell_type": "markdown",
      "source": [
        "3. Explain the difference between a function definition and a function call.\n"
      ],
      "metadata": {
        "id": "z0IXwDSr4B0X"
      }
    },
    {
      "cell_type": "markdown",
      "source": [
        "The difference between a function definition and a function call is:\n",
        "\n",
        "Function Definition: It defines the structure and behavior of a function, including its name, parameters, and body. It's where you create the function.\n",
        "\n",
        "Function Call: It executes the function with specific arguments (if required) and returns the result (if any). It's where you use the function in your code."
      ],
      "metadata": {
        "id": "a_oY6Ut2I9Mr"
      }
    },
    {
      "cell_type": "markdown",
      "source": [
        "4. Write a Python program that defines a function to calculate the sum of two numbers and then calls the function.\n"
      ],
      "metadata": {
        "id": "_SFMHAa84BxP"
      }
    },
    {
      "cell_type": "code",
      "source": [
        "def add(x, y):\n",
        "    return x + y\n",
        "\n",
        "# Function call\n",
        "result = add(3, 5)\n",
        "print(result)  # Output: 8\n"
      ],
      "metadata": {
        "colab": {
          "base_uri": "https://localhost:8080/"
        },
        "id": "6kiietWlJCB_",
        "outputId": "18b6c35e-5a2b-4b0b-a6e0-b66f0e05200a"
      },
      "execution_count": 22,
      "outputs": [
        {
          "output_type": "stream",
          "name": "stdout",
          "text": [
            "8\n"
          ]
        }
      ]
    },
    {
      "cell_type": "markdown",
      "source": [
        "5. What is a function signature, and what information does it typically include?\n"
      ],
      "metadata": {
        "id": "PFIKQ9Ix4Bs-"
      }
    },
    {
      "cell_type": "markdown",
      "source": [
        "A function signature typically includes:\n",
        "\n",
        "Function Name: The name by which the function is identified.\n",
        "\n",
        "Parameters: The input(s) required by the function, if any.\n",
        "\n",
        "Return Type: The type of the value returned by the function, if any.\n",
        "\n",
        "For example, the function signature of the add function above is add(x, y), where add is the function name, and (x, y) represents the parameters."
      ],
      "metadata": {
        "id": "xgaO_ULaJLhB"
      }
    },
    {
      "cell_type": "markdown",
      "source": [
        "6. Create a Python function that takes two arguments and returns their product.\n"
      ],
      "metadata": {
        "id": "jd_ZMGQf4Boh"
      }
    },
    {
      "cell_type": "code",
      "source": [
        "def multiply(x, y):\n",
        "    return x * y\n",
        "\n",
        "# Function call\n",
        "result = multiply(4, 6)\n",
        "print(result)  # Output: 24\n"
      ],
      "metadata": {
        "colab": {
          "base_uri": "https://localhost:8080/"
        },
        "id": "2zMLOJPzJhaA",
        "outputId": "a0ce4c56-d5e4-4c61-eeb2-1d59d92538ba"
      },
      "execution_count": 21,
      "outputs": [
        {
          "output_type": "stream",
          "name": "stdout",
          "text": [
            "24\n"
          ]
        }
      ]
    },
    {
      "cell_type": "markdown",
      "source": [
        "Function Parameters and Arguments:"
      ],
      "metadata": {
        "id": "c8JZLh9w4BkK"
      }
    },
    {
      "cell_type": "markdown",
      "source": [
        "1. Explain the concepts of formal parameters and actual arguments in Python functions.\n"
      ],
      "metadata": {
        "id": "D8dwQRAC4Bgj"
      }
    },
    {
      "cell_type": "markdown",
      "source": [
        "In Python functions, formal parameters refer to the parameters listed in the function definition. They act as placeholders for the values that will be provided when the function is called. Formal parameters are variables within the function's scope and are used to perform operations within the function.\n",
        "\n",
        "Actual arguments, on the other hand, are the values passed to the function when it is called. They are the concrete values that are substituted for the formal parameters during the function call. Actual arguments can be constants, variables, expressions, or even other function calls.\n",
        "\n",
        "Here's an example to illustrate formal parameters and actual arguments:"
      ],
      "metadata": {
        "id": "PwBLJXtlJ3IM"
      }
    },
    {
      "cell_type": "code",
      "source": [
        "# Function definition with formal parameters\n",
        "def greet(name):\n",
        "    print(\"Hello,\", name)\n",
        "\n",
        "# Function call with actual argument\n",
        "greet(\"Alice\")  # \"Alice\" is the actual argument passed to the greet function\n"
      ],
      "metadata": {
        "colab": {
          "base_uri": "https://localhost:8080/"
        },
        "id": "YnjSR6H6J5wn",
        "outputId": "c3bd7959-3f48-4609-ebaf-de910fcc721d"
      },
      "execution_count": 20,
      "outputs": [
        {
          "output_type": "stream",
          "name": "stdout",
          "text": [
            "Hello, Alice\n"
          ]
        }
      ]
    },
    {
      "cell_type": "markdown",
      "source": [
        "2. Write a Python program that defines a function with default argument values.\n"
      ],
      "metadata": {
        "id": "uMxdHdlW4Bc6"
      }
    },
    {
      "cell_type": "code",
      "source": [
        "def greet(name=\"World\"):\n",
        "    print(\"Hello,\", name)\n",
        "\n",
        "# Calling the function without passing an argument\n",
        "greet()  # Output: Hello, World\n",
        "\n",
        "# Calling the function with an argument\n",
        "greet(\"Alice\")  # Output: Hello, Alice\n"
      ],
      "metadata": {
        "colab": {
          "base_uri": "https://localhost:8080/"
        },
        "id": "tYEZTy6KJ_bS",
        "outputId": "59f1da7e-74ff-4f8e-82e1-a76c31c9a366"
      },
      "execution_count": 19,
      "outputs": [
        {
          "output_type": "stream",
          "name": "stdout",
          "text": [
            "Hello, World\n",
            "Hello, Alice\n"
          ]
        }
      ]
    },
    {
      "cell_type": "markdown",
      "source": [
        "3. How do you use keyword arguments in Python function calls? Provide an example.\n"
      ],
      "metadata": {
        "id": "3znZpYVD4BZI"
      }
    },
    {
      "cell_type": "markdown",
      "source": [
        "Keyword arguments allow you to specify arguments by their parameter names. This can make function calls more explicit and readable, especially when dealing with functions that have many parameters."
      ],
      "metadata": {
        "id": "q3x2PiAoKEBB"
      }
    },
    {
      "cell_type": "code",
      "source": [
        "def greet(name, message):\n",
        "    print(f\"{message}, {name}!\")\n",
        "\n",
        "# Using keyword arguments\n",
        "greet(message=\"Good morning\", name=\"Alice\")  # Output: Good morning, Alice!\n"
      ],
      "metadata": {
        "colab": {
          "base_uri": "https://localhost:8080/"
        },
        "id": "_Xw8qn7PKG7k",
        "outputId": "bae30eb0-de3f-437a-8283-5cc61f31cd30"
      },
      "execution_count": 18,
      "outputs": [
        {
          "output_type": "stream",
          "name": "stdout",
          "text": [
            "Good morning, Alice!\n"
          ]
        }
      ]
    },
    {
      "cell_type": "markdown",
      "source": [
        "4. Create a Python function that accepts a variable number of arguments and calculates their sum.\n"
      ],
      "metadata": {
        "id": "0Lg8mmPU4BT_"
      }
    },
    {
      "cell_type": "code",
      "source": [
        "def sum_values(*args):\n",
        "    return sum(args)\n",
        "\n",
        "result = sum_values(1, 2, 3, 4, 5)\n",
        "print(result)  # Output: 15\n"
      ],
      "metadata": {
        "colab": {
          "base_uri": "https://localhost:8080/"
        },
        "id": "LSlGauQoKMci",
        "outputId": "1450e0b7-f200-4f34-e0b3-84e8c0708090"
      },
      "execution_count": 17,
      "outputs": [
        {
          "output_type": "stream",
          "name": "stdout",
          "text": [
            "15\n"
          ]
        }
      ]
    },
    {
      "cell_type": "markdown",
      "source": [
        "5. What is the purpose of the `*args` and `**kwargs` syntax in function parameter lists?\n"
      ],
      "metadata": {
        "id": "3BQcvKXu4BQi"
      }
    },
    {
      "cell_type": "markdown",
      "source": [
        "The *args syntax in the function parameter list allows the function to accept any number of positional arguments. It collects all the arguments passed to the function into a tuple named args, which can then be processed within the function.\n",
        "\n",
        "The purpose of *args and **kwargs syntax in function parameter lists is to handle a variable number of arguments or keyword arguments respectively. They allow flexibility in function definitions, enabling functions to accept an arbitrary number of arguments without explicitly specifying them."
      ],
      "metadata": {
        "id": "y84XtfH5KPpn"
      }
    },
    {
      "cell_type": "markdown",
      "source": [
        "Return Values and Scoping:"
      ],
      "metadata": {
        "id": "AcCtCr3O4BMo"
      }
    },
    {
      "cell_type": "markdown",
      "source": [
        "1. Describe the role of the `return` statement in Python functions and provide examples.\n"
      ],
      "metadata": {
        "id": "6ivxgI3A4BJh"
      }
    },
    {
      "cell_type": "markdown",
      "source": [
        "The return statement in Python functions is used to exit the function and return a value to the caller. It allows a function to compute a result and pass it back to the code that called the function. A function can have multiple return statements, but only one of them will be executed during the function call.\n",
        "\n",
        "Here are some examples demonstrating the use of the return statement:"
      ],
      "metadata": {
        "id": "sFgwDOEOMfQY"
      }
    },
    {
      "cell_type": "markdown",
      "source": [
        "Returning a single value from a function:"
      ],
      "metadata": {
        "id": "mPzrgtvEMgp0"
      }
    },
    {
      "cell_type": "code",
      "source": [
        "def add(x, y):\n",
        "    return x + y\n",
        "\n",
        "result = add(3, 5)\n",
        "print(result)  # Output: 8\n"
      ],
      "metadata": {
        "colab": {
          "base_uri": "https://localhost:8080/"
        },
        "id": "cFBHAonWMlBV",
        "outputId": "ebb36720-0530-4fc1-bb01-23634e58f525"
      },
      "execution_count": 16,
      "outputs": [
        {
          "output_type": "stream",
          "name": "stdout",
          "text": [
            "8\n"
          ]
        }
      ]
    },
    {
      "cell_type": "markdown",
      "source": [
        "Returning multiple values from a function using tuple unpacking:"
      ],
      "metadata": {
        "id": "6QAKy2gZMwB0"
      }
    },
    {
      "cell_type": "code",
      "source": [
        "def square_cube(x):\n",
        "    return x**2, x**3\n",
        "\n",
        "square, cube = square_cube(2)\n",
        "print(square)  # Output: 4\n",
        "print(cube)    # Output: 8\n"
      ],
      "metadata": {
        "colab": {
          "base_uri": "https://localhost:8080/"
        },
        "id": "ewSDZe4LMvME",
        "outputId": "d1f97312-1009-4b8a-9765-370fb63b157c"
      },
      "execution_count": 15,
      "outputs": [
        {
          "output_type": "stream",
          "name": "stdout",
          "text": [
            "4\n",
            "8\n"
          ]
        }
      ]
    },
    {
      "cell_type": "markdown",
      "source": [
        "2. Explain the concept of variable scope in Python, including local and global variables.\n"
      ],
      "metadata": {
        "id": "sqr5ABML4BFr"
      }
    },
    {
      "cell_type": "markdown",
      "source": [
        "The concept of variable scope in Python refers to the region of a program where a variable is recognized and can be accessed. There are two main types of variable scope in Python:\n",
        "\n",
        "Local Variables: Variables defined inside a function are local to that function and can only be accessed within the function. They are created when the function is called and destroyed when the function exits.\n",
        "\n",
        "Global Variables: Variables defined outside of any function or in the global scope are global variables. They can be accessed from any part of the program, including inside functions. However, if a function wants to modify a global variable, it must declare the variable as global within the function."
      ],
      "metadata": {
        "id": "9RD4NIp3M89d"
      }
    },
    {
      "cell_type": "markdown",
      "source": [
        "3. Write a Python program that demonstrates the use of global variables within functions.\n"
      ],
      "metadata": {
        "id": "dI632BHa4BBs"
      }
    },
    {
      "cell_type": "code",
      "source": [
        "global_var = 10\n",
        "\n",
        "def modify_global():\n",
        "    global global_var\n",
        "    global_var += 5\n",
        "\n",
        "modify_global()\n",
        "print(global_var)  # Output: 15\n"
      ],
      "metadata": {
        "colab": {
          "base_uri": "https://localhost:8080/"
        },
        "id": "7mmaU1y0NDyi",
        "outputId": "d622ac79-bcc9-4d64-cd24-a1dbc8d3c8c3"
      },
      "execution_count": 14,
      "outputs": [
        {
          "output_type": "stream",
          "name": "stdout",
          "text": [
            "15\n"
          ]
        }
      ]
    },
    {
      "cell_type": "markdown",
      "source": [
        "4. Create a Python function that calculates the factorial of a number and returns it.\n"
      ],
      "metadata": {
        "id": "vhU-B5zQ4A-1"
      }
    },
    {
      "cell_type": "code",
      "source": [
        "def factorial(n):\n",
        "    if n == 0:\n",
        "        return 1\n",
        "    else:\n",
        "        return n * factorial(n - 1)\n",
        "\n",
        "result = factorial(5)\n",
        "print(result)  # Output: 120\n"
      ],
      "metadata": {
        "colab": {
          "base_uri": "https://localhost:8080/"
        },
        "id": "O6TkuBaJNHXu",
        "outputId": "c8aaf8db-f9f8-4713-d4a9-27bacbbbc832"
      },
      "execution_count": 13,
      "outputs": [
        {
          "output_type": "stream",
          "name": "stdout",
          "text": [
            "120\n"
          ]
        }
      ]
    },
    {
      "cell_type": "markdown",
      "source": [
        "5. How can you access variables defined outside a function from within the function?\n"
      ],
      "metadata": {
        "id": "n8fOzwtH4A6Z"
      }
    },
    {
      "cell_type": "markdown",
      "source": [
        "To access variables defined outside a function from within the function, you can simply refer to them by their names. However, if you want to modify a global variable from within a function, you need to use the global keyword to declare the variable as global within the function."
      ],
      "metadata": {
        "id": "m15UfRZnNMO6"
      }
    },
    {
      "cell_type": "markdown",
      "source": [
        "Lambda Functions and Higher-Order Functions:"
      ],
      "metadata": {
        "id": "VnueVNvB4A2e"
      }
    },
    {
      "cell_type": "markdown",
      "source": [
        "1. What are lambda functions in Python, and when are they typically used?\n"
      ],
      "metadata": {
        "id": "lP1VkENI4Ayd"
      }
    },
    {
      "cell_type": "markdown",
      "source": [
        "Lambda functions in Python are small anonymous functions defined using the lambda keyword. They are typically used when you need a simple, short function for a short period of time and don't want to define a separate named function. Lambda functions are often used as arguments to higher-order functions like map(), filter(), and sorted().\n",
        "\n",
        "Here's an example of a lambda function:"
      ],
      "metadata": {
        "id": "37-sOA_XN__d"
      }
    },
    {
      "cell_type": "code",
      "source": [
        "# Lambda function to double a number\n",
        "double = lambda x: x * 2\n",
        "\n",
        "print(double(5))  # Output: 10\n"
      ],
      "metadata": {
        "colab": {
          "base_uri": "https://localhost:8080/"
        },
        "id": "49u_8RVCOBZX",
        "outputId": "bdb19c07-e9d2-44c1-f1b9-ead6d6813dbf"
      },
      "execution_count": 12,
      "outputs": [
        {
          "output_type": "stream",
          "name": "stdout",
          "text": [
            "10\n"
          ]
        }
      ]
    },
    {
      "cell_type": "markdown",
      "source": [
        "2. Write a Python program that uses lambda functions to sort a list of tuples based on the second element.\n"
      ],
      "metadata": {
        "id": "Uzl9VA064Asg"
      }
    },
    {
      "cell_type": "markdown",
      "source": [
        "Lambda functions are particularly useful when you need a quick function to be used in a single line or when defining functions inline.\n",
        "\n",
        "Now, let's write a Python program that uses lambda functions to sort a list of tuples based on the second element:"
      ],
      "metadata": {
        "id": "k_dvucywOHGL"
      }
    },
    {
      "cell_type": "code",
      "source": [
        "# List of tuples\n",
        "data = [(1, 5), (3, 2), (2, 8), (4, 1)]\n",
        "\n",
        "# Sorting the list based on the second element of each tuple\n",
        "sorted_data = sorted(data, key=lambda x: x[1])\n",
        "\n",
        "print(sorted_data)  # Output: [(4, 1), (3, 2), (1, 5), (2, 8)]\n"
      ],
      "metadata": {
        "colab": {
          "base_uri": "https://localhost:8080/"
        },
        "id": "Ua-Bp-luOIn9",
        "outputId": "c016317e-a083-474a-cc25-b282412bda16"
      },
      "execution_count": 11,
      "outputs": [
        {
          "output_type": "stream",
          "name": "stdout",
          "text": [
            "[(4, 1), (3, 2), (1, 5), (2, 8)]\n"
          ]
        }
      ]
    },
    {
      "cell_type": "markdown",
      "source": [
        "3. Explain the concept of higher-order functions in Python, and provide an example.\n"
      ],
      "metadata": {
        "id": "aLLmjmpc4Ao9"
      }
    },
    {
      "cell_type": "markdown",
      "source": [
        "Higher-order functions in Python are functions that take other functions as arguments or return functions as results. They enable you to write more concise and expressive code by abstracting away common patterns into reusable functions.\n",
        "\n",
        "Here's an example of a higher-order function:"
      ],
      "metadata": {
        "id": "W0g0dPTOOYDj"
      }
    },
    {
      "cell_type": "code",
      "source": [
        "# Higher-order function to apply a function to each element in a list\n",
        "def apply_function_to_list(lst, func):\n",
        "    return [func(x) for x in lst]\n",
        "\n",
        "# Example function to square a number\n",
        "def square(x):\n",
        "    return x ** 2\n"
      ],
      "metadata": {
        "id": "Qr0UtQCkOZbO"
      },
      "execution_count": 10,
      "outputs": []
    },
    {
      "cell_type": "markdown",
      "source": [
        "4. Create a Python function that takes a list of numbers and a function as arguments, applying the function to each element in the list.\n"
      ],
      "metadata": {
        "id": "eHLUJq1e4AmQ"
      }
    },
    {
      "cell_type": "code",
      "source": [
        "def apply_function_to_list(lst, func):\n",
        "    \"\"\"\n",
        "    Apply the given function to each element in the list.\n",
        "\n",
        "    Parameters:\n",
        "    lst (list): A list of numbers.\n",
        "    func (function): A function to apply to each element in the list.\n",
        "\n",
        "    Returns:\n",
        "    list: A list containing the result of applying the function to each element.\n",
        "    \"\"\"\n",
        "    return [func(x) for x in lst]\n",
        "\n",
        "# Example functions to be applied\n",
        "def square(x):\n",
        "    return x ** 2\n",
        "\n",
        "def cube(x):\n",
        "    return x ** 3\n",
        "\n",
        "# Example list of numbers\n",
        "numbers = [1, 2, 3, 4, 5]\n",
        "\n",
        "# Applying square function to each element in the list\n",
        "result_square = apply_function_to_list(numbers, square)\n",
        "print(\"Squared:\", result_square)  # Output: [1, 4, 9, 16, 25]\n",
        "\n",
        "# Applying cube function to each element in the list\n",
        "result_cube = apply_function_to_list(numbers, cube)\n",
        "print(\"Cubed:\", result_cube)  # Output: [1, 8, 27, 64, 125]\n"
      ],
      "metadata": {
        "colab": {
          "base_uri": "https://localhost:8080/"
        },
        "id": "-x-3RwZjOg6E",
        "outputId": "24216a0f-b4db-442e-bd33-c1326fb8c012"
      },
      "execution_count": 9,
      "outputs": [
        {
          "output_type": "stream",
          "name": "stdout",
          "text": [
            "Squared: [1, 4, 9, 16, 25]\n",
            "Cubed: [1, 8, 27, 64, 125]\n"
          ]
        }
      ]
    },
    {
      "cell_type": "markdown",
      "source": [
        "Built-in Functions:"
      ],
      "metadata": {
        "id": "Up3E5GV04Aht"
      }
    },
    {
      "cell_type": "markdown",
      "source": [
        "1. Describe the role of built-in functions like `len()`, `max()`, and `min()` in Python.\n"
      ],
      "metadata": {
        "id": "KDywR90-4Aed"
      }
    },
    {
      "cell_type": "markdown",
      "source": [
        "Built-in functions like len(), max(), and min() in Python are commonly used for various operations on data structures like lists, tuples, strings, and dictionaries.\n",
        "\n",
        "len(): Returns the length of an object, such as the number of elements in a list, the number of characters in a string, or the number of keys in a dictionary.\n",
        "\n",
        "max(): Returns the maximum value from a sequence, such as the largest number in a list or the character with the highest ASCII value in a string.\n",
        "\n",
        "min(): Returns the minimum value from a sequence, such as the smallest number in a list or the character with the lowest ASCII value in a string."
      ],
      "metadata": {
        "id": "Vf3clBjaO-Ta"
      }
    },
    {
      "cell_type": "markdown",
      "source": [
        "Here's a Python program demonstrating the use of these built-in functions:"
      ],
      "metadata": {
        "id": "NMeIkyj0PBm-"
      }
    },
    {
      "cell_type": "code",
      "source": [
        "# Example usage of built-in functions\n",
        "my_list = [1, 2, 3, 4, 5]\n",
        "my_string = \"hello\"\n",
        "my_tuple = (7, 3, 9, 1)\n",
        "\n",
        "print(len(my_list))  # Output: 5\n",
        "print(max(my_list))  # Output: 5\n",
        "print(min(my_list))  # Output: 1\n",
        "\n",
        "print(len(my_string))  # Output: 5\n",
        "print(max(my_string))  # Output: 'o'\n",
        "print(min(my_string))  # Output: 'e'\n",
        "\n",
        "print(len(my_tuple))  # Output: 4\n",
        "print(max(my_tuple))  # Output: 9\n",
        "print(min(my_tuple))  # Output: 1\n"
      ],
      "metadata": {
        "colab": {
          "base_uri": "https://localhost:8080/"
        },
        "id": "2jaq41jaPEh3",
        "outputId": "03ab866c-4a21-4fe2-a4b6-04fe71003ebf"
      },
      "execution_count": 7,
      "outputs": [
        {
          "output_type": "stream",
          "name": "stdout",
          "text": [
            "5\n",
            "5\n",
            "1\n",
            "5\n",
            "o\n",
            "e\n",
            "4\n",
            "9\n",
            "1\n"
          ]
        }
      ]
    },
    {
      "cell_type": "markdown",
      "source": [
        "2. Write a Python program that uses the `map()` function to apply a function to each element of a list.\n"
      ],
      "metadata": {
        "id": "WvTxCIQj4Abv"
      }
    },
    {
      "cell_type": "markdown",
      "source": [
        "The map() function in Python applies a given function to each item of an iterable (e.g., a list) and returns a list of the results. It's often used to apply a transformation function to each element in a collection."
      ],
      "metadata": {
        "id": "nyBUain9PPXZ"
      }
    },
    {
      "cell_type": "code",
      "source": [
        "# Function to double a number\n",
        "def double(x):\n",
        "    return x * 2\n",
        "\n",
        "# List of numbers\n",
        "numbers = [1, 2, 3, 4, 5]\n",
        "\n",
        "# Using map() to double each element in the list\n",
        "doubled_numbers = list(map(double, numbers))\n",
        "\n",
        "print(doubled_numbers)  # Output: [2, 4, 6, 8, 10]\n"
      ],
      "metadata": {
        "colab": {
          "base_uri": "https://localhost:8080/"
        },
        "id": "oLFnWeHqPJiC",
        "outputId": "1cffdc6a-ed81-4ec9-8252-31e838a8baf5"
      },
      "execution_count": 6,
      "outputs": [
        {
          "output_type": "stream",
          "name": "stdout",
          "text": [
            "[2, 4, 6, 8, 10]\n"
          ]
        }
      ]
    },
    {
      "cell_type": "markdown",
      "source": [
        "3. How does the `filter()` function work in Python, and when would you use it?\n"
      ],
      "metadata": {
        "id": "saL67yVX4AZA"
      }
    },
    {
      "cell_type": "markdown",
      "source": [
        "The filter() function in Python is used to construct an iterator from elements of an iterable for which a function returns true. It creates a new iterable that contains only the elements for which the function evaluates to true. filter() is commonly used when you need to selectively extract elements from an iterable based on a condition.\n",
        "\n",
        "Here's an example demonstrating the use of the filter() function:"
      ],
      "metadata": {
        "id": "fX0MUxbYPTMS"
      }
    },
    {
      "cell_type": "code",
      "source": [
        "# Function to check if a number is even\n",
        "def is_even(x):\n",
        "    return x % 2 == 0\n",
        "\n",
        "# List of numbers\n",
        "numbers = [1, 2, 3, 4, 5, 6, 7, 8, 9, 10]\n",
        "\n",
        "# Using filter() to select even numbers from the list\n",
        "even_numbers = list(filter(is_even, numbers))\n",
        "\n",
        "print(even_numbers)  # Output: [2, 4, 6, 8, 10]\n"
      ],
      "metadata": {
        "colab": {
          "base_uri": "https://localhost:8080/"
        },
        "id": "9L4vHWGGPU6-",
        "outputId": "836db2c0-ecfe-4dff-f9fe-9f8d58e6e867"
      },
      "execution_count": 5,
      "outputs": [
        {
          "output_type": "stream",
          "name": "stdout",
          "text": [
            "[2, 4, 6, 8, 10]\n"
          ]
        }
      ]
    },
    {
      "cell_type": "markdown",
      "source": [
        "4. Create a Python program that uses the `reduce()` function to find the product of all elements in a list.\n"
      ],
      "metadata": {
        "id": "gmfgkARL4AVx"
      }
    },
    {
      "cell_type": "code",
      "source": [
        "from functools import reduce\n",
        "\n",
        "# List of numbers\n",
        "numbers = [1, 2, 3, 4, 5]\n",
        "\n",
        "# Using reduce() to find the product of all elements in the list\n",
        "product = reduce(lambda x, y: x * y, numbers)\n",
        "\n",
        "print(product)  # Output: 120\n"
      ],
      "metadata": {
        "colab": {
          "base_uri": "https://localhost:8080/"
        },
        "id": "hfYleTr3Par1",
        "outputId": "8af6c971-3148-4d5f-ba55-16c8b4de7abe"
      },
      "execution_count": 4,
      "outputs": [
        {
          "output_type": "stream",
          "name": "stdout",
          "text": [
            "120\n"
          ]
        }
      ]
    },
    {
      "cell_type": "markdown",
      "source": [
        "Function Documentation and Best Practices:"
      ],
      "metadata": {
        "id": "562TgAtX-OTu"
      }
    },
    {
      "cell_type": "markdown",
      "source": [
        "1. Explain the purpose of docstrings in Python functions and how to write them.\n"
      ],
      "metadata": {
        "id": "68Zr1gHC-OKO"
      }
    },
    {
      "cell_type": "markdown",
      "source": [
        "Docstrings in Python functions serve the purpose of documenting the purpose, usage, and behavior of the function. They provide a way to describe what the function does, what parameters it accepts, what it returns, and any other relevant information. Docstrings are especially useful for making your code more readable, understandable, and maintainable, as they help other developers (and your future self) understand the intent and usage of your functions without having to read through the code implementation."
      ],
      "metadata": {
        "id": "YBAgdgrDP2u-"
      }
    },
    {
      "cell_type": "code",
      "source": [
        "def add(x, y):\n",
        "    '''Return the sum of two numbers.'''\n",
        "    return x + y\n"
      ],
      "metadata": {
        "id": "-ZzYO7TYP551"
      },
      "execution_count": 3,
      "outputs": []
    },
    {
      "cell_type": "code",
      "source": [
        "def add(x, y):\n",
        "    '''\n",
        "    Return the sum of two numbers.\n",
        "\n",
        "    Parameters:\n",
        "    x (int): The first number.\n",
        "    y (int): The second number.\n",
        "\n",
        "    Returns:\n",
        "    int: The sum of x and y.\n",
        "    '''\n",
        "    return x + y\n"
      ],
      "metadata": {
        "id": "58hpJOJKP61i"
      },
      "execution_count": 2,
      "outputs": []
    },
    {
      "cell_type": "markdown",
      "source": [
        "2. Describe some best practices for naming functions and variables in Python, including naming conventions and guidelines.\n"
      ],
      "metadata": {
        "id": "vQ_UNFNT-OG0"
      }
    },
    {
      "cell_type": "markdown",
      "source": [
        "Some best practices for naming functions and variables in Python include:\n",
        "\n",
        "Use descriptive names: Choose names that accurately describe the purpose and functionality of your functions and variables. This makes your code more readable and understandable.\n",
        "\n",
        "Follow naming conventions: Adhere to the naming conventions specified in the PEP 8 style guide, which is the widely accepted style guide for Python code. Some conventions include:\n",
        "\n",
        "Use lowercase for variable names: Use lowercase with words separated by underscores for function names (snake_case).\n",
        "\n",
        "Use CamelCase for class names: Avoid using single-character names unless they represent a common convention (e.g., i for loop counters).\n",
        "\n",
        "Be consistent: Maintain consistency in your naming conventions throughout your codebase to avoid confusion.\n",
        "\n",
        "Use meaningful names: Avoid generic or ambiguous names. Choose names that clearly convey the purpose or meaning of the variable or function.\n",
        "\n",
        "Avoid reserved words: Avoid using Python reserved words (e.g., list, str, int) as variable or function names to prevent potential conflicts or confusion.\n",
        "\n",
        "Use verbs for function names: Function names should typically begin with a verb that describes the action performed by the function (e.g., calculate_sum, print_results).\n",
        "\n",
        "Consider readability: Prioritize readability and clarity over brevity. It's better to have longer, descriptive names that are easy to understand than short, cryptic names that require deciphering."
      ],
      "metadata": {
        "id": "Z5wxSdxIQD9I"
      }
    }
  ]
}