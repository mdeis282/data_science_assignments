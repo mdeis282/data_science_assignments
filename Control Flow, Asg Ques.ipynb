{
 "cells": [
  {
   "cell_type": "markdown",
   "id": "fee97b0e-e802-4315-b05b-5aa761490e26",
   "metadata": {},
   "source": [
    "Assignment Questions"
   ]
  },
  {
   "cell_type": "markdown",
   "id": "0c1f000b-e536-45fe-8a6d-9ed16d7506b2",
   "metadata": {},
   "source": [
    "Basic If-Else Statements:"
   ]
  },
  {
   "cell_type": "markdown",
   "id": "40a491ef-dbc8-46cb-b92f-a4e27d374f37",
   "metadata": {},
   "source": [
    "1. Write a Python program to check if a given number is positive or negative."
   ]
  },
  {
   "cell_type": "code",
   "execution_count": 10,
   "id": "ef403b04-927c-4c80-9e0a-8d15ad6c27a9",
   "metadata": {},
   "outputs": [
    {
     "name": "stdin",
     "output_type": "stream",
     "text": [
      "Enter a number:  56\n"
     ]
    },
    {
     "name": "stdout",
     "output_type": "stream",
     "text": [
      "The number is positive.\n"
     ]
    }
   ],
   "source": [
    "try:\n",
    "    # Input a number from the user\n",
    "    num = float(input(\"Enter a number: \"))\n",
    "\n",
    "    # Check if the number is positive, negative, or zero\n",
    "    if num > 0:\n",
    "        print(\"The number is positive.\")\n",
    "    elif num < 0:\n",
    "        print(\"The number is negative.\")\n",
    "    else:\n",
    "        print(\"The number is zero.\")\n",
    "except ValueError:\n",
    "    print(\"Invalid input. Please enter a valid number.\")\n"
   ]
  },
  {
   "cell_type": "markdown",
   "id": "3b25b649-7031-47fd-a948-8f2692af6cf1",
   "metadata": {},
   "source": [
    "2. Create a program that determines if a person is eligible to vote based on their age."
   ]
  },
  {
   "cell_type": "code",
   "execution_count": 11,
   "id": "05caa1d6-c461-4a92-b569-4d8d9b3e3116",
   "metadata": {},
   "outputs": [
    {
     "name": "stdin",
     "output_type": "stream",
     "text": [
      "Enter your age:  20\n"
     ]
    },
    {
     "name": "stdout",
     "output_type": "stream",
     "text": [
      "You are eligible to vote.\n"
     ]
    }
   ],
   "source": [
    "try:\n",
    "    # Input the person's age\n",
    "    age = int(input(\"Enter your age: \"))\n",
    "\n",
    "    # Check if the person is eligible to vote\n",
    "    if age >= 18:\n",
    "        print(\"You are eligible to vote.\")\n",
    "    else:\n",
    "        print(\"You are not eligible to vote.\")\n",
    "except ValueError:\n",
    "    print(\"Invalid input. Please enter a valid age as a number.\")\n"
   ]
  },
  {
   "cell_type": "markdown",
   "id": "ab1ad668-a79a-42ab-8fe2-30bfb66455e2",
   "metadata": {},
   "source": [
    "3. Develop a program to find the maximum of two numbers using if-else statements."
   ]
  },
  {
   "cell_type": "code",
   "execution_count": 12,
   "id": "e590f7de-f310-4c42-8964-9cf502ae5cf9",
   "metadata": {},
   "outputs": [
    {
     "name": "stdin",
     "output_type": "stream",
     "text": [
      "Enter the first number:  34\n",
      "Enter the second number:  56\n"
     ]
    },
    {
     "name": "stdout",
     "output_type": "stream",
     "text": [
      "The maximum of 34.0 and 56.0 is 56.0\n"
     ]
    }
   ],
   "source": [
    "try:\n",
    "    # Input two numbers from the user\n",
    "    num1 = float(input(\"Enter the first number: \"))\n",
    "    num2 = float(input(\"Enter the second number: \"))\n",
    "\n",
    "    # Compare the numbers and find the maximum\n",
    "    if num1 > num2:\n",
    "        maximum = num1\n",
    "    else:\n",
    "        maximum = num2\n",
    "\n",
    "    print(f\"The maximum of {num1} and {num2} is {maximum}\")\n",
    "except ValueError:\n",
    "    print(\"Invalid input. Please enter valid numbers.\")\n"
   ]
  },
  {
   "cell_type": "markdown",
   "id": "278c094f-b56a-4324-8021-6c8bfb979dc0",
   "metadata": {},
   "source": [
    "4. Write a Python script to classify a given year as a leap year or not."
   ]
  },
  {
   "cell_type": "code",
   "execution_count": 13,
   "id": "accf701b-67d6-423d-96ca-a2916af05d83",
   "metadata": {},
   "outputs": [
    {
     "name": "stdin",
     "output_type": "stream",
     "text": [
      "Enter a year:  2002\n"
     ]
    },
    {
     "name": "stdout",
     "output_type": "stream",
     "text": [
      "2002 is not a leap year.\n"
     ]
    }
   ],
   "source": [
    "try:\n",
    "    # Input a year from the user\n",
    "    year = int(input(\"Enter a year: \"))\n",
    "\n",
    "    # Check if the year is a leap year\n",
    "    if (year % 4 == 0 and year % 100 != 0) or (year % 400 == 0):\n",
    "        print(f\"{year} is a leap year.\")\n",
    "    else:\n",
    "        print(f\"{year} is not a leap year.\")\n",
    "except ValueError:\n",
    "    print(\"Invalid input. Please enter a valid year as an integer.\")\n"
   ]
  },
  {
   "cell_type": "markdown",
   "id": "49509cd9-6e7f-4a22-826e-98fc75160048",
   "metadata": {},
   "source": [
    "5. Create a program that checks whether a character is a vowel or a consonant."
   ]
  },
  {
   "cell_type": "code",
   "execution_count": 15,
   "id": "c1fb9bab-8fb9-4386-a538-9e1daa40a041",
   "metadata": {},
   "outputs": [
    {
     "name": "stdin",
     "output_type": "stream",
     "text": [
      "Enter a character:  e\n"
     ]
    },
    {
     "name": "stdout",
     "output_type": "stream",
     "text": [
      "e is a vowel.\n"
     ]
    }
   ],
   "source": [
    "try:\n",
    "    # Input a character from the user (assuming a single character input)\n",
    "    char = input(\"Enter a character: \")\n",
    "\n",
    "    # Convert the input character to lowercase to handle both cases\n",
    "    char = char.lower()\n",
    "\n",
    "    # Check if the character is a vowel or a consonant\n",
    "    if char.isalpha() and len(char) == 1:\n",
    "        if char in \"aeiou\":\n",
    "            print(f\"{char} is a vowel.\")\n",
    "        else:\n",
    "            print(f\"{char} is a consonant.\")\n",
    "    else:\n",
    "        print(\"Invalid input. Please enter a single alphabetic character.\")\n",
    "except ValueError:\n",
    "    print(\"Invalid input. Please enter a valid character.\")\n"
   ]
  },
  {
   "cell_type": "markdown",
   "id": "f76a5183-14b4-4d99-bd02-9a5e146de139",
   "metadata": {},
   "source": [
    "6. Implement a program to determine whether a given number is even or odd."
   ]
  },
  {
   "cell_type": "code",
   "execution_count": 16,
   "id": "6f7d066d-3f8b-4785-b03a-6d729ff63762",
   "metadata": {},
   "outputs": [
    {
     "name": "stdin",
     "output_type": "stream",
     "text": [
      "Enter a number:  45\n"
     ]
    },
    {
     "name": "stdout",
     "output_type": "stream",
     "text": [
      "45 is odd.\n"
     ]
    }
   ],
   "source": [
    "try:\n",
    "    # Input a number from the user\n",
    "    num = int(input(\"Enter a number: \"))\n",
    "\n",
    "    # Check if the number is even or odd\n",
    "    if num % 2 == 0:\n",
    "        print(f\"{num} is even.\")\n",
    "    else:\n",
    "        print(f\"{num} is odd.\")\n",
    "except ValueError:\n",
    "    print(\"Invalid input. Please enter a valid number.\")\n"
   ]
  },
  {
   "cell_type": "markdown",
   "id": "9889a408-5c86-4740-8fbf-8e98d85b17ae",
   "metadata": {},
   "source": [
    "7. Write a Python function to calculate the absolute value of a number without using the `abs()` function."
   ]
  },
  {
   "cell_type": "code",
   "execution_count": 17,
   "id": "458988cc-5711-41ad-8143-f044f956a175",
   "metadata": {},
   "outputs": [
    {
     "name": "stdin",
     "output_type": "stream",
     "text": [
      "Enter a number:  -45\n"
     ]
    },
    {
     "name": "stdout",
     "output_type": "stream",
     "text": [
      "The absolute value of -45.0 is 45.0\n"
     ]
    }
   ],
   "source": [
    "def absolute_value(num):\n",
    "    if num < 0:\n",
    "        return -num\n",
    "    else:\n",
    "        return num\n",
    "\n",
    "try:\n",
    "    num = float(input(\"Enter a number: \"))\n",
    "    result = absolute_value(num)\n",
    "    print(f\"The absolute value of {num} is {result}\")\n",
    "except ValueError:\n",
    "    print(\"Invalid input. Please enter a valid number.\")\n"
   ]
  },
  {
   "cell_type": "markdown",
   "id": "01e3ff98-9bb0-4561-ad30-f4f43553b50a",
   "metadata": {},
   "source": [
    "8. Develop a program that determines the largest of three given numbers using if-else statements."
   ]
  },
  {
   "cell_type": "code",
   "execution_count": 18,
   "id": "6a9a1a60-45b9-4200-b323-eb25007a02ee",
   "metadata": {},
   "outputs": [
    {
     "name": "stdin",
     "output_type": "stream",
     "text": [
      "Enter the first number:  46\n",
      "Enter the second number:  32\n",
      "Enter the third number:  45\n"
     ]
    },
    {
     "name": "stdout",
     "output_type": "stream",
     "text": [
      "The largest number is: 46.0\n"
     ]
    }
   ],
   "source": [
    "try:\n",
    "    # Input three numbers from the user\n",
    "    num1 = float(input(\"Enter the first number: \"))\n",
    "    num2 = float(input(\"Enter the second number: \"))\n",
    "    num3 = float(input(\"Enter the third number: \"))\n",
    "\n",
    "    # Determine the largest number using if-else statements\n",
    "    if num1 >= num2 and num1 >= num3:\n",
    "        largest = num1\n",
    "    elif num2 >= num1 and num2 >= num3:\n",
    "        largest = num2\n",
    "    else:\n",
    "        largest = num3\n",
    "\n",
    "    print(f\"The largest number is: {largest}\")\n",
    "except ValueError:\n",
    "    print(\"Invalid input. Please enter valid numbers.\")\n"
   ]
  },
  {
   "cell_type": "markdown",
   "id": "2f743baa-d1dc-48eb-ade0-f79531337c1d",
   "metadata": {},
   "source": [
    "9. Create a program that checks if a given string is a palindrome."
   ]
  },
  {
   "cell_type": "code",
   "execution_count": 19,
   "id": "34ad315e-599c-4bac-b62b-f567e7235e3c",
   "metadata": {},
   "outputs": [
    {
     "name": "stdin",
     "output_type": "stream",
     "text": [
      "Enter a string:  xoom\n"
     ]
    },
    {
     "name": "stdout",
     "output_type": "stream",
     "text": [
      "'xoom' is not a palindrome.\n"
     ]
    }
   ],
   "source": [
    "def is_palindrome(s):\n",
    "    # Remove spaces and convert to lowercase for case-insensitive comparison\n",
    "    s = s.replace(\" \", \"\").lower()\n",
    "    \n",
    "    # Check if the string is equal to its reverse\n",
    "    return s == s[::-1]\n",
    "\n",
    "try:\n",
    "    # Input a string from the user\n",
    "    input_string = input(\"Enter a string: \")\n",
    "\n",
    "    if is_palindrome(input_string):\n",
    "        print(f\"'{input_string}' is a palindrome.\")\n",
    "    else:\n",
    "        print(f\"'{input_string}' is not a palindrome.\")\n",
    "except ValueError:\n",
    "    print(\"Invalid input.\")\n"
   ]
  },
  {
   "cell_type": "markdown",
   "id": "7eedff2e-b4ad-42b6-917c-41a6962b1a26",
   "metadata": {},
   "source": [
    "10. Write a Python program to calculate the grade based on a student's score."
   ]
  },
  {
   "cell_type": "code",
   "execution_count": 20,
   "id": "15351737-14b8-43e3-8364-e2d9bedf032e",
   "metadata": {},
   "outputs": [
    {
     "name": "stdin",
     "output_type": "stream",
     "text": [
      "Enter the student's score:  34\n"
     ]
    },
    {
     "name": "stdout",
     "output_type": "stream",
     "text": [
      "The student's grade is: F\n"
     ]
    }
   ],
   "source": [
    "try:\n",
    "    # Input the student's score from the user\n",
    "    score = float(input(\"Enter the student's score: \"))\n",
    "\n",
    "    # Check the score and calculate the grade\n",
    "    if 90 <= score <= 100:\n",
    "        grade = \"A\"\n",
    "    elif 80 <= score < 90:\n",
    "        grade = \"B\"\n",
    "    elif 70 <= score < 80:\n",
    "        grade = \"C\"\n",
    "    elif 60 <= score < 70:\n",
    "        grade = \"D\"\n",
    "    elif 0 <= score < 60:\n",
    "        grade = \"F\"\n",
    "    else:\n",
    "        print(\"Invalid score. Please enter a score between 0 and 100.\")\n",
    "        exit()\n",
    "\n",
    "    print(f\"The student's grade is: {grade}\")\n",
    "except ValueError:\n",
    "    print(\"Invalid input. Please enter a valid score as a number.\")\n"
   ]
  },
  {
   "cell_type": "markdown",
   "id": "c15db556-fdc9-4d1f-ae4a-58ebf28c54b1",
   "metadata": {},
   "source": [
    "Nested If-Else Statements:"
   ]
  },
  {
   "cell_type": "markdown",
   "id": "8320237b-b3dc-4fff-aee0-c797f30c3a85",
   "metadata": {},
   "source": [
    "11. Write a program to find the largest among three numbers using nested if-else statements."
   ]
  },
  {
   "cell_type": "code",
   "execution_count": 21,
   "id": "131314a3-b80d-4bb9-b642-14b674898c37",
   "metadata": {},
   "outputs": [
    {
     "name": "stdin",
     "output_type": "stream",
     "text": [
      "Enter the first number:  24\n",
      "Enter the second number:  56\n",
      "Enter the third number:  7\n"
     ]
    },
    {
     "name": "stdout",
     "output_type": "stream",
     "text": [
      "The largest number is: 56.0\n"
     ]
    }
   ],
   "source": [
    "try:\n",
    "    # Input three numbers from the user\n",
    "    num1 = float(input(\"Enter the first number: \"))\n",
    "    num2 = float(input(\"Enter the second number: \"))\n",
    "    num3 = float(input(\"Enter the third number: \"))\n",
    "\n",
    "    # Determine the largest number using nested if-else statements\n",
    "    if num1 >= num2:\n",
    "        if num1 >= num3:\n",
    "            largest = num1\n",
    "        else:\n",
    "            largest = num3\n",
    "    else:\n",
    "        if num2 >= num3:\n",
    "            largest = num2\n",
    "        else:\n",
    "            largest = num3\n",
    "\n",
    "    print(f\"The largest number is: {largest}\")\n",
    "except ValueError:\n",
    "    print(\"Invalid input. Please enter valid numbers.\")\n"
   ]
  },
  {
   "cell_type": "markdown",
   "id": "bdee8d89-5295-42fc-b56b-6fef0024cb47",
   "metadata": {},
   "source": [
    "12. Implement a program to determine if a triangle is equilateral, isosceles, or scalene."
   ]
  },
  {
   "cell_type": "code",
   "execution_count": 22,
   "id": "9f38e92a-b5e6-49b7-8517-9a903f6bdddf",
   "metadata": {},
   "outputs": [
    {
     "name": "stdin",
     "output_type": "stream",
     "text": [
      "Enter the length of the first side:  35\n",
      "Enter the length of the second side:  6\n",
      "Enter the length of the third side:  77\n"
     ]
    },
    {
     "name": "stdout",
     "output_type": "stream",
     "text": [
      "It's not a valid triangle.\n"
     ]
    }
   ],
   "source": [
    "try:\n",
    "    # Input the lengths of the three sides of the triangle\n",
    "    side1 = float(input(\"Enter the length of the first side: \"))\n",
    "    side2 = float(input(\"Enter the length of the second side: \"))\n",
    "    side3 = float(input(\"Enter the length of the third side: \"))\n",
    "\n",
    "    # Check if it's a valid triangle (Triangle Inequality Theorem)\n",
    "    if side1 + side2 > side3 and side1 + side3 > side2 and side2 + side3 > side1:\n",
    "        # Determine the type of triangle\n",
    "        if side1 == side2 == side3:\n",
    "            triangle_type = \"equilateral\"\n",
    "        elif side1 == side2 or side1 == side3 or side2 == side3:\n",
    "            triangle_type = \"isosceles\"\n",
    "        else:\n",
    "            triangle_type = \"scalene\"\n",
    "\n",
    "        print(f\"The triangle is {triangle_type}.\")\n",
    "    else:\n",
    "        print(\"It's not a valid triangle.\")\n",
    "except ValueError:\n",
    "    print(\"Invalid input. Please enter valid side lengths as numbers.\")\n"
   ]
  },
  {
   "cell_type": "markdown",
   "id": "6c490e1c-1856-4c68-a5ae-5bef81fecfc6",
   "metadata": {},
   "source": [
    "13. Develop a program that checks if a year is a leap year and also if it is a century year"
   ]
  },
  {
   "cell_type": "code",
   "execution_count": 23,
   "id": "83275185-801a-4d89-9c94-1b7afe919103",
   "metadata": {},
   "outputs": [
    {
     "name": "stdin",
     "output_type": "stream",
     "text": [
      "Enter a year:  2003\n"
     ]
    },
    {
     "name": "stdout",
     "output_type": "stream",
     "text": [
      "2003 is not a leap year.\n",
      "2003 is not a century year.\n"
     ]
    }
   ],
   "source": [
    "try:\n",
    "    # Input a year from the user\n",
    "    year = int(input(\"Enter a year: \"))\n",
    "\n",
    "    # Check if it's a leap year\n",
    "    is_leap_year = (year % 4 == 0 and year % 100 != 0) or (year % 400 == 0)\n",
    "\n",
    "    # Check if it's a century year\n",
    "    is_century_year = (year % 100 == 0)\n",
    "\n",
    "    if is_leap_year:\n",
    "        print(f\"{year} is a leap year.\")\n",
    "    else:\n",
    "        print(f\"{year} is not a leap year.\")\n",
    "\n",
    "    if is_century_year:\n",
    "        print(f\"{year} is a century year.\")\n",
    "    else:\n",
    "        print(f\"{year} is not a century year.\")\n",
    "except ValueError:\n",
    "    print(\"Invalid input. Please enter a valid year as an integer.\")\n"
   ]
  },
  {
   "cell_type": "markdown",
   "id": "0fa27379-5da8-4788-bbb4-40e0899f201d",
   "metadata": {},
   "source": [
    "14. Write a Python script to determine if a number is positive, negative, or zero."
   ]
  },
  {
   "cell_type": "code",
   "execution_count": 24,
   "id": "860321cf-5f4f-44e9-93bb-66cae5b9cd57",
   "metadata": {},
   "outputs": [
    {
     "name": "stdin",
     "output_type": "stream",
     "text": [
      "Enter a number:  355\n"
     ]
    },
    {
     "name": "stdout",
     "output_type": "stream",
     "text": [
      "355.0 is positive.\n"
     ]
    }
   ],
   "source": [
    "try:\n",
    "    # Input a number from the user\n",
    "    num = float(input(\"Enter a number: \"))\n",
    "\n",
    "    # Check if the number is positive, negative, or zero\n",
    "    if num > 0:\n",
    "        print(f\"{num} is positive.\")\n",
    "    elif num < 0:\n",
    "        print(f\"{num} is negative.\")\n",
    "    else:\n",
    "        print(f\"{num} is zero.\")\n",
    "except ValueError:\n",
    "    print(\"Invalid input. Please enter a valid number.\")\n"
   ]
  },
  {
   "cell_type": "markdown",
   "id": "29141f67-fda5-4097-b7c7-b80d18160b11",
   "metadata": {},
   "source": [
    "15. Create a program to check if a person is a teenager (between 13 and 19 years old)."
   ]
  },
  {
   "cell_type": "code",
   "execution_count": 25,
   "id": "2edde0e4-f662-48be-bbad-91479824b338",
   "metadata": {},
   "outputs": [
    {
     "name": "stdin",
     "output_type": "stream",
     "text": [
      "Enter your age:  20\n"
     ]
    },
    {
     "name": "stdout",
     "output_type": "stream",
     "text": [
      "You are not a teenager.\n"
     ]
    }
   ],
   "source": [
    "try:\n",
    "    # Input the person's age\n",
    "    age = int(input(\"Enter your age: \"))\n",
    "\n",
    "    # Check if the person is a teenager\n",
    "    if 13 <= age <= 19:\n",
    "        print(\"You are a teenager.\")\n",
    "    else:\n",
    "        print(\"You are not a teenager.\")\n",
    "except ValueError:\n",
    "    print(\"Invalid input. Please enter a valid age as an integer.\")\n"
   ]
  },
  {
   "cell_type": "markdown",
   "id": "23c61ca7-7bbc-4d52-9528-1372c81fc48a",
   "metadata": {},
   "source": [
    "16. Develop a program that determines the type of angle based on its measure (acute, obtuse, or right)"
   ]
  },
  {
   "cell_type": "code",
   "execution_count": 26,
   "id": "0750654a-1f1f-4612-8025-4b5a56564bb2",
   "metadata": {},
   "outputs": [
    {
     "name": "stdin",
     "output_type": "stream",
     "text": [
      "Enter the angle measure (in degrees):  34\n"
     ]
    },
    {
     "name": "stdout",
     "output_type": "stream",
     "text": [
      "The angle is acute.\n"
     ]
    }
   ],
   "source": [
    "try:\n",
    "    # Input the angle measure from the user\n",
    "    angle = float(input(\"Enter the angle measure (in degrees): \"))\n",
    "\n",
    "    # Check and determine the type of angle\n",
    "    if 0 < angle < 90:\n",
    "        angle_type = \"acute\"\n",
    "    elif angle == 90:\n",
    "        angle_type = \"right\"\n",
    "    elif 90 < angle < 180:\n",
    "        angle_type = \"obtuse\"\n",
    "    else:\n",
    "        angle_type = \"invalid\"\n",
    "\n",
    "    if angle_type == \"invalid\":\n",
    "        print(\"Invalid angle measure. Please enter an angle between 0 and 180 degrees.\")\n",
    "    else:\n",
    "        print(f\"The angle is {angle_type}.\")\n",
    "except ValueError:\n",
    "    print(\"Invalid input. Please enter a valid angle measure as a number.\")\n"
   ]
  },
  {
   "cell_type": "markdown",
   "id": "f20bc148-1d05-4d89-a8b8-99c76094a810",
   "metadata": {},
   "source": [
    "17. Write a Python program to calculate the roots of a quadratic equation."
   ]
  },
  {
   "cell_type": "code",
   "execution_count": 27,
   "id": "2ae5b6c6-f000-4586-bd35-cb9a2cbc48c4",
   "metadata": {},
   "outputs": [
    {
     "name": "stdin",
     "output_type": "stream",
     "text": [
      "Enter the coefficient a:  34\n",
      "Enter the coefficient b:  6\n",
      "Enter the coefficient c:  4\n"
     ]
    },
    {
     "name": "stdout",
     "output_type": "stream",
     "text": [
      "The roots are complex: -0.08823529411764706 + 0.3314537549877836i and -0.08823529411764706 - 0.3314537549877836i\n"
     ]
    }
   ],
   "source": [
    "import math\n",
    "\n",
    "try:\n",
    "    # Input coefficients a, b, and c from the user\n",
    "    a = float(input(\"Enter the coefficient a: \"))\n",
    "    b = float(input(\"Enter the coefficient b: \"))\n",
    "    c = float(input(\"Enter the coefficient c: \"))\n",
    "\n",
    "    # Calculate the discriminant (the value inside the square root)\n",
    "    discriminant = b**2 - 4*a*c\n",
    "\n",
    "    # Check the discriminant to determine the number of roots and calculate them\n",
    "    if discriminant > 0:\n",
    "        root1 = (-b + math.sqrt(discriminant)) / (2*a)\n",
    "        root2 = (-b - math.sqrt(discriminant)) / (2*a)\n",
    "        print(f\"The roots are real and distinct: {root1} and {root2}\")\n",
    "    elif discriminant == 0:\n",
    "        root = -b / (2*a)\n",
    "        print(f\"The root is real and equal: {root}\")\n",
    "    else:\n",
    "        real_part = -b / (2*a)\n",
    "        imaginary_part = math.sqrt(abs(discriminant)) / (2*a)\n",
    "        print(f\"The roots are complex: {real_part} + {imaginary_part}i and {real_part} - {imaginary_part}i\")\n",
    "\n",
    "except ValueError:\n",
    "    print(\"Invalid input. Please enter valid coefficients as numbers.\")\n"
   ]
  },
  {
   "cell_type": "markdown",
   "id": "571abdeb-99c1-4e3d-98e2-5912ae9ffba1",
   "metadata": {},
   "source": [
    "18. Implement a program to determine the day of the week based on a user-provided number (1 for Monday, 2 \n",
    "for Tuesday, etc.)."
   ]
  },
  {
   "cell_type": "code",
   "execution_count": 28,
   "id": "d5fbedad-0a56-4ae0-a97e-f413399d876f",
   "metadata": {},
   "outputs": [
    {
     "name": "stdin",
     "output_type": "stream",
     "text": [
      "Enter a number (1 for Monday, 2 for Tuesday, etc.):  4\n"
     ]
    },
    {
     "name": "stdout",
     "output_type": "stream",
     "text": [
      "The day of the week is Thursday.\n"
     ]
    }
   ],
   "source": [
    "try:\n",
    "    # Input a number representing the day of the week\n",
    "    day_number = int(input(\"Enter a number (1 for Monday, 2 for Tuesday, etc.): \"))\n",
    "\n",
    "    # Define a list of day names\n",
    "    days_of_week = [\n",
    "        \"Monday\",\n",
    "        \"Tuesday\",\n",
    "        \"Wednesday\",\n",
    "        \"Thursday\",\n",
    "        \"Friday\",\n",
    "        \"Saturday\",\n",
    "        \"Sunday\"\n",
    "    ]\n",
    "\n",
    "    # Check if the input number is valid\n",
    "    if 1 <= day_number <= 7:\n",
    "        day_name = days_of_week[day_number - 1]\n",
    "        print(f\"The day of the week is {day_name}.\")\n",
    "    else:\n",
    "        print(\"Invalid input. Please enter a number between 1 and 7.\")\n",
    "except ValueError:\n",
    "    print(\"Invalid input. Please enter a valid number.\")\n"
   ]
  },
  {
   "cell_type": "markdown",
   "id": "b959d0ad-dbf0-4e8f-8457-4ff91d8bd0c9",
   "metadata": {},
   "source": [
    "19. Create a program that determines if a year is a leap year and also if it is evenly divisible by 400."
   ]
  },
  {
   "cell_type": "code",
   "execution_count": 29,
   "id": "2ec9e918-3661-4ad6-9557-823b96dfd812",
   "metadata": {},
   "outputs": [
    {
     "name": "stdin",
     "output_type": "stream",
     "text": [
      "Enter a year:  2000\n"
     ]
    },
    {
     "name": "stdout",
     "output_type": "stream",
     "text": [
      "2000 is a leap year and evenly divisible by 400.\n"
     ]
    }
   ],
   "source": [
    "try:\n",
    "    # Input a year from the user\n",
    "    year = int(input(\"Enter a year: \"))\n",
    "\n",
    "    # Check if it's a leap year\n",
    "    is_leap_year = (year % 4 == 0 and year % 100 != 0) or (year % 400 == 0)\n",
    "\n",
    "    if is_leap_year:\n",
    "        print(f\"{year} is a leap year and evenly divisible by 400.\")\n",
    "    else:\n",
    "        print(f\"{year} is not a leap year or not evenly divisible by 400.\")\n",
    "except ValueError:\n",
    "    print(\"Invalid input. Please enter a valid year as an integer.\")\n"
   ]
  },
  {
   "cell_type": "markdown",
   "id": "f04c2c1c-94bb-4f0c-a884-5aeaca85df99",
   "metadata": {},
   "source": [
    "20. Develop a program that checks if a given number is prime or not using nested if-else statements."
   ]
  },
  {
   "cell_type": "code",
   "execution_count": 30,
   "id": "a96edf01-5015-4c92-a101-9d4635f5dfb7",
   "metadata": {},
   "outputs": [
    {
     "name": "stdin",
     "output_type": "stream",
     "text": [
      "Enter a number:  45\n"
     ]
    },
    {
     "name": "stdout",
     "output_type": "stream",
     "text": [
      "45 is not a prime number.\n"
     ]
    }
   ],
   "source": [
    "try:\n",
    "    # Input a number from the user\n",
    "    num = int(input(\"Enter a number: \"))\n",
    "\n",
    "    # Check if the number is less than 2 (not prime)\n",
    "    if num < 2:\n",
    "        is_prime = False\n",
    "    else:\n",
    "        is_prime = True\n",
    "\n",
    "        # Check for factors from 2 to the square root of the number\n",
    "        for i in range(2, int(num**0.5) + 1):\n",
    "            if num % i == 0:\n",
    "                is_prime = False\n",
    "                break\n",
    "\n",
    "    if is_prime:\n",
    "        print(f\"{num} is a prime number.\")\n",
    "    else:\n",
    "        print(f\"{num} is not a prime number.\")\n",
    "except ValueError:\n",
    "    print(\"Invalid input. Please enter a valid number.\")\n"
   ]
  },
  {
   "cell_type": "markdown",
   "id": "f9b0a092-22a8-481b-9c31-22a0873a8bb6",
   "metadata": {},
   "source": [
    "Elif Statements:"
   ]
  },
  {
   "cell_type": "markdown",
   "id": "50d042c9-d313-4e23-ad54-7a58d59ceeee",
   "metadata": {},
   "source": [
    "21. Write a Python program to assign grades based on different ranges of scores using elif statements."
   ]
  },
  {
   "cell_type": "code",
   "execution_count": 31,
   "id": "3f25f85a-6728-47f6-ab7f-0f2986092bf5",
   "metadata": {},
   "outputs": [
    {
     "name": "stdin",
     "output_type": "stream",
     "text": [
      "Enter the student's score:  56\n"
     ]
    },
    {
     "name": "stdout",
     "output_type": "stream",
     "text": [
      "The student's grade is: F\n"
     ]
    }
   ],
   "source": [
    "try:\n",
    "    # Input the student's score from the user\n",
    "    score = float(input(\"Enter the student's score: \"))\n",
    "\n",
    "    # Check the score and assign a grade using elif statements\n",
    "    if 90 <= score <= 100:\n",
    "        grade = \"A\"\n",
    "    elif 80 <= score < 90:\n",
    "        grade = \"B\"\n",
    "    elif 70 <= score < 80:\n",
    "        grade = \"C\"\n",
    "    elif 60 <= score < 70:\n",
    "        grade = \"D\"\n",
    "    elif 0 <= score < 60:\n",
    "        grade = \"F\"\n",
    "    else:\n",
    "        print(\"Invalid score. Please enter a score between 0 and 100.\")\n",
    "        exit()\n",
    "\n",
    "    print(f\"The student's grade is: {grade}\")\n",
    "except ValueError:\n",
    "    print(\"Invalid input. Please enter a valid score as a number.\")\n"
   ]
  },
  {
   "cell_type": "markdown",
   "id": "7ea8e31f-8f59-449b-9e42-33098dfd2826",
   "metadata": {},
   "source": [
    "22. Implement a program to determine the type of a triangle based on its angles."
   ]
  },
  {
   "cell_type": "code",
   "execution_count": 33,
   "id": "1c8600ad-e494-4f05-a5d1-747f2c96f1ca",
   "metadata": {},
   "outputs": [
    {
     "name": "stdin",
     "output_type": "stream",
     "text": [
      "Enter the first angle (in degrees):  60\n",
      "Enter the second angle (in degrees):  60\n",
      "Enter the third angle (in degrees):  60\n"
     ]
    },
    {
     "name": "stdout",
     "output_type": "stream",
     "text": [
      "The triangle is a acute triangle.\n"
     ]
    }
   ],
   "source": [
    "try:\n",
    "    # Input the three angles of the triangle\n",
    "    angle1 = float(input(\"Enter the first angle (in degrees): \"))\n",
    "    angle2 = float(input(\"Enter the second angle (in degrees): \"))\n",
    "    angle3 = float(input(\"Enter the third angle (in degrees): \"))\n",
    "\n",
    "    # Check if the angles form a valid triangle\n",
    "    if angle1 + angle2 + angle3 == 180:\n",
    "        # Check the type of triangle based on angle measurements\n",
    "        if angle1 < 90 and angle2 < 90 and angle3 < 90:\n",
    "            triangle_type = \"acute\"\n",
    "        elif angle1 == 90 or angle2 == 90 or angle3 == 90:\n",
    "            triangle_type = \"right\"\n",
    "        else:\n",
    "            triangle_type = \"obtuse\"\n",
    "\n",
    "        print(f\"The triangle is a {triangle_type} triangle.\")\n",
    "    else:\n",
    "        print(\"The angles do not form a valid triangle.\")\n",
    "except ValueError:\n",
    "    print(\"Invalid input. Please enter valid angle measurements as numbers.\")\n"
   ]
  },
  {
   "cell_type": "markdown",
   "id": "2aacb86b-e94a-4bb2-86f6-352511396615",
   "metadata": {},
   "source": [
    "23. Develop a program to categorize a given person's BMI into underweight, normal, overweight, or obese using \n",
    "elif statements."
   ]
  },
  {
   "cell_type": "code",
   "execution_count": 34,
   "id": "f1f7c746-f9a6-477f-a04d-2059ffba24a6",
   "metadata": {},
   "outputs": [
    {
     "name": "stdin",
     "output_type": "stream",
     "text": [
      "Enter your weight (in kilograms):  50\n",
      "Enter your height (in meters):  2\n"
     ]
    },
    {
     "name": "stdout",
     "output_type": "stream",
     "text": [
      "Your BMI is 12.50, which falls into the 'underweight' category.\n"
     ]
    }
   ],
   "source": [
    "try:\n",
    "    # Input the person's weight (in kilograms) and height (in meters)\n",
    "    weight = float(input(\"Enter your weight (in kilograms): \"))\n",
    "    height = float(input(\"Enter your height (in meters): \"))\n",
    "\n",
    "    # Calculate BMI\n",
    "    bmi = weight / (height ** 2)\n",
    "\n",
    "    # Categorize BMI using elif statements\n",
    "    if bmi < 18.5:\n",
    "        category = \"underweight\"\n",
    "    elif 18.5 <= bmi < 24.9:\n",
    "        category = \"normal weight\"\n",
    "    elif 25 <= bmi < 29.9:\n",
    "        category = \"overweight\"\n",
    "    else:\n",
    "        category = \"obese\"\n",
    "\n",
    "    print(f\"Your BMI is {bmi:.2f}, which falls into the '{category}' category.\")\n",
    "except ValueError:\n",
    "    print(\"Invalid input. Please enter valid weight and height values.\")\n"
   ]
  },
  {
   "cell_type": "markdown",
   "id": "53f3d735-073c-4467-af97-bbc2c1d58276",
   "metadata": {},
   "source": [
    "24. Create a program that determines whether a given number is positive, negative, or zero using elif \n",
    "statements."
   ]
  },
  {
   "cell_type": "code",
   "execution_count": 35,
   "id": "3263dc22-bd7d-4a1c-ace5-02894c070ed9",
   "metadata": {},
   "outputs": [
    {
     "name": "stdin",
     "output_type": "stream",
     "text": [
      "Enter a number:  567\n"
     ]
    },
    {
     "name": "stdout",
     "output_type": "stream",
     "text": [
      "The number is positive.\n"
     ]
    }
   ],
   "source": [
    "try:\n",
    "    # Input a number from the user\n",
    "    num = float(input(\"Enter a number: \"))\n",
    "\n",
    "    # Determine if the number is positive, negative, or zero using elif statements\n",
    "    if num > 0:\n",
    "        print(\"The number is positive.\")\n",
    "    elif num < 0:\n",
    "        print(\"The number is negative.\")\n",
    "    else:\n",
    "        print(\"The number is zero.\")\n",
    "except ValueError:\n",
    "    print(\"Invalid input. Please enter a valid number.\")\n",
    "\n",
    "    "
   ]
  },
  {
   "cell_type": "markdown",
   "id": "4a4d77df-45f3-457b-b8c0-343faa261456",
   "metadata": {},
   "source": [
    "25. Write a Python script to determine the type of a character (uppercase, lowercase, or special) using elif \n",
    "statements."
   ]
  },
  {
   "cell_type": "code",
   "execution_count": 36,
   "id": "c78aee5f-6a1f-447c-92e2-dbf093c04619",
   "metadata": {},
   "outputs": [
    {
     "name": "stdin",
     "output_type": "stream",
     "text": [
      "Enter a character:  s\n"
     ]
    },
    {
     "name": "stdout",
     "output_type": "stream",
     "text": [
      "The character 's' is a lowercase letter.\n"
     ]
    }
   ],
   "source": [
    "try:\n",
    "    # Input a character from the user (assuming a single character)\n",
    "    char = input(\"Enter a character: \")\n",
    "\n",
    "    # Check the type of character using elif statements\n",
    "    if char.isalpha():\n",
    "        if char.isupper():\n",
    "            char_type = \"uppercase letter\"\n",
    "        else:\n",
    "            char_type = \"lowercase letter\"\n",
    "    else:\n",
    "        char_type = \"special character\"\n",
    "\n",
    "    print(f\"The character '{char}' is a {char_type}.\")\n",
    "except ValueError:\n",
    "    print(\"Invalid input. Please enter a valid character.\")\n"
   ]
  },
  {
   "cell_type": "markdown",
   "id": "d3a141c2-fcb3-47d8-abd3-402e502e6286",
   "metadata": {},
   "source": [
    "26. Implement a program to calculate the discounted price based on different purchase amounts using elif \n",
    "statements."
   ]
  },
  {
   "cell_type": "code",
   "execution_count": 37,
   "id": "e6fa1999-51a8-4ceb-bb96-c3b7ac18ec56",
   "metadata": {},
   "outputs": [
    {
     "name": "stdin",
     "output_type": "stream",
     "text": [
      "Enter the purchase amount:  467\n"
     ]
    },
    {
     "name": "stdout",
     "output_type": "stream",
     "text": [
      "Purchase Amount: $467.00\n",
      "Discount Rate: 2.0%\n",
      "Discounted Price: $457.66\n"
     ]
    }
   ],
   "source": [
    "try:\n",
    "    # Input the purchase amount from the user\n",
    "    purchase_amount = float(input(\"Enter the purchase amount: \"))\n",
    "\n",
    "    # Initialize variables for discount rates\n",
    "    discount_rate = 0.0\n",
    "\n",
    "    # Determine the discount rate based on the purchase amount using elif statements\n",
    "    if purchase_amount >= 1000:\n",
    "        discount_rate = 0.10  # 10% discount for purchases over or equal to $1000\n",
    "    elif purchase_amount >= 500:\n",
    "        discount_rate = 0.05  # 5% discount for purchases over or equal to $500\n",
    "    elif purchase_amount >= 100:\n",
    "        discount_rate = 0.02  # 2% discount for purchases over or equal to $100\n",
    "\n",
    "    # Calculate the discounted price\n",
    "    discounted_price = purchase_amount - (purchase_amount * discount_rate)\n",
    "\n",
    "    print(f\"Purchase Amount: ${purchase_amount:.2f}\")\n",
    "    print(f\"Discount Rate: {discount_rate * 100}%\")\n",
    "    print(f\"Discounted Price: ${discounted_price:.2f}\")\n",
    "except ValueError:\n",
    "    print(\"Invalid input. Please enter a valid purchase amount as a number.\")\n"
   ]
  },
  {
   "cell_type": "markdown",
   "id": "3ec4ba99-6553-41f9-b1a5-1b50099c463e",
   "metadata": {},
   "source": [
    "27. Develop a program to calculate the electricity bill based on different consumption slabs using elif \n",
    "statements."
   ]
  },
  {
   "cell_type": "code",
   "execution_count": 38,
   "id": "a932436a-4000-44eb-80ed-773e101efe70",
   "metadata": {},
   "outputs": [
    {
     "name": "stdin",
     "output_type": "stream",
     "text": [
      "Enter your electricity consumption (kWh):  4567\n"
     ]
    },
    {
     "name": "stdout",
     "output_type": "stream",
     "text": [
      "Electricity Consumption: 4567.0 kWh\n",
      "Rate per kWh: $1.50\n",
      "Electricity Bill: $6850.50\n"
     ]
    }
   ],
   "source": [
    "try:\n",
    "    # Input the electricity consumption in kilowatt-hours (kWh) from the user\n",
    "    consumption = float(input(\"Enter your electricity consumption (kWh): \"))\n",
    "\n",
    "    # Initialize variables for the bill and rate per kWh\n",
    "    bill = 0.0\n",
    "    rate_per_kwh = 0.0\n",
    "\n",
    "    # Determine the rate per kWh and calculate the bill based on consumption using elif statements\n",
    "    if consumption <= 50:\n",
    "        rate_per_kwh = 0.50\n",
    "    elif consumption <= 100:\n",
    "        rate_per_kwh = 0.75\n",
    "    elif consumption <= 200:\n",
    "        rate_per_kwh = 1.20\n",
    "    else:\n",
    "        rate_per_kwh = 1.50\n",
    "\n",
    "    bill = consumption * rate_per_kwh\n",
    "\n",
    "    print(f\"Electricity Consumption: {consumption} kWh\")\n",
    "    print(f\"Rate per kWh: ${rate_per_kwh:.2f}\")\n",
    "    print(f\"Electricity Bill: ${bill:.2f}\")\n",
    "except ValueError:\n",
    "    print(\"Invalid input. Please enter a valid consumption value as a number.\")\n"
   ]
  },
  {
   "cell_type": "markdown",
   "id": "2efce612-d682-4e2e-8ba2-f5e15f73150f",
   "metadata": {},
   "source": [
    "28. Create a program to determine the type of quadrilateral based on its angles and sides using elif \n",
    "statements."
   ]
  },
  {
   "cell_type": "code",
   "execution_count": 39,
   "id": "07f72d0d-fe44-4a39-bd8d-c93be9c86b0e",
   "metadata": {},
   "outputs": [
    {
     "name": "stdin",
     "output_type": "stream",
     "text": [
      "Enter the length of side 1:  356\n",
      "Enter the length of side 2:  35\n",
      "Enter the length of side 3:  367\n",
      "Enter the length of side 4:  456\n",
      "Enter the measure of angle 1 (in degrees):  3\n",
      "Enter the measure of angle 2 (in degrees):  67\n",
      "Enter the measure of angle 3 (in degrees):  447\n",
      "Enter the measure of angle 4 (in degrees):  78\n"
     ]
    },
    {
     "name": "stdout",
     "output_type": "stream",
     "text": [
      "The given shape is a quadrilateral.\n"
     ]
    }
   ],
   "source": [
    "try:\n",
    "    # Input the lengths of the four sides and four angles of the quadrilateral\n",
    "    side1 = float(input(\"Enter the length of side 1: \"))\n",
    "    side2 = float(input(\"Enter the length of side 2: \"))\n",
    "    side3 = float(input(\"Enter the length of side 3: \"))\n",
    "    side4 = float(input(\"Enter the length of side 4: \"))\n",
    "    angle1 = float(input(\"Enter the measure of angle 1 (in degrees): \"))\n",
    "    angle2 = float(input(\"Enter the measure of angle 2 (in degrees): \"))\n",
    "    angle3 = float(input(\"Enter the measure of angle 3 (in degrees): \"))\n",
    "    angle4 = float(input(\"Enter the measure of angle 4 (in degrees): \"))\n",
    "\n",
    "    # Initialize variables for the type of quadrilateral\n",
    "    quadrilateral_type = \"\"\n",
    "\n",
    "    # Check the type of quadrilateral using elif statements\n",
    "    if side1 == side2 == side3 == side4:\n",
    "        if angle1 == angle2 == angle3 == angle4 == 90:\n",
    "            quadrilateral_type = \"square\"\n",
    "        else:\n",
    "            quadrilateral_type = \"rhombus\"\n",
    "    elif side1 == side3 and side2 == side4:\n",
    "        if angle1 == angle3 and angle2 == angle4 == 90:\n",
    "            quadrilateral_type = \"rectangle\"\n",
    "        else:\n",
    "            quadrilateral_type = \"parallelogram\"\n",
    "    else:\n",
    "        quadrilateral_type = \"quadrilateral\"\n",
    "\n",
    "    print(f\"The given shape is a {quadrilateral_type}.\")\n",
    "except ValueError:\n",
    "    print(\"Invalid input. Please enter valid side lengths and angle measures as numbers.\")\n"
   ]
  },
  {
   "cell_type": "markdown",
   "id": "cdb442e6-c733-4a04-8157-dcbdcaa39774",
   "metadata": {},
   "source": [
    "29. Write a Python script to determine the season based on a user-provided month using elif statements"
   ]
  },
  {
   "cell_type": "code",
   "execution_count": null,
   "id": "51f99564-5d4b-4b2e-a4c4-d573d351632c",
   "metadata": {},
   "outputs": [
    {
     "name": "stdin",
     "output_type": "stream",
     "text": [
      "Enter a month (1-12):  3\n"
     ]
    },
    {
     "name": "stdout",
     "output_type": "stream",
     "text": [
      "The season for month 3 is spring.\n"
     ]
    }
   ],
   "source": [
    "try:\n",
    "    # Input the month as an integer from the user (1 for January, 2 for February, etc.)\n",
    "    month = int(input(\"Enter a month (1-12): \"))\n",
    "\n",
    "    # Initialize the variable for the season\n",
    "    season = \"\"\n",
    "\n",
    "    # Determine the season based on the month using elif statements\n",
    "    if 3 <= month <= 5:\n",
    "        season = \"spring\"\n",
    "    elif 6 <= month <= 8:\n",
    "        season = \"summer\"\n",
    "    elif 9 <= month <= 11:\n",
    "        season = \"autumn or fall\"\n",
    "    elif month == 12 or month <= 2:\n",
    "        season = \"winter\"\n",
    "    else:\n",
    "        print(\"Invalid input. Please enter a month between 1 and 12.\")\n",
    "        exit()\n",
    "\n",
    "    print(f\"The season for month {month} is {season}.\")\n",
    "except ValueError:\n",
    "    print(\"Invalid input. Please enter a valid month as an integer.\")\n",
    "\n"
   ]
  },
  {
   "cell_type": "markdown",
   "id": "ac0059b9-a045-44e7-a650-0c1633e56093",
   "metadata": {},
   "source": [
    "30. Implement a program to determine the type of a year (leap or common) and month (30 or 31 days) using \n",
    "elif statements."
   ]
  },
  {
   "cell_type": "code",
   "execution_count": 41,
   "id": "967b8390-6d58-44c2-bfea-919849c20776",
   "metadata": {},
   "outputs": [
    {
     "name": "stdin",
     "output_type": "stream",
     "text": [
      "Enter a year:  1990\n",
      "Enter a month (1-12):  3\n"
     ]
    },
    {
     "name": "stdout",
     "output_type": "stream",
     "text": [
      "The year 1990 is a common year.\n",
      "The month 3 has 31 days.\n"
     ]
    }
   ],
   "source": [
    "try:\n",
    "    # Input the year and month from the user\n",
    "    year = int(input(\"Enter a year: \"))\n",
    "    month = int(input(\"Enter a month (1-12): \"))\n",
    "\n",
    "    # Initialize variables for year type and days in the month\n",
    "    year_type = \"\"\n",
    "    days_in_month = 0\n",
    "\n",
    "    # Determine the year type (leap or common) using elif statements\n",
    "    if (year % 4 == 0 and year % 100 != 0) or (year % 400 == 0):\n",
    "        year_type = \"leap\"\n",
    "    else:\n",
    "        year_type = \"common\"\n",
    "\n",
    "    # Determine the number of days in the month using elif statements\n",
    "    if month == 4 or month == 6 or month == 9 or month == 11:\n",
    "        days_in_month = 30\n",
    "    elif month == 2:\n",
    "        if year_type == \"leap\":\n",
    "            days_in_month = 29\n",
    "        else:\n",
    "            days_in_month = 28\n",
    "    elif 1 <= month <= 12:\n",
    "        days_in_month = 31\n",
    "    else:\n",
    "        print(\"Invalid input. Please enter a valid month between 1 and 12.\")\n",
    "        exit()\n",
    "\n",
    "    print(f\"The year {year} is a {year_type} year.\")\n",
    "    print(f\"The month {month} has {days_in_month} days.\")\n",
    "except ValueError:\n",
    "    print(\"Invalid input. Please enter a valid year and month as integers.\")\n"
   ]
  },
  {
   "cell_type": "markdown",
   "id": "1d8ca441-7a35-4450-a76e-133086202a36",
   "metadata": {},
   "source": [
    "Basic Level:"
   ]
  },
  {
   "cell_type": "markdown",
   "id": "fb1df7cf-a768-4245-a301-e226a72c35d5",
   "metadata": {},
   "source": [
    "1. Write a Python program that checks if a given number is positive, negative, or zero."
   ]
  },
  {
   "cell_type": "code",
   "execution_count": 42,
   "id": "11640803-a1a4-4965-a72c-312ca17a07dd",
   "metadata": {},
   "outputs": [
    {
     "name": "stdin",
     "output_type": "stream",
     "text": [
      "Enter a number:  3\n"
     ]
    },
    {
     "name": "stdout",
     "output_type": "stream",
     "text": [
      "The number is positive.\n"
     ]
    }
   ],
   "source": [
    "try:\n",
    "    # Input a number from the user\n",
    "    num = float(input(\"Enter a number: \"))\n",
    "\n",
    "    # Check if the number is positive, negative, or zero\n",
    "    if num > 0:\n",
    "        print(\"The number is positive.\")\n",
    "    elif num < 0:\n",
    "        print(\"The number is negative.\")\n",
    "    else:\n",
    "        print(\"The number is zero.\")\n",
    "except ValueError:\n",
    "    print(\"Invalid input. Please enter a valid number.\")\n"
   ]
  },
  {
   "cell_type": "markdown",
   "id": "aee9e187-6474-4a4d-b7e6-88e4640abe90",
   "metadata": {},
   "source": [
    "2. Create a program to determine if a person is eligible to vote based on their age."
   ]
  },
  {
   "cell_type": "code",
   "execution_count": 43,
   "id": "0c21fff6-cec4-463a-8093-a89d2d063888",
   "metadata": {},
   "outputs": [
    {
     "name": "stdin",
     "output_type": "stream",
     "text": [
      "Enter your age:  12\n"
     ]
    },
    {
     "name": "stdout",
     "output_type": "stream",
     "text": [
      "You are not eligible to vote.\n"
     ]
    }
   ],
   "source": [
    "try:\n",
    "    # Input the person's age from the user\n",
    "    age = int(input(\"Enter your age: \"))\n",
    "\n",
    "    # Check if the person is eligible to vote based on age\n",
    "    if age >= 18:\n",
    "        print(\"You are eligible to vote.\")\n",
    "    else:\n",
    "        print(\"You are not eligible to vote.\")\n",
    "except ValueError:\n",
    "    print(\"Invalid input. Please enter a valid age as an integer.\")\n"
   ]
  },
  {
   "cell_type": "markdown",
   "id": "f986608b-8ab1-4328-8306-021720716cee",
   "metadata": {},
   "source": [
    "3. Write a program to find the maximum of two given numbers using conditional statements."
   ]
  },
  {
   "cell_type": "code",
   "execution_count": 44,
   "id": "f47e3e6d-a566-45e6-856d-b1396a8d1942",
   "metadata": {},
   "outputs": [
    {
     "name": "stdin",
     "output_type": "stream",
     "text": [
      "Enter the first number:  2000\n",
      "Enter the second number:  1000\n"
     ]
    },
    {
     "name": "stdout",
     "output_type": "stream",
     "text": [
      "The maximum of 2000.0 and 1000.0 is 2000.0.\n"
     ]
    }
   ],
   "source": [
    "try:\n",
    "    # Input two numbers from the user\n",
    "    num1 = float(input(\"Enter the first number: \"))\n",
    "    num2 = float(input(\"Enter the second number: \"))\n",
    "\n",
    "    # Determine the maximum of the two numbers using conditional statements\n",
    "    if num1 > num2:\n",
    "        max_num = num1\n",
    "    else:\n",
    "        max_num = num2\n",
    "\n",
    "    print(f\"The maximum of {num1} and {num2} is {max_num}.\")\n",
    "except ValueError:\n",
    "    print(\"Invalid input. Please enter valid numbers.\")\n"
   ]
  },
  {
   "cell_type": "markdown",
   "id": "964e40ee-2621-4a0a-8d44-78f099222c69",
   "metadata": {},
   "source": [
    "4. Develop a program that calculates the grade of a student based on their exam score."
   ]
  },
  {
   "cell_type": "code",
   "execution_count": 1,
   "id": "1463e67d-8cc1-4601-9af2-160a49467fdd",
   "metadata": {},
   "outputs": [
    {
     "name": "stdin",
     "output_type": "stream",
     "text": [
      "Enter the student's exam score:  98\n"
     ]
    },
    {
     "name": "stdout",
     "output_type": "stream",
     "text": [
      "The student's grade is: A\n"
     ]
    }
   ],
   "source": [
    "try:\n",
    "    # Input the student's exam score from the user\n",
    "    score = float(input(\"Enter the student's exam score: \"))\n",
    "\n",
    "    # Initialize the variable for the grade\n",
    "    grade = \"\"\n",
    "\n",
    "    # Determine the grade based on the exam score using conditional statements\n",
    "    if 90 <= score <= 100:\n",
    "        grade = \"A\"\n",
    "    elif 80 <= score < 90:\n",
    "        grade = \"B\"\n",
    "    elif 70 <= score < 80:\n",
    "        grade = \"C\"\n",
    "    elif 60 <= score < 70:\n",
    "        grade = \"D\"\n",
    "    elif 0 <= score < 60:\n",
    "        grade = \"F\"\n",
    "    else:\n",
    "        print(\"Invalid score. Please enter a score between 0 and 100.\")\n",
    "        exit()\n",
    "\n",
    "    print(f\"The student's grade is: {grade}\")\n",
    "except ValueError:\n",
    "    print(\"Invalid input. Please enter a valid exam score as a number.\")\n"
   ]
  },
  {
   "cell_type": "markdown",
   "id": "d960bd10-693e-4dcf-af2e-8bb8c2af75b6",
   "metadata": {},
   "source": [
    "5. Create a program that checks if a year is a leap year or not."
   ]
  },
  {
   "cell_type": "code",
   "execution_count": 2,
   "id": "adf1edf2-b920-421e-8a97-13e87bd491eb",
   "metadata": {},
   "outputs": [
    {
     "name": "stdin",
     "output_type": "stream",
     "text": [
      "Enter a year:  2002\n"
     ]
    },
    {
     "name": "stdout",
     "output_type": "stream",
     "text": [
      "2002 is not a leap year.\n"
     ]
    }
   ],
   "source": [
    "try:\n",
    "    # Input a year from the user\n",
    "    year = int(input(\"Enter a year: \"))\n",
    "\n",
    "    # Check if the year is a leap year using conditional statements\n",
    "    if (year % 4 == 0 and year % 100 != 0) or (year % 400 == 0):\n",
    "        print(f\"{year} is a leap year.\")\n",
    "    else:\n",
    "        print(f\"{year} is not a leap year.\")\n",
    "except ValueError:\n",
    "    print(\"Invalid input. Please enter a valid year as an integer.\")\n"
   ]
  },
  {
   "cell_type": "markdown",
   "id": "9f6a3235-f08c-4a70-bba3-57c3e620d3a6",
   "metadata": {},
   "source": [
    "6. Write a program to classify a triangle based on its sides' lengths."
   ]
  },
  {
   "cell_type": "code",
   "execution_count": 3,
   "id": "01fed6b6-cda0-4274-bfcd-7c7081fed87a",
   "metadata": {},
   "outputs": [
    {
     "name": "stdin",
     "output_type": "stream",
     "text": [
      "Enter the length of side 1:  33\n",
      "Enter the length of side 2:  23\n",
      "Enter the length of side 3:  56\n"
     ]
    },
    {
     "name": "stdout",
     "output_type": "stream",
     "text": [
      "The triangle is scalene.\n"
     ]
    }
   ],
   "source": [
    "try:\n",
    "    # Input the lengths of the three sides of the triangle from the user\n",
    "    side1 = float(input(\"Enter the length of side 1: \"))\n",
    "    side2 = float(input(\"Enter the length of side 2: \"))\n",
    "    side3 = float(input(\"Enter the length of side 3: \"))\n",
    "\n",
    "    # Initialize a variable for the triangle type\n",
    "    triangle_type = \"\"\n",
    "\n",
    "    # Determine the type of triangle based on side lengths using conditional statements\n",
    "    if side1 == side2 == side3:\n",
    "        triangle_type = \"equilateral\"\n",
    "    elif side1 == side2 or side2 == side3 or side1 == side3:\n",
    "        triangle_type = \"isosceles\"\n",
    "    else:\n",
    "        triangle_type = \"scalene\"\n",
    "\n",
    "    print(f\"The triangle is {triangle_type}.\")\n",
    "except ValueError:\n",
    "    print(\"Invalid input. Please enter valid side lengths as numbers.\")\n"
   ]
  },
  {
   "cell_type": "markdown",
   "id": "4ade69c0-b29d-4b5e-9b94-35167f57ec45",
   "metadata": {},
   "source": [
    "7. Build a program that determines the largest of three given numbers."
   ]
  },
  {
   "cell_type": "code",
   "execution_count": 4,
   "id": "3b93d8f2-69a4-4e95-9604-c45422f38857",
   "metadata": {},
   "outputs": [
    {
     "name": "stdin",
     "output_type": "stream",
     "text": [
      "Enter the first number:  245\n",
      "Enter the second number:  67\n",
      "Enter the third number:  464\n"
     ]
    },
    {
     "name": "stdout",
     "output_type": "stream",
     "text": [
      "The largest number among 245.0, 67.0, and 464.0 is 464.0.\n"
     ]
    }
   ],
   "source": [
    "try:\n",
    "    # Input three numbers from the user\n",
    "    num1 = float(input(\"Enter the first number: \"))\n",
    "    num2 = float(input(\"Enter the second number: \"))\n",
    "    num3 = float(input(\"Enter the third number: \"))\n",
    "\n",
    "    # Initialize a variable for the largest number\n",
    "    largest = num1\n",
    "\n",
    "    # Determine the largest of the three numbers using conditional statements\n",
    "    if num2 > largest:\n",
    "        largest = num2\n",
    "    if num3 > largest:\n",
    "        largest = num3\n",
    "\n",
    "    print(f\"The largest number among {num1}, {num2}, and {num3} is {largest}.\")\n",
    "except ValueError:\n",
    "    print(\"Invalid input. Please enter valid numbers.\")\n"
   ]
  },
  {
   "cell_type": "markdown",
   "id": "1f26a42b-96fb-439c-a5c2-dcd712a64f34",
   "metadata": {},
   "source": [
    "8. Develop a program that checks whether a character is a vowel or a consonant."
   ]
  },
  {
   "cell_type": "code",
   "execution_count": 6,
   "id": "963cf84a-f02f-4c21-acfe-92390297e80d",
   "metadata": {},
   "outputs": [
    {
     "name": "stdin",
     "output_type": "stream",
     "text": [
      "Enter a character:  a\n"
     ]
    },
    {
     "name": "stdout",
     "output_type": "stream",
     "text": [
      "The character 'a' is a vowel.\n"
     ]
    }
   ],
   "source": [
    "try:\n",
    "    # Input a character from the user (assuming a single character)\n",
    "    char = input(\"Enter a character: \")\n",
    "\n",
    "    # Ensure the input is a single character\n",
    "    if len(char) == 1:\n",
    "        # Convert the character to lowercase to handle uppercase input\n",
    "        char = char.lower()\n",
    "\n",
    "        # Check if the character is a vowel or a consonant using conditional statements\n",
    "        if char in ('a', 'e', 'i', 'o', 'u'):\n",
    "            print(f\"The character '{char}' is a vowel.\")\n",
    "        else:\n",
    "            print(f\"The character '{char}' is a consonant.\")\n",
    "    else:\n",
    "        print(\"Invalid input. Please enter a single character.\")\n",
    "except ValueError:\n",
    "    print(\"Invalid input. Please enter a valid character.\")\n"
   ]
  },
  {
   "cell_type": "markdown",
   "id": "0395803b-ed13-4dbe-8e47-c8830507e187",
   "metadata": {},
   "source": [
    "9. Create a program to calculate the total cost of a shopping cart based on discounts."
   ]
  },
  {
   "cell_type": "code",
   "execution_count": 9,
   "id": "f8dcdfdf-7543-407b-88b7-75bb5e8016f0",
   "metadata": {},
   "outputs": [
    {
     "name": "stdin",
     "output_type": "stream",
     "text": [
      "Enter the number of items in your shopping cart:  3\n",
      "Enter the price of item 1:  24\n",
      "Enter the quantity of item 1:  56\n",
      "Enter the price of item 2:  35\n",
      "Enter the quantity of item 2:  3\n",
      "Enter the price of item 3:  5\n",
      "Enter the quantity of item 3:  4\n"
     ]
    },
    {
     "name": "stdout",
     "output_type": "stream",
     "text": [
      "Total cost before discount: $1469.00\n",
      "Discount applied: $146.90\n",
      "Total cost after discount: $1322.10\n"
     ]
    }
   ],
   "source": [
    "try:\n",
    "    # Input the number of items and their prices from the user\n",
    "    num_items = int(input(\"Enter the number of items in your shopping cart: \"))\n",
    "    \n",
    "    total_cost = 0.0\n",
    "\n",
    "    # Input the price and quantity for each item and calculate their cost\n",
    "    for item in range(1, num_items + 1):\n",
    "        item_price = float(input(f\"Enter the price of item {item}: \"))\n",
    "        item_quantity = int(input(f\"Enter the quantity of item {item}: \"))\n",
    "        item_cost = item_price * item_quantity\n",
    "        total_cost += item_cost\n",
    "\n",
    "    # Apply a discount based on the total cost\n",
    "    if total_cost >= 100:\n",
    "        discount = 0.10  # 10% discount for total cost >= $100\n",
    "        discounted_amount = total_cost * discount\n",
    "        total_cost -= discounted_amount\n",
    "\n",
    "    print(f\"Total cost before discount: ${total_cost + discounted_amount:.2f}\")\n",
    "    print(f\"Discount applied: ${discounted_amount:.2f}\")\n",
    "    print(f\"Total cost after discount: ${total_cost:.2f}\")\n",
    "\n",
    "except ValueError:\n",
    "    print(\"Invalid input. Please enter valid item prices and quantities as numbers.\")\n"
   ]
  },
  {
   "cell_type": "markdown",
   "id": "399f80d2-e27b-4a76-a73f-b3c5937da46f",
   "metadata": {},
   "source": [
    "10. Write a program that checks if a given number is even or odd."
   ]
  },
  {
   "cell_type": "code",
   "execution_count": 10,
   "id": "d4caec1f-d90d-4d50-9845-c1b3e50580ed",
   "metadata": {},
   "outputs": [
    {
     "name": "stdin",
     "output_type": "stream",
     "text": [
      "Enter a number:  35\n"
     ]
    },
    {
     "name": "stdout",
     "output_type": "stream",
     "text": [
      "35 is odd.\n"
     ]
    }
   ],
   "source": [
    "try:\n",
    "    # Input a number from the user\n",
    "    num = int(input(\"Enter a number: \"))\n",
    "\n",
    "    # Check if the number is even or odd using conditional statements\n",
    "    if num % 2 == 0:\n",
    "        print(f\"{num} is even.\")\n",
    "    else:\n",
    "        print(f\"{num} is odd.\")\n",
    "except ValueError:\n",
    "    print(\"Invalid input. Please enter a valid number.\")\n"
   ]
  },
  {
   "cell_type": "markdown",
   "id": "c458e219-7132-43de-8805-4d83b6b99592",
   "metadata": {},
   "source": [
    "Intermediate Level:"
   ]
  },
  {
   "cell_type": "markdown",
   "id": "43e161a1-9243-4637-a8aa-e3435bb4f2a2",
   "metadata": {},
   "source": [
    "11. Write a program that calculates the roots of a quadratic equation ."
   ]
  },
  {
   "cell_type": "code",
   "execution_count": 11,
   "id": "433e2dff-9dee-42b4-a76b-c2fe56ca4cfe",
   "metadata": {},
   "outputs": [
    {
     "name": "stdin",
     "output_type": "stream",
     "text": [
      "Enter coefficient a:  45\n",
      "Enter coefficient b:  6\n",
      "Enter coefficient c:  7\n"
     ]
    },
    {
     "name": "stdout",
     "output_type": "stream",
     "text": [
      "Root 1: -0.06666666666666667 + 0.38873012632302i\n",
      "Root 2: -0.06666666666666667 - 0.38873012632302i\n"
     ]
    }
   ],
   "source": [
    "try:\n",
    "    # Input coefficients a, b, and c from the user\n",
    "    a = float(input(\"Enter coefficient a: \"))\n",
    "    b = float(input(\"Enter coefficient b: \"))\n",
    "    c = float(input(\"Enter coefficient c: \"))\n",
    "\n",
    "    # Calculate the discriminant\n",
    "    discriminant = b**2 - 4*a*c\n",
    "\n",
    "    # Check the discriminant to determine the nature of the roots\n",
    "    if discriminant > 0:\n",
    "        # Two real and distinct roots\n",
    "        root1 = (-b + discriminant**0.5) / (2*a)\n",
    "        root2 = (-b - discriminant**0.5) / (2*a)\n",
    "        print(f\"Root 1: {root1}\")\n",
    "        print(f\"Root 2: {root2}\")\n",
    "    elif discriminant == 0:\n",
    "        # One real root (repeated)\n",
    "        root = -b / (2*a)\n",
    "        print(f\"Root: {root}\")\n",
    "    else:\n",
    "        # Complex roots (no real roots)\n",
    "        real_part = -b / (2*a)\n",
    "        imaginary_part = (abs(discriminant)**0.5) / (2*a)\n",
    "        print(f\"Root 1: {real_part} + {imaginary_part}i\")\n",
    "        print(f\"Root 2: {real_part} - {imaginary_part}i\")\n",
    "except ValueError:\n",
    "    print(\"Invalid input. Please enter valid coefficients as numbers.\")\n"
   ]
  },
  {
   "cell_type": "markdown",
   "id": "ead48cc4-7dc8-4a9c-b64c-74016ef19540",
   "metadata": {},
   "source": [
    "12. Create a program that determines the day of the week based on the day number (1-7)."
   ]
  },
  {
   "cell_type": "code",
   "execution_count": 12,
   "id": "1661cc7b-e715-4117-b4d4-04ad22c79a86",
   "metadata": {},
   "outputs": [
    {
     "name": "stdin",
     "output_type": "stream",
     "text": [
      "Enter a day number (1-7):  4\n"
     ]
    },
    {
     "name": "stdout",
     "output_type": "stream",
     "text": [
      "The day of the week for day number 4 is Thursday.\n"
     ]
    }
   ],
   "source": [
    "try:\n",
    "    # Input the day number from the user\n",
    "    day_number = int(input(\"Enter a day number (1-7): \"))\n",
    "\n",
    "    # Determine the day of the week based on the day number using conditional statements\n",
    "    if day_number == 1:\n",
    "        day = \"Monday\"\n",
    "    elif day_number == 2:\n",
    "        day = \"Tuesday\"\n",
    "    elif day_number == 3:\n",
    "        day = \"Wednesday\"\n",
    "    elif day_number == 4:\n",
    "        day = \"Thursday\"\n",
    "    elif day_number == 5:\n",
    "        day = \"Friday\"\n",
    "    elif day_number == 6:\n",
    "        day = \"Saturday\"\n",
    "    elif day_number == 7:\n",
    "        day = \"Sunday\"\n",
    "    else:\n",
    "        print(\"Invalid day number. Please enter a number between 1 and 7.\")\n",
    "        exit()\n",
    "\n",
    "    print(f\"The day of the week for day number {day_number} is {day}.\")\n",
    "except ValueError:\n",
    "    print(\"Invalid input. Please enter a valid day number as an integer.\")\n"
   ]
  },
  {
   "cell_type": "markdown",
   "id": "8894fa1f-feb9-4b5e-b5e2-aa6028f75d47",
   "metadata": {},
   "source": [
    "13. Develop a program that calculates the factorial of a given number using recursion."
   ]
  },
  {
   "cell_type": "code",
   "execution_count": 13,
   "id": "100a950e-4b3e-43b6-8b52-989226944488",
   "metadata": {},
   "outputs": [
    {
     "name": "stdin",
     "output_type": "stream",
     "text": [
      "Enter a non-negative integer:  4\n"
     ]
    },
    {
     "name": "stdout",
     "output_type": "stream",
     "text": [
      "The factorial of 4 is 24.\n"
     ]
    }
   ],
   "source": [
    "def factorial(n):\n",
    "    if n == 0:\n",
    "        return 1\n",
    "    else:\n",
    "        return n * factorial(n - 1)\n",
    "\n",
    "try:\n",
    "    # Input a non-negative integer from the user\n",
    "    num = int(input(\"Enter a non-negative integer: \"))\n",
    "\n",
    "    if num < 0:\n",
    "        print(\"Factorial is not defined for negative numbers.\")\n",
    "    else:\n",
    "        result = factorial(num)\n",
    "        print(f\"The factorial of {num} is {result}.\")\n",
    "except ValueError:\n",
    "    print(\"Invalid input. Please enter a non-negative integer.\")\n"
   ]
  },
  {
   "cell_type": "markdown",
   "id": "48120e2b-72fb-4005-82b7-ef1d32254cf2",
   "metadata": {},
   "source": [
    "14. Write a program to find the largest among three numbers without using the `max()` function."
   ]
  },
  {
   "cell_type": "code",
   "execution_count": 14,
   "id": "ae0bfa0b-137e-42e9-b74f-31adf2b1da71",
   "metadata": {},
   "outputs": [
    {
     "name": "stdin",
     "output_type": "stream",
     "text": [
      "Enter the first number:  34\n",
      "Enter the second number:  56\n",
      "Enter the third number:  78\n"
     ]
    },
    {
     "name": "stdout",
     "output_type": "stream",
     "text": [
      "The largest number among 34.0, 56.0, and 78.0 is 78.0.\n"
     ]
    }
   ],
   "source": [
    "try:\n",
    "    # Input three numbers from the user\n",
    "    num1 = float(input(\"Enter the first number: \"))\n",
    "    num2 = float(input(\"Enter the second number: \"))\n",
    "    num3 = float(input(\"Enter the third number: \"))\n",
    "\n",
    "    # Initialize a variable for the largest number\n",
    "    largest = num1\n",
    "\n",
    "    # Determine the largest of the three numbers using conditional statements\n",
    "    if num2 > largest:\n",
    "        largest = num2\n",
    "    if num3 > largest:\n",
    "        largest = num3\n",
    "\n",
    "    print(f\"The largest number among {num1}, {num2}, and {num3} is {largest}.\")\n",
    "except ValueError:\n",
    "    print(\"Invalid input. Please enter valid numbers.\")\n"
   ]
  },
  {
   "cell_type": "markdown",
   "id": "81bffda6-f447-4648-b6cf-6a083e3b9fc8",
   "metadata": {},
   "source": [
    "15. Create a program that simulates a basic ATM transaction menu."
   ]
  },
  {
   "cell_type": "code",
   "execution_count": 15,
   "id": "4c7e0f3a-b15f-40e6-a8c5-ffdc512d1970",
   "metadata": {},
   "outputs": [
    {
     "name": "stdout",
     "output_type": "stream",
     "text": [
      "\n",
      "ATM Menu:\n",
      "1. Check Balance\n",
      "2. Deposit Money\n",
      "3. Withdraw Money\n",
      "4. Quit\n"
     ]
    },
    {
     "name": "stdin",
     "output_type": "stream",
     "text": [
      "Enter your choice (1/2/3/4):  3\n",
      "Enter the amount to withdraw:  566\n"
     ]
    },
    {
     "name": "stdout",
     "output_type": "stream",
     "text": [
      "$566.00 has been withdrawn from your account.\n",
      "\n",
      "ATM Menu:\n",
      "1. Check Balance\n",
      "2. Deposit Money\n",
      "3. Withdraw Money\n",
      "4. Quit\n"
     ]
    },
    {
     "name": "stdin",
     "output_type": "stream",
     "text": [
      "Enter your choice (1/2/3/4):  4\n"
     ]
    },
    {
     "name": "stdout",
     "output_type": "stream",
     "text": [
      "Thank you for using the ATM. Goodbye!\n"
     ]
    }
   ],
   "source": [
    "# Initialize the initial account balance\n",
    "account_balance = 1000.0\n",
    "\n",
    "# Function to display the account balance\n",
    "def display_balance():\n",
    "    print(f\"Your account balance is ${account_balance:.2f}\")\n",
    "\n",
    "# Function to deposit money\n",
    "def deposit():\n",
    "    global account_balance\n",
    "    try:\n",
    "        deposit_amount = float(input(\"Enter the amount to deposit: \"))\n",
    "        if deposit_amount > 0:\n",
    "            account_balance += deposit_amount\n",
    "            print(f\"${deposit_amount:.2f} has been deposited into your account.\")\n",
    "        else:\n",
    "            print(\"Invalid deposit amount. Please enter a positive amount.\")\n",
    "    except ValueError:\n",
    "        print(\"Invalid input. Please enter a valid deposit amount as a number.\")\n",
    "\n",
    "# Function to withdraw money\n",
    "def withdraw():\n",
    "    global account_balance\n",
    "    try:\n",
    "        withdraw_amount = float(input(\"Enter the amount to withdraw: \"))\n",
    "        if withdraw_amount > 0 and withdraw_amount <= account_balance:\n",
    "            account_balance -= withdraw_amount\n",
    "            print(f\"${withdraw_amount:.2f} has been withdrawn from your account.\")\n",
    "        elif withdraw_amount > account_balance:\n",
    "            print(\"Insufficient funds. You cannot withdraw more than your account balance.\")\n",
    "        else:\n",
    "            print(\"Invalid withdrawal amount. Please enter a positive amount.\")\n",
    "    except ValueError:\n",
    "        print(\"Invalid input. Please enter a valid withdrawal amount as a number.\")\n",
    "\n",
    "# Main ATM menu loop\n",
    "while True:\n",
    "    print(\"\\nATM Menu:\")\n",
    "    print(\"1. Check Balance\")\n",
    "    print(\"2. Deposit Money\")\n",
    "    print(\"3. Withdraw Money\")\n",
    "    print(\"4. Quit\")\n",
    "\n",
    "    choice = input(\"Enter your choice (1/2/3/4): \")\n",
    "\n",
    "    if choice == '1':\n",
    "        display_balance()\n",
    "    elif choice == '2':\n",
    "        deposit()\n",
    "    elif choice == '3':\n",
    "        withdraw()\n",
    "    elif choice == '4':\n",
    "        print(\"Thank you for using the ATM. Goodbye!\")\n",
    "        break\n",
    "    else:\n",
    "        print(\"Invalid choice. Please select a valid option (1/2/3/4).\")\n"
   ]
  },
  {
   "cell_type": "markdown",
   "id": "5171d3cb-5a0a-4a6c-b1ec-d445fe05d19d",
   "metadata": {},
   "source": [
    "16. Build a program that checks if a given string is a palindrome or not."
   ]
  },
  {
   "cell_type": "code",
   "execution_count": 16,
   "id": "f40bf69d-757c-479d-964a-9163aebd020c",
   "metadata": {},
   "outputs": [
    {
     "name": "stdin",
     "output_type": "stream",
     "text": [
      "Enter a string:  sigfa\n"
     ]
    },
    {
     "name": "stdout",
     "output_type": "stream",
     "text": [
      "'sigfa' is not a palindrome.\n"
     ]
    }
   ],
   "source": [
    "def is_palindrome(s):\n",
    "    # Remove spaces and convert the string to lowercase for case-insensitive comparison\n",
    "    s = s.replace(\" \", \"\").lower()\n",
    "\n",
    "    # Compare the original string with its reverse\n",
    "    return s == s[::-1]\n",
    "\n",
    "try:\n",
    "    # Input a string from the user\n",
    "    input_string = input(\"Enter a string: \")\n",
    "\n",
    "    # Check if the input string is a palindrome\n",
    "    if is_palindrome(input_string):\n",
    "        print(f\"'{input_string}' is a palindrome.\")\n",
    "    else:\n",
    "        print(f\"'{input_string}' is not a palindrome.\")\n",
    "except ValueError:\n",
    "    print(\"Invalid input. Please enter a valid string.\")\n"
   ]
  },
  {
   "cell_type": "markdown",
   "id": "522f0094-fb5a-4fbe-a3fa-2c9845ae30d5",
   "metadata": {},
   "source": [
    "17. Write a program that calculates the average of a list of numbers, excluding the smallest and largest values."
   ]
  },
  {
   "cell_type": "code",
   "execution_count": 17,
   "id": "2e6e9d4c-fe46-43d9-84c4-943e4a95f379",
   "metadata": {},
   "outputs": [
    {
     "name": "stdin",
     "output_type": "stream",
     "text": [
      "Enter a list of numbers separated by spaces:  4 67 8 8\n"
     ]
    },
    {
     "name": "stdout",
     "output_type": "stream",
     "text": [
      "The average (excluding the smallest and largest values) is: 8.00\n"
     ]
    }
   ],
   "source": [
    "try:\n",
    "    # Input a list of numbers from the user\n",
    "    num_list = input(\"Enter a list of numbers separated by spaces: \").split()\n",
    "    num_list = [float(num) for num in num_list]\n",
    "\n",
    "    # Check if the list has at least 3 numbers\n",
    "    if len(num_list) < 3:\n",
    "        print(\"Please enter at least three numbers.\")\n",
    "    else:\n",
    "        # Find and remove the smallest and largest values from the list\n",
    "        min_value = min(num_list)\n",
    "        max_value = max(num_list)\n",
    "        num_list.remove(min_value)\n",
    "        num_list.remove(max_value)\n",
    "\n",
    "        # Calculate the average of the remaining values\n",
    "        average = sum(num_list) / len(num_list)\n",
    "\n",
    "        print(f\"The average (excluding the smallest and largest values) is: {average:.2f}\")\n",
    "\n",
    "except ValueError:\n",
    "    print(\"Invalid input. Please enter a list of numbers separated by spaces.\")\n"
   ]
  },
  {
   "cell_type": "markdown",
   "id": "1a1c4351-41dd-41bf-9091-e4430abeb444",
   "metadata": {},
   "source": [
    "18. Develop a program that converts a given temperature from Celsius to Fahrenheit."
   ]
  },
  {
   "cell_type": "code",
   "execution_count": 18,
   "id": "e22160de-e55b-44eb-badb-db3b59e57437",
   "metadata": {},
   "outputs": [
    {
     "name": "stdin",
     "output_type": "stream",
     "text": [
      "Enter the temperature in Celsius:  45\n"
     ]
    },
    {
     "name": "stdout",
     "output_type": "stream",
     "text": [
      "45.0 degrees Celsius is equal to 113.0 degrees Fahrenheit.\n"
     ]
    }
   ],
   "source": [
    "try:\n",
    "    # Input the temperature in Celsius from the user\n",
    "    celsius = float(input(\"Enter the temperature in Celsius: \"))\n",
    "\n",
    "    # Convert Celsius to Fahrenheit using the conversion formula\n",
    "    fahrenheit = (celsius * 9/5) + 32\n",
    "\n",
    "    print(f\"{celsius} degrees Celsius is equal to {fahrenheit} degrees Fahrenheit.\")\n",
    "except ValueError:\n",
    "    print(\"Invalid input. Please enter a valid temperature as a number.\")\n"
   ]
  },
  {
   "cell_type": "markdown",
   "id": "a2c12e7e-9ee5-4690-a25e-c3097edf84c9",
   "metadata": {},
   "source": [
    "19. Create a program that simulates a basic calculator for addition, subtraction, multiplication, and division."
   ]
  },
  {
   "cell_type": "code",
   "execution_count": 19,
   "id": "505f0789-46bb-4bbd-bade-7737eb5f7bb3",
   "metadata": {},
   "outputs": [
    {
     "name": "stdout",
     "output_type": "stream",
     "text": [
      "Options:\n",
      "Enter 'add' for addition\n",
      "Enter 'subtract' for subtraction\n",
      "Enter 'multiply' for multiplication\n",
      "Enter 'divide' for division\n",
      "Enter 'quit' to end the program\n"
     ]
    },
    {
     "name": "stdin",
     "output_type": "stream",
     "text": [
      ":  add\n",
      "Enter first number:  35\n",
      "Enter second number:  67\n"
     ]
    },
    {
     "name": "stdout",
     "output_type": "stream",
     "text": [
      "Result:  102.0\n",
      "Options:\n",
      "Enter 'add' for addition\n",
      "Enter 'subtract' for subtraction\n",
      "Enter 'multiply' for multiplication\n",
      "Enter 'divide' for division\n",
      "Enter 'quit' to end the program\n"
     ]
    },
    {
     "name": "stdin",
     "output_type": "stream",
     "text": [
      ":  quit\n"
     ]
    }
   ],
   "source": [
    "def add(x, y):\n",
    "    return x + y\n",
    "\n",
    "def subtract(x, y):\n",
    "    return x - y\n",
    "\n",
    "def multiply(x, y):\n",
    "    return x * y\n",
    "\n",
    "def divide(x, y):\n",
    "    if y == 0:\n",
    "        return \"Cannot divide by zero\"\n",
    "    return x / y\n",
    "\n",
    "while True:\n",
    "    print(\"Options:\")\n",
    "    print(\"Enter 'add' for addition\")\n",
    "    print(\"Enter 'subtract' for subtraction\")\n",
    "    print(\"Enter 'multiply' for multiplication\")\n",
    "    print(\"Enter 'divide' for division\")\n",
    "    print(\"Enter 'quit' to end the program\")\n",
    "\n",
    "    user_input = input(\": \")\n",
    "\n",
    "    if user_input == \"quit\":\n",
    "        break\n",
    "    elif user_input in (\"add\", \"subtract\", \"multiply\", \"divide\"):\n",
    "        num1 = float(input(\"Enter first number: \"))\n",
    "        num2 = float(input(\"Enter second number: \"))\n",
    "\n",
    "        if user_input == \"add\":\n",
    "            print(\"Result: \", add(num1, num2))\n",
    "        elif user_input == \"subtract\":\n",
    "            print(\"Result: \", subtract(num1, num2))\n",
    "        elif user_input == \"multiply\":\n",
    "            print(\"Result: \", multiply(num1, num2))\n",
    "        elif user_input == \"divide\":\n",
    "            print(\"Result: \", divide(num1, num2))\n",
    "    else:\n",
    "        print(\"Invalid input\")\n"
   ]
  },
  {
   "cell_type": "markdown",
   "id": "4d26aba6-ccb1-46db-b59f-75b7bed73274",
   "metadata": {},
   "source": [
    "20. Write a program that determines the roots of a cubic equation using the Cardano formula."
   ]
  },
  {
   "cell_type": "code",
   "execution_count": 20,
   "id": "db9d77be-b25a-474f-b63f-f4a149cd286f",
   "metadata": {},
   "outputs": [
    {
     "name": "stdin",
     "output_type": "stream",
     "text": [
      "Enter the coefficient of x^3:  45\n",
      "Enter the coefficient of x^2:  5\n",
      "Enter the coefficient of x:  67\n",
      "Enter the constant term:  5\n"
     ]
    },
    {
     "name": "stdout",
     "output_type": "stream",
     "text": [
      "Roots of the cubic equation:\n",
      "[(-1.0832478474098222-0.625811373633413j)]\n",
      "[(0.28023376586332305-0.5419685475437707j), (-0.28023376586332305+0.5419685475437707j)]\n"
     ]
    }
   ],
   "source": [
    "import math\n",
    "\n",
    "def cubic_roots(a, b, c, d):\n",
    "    # Calculate the discriminant and intermediate variables\n",
    "    p = c / a - (b ** 2) / (3 * (a ** 2))\n",
    "    q = (2 * (b ** 3)) / (27 * (a ** 3)) - (b * c) / (3 * (a ** 2)) + d / a\n",
    "    discriminant = (q ** 2) / 4 + (p ** 3) / 27\n",
    "\n",
    "    # Check if the discriminant is positive, negative, or zero\n",
    "    if discriminant > 0:\n",
    "        # One real root and two complex roots\n",
    "        root1 = (-q / 2 + math.sqrt(discriminant)) ** (1/3)\n",
    "        root2 = (-q / 2 - math.sqrt(discriminant)) ** (1/3)\n",
    "        real_root = -b / (3 * a) - (root1 + root2)\n",
    "        imaginary_part = math.sqrt(3) * (root1 - root2) / 2\n",
    "        return [real_root], [imaginary_part, -imaginary_part]\n",
    "\n",
    "    elif discriminant == 0:\n",
    "        # Three real roots, two of them are equal\n",
    "        root1 = -((q / 2) ** (1/3))\n",
    "        real_root = -b / (3 * a) - 2 * root1\n",
    "        return [real_root, real_root], [-root1]\n",
    "\n",
    "    else:\n",
    "        # Three real roots\n",
    "        phi = math.acos(-q / (2 * math.sqrt(-(p ** 3) / 27)))\n",
    "        root1 = 2 * math.sqrt(-p / 3) * math.cos(phi / 3)\n",
    "        root2 = 2 * math.sqrt(-p / 3) * math.cos((phi + 2 * math.pi) / 3)\n",
    "        root3 = 2 * math.sqrt(-p / 3) * math.cos((phi + 4 * math.pi) / 3)\n",
    "        real_root = -b / (3 * a) + (root1 + root2 + root3)\n",
    "        return [real_root, root1, root2, root3]\n",
    "\n",
    "# Input coefficients of the cubic equation\n",
    "a = float(input(\"Enter the coefficient of x^3: \"))\n",
    "b = float(input(\"Enter the coefficient of x^2: \"))\n",
    "c = float(input(\"Enter the coefficient of x: \"))\n",
    "d = float(input(\"Enter the constant term: \"))\n",
    "\n",
    "# Calculate and display the roots\n",
    "roots = cubic_roots(a, b, c, d)\n",
    "print(\"Roots of the cubic equation:\")\n",
    "for root in roots:\n",
    "    print(root)\n"
   ]
  },
  {
   "cell_type": "markdown",
   "id": "9ab5bb57-fae2-4d30-a8be-b6738f6ddcb0",
   "metadata": {},
   "source": [
    "Advanced Level:"
   ]
  },
  {
   "cell_type": "markdown",
   "id": "f46f2428-bcf9-4685-a126-b3d23baf1579",
   "metadata": {},
   "source": [
    "21. Create a program that calculates the income tax based on the user's income and tax brackets."
   ]
  },
  {
   "cell_type": "code",
   "execution_count": 21,
   "id": "5c34896f-e10b-4ad5-a0a7-7e6f28b0d17e",
   "metadata": {},
   "outputs": [
    {
     "name": "stdin",
     "output_type": "stream",
     "text": [
      "Enter your annual income:  40000\n"
     ]
    },
    {
     "name": "stdout",
     "output_type": "stream",
     "text": [
      "Your income tax is: $6999.90\n"
     ]
    }
   ],
   "source": [
    "def calculate_income_tax(income):\n",
    "    # Define tax brackets and their corresponding tax rates\n",
    "    tax_brackets = [(0, 10000), (10001, 40000), (40001, 80000), (80001, float('inf'))]\n",
    "    tax_rates = [0.10, 0.20, 0.30, 0.40]\n",
    "\n",
    "    tax_owed = 0\n",
    "\n",
    "    for i, (lower, upper) in enumerate(tax_brackets):\n",
    "        if income <= 0:\n",
    "            break\n",
    "\n",
    "        if income <= upper:\n",
    "            tax_owed += income * tax_rates[i]\n",
    "            break\n",
    "        else:\n",
    "            taxable_amount = upper - lower + 1\n",
    "            tax_owed += taxable_amount * tax_rates[i]\n",
    "            income -= taxable_amount\n",
    "\n",
    "    return tax_owed\n",
    "\n",
    "# Input the user's income\n",
    "income = float(input(\"Enter your annual income: \"))\n",
    "\n",
    "# Calculate and display the income tax\n",
    "income_tax = calculate_income_tax(income)\n",
    "print(f\"Your income tax is: ${income_tax:.2f}\")\n"
   ]
  },
  {
   "cell_type": "markdown",
   "id": "8bad69df-ad27-4acb-9ee6-fcd4bd075f74",
   "metadata": {},
   "source": [
    "22. Write a program that simulates a rock-paper-scissors game against the computer."
   ]
  },
  {
   "cell_type": "code",
   "execution_count": 22,
   "id": "1899a90a-29f3-4af4-b7b5-e8bd08bfddc6",
   "metadata": {},
   "outputs": [
    {
     "name": "stdout",
     "output_type": "stream",
     "text": [
      "Let's play Rock-Paper-Scissors!\n"
     ]
    },
    {
     "name": "stdin",
     "output_type": "stream",
     "text": [
      "Choose Rock, Paper, or Scissors:  Rock\n"
     ]
    },
    {
     "name": "stdout",
     "output_type": "stream",
     "text": [
      "You chose rock.\n",
      "Computer chose scissors.\n",
      "You win!\n"
     ]
    },
    {
     "name": "stdin",
     "output_type": "stream",
     "text": [
      "Do you want to play again? (yes/no):  no\n"
     ]
    }
   ],
   "source": [
    "import random\n",
    "\n",
    "def get_user_choice():\n",
    "    user_choice = input(\"Choose Rock, Paper, or Scissors: \").strip().lower()\n",
    "    while user_choice not in [\"rock\", \"paper\", \"scissors\"]:\n",
    "        print(\"Invalid choice. Please choose Rock, Paper, or Scissors.\")\n",
    "        user_choice = input(\"Choose Rock, Paper, or Scissors: \").strip().lower()\n",
    "    return user_choice\n",
    "\n",
    "def get_computer_choice():\n",
    "    choices = [\"rock\", \"paper\", \"scissors\"]\n",
    "    return random.choice(choices)\n",
    "\n",
    "def determine_winner(user_choice, computer_choice):\n",
    "    if user_choice == computer_choice:\n",
    "        return \"It's a tie!\"\n",
    "    elif (\n",
    "        (user_choice == \"rock\" and computer_choice == \"scissors\") or\n",
    "        (user_choice == \"paper\" and computer_choice == \"rock\") or\n",
    "        (user_choice == \"scissors\" and computer_choice == \"paper\")\n",
    "    ):\n",
    "        return \"You win!\"\n",
    "    else:\n",
    "        return \"Computer wins!\"\n",
    "\n",
    "def main():\n",
    "    print(\"Let's play Rock-Paper-Scissors!\")\n",
    "    while True:\n",
    "        user_choice = get_user_choice()\n",
    "        computer_choice = get_computer_choice()\n",
    "        print(f\"You chose {user_choice}.\")\n",
    "        print(f\"Computer chose {computer_choice}.\")\n",
    "        result = determine_winner(user_choice, computer_choice)\n",
    "        print(result)\n",
    "\n",
    "        play_again = input(\"Do you want to play again? (yes/no): \").strip().lower()\n",
    "        if play_again != \"yes\":\n",
    "            break\n",
    "\n",
    "if __name__ == \"__main__\":\n",
    "    main()\n"
   ]
  },
  {
   "cell_type": "markdown",
   "id": "a8dc3f16-b9eb-429b-b32e-a6a176f8020b",
   "metadata": {},
   "source": [
    "23. Develop a program that generates a random password based on user preferences (length, complexity)."
   ]
  },
  {
   "cell_type": "code",
   "execution_count": 23,
   "id": "e0844067-dcc5-4952-8ee7-bcb588d396a0",
   "metadata": {},
   "outputs": [
    {
     "name": "stdout",
     "output_type": "stream",
     "text": [
      "Password Generator\n"
     ]
    },
    {
     "name": "stdin",
     "output_type": "stream",
     "text": [
      "Enter the desired password length:  56\n",
      "Include lowercase letters? (yes/no):  no\n",
      "Include uppercase letters? (yes/no):  no\n",
      "Include digits? (yes/no):  no\n",
      "Include special characters? (yes/no):  yes\n"
     ]
    },
    {
     "name": "stdout",
     "output_type": "stream",
     "text": [
      "Generated Password: `#^=)!|*':~|(%##(-<^/@,*,|\"(#<<+!{/=(/&@}%!!#|^|*!|/*+%\\\n"
     ]
    }
   ],
   "source": [
    "import random\n",
    "import string\n",
    "\n",
    "def generate_password(length, use_lowercase, use_uppercase, use_digits, use_special_chars):\n",
    "    characters = \"\"\n",
    "\n",
    "    if use_lowercase:\n",
    "        characters += string.ascii_lowercase\n",
    "    if use_uppercase:\n",
    "        characters += string.ascii_uppercase\n",
    "    if use_digits:\n",
    "        characters += string.digits\n",
    "    if use_special_chars:\n",
    "        characters += string.punctuation\n",
    "\n",
    "    if not characters:\n",
    "        return \"No character set selected. Please choose at least one.\"\n",
    "\n",
    "    if length < 1:\n",
    "        return \"Password length must be at least 1.\"\n",
    "\n",
    "    password = ''.join(random.choice(characters) for _ in range(length))\n",
    "    return password\n",
    "\n",
    "def main():\n",
    "    print(\"Password Generator\")\n",
    "    length = int(input(\"Enter the desired password length: \"))\n",
    "    use_lowercase = input(\"Include lowercase letters? (yes/no): \").lower() == \"yes\"\n",
    "    use_uppercase = input(\"Include uppercase letters? (yes/no): \").lower() == \"yes\"\n",
    "    use_digits = input(\"Include digits? (yes/no): \").lower() == \"yes\"\n",
    "    use_special_chars = input(\"Include special characters? (yes/no): \").lower() == \"yes\"\n",
    "\n",
    "    password = generate_password(length, use_lowercase, use_uppercase, use_digits, use_special_chars)\n",
    "    print(\"Generated Password:\", password)\n",
    "\n",
    "if __name__ == \"__main__\":\n",
    "    main()\n"
   ]
  },
  {
   "cell_type": "markdown",
   "id": "e676a372-7589-4c02-be26-95bd48efae9f",
   "metadata": {},
   "source": [
    "24. Create a program that implements a simple text-based adventure game with branching scenarios."
   ]
  },
  {
   "cell_type": "code",
   "execution_count": 24,
   "id": "ca09838f-3ba0-4406-b216-23eb8ba1c1ed",
   "metadata": {},
   "outputs": [
    {
     "name": "stdout",
     "output_type": "stream",
     "text": [
      "Welcome to the Adventure Game!\n",
      "You are in a dark forest. You can go left or right.\n",
      "Options:\n",
      "1. Go left\n",
      "2. Go right\n"
     ]
    },
    {
     "name": "stdin",
     "output_type": "stream",
     "text": [
      "Enter your choice:  1\n"
     ]
    },
    {
     "name": "stdout",
     "output_type": "stream",
     "text": [
      "You found a treasure chest!\n",
      "You win!\n",
      "Game over!\n"
     ]
    },
    {
     "name": "stdin",
     "output_type": "stream",
     "text": [
      "Do you want to play again? (yes/no):  no\n"
     ]
    }
   ],
   "source": [
    "import time\n",
    "\n",
    "def print_slow(text):\n",
    "    for char in text:\n",
    "        print(char, end='', flush=True)\n",
    "        time.sleep(0.03)\n",
    "    print()\n",
    "\n",
    "def get_choice(options):\n",
    "    while True:\n",
    "        print_slow(\"Options:\")\n",
    "        for i, option in enumerate(options, 1):\n",
    "            print_slow(f\"{i}. {option}\")\n",
    "        choice = input(\"Enter your choice: \")\n",
    "        if choice.isdigit() and 1 <= int(choice) <= len(options):\n",
    "            return int(choice)\n",
    "        else:\n",
    "            print_slow(\"Invalid choice. Please select a valid option.\")\n",
    "\n",
    "def game_over():\n",
    "    print_slow(\"Game over!\")\n",
    "    play_again = input(\"Do you want to play again? (yes/no): \").strip().lower()\n",
    "    return play_again == \"yes\"\n",
    "\n",
    "def main():\n",
    "    while True:\n",
    "        print_slow(\"Welcome to the Adventure Game!\")\n",
    "        print_slow(\"You are in a dark forest. You can go left or right.\")\n",
    "        \n",
    "        choice = get_choice([\"Go left\", \"Go right\"])\n",
    "        \n",
    "        if choice == 1:\n",
    "            print_slow(\"You found a treasure chest!\")\n",
    "            print_slow(\"You win!\")\n",
    "        else:\n",
    "            print_slow(\"You encountered a hungry bear.\")\n",
    "            print_slow(\"The bear ate you.\")\n",
    "            \n",
    "        if game_over():\n",
    "            continue\n",
    "        else:\n",
    "            break\n",
    "\n",
    "if __name__ == \"__main__\":\n",
    "    main()\n"
   ]
  },
  {
   "cell_type": "markdown",
   "id": "4223a586-421e-418b-b30c-931f0ea25ff2",
   "metadata": {},
   "source": [
    "25. Build a program that solves a linear equation  for x, considering different cases."
   ]
  },
  {
   "cell_type": "code",
   "execution_count": null,
   "id": "2d4432d8-7f03-4fdf-a13a-fca6bb297100",
   "metadata": {},
   "outputs": [],
   "source": [
    "def solve_linear_equation(a, b):\n",
    "    if a == 0:\n",
    "        if b == 0:\n",
    "            return \"Infinite solutions (all real numbers are solutions)\"\n",
    "        else:\n",
    "            return \"No solution (contradiction)\"\n",
    "    else:\n",
    "        x = -b / a\n",
    "        return f\"The solution is x = {x:.2f}\"\n",
    "\n",
    "def main():\n",
    "    print(\"Linear Equation Solver\")\n",
    "    a = float(input(\"Enter the coefficient 'a': \"))\n",
    "    b = float(input(\"Enter the constant term 'b': \"))\n",
    "\n",
    "    solution = solve_linear_equation(a, b)\n",
    "    print(solution)\n",
    "\n",
    "if __name__ == \"__main__\":\n",
    "    main()\n"
   ]
  },
  {
   "cell_type": "markdown",
   "id": "1f6bb1d5-e77a-4ba6-bf9c-294e1762e0dd",
   "metadata": {},
   "source": [
    "26. Write a program that simulates a basic quiz game with multiple-choice questions and scoring."
   ]
  },
  {
   "cell_type": "code",
   "execution_count": null,
   "id": "f3dd1edc-7141-4e2d-8194-bb79745e0e3d",
   "metadata": {},
   "outputs": [],
   "source": [
    "class Question:\n",
    "    def __init__(self, text, choices, correct_choice):\n",
    "        self.text = text\n",
    "        self.choices = choices\n",
    "        self.correct_choice = correct_choice\n",
    "\n",
    "    def check_answer(self, user_answer):\n",
    "        return user_answer == self.correct_choice\n",
    "\n",
    "\n",
    "class Quiz:\n",
    "    def __init__(self):\n",
    "        self.questions = []\n",
    "        self.score = 0\n",
    "\n",
    "    def add_question(self, question):\n",
    "        self.questions.append(question)\n",
    "\n",
    "    def take_quiz(self):\n",
    "        for question in self.questions:\n",
    "            print(question.text)\n",
    "            for i, choice in enumerate(question.choices, 1):\n",
    "                print(f\"{i}. {choice}\")\n",
    "\n",
    "            user_answer = input(\"Enter the number of your answer: \")\n",
    "            if user_answer.isdigit() and 1 <= int(user_answer) <= len(question.choices):\n",
    "                if question.check_answer(int(user_answer)):\n",
    "                    print(\"Correct!\\n\")\n",
    "                    self.score += 1\n",
    "                else:\n",
    "                    print(f\"Wrong! The correct answer was {question.correct_choice}.\\n\")\n",
    "            else:\n",
    "                print(\"Invalid input. Skipping this question.\\n\")\n",
    "\n",
    "    def display_score(self):\n",
    "        print(f\"Your score: {self.score}/{len(self.questions)}\")\n",
    "\n",
    "\n",
    "def main():\n",
    "    quiz = Quiz()\n",
    "\n",
    "    # Add questions to the quiz\n",
    "    question1 = Question(\"What is the capital of France?\", [\"London\", \"Berlin\", \"Paris\"], 3)\n",
    "    question2 = Question(\"Which planet is known as the Red Planet?\", [\"Mars\", \"Venus\", \"Jupiter\"], 1)\n",
    "    question3 = Question(\"What is 2 + 2?\", [\"3\", \"4\", \"5\"], 2)\n",
    "\n",
    "    quiz.add_question(question1)\n",
    "    quiz.add_question(question2)\n",
    "    quiz.add_question(question3)\n",
    "\n",
    "    print(\"Welcome to the Quiz Game!\")\n",
    "    quiz.take_quiz()\n",
    "    quiz.display_score()\n",
    "\n",
    "if __name__ == \"__main__\":\n",
    "    main()\n"
   ]
  },
  {
   "cell_type": "markdown",
   "id": "1d439e59-03bb-493a-b606-724138d15bef",
   "metadata": {},
   "source": [
    "27. Develop a program that determines whether a given year is a prime number or not."
   ]
  },
  {
   "cell_type": "code",
   "execution_count": null,
   "id": "489cb22a-6c1f-43c9-b84b-4570d8e21c27",
   "metadata": {},
   "outputs": [],
   "source": [
    "def is_prime(number):\n",
    "    if number <= 1:\n",
    "        return False\n",
    "    if number == 2:\n",
    "        return True\n",
    "    if number % 2 == 0:\n",
    "        return False\n",
    "    for divisor in range(3, int(number**0.5) + 1, 2):\n",
    "        if number % divisor == 0:\n",
    "            return False\n",
    "    return True\n",
    "\n",
    "def main():\n",
    "    try:\n",
    "        year = int(input(\"Enter a year: \"))\n",
    "        if is_prime(year):\n",
    "            print(f\"{year} is a prime year!\")\n",
    "        else:\n",
    "            print(f\"{year} is not a prime year.\")\n",
    "    except ValueError:\n",
    "        print(\"Invalid input. Please enter a valid year.\")\n",
    "\n",
    "if __name__ == \"__main__\":\n",
    "    main()\n"
   ]
  },
  {
   "cell_type": "markdown",
   "id": "fbd35e39-e3ce-4f69-8679-c36b375b7129",
   "metadata": {},
   "source": [
    "28. Create a program that sorts three numbers in ascending order using conditional statements."
   ]
  },
  {
   "cell_type": "code",
   "execution_count": null,
   "id": "43c83ea9-5cbc-40e4-9c96-a4afddc3886c",
   "metadata": {},
   "outputs": [],
   "source": [
    "# Input three numbers from the user\n",
    "num1 = float(input(\"Enter the first number: \"))\n",
    "num2 = float(input(\"Enter the second number: \"))\n",
    "num3 = float(input(\"Enter the third number: \"))\n",
    "\n",
    "# Initialize variables to store the sorted numbers\n",
    "min_num = None\n",
    "mid_num = None\n",
    "max_num = None\n",
    "\n",
    "# Find the minimum number\n",
    "if num1 <= num2 and num1 <= num3:\n",
    "    min_num = num1\n",
    "    if num2 <= num3:\n",
    "        mid_num = num2\n",
    "        max_num = num3\n",
    "    else:\n",
    "        mid_num = num3\n",
    "        max_num = num2\n",
    "elif num2 <= num1 and num2 <= num3:\n",
    "    min_num = num2\n",
    "    if num1 <= num3:\n",
    "        mid_num = num1\n",
    "        max_num = num3\n",
    "    else:\n",
    "        mid_num = num3\n",
    "        max_num = num1\n",
    "else:\n",
    "    min_num = num3\n",
    "    if num1 <= num2:\n",
    "        mid_num = num1\n",
    "        max_num = num2\n",
    "    else:\n",
    "        mid_num = num2\n",
    "        max_num = num1\n",
    "\n",
    "# Display the sorted numbers\n",
    "print(f\"Sorted numbers in ascending order: {min_num}, {mid_num}, {max_num}\")\n"
   ]
  },
  {
   "cell_type": "markdown",
   "id": "4a8b9c91-f14f-4d9e-a90a-920c013aab91",
   "metadata": {},
   "source": [
    "29. Build a program that determines the roots of a quartic equation using numerical methods."
   ]
  },
  {
   "cell_type": "code",
   "execution_count": null,
   "id": "cfc13e53-f145-4027-b284-9f36b8871a54",
   "metadata": {},
   "outputs": [],
   "source": [
    "from scipy.optimize import root_scalar\n",
    "import numpy as np\n",
    "\n",
    "def quartic_equation(x, a, b, c, d, e):\n",
    "    return a * x**4 + b * x**3 + c * x**2 + d * x + e\n",
    "\n",
    "def solve_quartic(a, b, c, d, e):\n",
    "    # Define the quartic equation as a function of x\n",
    "    equation = lambda x: quartic_equation(x, a, b, c, d, e)\n",
    "\n",
    "    # Use the root_scalar function from SciPy to find the roots\n",
    "    result = root_scalar(equation, bracket=[-np.inf, np.inf], method='bisect')\n",
    "\n",
    "    if result.converged:\n",
    "        return result.root\n",
    "    else:\n",
    "        return None\n",
    "\n",
    "def main():\n",
    "    print(\"Quartic Equation Solver\")\n",
    "    print(\"The quartic equation is of the form: ax^4 + bx^3 + cx^2 + dx + e = 0\")\n",
    "\n",
    "    # Input coefficients from the user\n",
    "    a = float(input(\"Enter the coefficient 'a': \"))\n",
    "    b = float(input(\"Enter the coefficient 'b': \"))\n",
    "    c = float(input(\"Enter the coefficient 'c': \"))\n",
    "    d = float(input(\"Enter the coefficient 'd': \"))\n",
    "    e = float(input(\"Enter the coefficient 'e': \"))\n",
    "\n",
    "    # Find the root of the quartic equation\n",
    "    root = solve_quartic(a, b, c, d, e)\n",
    "\n",
    "    if root is not None:\n",
    "        print(f\"The root of the quartic equation is x = {root:.4f}\")\n",
    "    else:\n",
    "        print(\"No real root found.\")\n",
    "\n",
    "if __name__ == \"__main__\":\n",
    "    main()\n"
   ]
  },
  {
   "cell_type": "markdown",
   "id": "0ccf7db3-e3de-4d75-98d5-1b739b470663",
   "metadata": {},
   "source": [
    "30. Write a program that calculates the BMI (Body Mass Index) and provides health recommendations based \n",
    "on the user's input."
   ]
  },
  {
   "cell_type": "code",
   "execution_count": null,
   "id": "43a38feb-1262-4198-af83-a5ace6dc6655",
   "metadata": {},
   "outputs": [],
   "source": [
    "def calculate_bmi(weight_kg, height_m):\n",
    "    return weight_kg / (height_m ** 2)\n",
    "\n",
    "def bmi_classification(bmi):\n",
    "    if bmi < 18.5:\n",
    "        return \"Underweight\"\n",
    "    elif 18.5 <= bmi < 24.9:\n",
    "        return \"Normal Weight\"\n",
    "    elif 25 <= bmi < 29.9:\n",
    "        return \"Overweight\"\n",
    "    else:\n",
    "        return \"Obese\"\n",
    "\n",
    "def health_recommendation(bmi):\n",
    "    if bmi < 18.5:\n",
    "        return \"You are underweight. It's important to maintain a balanced diet and consult a doctor.\"\n",
    "    elif 18.5 <= bmi < 24.9:\n",
    "        return \"Your weight is normal. Keep up the good work!\"\n",
    "    elif 25 <= bmi < 29.9:\n",
    "        return \"You are overweight. Consider a healthier diet and regular exercise.\"\n",
    "    else:\n",
    "        return \"You are obese. Please consult a doctor for advice on a weight management plan.\"\n",
    "\n",
    "def main():\n",
    "    print(\"Body Mass Index (BMI) Calculator\")\n",
    "    weight_kg = float(input(\"Enter your weight in kilograms: \"))\n",
    "    height_m = float(input(\"Enter your height in meters: \"))\n",
    "\n",
    "    bmi = calculate_bmi(weight_kg, height_m)\n",
    "    classification = bmi_classification(bmi)\n",
    "    recommendation = health_recommendation(bmi)\n",
    "\n",
    "    print(f\"Your BMI is {bmi:.2f}, which falls into the category of '{classification}'.\")\n",
    "    print(recommendation)\n",
    "\n",
    "if __name__ == \"__main__\":\n",
    "    main()\n"
   ]
  },
  {
   "cell_type": "markdown",
   "id": "35df4a01-1242-4b48-9396-489f95ebea4a",
   "metadata": {},
   "source": [
    "Challenge Level:"
   ]
  },
  {
   "cell_type": "markdown",
   "id": "f1d8175a-0817-4d74-91b0-0aa66fe9dece",
   "metadata": {},
   "source": [
    "31. Create a program that validates a password based on complexity rules (length, characters, etc.)."
   ]
  },
  {
   "cell_type": "code",
   "execution_count": null,
   "id": "f7d2b5b3-315d-444a-a899-69a224c4fe1f",
   "metadata": {},
   "outputs": [],
   "source": [
    "import re\n",
    "\n",
    "def is_valid_password(password):\n",
    "    # Check the length of the password (at least 8 characters)\n",
    "    if len(password) < 8:\n",
    "        return False\n",
    "\n",
    "    # Check if the password contains at least one uppercase letter\n",
    "    if not any(char.isupper() for char in password):\n",
    "        return False\n",
    "\n",
    "    # Check if the password contains at least one lowercase letter\n",
    "    if not any(char.islower() for char in password):\n",
    "        return False\n",
    "\n",
    "    # Check if the password contains at least one digit\n",
    "    if not any(char.isdigit() for char in password):\n",
    "        return False\n",
    "\n",
    "    # Check if the password contains at least one special character\n",
    "    special_characters = re.compile('[@_!#$%^&*()<>?/\\|}{~:]')\n",
    "    if not special_characters.search(password):\n",
    "        return False\n",
    "\n",
    "    # Password meets all criteria\n",
    "    return True\n",
    "\n",
    "def main():\n",
    "    print(\"Password Complexity Validator\")\n",
    "    password = input(\"Enter your password: \")\n",
    "\n",
    "    if is_valid_password(password):\n",
    "        print(\"Password is valid and meets complexity criteria.\")\n",
    "    else:\n",
    "        print(\"Password is not valid. Please ensure it meets the complexity rules.\")\n",
    "\n",
    "if __name__ == \"__main__\":\n",
    "    main()\n"
   ]
  },
  {
   "cell_type": "markdown",
   "id": "3d8fa25b-d55c-4cf7-bb9d-d82ee268bae6",
   "metadata": {},
   "source": [
    "32. Develop a program that performs matrix addition and subtraction based on user input."
   ]
  },
  {
   "cell_type": "code",
   "execution_count": null,
   "id": "b110ac62-3619-40b0-9f54-2c1d7efd6e7d",
   "metadata": {},
   "outputs": [],
   "source": [
    "def input_matrix(rows, cols):\n",
    "    matrix = []\n",
    "    print(f\"Enter {rows}x{cols} matrix:\")\n",
    "    for i in range(rows):\n",
    "        row = []\n",
    "        for j in range(cols):\n",
    "            element = float(input(f\"Enter element at row {i+1}, column {j+1}: \"))\n",
    "            row.append(element)\n",
    "        matrix.append(row)\n",
    "    return matrix\n",
    "\n",
    "def print_matrix(matrix):\n",
    "    for row in matrix:\n",
    "        for element in row:\n",
    "            print(element, end=\"\\t\")\n",
    "        print()\n",
    "\n",
    "def add_matrices(matrix1, matrix2):\n",
    "    if len(matrix1) != len(matrix2) or len(matrix1[0]) != len(matrix2[0]):\n",
    "        return None\n",
    "\n",
    "    result = []\n",
    "    for i in range(len(matrix1)):\n",
    "        row = []\n",
    "        for j in range(len(matrix1[0])):\n",
    "            row.append(matrix1[i][j] + matrix2[i][j])\n",
    "        result.append(row)\n",
    "    return result\n",
    "\n",
    "def subtract_matrices(matrix1, matrix2):\n",
    "    if len(matrix1) != len(matrix2) or len(matrix1[0]) != len(matrix2[0]):\n",
    "        return None\n",
    "\n",
    "    result = []\n",
    "    for i in range(len(matrix1)):\n",
    "        row = []\n",
    "        for j in range(len(matrix1[0])):\n",
    "            row.append(matrix1[i][j] - matrix2[i][j])\n",
    "        result.append(row)\n",
    "    return result\n",
    "\n",
    "def main():\n",
    "    print(\"Matrix Addition and Subtraction\")\n",
    "    rows = int(input(\"Enter the number of rows: \"))\n",
    "    cols = int(input(\"Enter the number of columns: \"))\n",
    "\n",
    "    print(\"\\nEnter the first matrix:\")\n",
    "    matrix1 = input_matrix(rows, cols)\n",
    "\n",
    "    print(\"\\nEnter the second matrix:\")\n",
    "    matrix2 = input_matrix(rows, cols)\n",
    "\n",
    "    print(\"\\nMatrix 1:\")\n",
    "    print_matrix(matrix1)\n",
    "\n",
    "    print(\"\\nMatrix 2:\")\n",
    "    print_matrix(matrix2)\n",
    "\n",
    "    sum_result = add_matrices(matrix1, matrix2)\n",
    "    if sum_result:\n",
    "        print(\"\\nMatrix 1 + Matrix 2:\")\n",
    "        print_matrix(sum_result)\n",
    "    else:\n",
    "        print(\"Matrix dimensions are not compatible for addition.\")\n",
    "\n",
    "    diff_result = subtract_matrices(matrix1, matrix2)\n",
    "    if diff_result:\n",
    "        print(\"\\nMatrix 1 - Matrix 2:\")\n",
    "        print_matrix(diff_result)\n",
    "    else:\n",
    "        print(\"Matrix dimensions are not compatible for subtraction.\")\n",
    "\n",
    "if __name__ == \"__main__\":\n",
    "    main()\n"
   ]
  },
  {
   "cell_type": "markdown",
   "id": "45a4d2b8-ddf3-41ba-8bf3-11b83a9e4d12",
   "metadata": {},
   "source": [
    "33. Write a program that calculates the greatest common divisor (GCD) of two numbers using the Euclidean \n",
    "algorithm."
   ]
  },
  {
   "cell_type": "code",
   "execution_count": 9,
   "id": "5714a452-df9c-4ed9-970d-e6bf08a0c296",
   "metadata": {},
   "outputs": [
    {
     "name": "stdin",
     "output_type": "stream",
     "text": [
      "Enter the first number:  5\n",
      "Enter the second number:  34\n"
     ]
    },
    {
     "name": "stdout",
     "output_type": "stream",
     "text": [
      "The GCD of 5 and 34 is 1\n"
     ]
    }
   ],
   "source": [
    "def gcd_euclidean(a, b):\n",
    "    while b:\n",
    "        a, b = b, a % b\n",
    "    return a\n",
    "\n",
    "try:\n",
    "    num1 = int(input(\"Enter the first number: \"))\n",
    "    num2 = int(input(\"Enter the second number: \"))\n",
    "\n",
    "    if num1 < 0 or num2 < 0:\n",
    "        raise ValueError(\"Both numbers must be non-negative integers.\")\n",
    "\n",
    "    result = gcd_euclidean(num1, num2)\n",
    "    print(f\"The GCD of {num1} and {num2} is {result}\")\n",
    "except ValueError as e:\n",
    "    print(f\"Error: {e}\")\n"
   ]
  },
  {
   "cell_type": "markdown",
   "id": "9b5eb3ce-08b6-4d2b-a96f-a27c14670b57",
   "metadata": {},
   "source": [
    "34. Build a program that performs matrix multiplication using nested loops and conditional statements."
   ]
  },
  {
   "cell_type": "code",
   "execution_count": 8,
   "id": "f8d14f35-b7da-4fa4-9604-feac346db6d6",
   "metadata": {},
   "outputs": [
    {
     "name": "stdout",
     "output_type": "stream",
     "text": [
      "Matrix A:\n",
      "[1, 2, 3]\n",
      "[4, 5, 6]\n",
      "\n",
      "Matrix B:\n",
      "[7, 8]\n",
      "[9, 10]\n",
      "[11, 12]\n",
      "\n",
      "Matrix A x B:\n",
      "[58, 64]\n",
      "[139, 154]\n"
     ]
    }
   ],
   "source": [
    "def matrix_multiply(A, B):\n",
    "    if len(A[0]) != len(B):\n",
    "        raise ValueError(\"Number of columns in A must be equal to the number of rows in B\")\n",
    "\n",
    "    result = [[0 for _ in range(len(B[0]))] for _ in range(len(A))]\n",
    "\n",
    "    for i in range(len(A)):\n",
    "        for j in range(len(B[0])):\n",
    "            for k in range(len(B)):\n",
    "                result[i][j] += A[i][k] * B[k][j]\n",
    "\n",
    "    return result\n",
    "\n",
    "def print_matrix(matrix):\n",
    "    for row in matrix:\n",
    "        print(row)\n",
    "\n",
    "try:\n",
    "    # Input matrices A and B\n",
    "    A = [\n",
    "        [1, 2, 3],\n",
    "        [4, 5, 6],\n",
    "    ]\n",
    "\n",
    "    B = [\n",
    "        [7, 8],\n",
    "        [9, 10],\n",
    "        [11, 12],\n",
    "    ]\n",
    "\n",
    "    result = matrix_multiply(A, B)\n",
    "\n",
    "    print(\"Matrix A:\")\n",
    "    print_matrix(A)\n",
    "\n",
    "    print(\"\\nMatrix B:\")\n",
    "    print_matrix(B)\n",
    "\n",
    "    print(\"\\nMatrix A x B:\")\n",
    "    print_matrix(result)\n",
    "\n",
    "except ValueError as e:\n",
    "    print(f\"Error: {e}\")\n"
   ]
  },
  {
   "cell_type": "markdown",
   "id": "4563147f-50b0-433a-b523-c988d7f0e3c5",
   "metadata": {},
   "source": [
    "35. Create a program that simulates a basic text-based tic-tac-toe game against the computer."
   ]
  },
  {
   "cell_type": "code",
   "execution_count": 7,
   "id": "97b3b513-ae3c-426b-9d40-69874d2decc5",
   "metadata": {},
   "outputs": [
    {
     "name": "stdout",
     "output_type": "stream",
     "text": [
      "Welcome to Tic-Tac-Toe!\n",
      "  |   |  \n",
      "---------\n",
      "  |   |  \n",
      "---------\n",
      "  |   |  \n",
      "---------\n"
     ]
    },
    {
     "name": "stdin",
     "output_type": "stream",
     "text": [
      "Enter your move (1-9):  5\n"
     ]
    },
    {
     "name": "stdout",
     "output_type": "stream",
     "text": [
      "  |   |  \n",
      "---------\n",
      "  | X |  \n",
      "---------\n",
      "  |   |  \n",
      "---------\n",
      "Computer's turn:\n",
      "Computer chose 9\n",
      "  |   |  \n",
      "---------\n",
      "  | X |  \n",
      "---------\n",
      "  |   | O\n",
      "---------\n"
     ]
    },
    {
     "name": "stdin",
     "output_type": "stream",
     "text": [
      "Enter your move (1-9):  1\n"
     ]
    },
    {
     "name": "stdout",
     "output_type": "stream",
     "text": [
      "X |   |  \n",
      "---------\n",
      "  | X |  \n",
      "---------\n",
      "  |   | O\n",
      "---------\n",
      "Computer's turn:\n",
      "Computer chose 6\n",
      "X |   |  \n",
      "---------\n",
      "  | X | O\n",
      "---------\n",
      "  |   | O\n",
      "---------\n"
     ]
    },
    {
     "name": "stdin",
     "output_type": "stream",
     "text": [
      "Enter your move (1-9):  3\n"
     ]
    },
    {
     "name": "stdout",
     "output_type": "stream",
     "text": [
      "X |   | X\n",
      "---------\n",
      "  | X | O\n",
      "---------\n",
      "  |   | O\n",
      "---------\n",
      "Computer's turn:\n",
      "Computer chose 7\n",
      "X |   | X\n",
      "---------\n",
      "  | X | O\n",
      "---------\n",
      "O |   | O\n",
      "---------\n"
     ]
    },
    {
     "name": "stdin",
     "output_type": "stream",
     "text": [
      "Enter your move (1-9):  2\n"
     ]
    },
    {
     "name": "stdout",
     "output_type": "stream",
     "text": [
      "X | X | X\n",
      "---------\n",
      "  | X | O\n",
      "---------\n",
      "O |   | O\n",
      "---------\n",
      "X wins! Congratulations!\n",
      "Thanks for playing!\n"
     ]
    }
   ],
   "source": [
    "import random\n",
    "\n",
    "def print_board(board):\n",
    "    for row in board:\n",
    "        print(\" | \".join(row))\n",
    "        print(\"-\" * 9)\n",
    "\n",
    "def check_winner(board, player):\n",
    "    for row in board:\n",
    "        if all(cell == player for cell in row):\n",
    "            return True\n",
    "\n",
    "    for col in range(3):\n",
    "        if all(board[row][col] == player for row in range(3)):\n",
    "            return True\n",
    "\n",
    "    if all(board[i][i] == player for i in range(3)) or all(board[i][2 - i] == player for i in range(3)):\n",
    "        return True\n",
    "\n",
    "    return False\n",
    "\n",
    "def is_full(board):\n",
    "    return all(cell != \" \" for row in board for cell in row)\n",
    "\n",
    "def player_move(board):\n",
    "    while True:\n",
    "        try:\n",
    "            move = int(input(\"Enter your move (1-9): \")) - 1\n",
    "            row, col = divmod(move, 3)\n",
    "            if 0 <= row < 3 and 0 <= col < 3 and board[row][col] == \" \":\n",
    "                return row, col\n",
    "            else:\n",
    "                print(\"Invalid move. Try again.\")\n",
    "        except ValueError:\n",
    "            print(\"Invalid input. Enter a number between 1 and 9.\")\n",
    "\n",
    "def computer_move(board):\n",
    "    empty_cells = [(row, col) for row in range(3) for col in range(3) if board[row][col] == \" \"]\n",
    "    return random.choice(empty_cells)\n",
    "\n",
    "def main():\n",
    "    board = [[\" \" for _ in range(3)] for _ in range(3)]\n",
    "    player = \"X\"\n",
    "    computer = \"O\"\n",
    "\n",
    "    print(\"Welcome to Tic-Tac-Toe!\")\n",
    "    print_board(board)\n",
    "\n",
    "    while True:\n",
    "        if player == \"X\":\n",
    "            row, col = player_move(board)\n",
    "        else:\n",
    "            print(\"Computer's turn:\")\n",
    "            row, col = computer_move(board)\n",
    "            print(f\"Computer chose {row * 3 + col + 1}\")\n",
    "\n",
    "        board[row][col] = player\n",
    "        print_board(board)\n",
    "\n",
    "        if check_winner(board, player):\n",
    "            print(f\"{player} wins! Congratulations!\")\n",
    "            break\n",
    "        elif is_full(board):\n",
    "            print(\"It's a tie!\")\n",
    "            break\n",
    "\n",
    "        player, computer = computer, player\n",
    "\n",
    "    print(\"Thanks for playing!\")\n",
    "\n",
    "if __name__ == \"__main__\":\n",
    "    main()\n"
   ]
  },
  {
   "cell_type": "markdown",
   "id": "9e20b3c4-a19d-48c3-8b4e-069af37c1714",
   "metadata": {},
   "source": [
    "36. Write a program that generates Fibonacci numbers up to a specified term using iterative methods."
   ]
  },
  {
   "cell_type": "code",
   "execution_count": 6,
   "id": "fd58dfda-90eb-4633-92e1-bc371394dd59",
   "metadata": {},
   "outputs": [
    {
     "name": "stdin",
     "output_type": "stream",
     "text": [
      "Enter the number of Fibonacci numbers to generate:  45\n"
     ]
    },
    {
     "name": "stdout",
     "output_type": "stream",
     "text": [
      "Fibonacci Sequence:\n",
      "[0, 1, 1, 2, 3, 5, 8, 13, 21, 34, 55, 89, 144, 233, 377, 610, 987, 1597, 2584, 4181, 6765, 10946, 17711, 28657, 46368, 75025, 121393, 196418, 317811, 514229, 832040, 1346269, 2178309, 3524578, 5702887, 9227465, 14930352, 24157817, 39088169, 63245986, 102334155, 165580141, 267914296, 433494437, 701408733]\n"
     ]
    }
   ],
   "source": [
    "def generate_fibonacci(n):\n",
    "    if n <= 0:\n",
    "        return []\n",
    "\n",
    "    fibonacci_sequence = [0, 1]\n",
    "    while len(fibonacci_sequence) < n:\n",
    "        next_number = fibonacci_sequence[-1] + fibonacci_sequence[-2]\n",
    "        fibonacci_sequence.append(next_number)\n",
    "\n",
    "    return fibonacci_sequence\n",
    "\n",
    "try:\n",
    "    n = int(input(\"Enter the number of Fibonacci numbers to generate: \"))\n",
    "    if n < 0:\n",
    "        raise ValueError(\"The number of terms must be a non-negative integer.\")\n",
    "\n",
    "    fibonacci_numbers = generate_fibonacci(n)\n",
    "    print(\"Fibonacci Sequence:\")\n",
    "    print(fibonacci_numbers)\n",
    "except ValueError as e:\n",
    "    print(f\"Error: {e}\")\n"
   ]
  },
  {
   "cell_type": "markdown",
   "id": "90af41f5-e790-4c06-af18-1a400a869a61",
   "metadata": {},
   "source": [
    "37. Develop a program that calculates the nth term of the Fibonacci sequence using memoization."
   ]
  },
  {
   "cell_type": "code",
   "execution_count": 5,
   "id": "1c99e8fa-272e-43da-89a4-3454ff06e543",
   "metadata": {},
   "outputs": [
    {
     "name": "stdin",
     "output_type": "stream",
     "text": [
      "Enter the value of n (an integer):  67\n"
     ]
    },
    {
     "name": "stdout",
     "output_type": "stream",
     "text": [
      "The 67-th Fibonacci number is: 44945570212853\n"
     ]
    }
   ],
   "source": [
    "# Dictionary to store Fibonacci numbers already computed\n",
    "fib_cache = {}\n",
    "\n",
    "# Function to calculate the nth Fibonacci number using memoization\n",
    "def fibonacci(n):\n",
    "    if n in fib_cache:\n",
    "        return fib_cache[n]\n",
    "\n",
    "    if n <= 1:\n",
    "        result = n\n",
    "    else:\n",
    "        result = fibonacci(n - 1) + fibonacci(n - 2)\n",
    "\n",
    "    # Store the result in the cache and return it\n",
    "    fib_cache[n] = result\n",
    "    return result\n",
    "\n",
    "try:\n",
    "    n = int(input(\"Enter the value of n (an integer): \"))\n",
    "    if n < 0:\n",
    "        raise ValueError(\"n must be a non-negative integer.\")\n",
    "\n",
    "    fib_number = fibonacci(n)\n",
    "    print(f\"The {n}-th Fibonacci number is: {fib_number}\")\n",
    "except ValueError as e:\n",
    "    print(f\"Error: {e}\")\n"
   ]
  },
  {
   "cell_type": "markdown",
   "id": "59725e53-0cb8-4a16-99c7-56e94ca7625b",
   "metadata": {},
   "source": [
    "38. Create a program that generates a calendar for a given month and year using conditional statements."
   ]
  },
  {
   "cell_type": "code",
   "execution_count": 4,
   "id": "5c09bc59-152e-4a0f-b1e0-78781c973b6a",
   "metadata": {},
   "outputs": [
    {
     "name": "stdin",
     "output_type": "stream",
     "text": [
      "Enter year (e.g., 2023):  2022\n",
      "Enter month (1-12):  4\n"
     ]
    },
    {
     "name": "stdout",
     "output_type": "stream",
     "text": [
      "\n",
      "Calendar:\n",
      "     April 2022\n",
      "Mo Tu We Th Fr Sa Su\n",
      "             1  2  3\n",
      " 4  5  6  7  8  9 10\n",
      "11 12 13 14 15 16 17\n",
      "18 19 20 21 22 23 24\n",
      "25 26 27 28 29 30\n",
      "\n"
     ]
    }
   ],
   "source": [
    "import calendar\n",
    "\n",
    "# Input the year and month from the user\n",
    "try:\n",
    "    year = int(input(\"Enter year (e.g., 2023): \"))\n",
    "    month = int(input(\"Enter month (1-12): \"))\n",
    "\n",
    "    if month < 1 or month > 12:\n",
    "        raise ValueError(\"Month must be between 1 and 12.\")\n",
    "\n",
    "    # Create a calendar object for the specified year and month\n",
    "    cal = calendar.month(year, month)\n",
    "\n",
    "    # Display the calendar\n",
    "    print(\"\\nCalendar:\")\n",
    "    print(cal)\n",
    "except ValueError as e:\n",
    "    print(f\"Error: {e}\")\n"
   ]
  },
  {
   "cell_type": "markdown",
   "id": "740f4832-a43a-44a7-b94d-617a30717f20",
   "metadata": {},
   "source": [
    "39. Build a program that simulates a basic text-based blackjack game against the computer."
   ]
  },
  {
   "cell_type": "code",
   "execution_count": 3,
   "id": "61bf689d-f228-4819-b341-f14e5efc585d",
   "metadata": {},
   "outputs": [
    {
     "name": "stdout",
     "output_type": "stream",
     "text": [
      "\n",
      "Welcome to Blackjack!\n",
      "\n",
      "Player's Hand:\n",
      "Ace of Hearts\n",
      "Three of Diamonds\n",
      "Total Value: 14\n",
      "\n",
      "Dealer's Hand:\n",
      "Card face down\n",
      "Card face down\n"
     ]
    },
    {
     "name": "stdin",
     "output_type": "stream",
     "text": [
      "\n",
      "Do you want to 'Hit' or 'Stand'?  Hit\n"
     ]
    },
    {
     "name": "stdout",
     "output_type": "stream",
     "text": [
      "\n",
      "Player's Hand:\n",
      "Ace of Hearts\n",
      "Three of Diamonds\n",
      "Three of Hearts\n",
      "Total Value: 17\n",
      "\n",
      "Dealer's Hand:\n",
      "Card face down\n",
      "Card face down\n"
     ]
    },
    {
     "name": "stdin",
     "output_type": "stream",
     "text": [
      "\n",
      "Do you want to 'Hit' or 'Stand'?  Stand\n"
     ]
    },
    {
     "name": "stdout",
     "output_type": "stream",
     "text": [
      "\n",
      "Player's Hand:\n",
      "Ace of Hearts\n",
      "Three of Diamonds\n",
      "Three of Hearts\n",
      "Total Value: 17\n",
      "\n",
      "Dealer's Hand:\n",
      "Three of Clubs\n",
      "King of Clubs\n",
      "Two of Spades\n",
      "Nine of Diamonds\n",
      "Total Value: 24\n",
      "\n",
      "Dealer busts! Player wins.\n"
     ]
    },
    {
     "name": "stdin",
     "output_type": "stream",
     "text": [
      "\n",
      "Do you want to play again? (yes/no):  no\n"
     ]
    },
    {
     "name": "stdout",
     "output_type": "stream",
     "text": [
      "\n",
      "Thanks for playing!\n"
     ]
    }
   ],
   "source": [
    "import random\n",
    "\n",
    "# Define the deck of cards\n",
    "suits = ['Hearts', 'Diamonds', 'Clubs', 'Spades']\n",
    "ranks = ['Two', 'Three', 'Four', 'Five', 'Six', 'Seven', 'Eight', 'Nine', 'Ten', 'Jack', 'Queen', 'King', 'Ace']\n",
    "\n",
    "# Create a dictionary to represent card values\n",
    "card_values = {'Two': 2, 'Three': 3, 'Four': 4, 'Five': 5, 'Six': 6, 'Seven': 7, 'Eight': 8, 'Nine': 9, 'Ten': 10,\n",
    "               'Jack': 10, 'Queen': 10, 'King': 10, 'Ace': 11}\n",
    "\n",
    "# Function to create and shuffle the deck\n",
    "def create_deck():\n",
    "    deck = [{'Rank': rank, 'Suit': suit} for rank in ranks for suit in suits]\n",
    "    random.shuffle(deck)\n",
    "    return deck\n",
    "\n",
    "# Function to calculate the total value of a hand\n",
    "def calculate_hand_value(hand):\n",
    "    value = sum(card_values[card['Rank']] for card in hand)\n",
    "    # Check for aces and adjust their value if necessary\n",
    "    for card in hand:\n",
    "        if card['Rank'] == 'Ace' and value > 21:\n",
    "            value -= 10\n",
    "    return value\n",
    "\n",
    "# Function to display the player's and dealer's hands\n",
    "def display_hands(player_hand, dealer_hand, reveal_dealer=False):\n",
    "    print(\"\\nPlayer's Hand:\")\n",
    "    for card in player_hand:\n",
    "        print(f\"{card['Rank']} of {card['Suit']}\")\n",
    "    print(f\"Total Value: {calculate_hand_value(player_hand)}\")\n",
    "\n",
    "    print(\"\\nDealer's Hand:\")\n",
    "    for card in dealer_hand:\n",
    "        if reveal_dealer or len(dealer_hand) == 1:\n",
    "            print(f\"{card['Rank']} of {card['Suit']}\")\n",
    "        else:\n",
    "            print(\"Card face down\")\n",
    "    if reveal_dealer:\n",
    "        print(f\"Total Value: {calculate_hand_value(dealer_hand)}\")\n",
    "\n",
    "# Main game loop\n",
    "while True:\n",
    "    print(\"\\nWelcome to Blackjack!\")\n",
    "\n",
    "    # Create and shuffle the deck\n",
    "    deck = create_deck()\n",
    "\n",
    "    # Deal two cards to the player and dealer\n",
    "    player_hand = [deck.pop(), deck.pop()]\n",
    "    dealer_hand = [deck.pop(), deck.pop()]\n",
    "\n",
    "    # Display the initial hands\n",
    "    display_hands(player_hand, dealer_hand)\n",
    "\n",
    "    # Player's turn\n",
    "    while calculate_hand_value(player_hand) < 21:\n",
    "        action = input(\"\\nDo you want to 'Hit' or 'Stand'? \").strip().lower()\n",
    "        if action == 'hit':\n",
    "            player_hand.append(deck.pop())\n",
    "            display_hands(player_hand, dealer_hand)\n",
    "        elif action == 'stand':\n",
    "            break\n",
    "\n",
    "    # Dealer's turn\n",
    "    while calculate_hand_value(dealer_hand) < 17:\n",
    "        dealer_hand.append(deck.pop())\n",
    "\n",
    "    # Reveal the dealer's hand and determine the winner\n",
    "    display_hands(player_hand, dealer_hand, reveal_dealer=True)\n",
    "    player_score = calculate_hand_value(player_hand)\n",
    "    dealer_score = calculate_hand_value(dealer_hand)\n",
    "\n",
    "    if player_score > 21:\n",
    "        print(\"\\nPlayer busts! Dealer wins.\")\n",
    "    elif dealer_score > 21:\n",
    "        print(\"\\nDealer busts! Player wins.\")\n",
    "    elif player_score > dealer_score:\n",
    "        print(\"\\nPlayer wins!\")\n",
    "    elif dealer_score > player_score:\n",
    "        print(\"\\nDealer wins.\")\n",
    "    else:\n",
    "        print(\"\\nIt's a tie!\")\n",
    "\n",
    "    play_again = input(\"\\nDo you want to play again? (yes/no): \").strip().lower()\n",
    "    if play_again != 'yes':\n",
    "        break\n",
    "\n",
    "print(\"\\nThanks for playing!\")\n"
   ]
  },
  {
   "cell_type": "markdown",
   "id": "7bf1ba3a-be1f-4c27-a062-2d473bbbed20",
   "metadata": {},
   "source": [
    "40. Write a program that generates the pr\n",
    "ime factors of a given number using trial division."
   ]
  },
  {
   "cell_type": "code",
   "execution_count": 2,
   "id": "5bde968d-2262-4182-bb3f-9e1f443ed939",
   "metadata": {},
   "outputs": [
    {
     "name": "stdin",
     "output_type": "stream",
     "text": [
      "Enter a positive integer:  66\n"
     ]
    },
    {
     "name": "stdout",
     "output_type": "stream",
     "text": [
      "The prime factors of 66 are: 2, 3, 11\n"
     ]
    }
   ],
   "source": [
    "def prime_factors(n):\n",
    "    factors = []\n",
    "    divisor = 2\n",
    "    \n",
    "    while divisor <= n:\n",
    "        if n % divisor == 0:\n",
    "            factors.append(divisor)\n",
    "            n //= divisor\n",
    "        else:\n",
    "            divisor += 1\n",
    "    \n",
    "    return factors\n",
    "\n",
    "# Input a number from the user\n",
    "try:\n",
    "    num = int(input(\"Enter a positive integer: \"))\n",
    "    if num <= 0:\n",
    "        raise ValueError(\"Please enter a positive integer.\")\n",
    "    \n",
    "    factors = prime_factors(num)\n",
    "    \n",
    "    if len(factors) == 0:\n",
    "        print(f\"{num} has no prime factors other than 1.\")\n",
    "    else:\n",
    "        print(f\"The prime factors of {num} are: {', '.join(map(str, factors))}\")\n",
    "except ValueError as e:\n",
    "    print(f\"Error: {e}\")\n"
   ]
  }
 ],
 "metadata": {
  "kernelspec": {
   "display_name": "Python 3 (ipykernel)",
   "language": "python",
   "name": "python3"
  },
  "language_info": {
   "codemirror_mode": {
    "name": "ipython",
    "version": 3
   },
   "file_extension": ".py",
   "mimetype": "text/x-python",
   "name": "python",
   "nbconvert_exporter": "python",
   "pygments_lexer": "ipython3",
   "version": "3.10.8"
  }
 },
 "nbformat": 4,
 "nbformat_minor": 5
}
